{
 "cells": [
  {
   "cell_type": "code",
   "execution_count": 1,
   "metadata": {},
   "outputs": [],
   "source": [
    "import pennylane as qml\n",
    "from pennylane import numpy as np\n",
    "import matplotlib.pyplot as plt\n",
    "import qutip\n",
    "from scipy.linalg import sqrtm\n",
    "\n",
    "from sklearn.datasets import load_iris\n",
    "from sklearn.model_selection import train_test_split, StratifiedKFold\n",
    "from sklearn.preprocessing import StandardScaler\n",
    "\n",
    "from povm_clf import *"
   ]
  },
  {
   "cell_type": "markdown",
   "metadata": {},
   "source": [
    "# <center> Results in manuscript </center>"
   ]
  },
  {
   "cell_type": "markdown",
   "metadata": {},
   "source": [
    "## 1. Discriminating quantum states in the quantum circuit"
   ]
  },
  {
   "cell_type": "markdown",
   "metadata": {},
   "source": [
    "### Example 1\n",
    "$|\\psi_1\\rangle = \\cos\\theta|00\\rangle+\\sin\\theta|11\\rangle \\longrightarrow \\rho_1 = \\cos^2\\theta|0\\rangle\\langle 0| + \\sin^2\\theta|1\\rangle\\langle 1|$ <br>\n",
    "$|\\psi_2\\rangle = \\cos\\theta|++\\rangle+\\sin\\theta|--\\rangle \\longrightarrow \\rho_2 = \\cos^2\\theta|0\\rangle\\langle 0| + \\sin^2\\theta|1\\rangle\\langle 1|$"
   ]
  },
  {
   "cell_type": "markdown",
   "metadata": {},
   "source": [
    "#### State Preparation"
   ]
  },
  {
   "cell_type": "code",
   "execution_count": 2,
   "metadata": {},
   "outputs": [],
   "source": [
    "def rho1(wires):\n",
    "    theta = np.pi/5\n",
    "    qml.RY(theta, wires=wires[0])\n",
    "    qml.CNOT(wires=[wires[0],wires[1]])\n",
    "\n",
    "def rho2(wires):\n",
    "    theta = np.pi/6\n",
    "    qml.RY(theta, wires=wires[0])\n",
    "    qml.CNOT(wires=[wires[0],wires[1]])\n",
    "    qml.Hadamard(wires[0])\n",
    "    qml.Hadamard(wires[1])\n",
    "\n",
    "@qml.qnode(qml.device(\"default.qubit\", wires=2))\n",
    "def classical_rho1():\n",
    "    rho1([0,1])\n",
    "    return qml.state()\n",
    "\n",
    "@qml.qnode(qml.device(\"default.qubit\", wires=2))\n",
    "def classical_rho2():\n",
    "    rho2([0,1])\n",
    "    return qml.state()\n",
    "\n",
    "init_states = [rdm(classical_rho1()), rdm(classical_rho2())]"
   ]
  },
  {
   "cell_type": "code",
   "execution_count": null,
   "metadata": {},
   "outputs": [],
   "source": [
    "import qutip as qt\n",
    "\n",
    "b = qt.Bloch()\n",
    "b.make_sphere()\n",
    "b.point_color = ['b'] * 50 + ['r'] * 50 + ['g'] * 50\n",
    "b.view = [-40,30]\n",
    "b.frame_alpha = 0.08\n",
    "b.frame_width = 0.8\n",
    "b.frame_color = 'black'\n",
    "b.sphere_alpha = 0.0\n",
    "b.sphere_color = 'skyblue'\n",
    "for i in range(50):\n",
    "    b.add_points(bloch_list[i].tolist())\n",
    "\n",
    "for i in range(50,100):\n",
    "    b.add_points(bloch_list[i].tolist())\n",
    "\n",
    "for i in range(100,150):\n",
    "    b.add_points(bloch_list[i].tolist())\n",
    "\n",
    "\n",
    "b.show()"
   ]
  },
  {
   "cell_type": "markdown",
   "metadata": {},
   "source": [
    "#### Variational Quantum Algorithm"
   ]
  },
  {
   "cell_type": "code",
   "execution_count": 3,
   "metadata": {},
   "outputs": [
    {
     "name": "stdout",
     "output_type": "stream",
     "text": [
      "Cost(init_params)    : 0.5681370\n",
      "Cost after step    20:  0.5007780\n",
      "Cost after step    40:  0.4894884\n",
      "Cost after step    60:  0.4111435\n",
      "Cost after step    80:  0.3117281\n",
      "Cost after step   100:  0.2467835\n",
      "Cost after step   120:  0.2066697\n"
     ]
    }
   ],
   "source": [
    "n_outcome = 2\n",
    "wires = [0, 1, 2]\n",
    "\n",
    "\n",
    "devs = [qml.device('default.qubit', wires=len(wires))] * n_outcome\n",
    "a_priori_probs = [1/n_outcome] * n_outcome\n",
    "\n",
    "\n",
    "classifier = POVM_Clf(2, wires[1:], devs, a_priori_probs, [rho1,rho2], wires[:2])\n",
    "cost_list = classifier.run_opt()\n"
   ]
  },
  {
   "cell_type": "markdown",
   "metadata": {},
   "source": [
    "#### Helstrom Bound"
   ]
  },
  {
   "cell_type": "code",
   "execution_count": 4,
   "metadata": {},
   "outputs": [
    {
     "data": {
      "text/html": [
       "<div>\n",
       "<style scoped>\n",
       "    .dataframe tbody tr th:only-of-type {\n",
       "        vertical-align: middle;\n",
       "    }\n",
       "\n",
       "    .dataframe tbody tr th {\n",
       "        vertical-align: top;\n",
       "    }\n",
       "\n",
       "    .dataframe thead th {\n",
       "        text-align: right;\n",
       "    }\n",
       "</style>\n",
       "<table border=\"1\" class=\"dataframe\">\n",
       "  <thead>\n",
       "    <tr style=\"text-align: right;\">\n",
       "      <th></th>\n",
       "      <th>rho_i</th>\n",
       "      <th></th>\n",
       "      <th>E_i</th>\n",
       "      <th></th>\n",
       "      <th>Tr[rho_i.E_i]</th>\n",
       "    </tr>\n",
       "  </thead>\n",
       "  <tbody>\n",
       "    <tr>\n",
       "      <th>i=0</th>\n",
       "      <td>0.9045+0.0000j</td>\n",
       "      <td>0.0000+0.0000j</td>\n",
       "      <td>0.8413+0.0000j</td>\n",
       "      <td>-0.3654+0.0000j</td>\n",
       "      <td></td>\n",
       "    </tr>\n",
       "    <tr>\n",
       "      <th></th>\n",
       "      <td>0.0000+0.0000j</td>\n",
       "      <td>0.0955+0.0000j</td>\n",
       "      <td>-0.3654+0.0000j</td>\n",
       "      <td>0.1587+0.0000j</td>\n",
       "      <td>0.7761</td>\n",
       "    </tr>\n",
       "    <tr>\n",
       "      <th>i=1</th>\n",
       "      <td>0.5000+0.0000j</td>\n",
       "      <td>0.4330+0.0000j</td>\n",
       "      <td>0.1587+0.0000j</td>\n",
       "      <td>0.3654+0.0000j</td>\n",
       "      <td></td>\n",
       "    </tr>\n",
       "    <tr>\n",
       "      <th></th>\n",
       "      <td>0.4330+0.0000j</td>\n",
       "      <td>0.5000+0.0000j</td>\n",
       "      <td>0.3654+0.0000j</td>\n",
       "      <td>0.8413+0.0000j</td>\n",
       "      <td>0.8164</td>\n",
       "    </tr>\n",
       "  </tbody>\n",
       "</table>\n",
       "</div>"
      ],
      "text/plain": [
       "             rho_i                            E_i                  \\\n",
       "i=0 0.9045+0.0000j 0.0000+0.0000j  0.8413+0.0000j -0.3654+0.0000j   \n",
       "    0.0000+0.0000j 0.0955+0.0000j -0.3654+0.0000j  0.1587+0.0000j   \n",
       "i=1 0.5000+0.0000j 0.4330+0.0000j  0.1587+0.0000j  0.3654+0.0000j   \n",
       "    0.4330+0.0000j 0.5000+0.0000j  0.3654+0.0000j  0.8413+0.0000j   \n",
       "\n",
       "    Tr[rho_i.E_i]  \n",
       "i=0                \n",
       "           0.7761  \n",
       "i=1                \n",
       "           0.8164  "
      ]
     },
     "execution_count": 4,
     "metadata": {},
     "output_type": "execute_result"
    }
   ],
   "source": [
    "val, E = Helstrom([1/2,1/2], init_states)\n",
    "dp_res(init_states, E = E)"
   ]
  },
  {
   "cell_type": "markdown",
   "metadata": {},
   "source": [
    "#### Plot"
   ]
  },
  {
   "cell_type": "code",
   "execution_count": 5,
   "metadata": {},
   "outputs": [
    {
     "data": {
      "image/png": "[encoded data removed]",
      "text/plain": [
       "<Figure size 432x288 with 1 Axes>"
      ]
     },
     "metadata": {
      "needs_background": "light"
     },
     "output_type": "display_data"
    }
   ],
   "source": [
    "plt.plot(range(len(cost_list)), cost_list, 'x', markersize=8, label='VQA')\n",
    "plt.plot(range(len(cost_list)), [val]*len(cost_list), linewidth=3, label='Helstrom Bound')\n",
    "plt.xlabel('Iteration', usetex=True, fontsize=28)\n",
    "plt.xticks(fontsize=15)\n",
    "plt.ylabel(r'$p_{error}$', usetex=True, fontsize=35, labelpad=10)\n",
    "plt.yticks(fontsize=15)\n",
    "plt.legend(fontsize=15)\n",
    "plt.text(10, 0.28, '(a)', fontsize=28)\n",
    "plt.savefig('./data/output1.png', bbox_inches='tight', transparent=True)\n",
    "plt.show()"
   ]
  },
  {
   "cell_type": "markdown",
   "metadata": {},
   "source": [
    "### Example 2\n",
    "$|0\\rangle, |1\\rangle, |+\\rangle$"
   ]
  },
  {
   "cell_type": "markdown",
   "metadata": {},
   "source": [
    "#### State Preparation"
   ]
  },
  {
   "cell_type": "code",
   "execution_count": 2,
   "metadata": {},
   "outputs": [],
   "source": [
    "def rho1(wires):\n",
    "    qml.PauliX(wires=wires)\n",
    "    qml.PauliX(wires=wires)\n",
    "\n",
    "def rho2(wires):\n",
    "    qml.PauliX(wires=wires)\n",
    "\n",
    "\n",
    "def rho3(wires):\n",
    "    qml.Hadamard(wires=wires)\n",
    "\n",
    "#init_states = [np.array([1,0]), np.array([0,1]), np.array([1/np.sqrt(2),1/np.sqrt(2)])]\n",
    "init_states = [np.array([1,0]), np.array([0,1]), np.array([1/np.sqrt(2),1/np.sqrt(2)])]"
   ]
  },
  {
   "cell_type": "markdown",
   "metadata": {},
   "source": [
    "#### Variational Quantum Algorithm"
   ]
  },
  {
   "cell_type": "code",
   "execution_count": 4,
   "metadata": {},
   "outputs": [
    {
     "name": "stdout",
     "output_type": "stream",
     "text": [
      "Cost(init_params)    : 0.5826322\n",
      "Cost after step    20:  0.4719748\n",
      "Cost after step    40:  0.4169448\n",
      "Cost after step    60:  0.3877696\n",
      "Cost after step    80:  0.3551777\n",
      "Cost after step   100:  0.3376410\n",
      "Cost after step   120:  0.3338623\n",
      "Cost after step   140:  0.3336296\n",
      "Cost after step   160:  0.3335205\n",
      "Cost after step   180:  0.3334555\n",
      "Cost after step   200:  0.3334182\n",
      "Cost after step   220:  0.3333936\n",
      "Cost after step   240:  0.3333769\n",
      "Cost after step   260:  0.3333654\n",
      "Cost after step   280:  0.3333572\n",
      "Cost after step   300:  0.3333513\n",
      "Cost after step   320:  0.3333470\n",
      "Cost after step   340:  0.3333439\n",
      "Cost after step   360:  0.3333415\n"
     ]
    }
   ],
   "source": [
    "n_outcome = 3\n",
    "wires = [0, 1, 2]\n",
    "\n",
    "\n",
    "devs = [qml.device('default.qubit', wires=len(wires))] * n_outcome\n",
    "a_priori_probs = [1/n_outcome] * n_outcome\n",
    "\n",
    "\n",
    "classifier = POVM_Clf(n_outcome, wires, devs, a_priori_probs, [rho1,rho2,rho3], 0)\n",
    "cost_list = classifier.run_opt()\n"
   ]
  },
  {
   "cell_type": "markdown",
   "metadata": {},
   "source": [
    "#### SDP"
   ]
  },
  {
   "cell_type": "code",
   "execution_count": 5,
   "metadata": {},
   "outputs": [
    {
     "name": "stdout",
     "output_type": "stream",
     "text": [
      "Opt is Done. \n",
      "Status: optimal\n",
      "Optimal Value: 0.33333333129189374\n"
     ]
    },
    {
     "data": {
      "text/html": [
       "<div>\n",
       "<style scoped>\n",
       "    .dataframe tbody tr th:only-of-type {\n",
       "        vertical-align: middle;\n",
       "    }\n",
       "\n",
       "    .dataframe tbody tr th {\n",
       "        vertical-align: top;\n",
       "    }\n",
       "\n",
       "    .dataframe thead tr th {\n",
       "        text-align: left;\n",
       "    }\n",
       "</style>\n",
       "<table border=\"1\" class=\"dataframe\">\n",
       "  <thead>\n",
       "    <tr>\n",
       "      <th></th>\n",
       "      <th></th>\n",
       "      <th colspan=\"4\" halign=\"left\">Measure</th>\n",
       "    </tr>\n",
       "    <tr>\n",
       "      <th></th>\n",
       "      <th></th>\n",
       "      <th>0</th>\n",
       "      <th>1</th>\n",
       "      <th>2</th>\n",
       "      <th>sum_probs</th>\n",
       "    </tr>\n",
       "  </thead>\n",
       "  <tbody>\n",
       "    <tr>\n",
       "      <th rowspan=\"3\" valign=\"top\">State</th>\n",
       "      <th>0</th>\n",
       "      <td>1.000000e+00</td>\n",
       "      <td>2.136482e-09</td>\n",
       "      <td>-7.332397e-09</td>\n",
       "      <td>1.0</td>\n",
       "    </tr>\n",
       "    <tr>\n",
       "      <th>1</th>\n",
       "      <td>2.136481e-09</td>\n",
       "      <td>1.000000e+00</td>\n",
       "      <td>-7.332396e-09</td>\n",
       "      <td>1.0</td>\n",
       "    </tr>\n",
       "    <tr>\n",
       "      <th>2</th>\n",
       "      <td>5.000000e-01</td>\n",
       "      <td>5.000000e-01</td>\n",
       "      <td>-4.253625e-09</td>\n",
       "      <td>1.0</td>\n",
       "    </tr>\n",
       "  </tbody>\n",
       "</table>\n",
       "</div>"
      ],
      "text/plain": [
       "              Measure                                      \n",
       "                    0             1             2 sum_probs\n",
       "State 0  1.000000e+00  2.136482e-09 -7.332397e-09       1.0\n",
       "      1  2.136481e-09  1.000000e+00 -7.332396e-09       1.0\n",
       "      2  5.000000e-01  5.000000e-01 -4.253625e-09       1.0"
      ]
     },
     "execution_count": 5,
     "metadata": {},
     "output_type": "execute_result"
    }
   ],
   "source": [
    "val, E = sdp_med(init_states, n_outcome)\n",
    "dp_probs(init_states, E)"
   ]
  },
  {
   "attachments": {},
   "cell_type": "markdown",
   "metadata": {},
   "source": [
    "#### PGM"
   ]
  },
  {
   "cell_type": "code",
   "execution_count": 17,
   "metadata": {},
   "outputs": [],
   "source": [
    "rhos = [np.outer(init_states[i],init_states[i]) for i in range(n_outcome)]"
   ]
  },
  {
   "cell_type": "code",
   "execution_count": 23,
   "metadata": {},
   "outputs": [
    {
     "name": "stdout",
     "output_type": "stream",
     "text": [
      "Error Prob by PGMs: 0.34763107293781714\n"
     ]
    },
    {
     "data": {
      "text/html": [
       "<div>\n",
       "<style scoped>\n",
       "    .dataframe tbody tr th:only-of-type {\n",
       "        vertical-align: middle;\n",
       "    }\n",
       "\n",
       "    .dataframe tbody tr th {\n",
       "        vertical-align: top;\n",
       "    }\n",
       "\n",
       "    .dataframe thead tr th {\n",
       "        text-align: left;\n",
       "    }\n",
       "</style>\n",
       "<table border=\"1\" class=\"dataframe\">\n",
       "  <thead>\n",
       "    <tr>\n",
       "      <th></th>\n",
       "      <th></th>\n",
       "      <th colspan=\"4\" halign=\"left\">Measure</th>\n",
       "    </tr>\n",
       "    <tr>\n",
       "      <th></th>\n",
       "      <th></th>\n",
       "      <th>0</th>\n",
       "      <th>1</th>\n",
       "      <th>2</th>\n",
       "      <th>sum_probs</th>\n",
       "    </tr>\n",
       "  </thead>\n",
       "  <tbody>\n",
       "    <tr>\n",
       "      <th rowspan=\"3\" valign=\"top\">State</th>\n",
       "      <th>0</th>\n",
       "      <td>0.728553</td>\n",
       "      <td>0.021447</td>\n",
       "      <td>0.25</td>\n",
       "      <td>1.0</td>\n",
       "    </tr>\n",
       "    <tr>\n",
       "      <th>1</th>\n",
       "      <td>0.021447</td>\n",
       "      <td>0.728553</td>\n",
       "      <td>0.25</td>\n",
       "      <td>1.0</td>\n",
       "    </tr>\n",
       "    <tr>\n",
       "      <th>2</th>\n",
       "      <td>0.250000</td>\n",
       "      <td>0.250000</td>\n",
       "      <td>0.50</td>\n",
       "      <td>1.0</td>\n",
       "    </tr>\n",
       "  </tbody>\n",
       "</table>\n",
       "</div>"
      ],
      "text/plain": [
       "          Measure                          \n",
       "                0         1     2 sum_probs\n",
       "State 0  0.728553  0.021447  0.25       1.0\n",
       "      1  0.021447  0.728553  0.25       1.0\n",
       "      2  0.250000  0.250000  0.50       1.0"
      ]
     },
     "execution_count": 23,
     "metadata": {},
     "output_type": "execute_result"
    }
   ],
   "source": [
    "val_pgm, E_pgm = pgm(a_priori_probs,rhos)\n",
    "print(\"Error Prob by PGMs:\", val_pgm)\n",
    "dp_probs(rhos, E_pgm)"
   ]
  },
  {
   "cell_type": "markdown",
   "metadata": {},
   "source": [
    "#### Plot"
   ]
  },
  {
   "cell_type": "code",
   "execution_count": 19,
   "metadata": {},
   "outputs": [
    {
     "data": {
      "image/png": "[encoded data removed]",
      "text/plain": [
       "<Figure size 432x288 with 1 Axes>"
      ]
     },
     "metadata": {
      "needs_background": "light"
     },
     "output_type": "display_data"
    }
   ],
   "source": [
    "plt.plot(range(len(cost_list)), cost_list, 'x', markersize=8, label='VQA')\n",
    "plt.plot(range(len(cost_list)), [val]*len(cost_list), linewidth=3, label='SDP')\n",
    "plt.plot(range(len(cost_list)), [val_pgm]*len(cost_list), ':', linewidth=3, label='PGM')\n",
    "plt.xlabel('Iteration', usetex=True, fontsize=28)\n",
    "plt.ylabel(r'$p_{error}$', usetex=True, fontsize=35, labelpad=10)\n",
    "plt.xticks(fontsize=15)\n",
    "plt.yticks(fontsize=15)\n",
    "plt.legend(fontsize=15)\n",
    "plt.text(300, 0.40, '(b)', fontsize=28)\n",
    "plt.savefig('./data/output2.png', bbox_inches='tight', transparent=True)\n",
    "plt.show()"
   ]
  },
  {
   "cell_type": "markdown",
   "metadata": {},
   "source": [
    "### Example 3\n",
    "$\\rho_0$\n",
    "$\\rho_1$\n",
    "$\\rho_2$"
   ]
  },
  {
   "cell_type": "markdown",
   "metadata": {},
   "source": [
    "#### State Preparation"
   ]
  },
  {
   "cell_type": "code",
   "execution_count": 26,
   "metadata": {},
   "outputs": [],
   "source": [
    "def rho1(wires):\n",
    "    theta = np.pi/5\n",
    "    qml.RY(theta, wires=wires[0])\n",
    "    qml.CNOT(wires=[wires[0],wires[1]])\n",
    "\n",
    "def rho2(wires):\n",
    "    theta = np.pi/6\n",
    "    qml.RY(theta, wires=wires[0])\n",
    "    qml.CNOT(wires=[wires[0],wires[1]])\n",
    "    qml.Hadamard(wires[0])\n",
    "    qml.Hadamard(wires[1])\n",
    "\n",
    "def rho3(wires):\n",
    "    theta = np.pi/8\n",
    "    qml.RY(theta, wires=wires[0])\n",
    "    qml.CNOT(wires=[wires[0],wires[1]])\n",
    "    qml.Hadamard(wires[0])\n",
    "    qml.S(wires=wires[0])\n",
    "    qml.Hadamard(wires[1])\n",
    "    qml.S(wires=wires[1])\n",
    "\n",
    "@qml.qnode(qml.device(\"default.qubit\", wires=2))\n",
    "def classical_rho1():\n",
    "    rho1([0,1])\n",
    "    return qml.state()\n",
    "\n",
    "@qml.qnode(qml.device(\"default.qubit\", wires=2))\n",
    "def classical_rho2():\n",
    "    rho2([0,1])\n",
    "    return qml.state()\n",
    "\n",
    "@qml.qnode(qml.device(\"default.qubit\", wires=2))\n",
    "def classical_rho3():\n",
    "    rho3([0,1])\n",
    "    return qml.state()\n",
    "\n",
    "init_states = [rdm(classical_rho1()), rdm(classical_rho2()), rdm(classical_rho3())]"
   ]
  },
  {
   "cell_type": "markdown",
   "metadata": {},
   "source": [
    "#### Variational Quantum Algorithm"
   ]
  },
  {
   "cell_type": "code",
   "execution_count": 27,
   "metadata": {},
   "outputs": [
    {
     "name": "stdout",
     "output_type": "stream",
     "text": [
      "Cost(init_params)    : 0.6809755\n",
      "Cost after step    20:  0.6304650\n",
      "Cost after step    40:  0.5777890\n",
      "Cost after step    60:  0.5123100\n",
      "Cost after step    80:  0.4619921\n",
      "Cost after step   100:  0.4397077\n",
      "Cost after step   120:  0.4337786\n",
      "Cost after step   140:  0.4313902\n",
      "Cost after step   160:  0.4305520\n",
      "Cost after step   180:  0.4303849\n",
      "Cost after step   200:  0.4303705\n"
     ]
    }
   ],
   "source": [
    "n_outcome = 3\n",
    "wires = [0, 1, 2, 3]\n",
    "\n",
    "\n",
    "devs = [qml.device('default.qubit', wires=len(wires))] * n_outcome\n",
    "a_priori_probs = [1/n_outcome] * n_outcome\n",
    "\n",
    "\n",
    "classifier = POVM_Clf(n_outcome, wires[1:], devs, a_priori_probs, [rho1,rho2,rho3], wires[:2])\n",
    "cost_list = classifier.run_opt()\n"
   ]
  },
  {
   "cell_type": "markdown",
   "metadata": {},
   "source": [
    "#### SDP"
   ]
  },
  {
   "cell_type": "code",
   "execution_count": 28,
   "metadata": {},
   "outputs": [
    {
     "name": "stdout",
     "output_type": "stream",
     "text": [
      "Opt is Done. \n",
      "Status: optimal\n",
      "Optimal Value: 0.43037234214725456\n"
     ]
    },
    {
     "data": {
      "text/html": [
       "<div>\n",
       "<style scoped>\n",
       "    .dataframe tbody tr th:only-of-type {\n",
       "        vertical-align: middle;\n",
       "    }\n",
       "\n",
       "    .dataframe tbody tr th {\n",
       "        vertical-align: top;\n",
       "    }\n",
       "\n",
       "    .dataframe thead tr th {\n",
       "        text-align: left;\n",
       "    }\n",
       "</style>\n",
       "<table border=\"1\" class=\"dataframe\">\n",
       "  <thead>\n",
       "    <tr>\n",
       "      <th></th>\n",
       "      <th></th>\n",
       "      <th colspan=\"4\" halign=\"left\">Measure</th>\n",
       "    </tr>\n",
       "    <tr>\n",
       "      <th></th>\n",
       "      <th></th>\n",
       "      <th>0</th>\n",
       "      <th>1</th>\n",
       "      <th>2</th>\n",
       "      <th>sum_probs</th>\n",
       "    </tr>\n",
       "  </thead>\n",
       "  <tbody>\n",
       "    <tr>\n",
       "      <th rowspan=\"3\" valign=\"top\">State</th>\n",
       "      <th>0</th>\n",
       "      <td>0.508258</td>\n",
       "      <td>0.238719</td>\n",
       "      <td>0.253024</td>\n",
       "      <td>1.0</td>\n",
       "    </tr>\n",
       "    <tr>\n",
       "      <th>1</th>\n",
       "      <td>0.200598</td>\n",
       "      <td>0.570271</td>\n",
       "      <td>0.229131</td>\n",
       "      <td>1.0</td>\n",
       "    </tr>\n",
       "    <tr>\n",
       "      <th>2</th>\n",
       "      <td>0.177915</td>\n",
       "      <td>0.191731</td>\n",
       "      <td>0.630354</td>\n",
       "      <td>1.0</td>\n",
       "    </tr>\n",
       "  </tbody>\n",
       "</table>\n",
       "</div>"
      ],
      "text/plain": [
       "          Measure                              \n",
       "                0         1         2 sum_probs\n",
       "State 0  0.508258  0.238719  0.253024       1.0\n",
       "      1  0.200598  0.570271  0.229131       1.0\n",
       "      2  0.177915  0.191731  0.630354       1.0"
      ]
     },
     "execution_count": 28,
     "metadata": {},
     "output_type": "execute_result"
    }
   ],
   "source": [
    "val, E = sdp_med(init_states, n_outcome)\n",
    "dp_probs(init_states, E)"
   ]
  },
  {
   "attachments": {},
   "cell_type": "markdown",
   "metadata": {},
   "source": [
    "#### PGM"
   ]
  },
  {
   "cell_type": "code",
   "execution_count": 30,
   "metadata": {},
   "outputs": [
    {
     "name": "stdout",
     "output_type": "stream",
     "text": [
      "Error Prob by PGMs: 0.4732364749513911\n"
     ]
    },
    {
     "data": {
      "text/html": [
       "<div>\n",
       "<style scoped>\n",
       "    .dataframe tbody tr th:only-of-type {\n",
       "        vertical-align: middle;\n",
       "    }\n",
       "\n",
       "    .dataframe tbody tr th {\n",
       "        vertical-align: top;\n",
       "    }\n",
       "\n",
       "    .dataframe thead tr th {\n",
       "        text-align: left;\n",
       "    }\n",
       "</style>\n",
       "<table border=\"1\" class=\"dataframe\">\n",
       "  <thead>\n",
       "    <tr>\n",
       "      <th></th>\n",
       "      <th></th>\n",
       "      <th colspan=\"4\" halign=\"left\">Measure</th>\n",
       "    </tr>\n",
       "    <tr>\n",
       "      <th></th>\n",
       "      <th></th>\n",
       "      <th>0</th>\n",
       "      <th>1</th>\n",
       "      <th>2</th>\n",
       "      <th>sum_probs</th>\n",
       "    </tr>\n",
       "  </thead>\n",
       "  <tbody>\n",
       "    <tr>\n",
       "      <th rowspan=\"3\" valign=\"top\">State</th>\n",
       "      <th>0</th>\n",
       "      <td>0.553509</td>\n",
       "      <td>0.229815</td>\n",
       "      <td>0.216676</td>\n",
       "      <td>1.0</td>\n",
       "    </tr>\n",
       "    <tr>\n",
       "      <th>1</th>\n",
       "      <td>0.142283</td>\n",
       "      <td>0.437649</td>\n",
       "      <td>0.420069</td>\n",
       "      <td>1.0</td>\n",
       "    </tr>\n",
       "    <tr>\n",
       "      <th>2</th>\n",
       "      <td>0.234465</td>\n",
       "      <td>0.556025</td>\n",
       "      <td>0.209510</td>\n",
       "      <td>1.0</td>\n",
       "    </tr>\n",
       "  </tbody>\n",
       "</table>\n",
       "</div>"
      ],
      "text/plain": [
       "          Measure                              \n",
       "                0         1         2 sum_probs\n",
       "State 0  0.553509  0.229815  0.216676       1.0\n",
       "      1  0.142283  0.437649  0.420069       1.0\n",
       "      2  0.234465  0.556025  0.209510       1.0"
      ]
     },
     "execution_count": 30,
     "metadata": {},
     "output_type": "execute_result"
    }
   ],
   "source": [
    "val_pgm, E_pgm = pgm(a_priori_probs, init_states)\n",
    "print(\"Error Prob by PGMs:\", val_pgm)\n",
    "dp_probs(rhos, E_pgm)"
   ]
  },
  {
   "cell_type": "markdown",
   "metadata": {},
   "source": [
    "#### Plot"
   ]
  },
  {
   "cell_type": "code",
   "execution_count": 32,
   "metadata": {},
   "outputs": [
    {
     "data": {
      "image/png": "[encoded data removed]",
      "text/plain": [
       "<Figure size 432x288 with 1 Axes>"
      ]
     },
     "metadata": {
      "needs_background": "light"
     },
     "output_type": "display_data"
    }
   ],
   "source": [
    "plt.plot(range(len(cost_list)), cost_list, 'x', markersize=8, label='VQA')\n",
    "plt.plot(range(len(cost_list)), [val]*len(cost_list), linewidth=3, label='SDP')\n",
    "plt.plot(range(len(cost_list)), [val_pgm]*len(cost_list), ':', linewidth=3, label='PGM')\n",
    "plt.xlabel('Iteration', usetex=True, fontsize=28)\n",
    "plt.ylabel(r'$p_{error}$', usetex=True, fontsize=35, labelpad=10)\n",
    "plt.xticks(fontsize=15)\n",
    "plt.yticks(fontsize=15)\n",
    "plt.legend(fontsize=15)\n",
    "plt.text(170, 0.5, '(c)', fontsize=28)\n",
    "plt.savefig('./data/output3.png', bbox_inches='tight', transparent=True)\n",
    "plt.show()"
   ]
  },
  {
   "cell_type": "markdown",
   "metadata": {},
   "source": [
    "### Example 4\n",
    "$\\{|00\\rangle+|11\\rangle, |01\\rangle+|10\\rangle, |00\\rangle, |++\\rangle \\}$"
   ]
  },
  {
   "cell_type": "markdown",
   "metadata": {},
   "source": [
    "#### State Preparation"
   ]
  },
  {
   "cell_type": "code",
   "execution_count": 33,
   "metadata": {},
   "outputs": [],
   "source": [
    "def rho1(wires):\n",
    "    qml.Hadamard(wires=wires[0])\n",
    "    qml.CNOT(wires=[wires[0],wires[1]])\n",
    "\n",
    "def rho2(wires):\n",
    "    qml.Hadamard(wires=wires[0])\n",
    "    qml.PauliX(wires=wires[1])\n",
    "    qml.CNOT(wires=[wires[0],wires[1]])\n",
    "    \n",
    "def rho3(wires):\n",
    "    qml.PauliX(wires=wires[0])\n",
    "    qml.PauliX(wires=wires[0])\n",
    "\n",
    "def rho4(wires):\n",
    "    qml.Hadamard(wires[0])\n",
    "    qml.Hadamard(wires[1])\n",
    "\n",
    "@qml.qnode(qml.device(\"default.qubit\", wires=2))\n",
    "def classical_rho1():\n",
    "    rho1([0,1])\n",
    "    return qml.state()\n",
    "\n",
    "@qml.qnode(qml.device(\"default.qubit\", wires=2))\n",
    "def classical_rho2():\n",
    "    rho2([0,1])\n",
    "    return qml.state()\n",
    "\n",
    "@qml.qnode(qml.device(\"default.qubit\", wires=2))\n",
    "def classical_rho3():\n",
    "    rho3([0,1])\n",
    "    return qml.state()\n",
    "\n",
    "@qml.qnode(qml.device(\"default.qubit\", wires=2))\n",
    "def classical_rho4():\n",
    "    rho4([0,1])\n",
    "    return qml.state()\n",
    "\n",
    "init_states = [classical_rho1(), classical_rho2(), classical_rho3(), classical_rho4()]"
   ]
  },
  {
   "cell_type": "markdown",
   "metadata": {},
   "source": [
    "#### Variational Quantum Algorithm"
   ]
  },
  {
   "cell_type": "code",
   "execution_count": 34,
   "metadata": {},
   "outputs": [
    {
     "name": "stdout",
     "output_type": "stream",
     "text": [
      "Cost(init_params)    : 0.7677308\n",
      "Cost after step    20:  0.5239843\n",
      "Cost after step    40:  0.4277432\n",
      "Cost after step    60:  0.3905114\n",
      "Cost after step    80:  0.3785710\n",
      "Cost after step   100:  0.3761241\n",
      "Cost after step   120:  0.3720436\n",
      "Cost after step   140:  0.3579180\n",
      "Cost after step   160:  0.3372230\n",
      "Cost after step   180:  0.3243187\n",
      "Cost after step   200:  0.3234130\n",
      "Cost after step   220:  0.3232825\n",
      "Cost after step   240:  0.3232509\n",
      "Cost after step   260:  0.3232409\n",
      "Cost after step   280:  0.3232357\n",
      "Cost after step   300:  0.3232323\n"
     ]
    }
   ],
   "source": [
    "n_outcome = 4\n",
    "wires = [0, 1, 2, 3]\n",
    "\n",
    "\n",
    "devs = [qml.device('default.qubit', wires=len(wires))] * n_outcome\n",
    "a_priori_probs = [1/n_outcome] * n_outcome\n",
    "\n",
    "\n",
    "classifier = POVM_Clf(n_outcome, wires, devs, a_priori_probs, [rho1,rho2,rho3, rho4], [0,1])\n",
    "cost_list = classifier.run_opt()"
   ]
  },
  {
   "cell_type": "markdown",
   "metadata": {},
   "source": [
    "#### SDP"
   ]
  },
  {
   "cell_type": "code",
   "execution_count": 35,
   "metadata": {},
   "outputs": [
    {
     "name": "stdout",
     "output_type": "stream",
     "text": [
      "Opt is Done. \n",
      "Status: optimal\n",
      "Optimal Value: 0.32322345402794006\n"
     ]
    },
    {
     "data": {
      "text/html": [
       "<div>\n",
       "<style scoped>\n",
       "    .dataframe tbody tr th:only-of-type {\n",
       "        vertical-align: middle;\n",
       "    }\n",
       "\n",
       "    .dataframe tbody tr th {\n",
       "        vertical-align: top;\n",
       "    }\n",
       "\n",
       "    .dataframe thead tr th {\n",
       "        text-align: left;\n",
       "    }\n",
       "</style>\n",
       "<table border=\"1\" class=\"dataframe\">\n",
       "  <thead>\n",
       "    <tr>\n",
       "      <th></th>\n",
       "      <th></th>\n",
       "      <th colspan=\"5\" halign=\"left\">Measure</th>\n",
       "    </tr>\n",
       "    <tr>\n",
       "      <th></th>\n",
       "      <th></th>\n",
       "      <th>0</th>\n",
       "      <th>1</th>\n",
       "      <th>2</th>\n",
       "      <th>3</th>\n",
       "      <th>sum_probs</th>\n",
       "    </tr>\n",
       "  </thead>\n",
       "  <tbody>\n",
       "    <tr>\n",
       "      <th rowspan=\"4\" valign=\"top\">State</th>\n",
       "      <th>0</th>\n",
       "      <td>0.853555</td>\n",
       "      <td>-5.529569e-07</td>\n",
       "      <td>0.146446</td>\n",
       "      <td>-4.358923e-07</td>\n",
       "      <td>1.0</td>\n",
       "    </tr>\n",
       "    <tr>\n",
       "      <th>1</th>\n",
       "      <td>0.000001</td>\n",
       "      <td>9.999964e-01</td>\n",
       "      <td>0.000001</td>\n",
       "      <td>1.280249e-06</td>\n",
       "      <td>1.0</td>\n",
       "    </tr>\n",
       "    <tr>\n",
       "      <th>2</th>\n",
       "      <td>0.146446</td>\n",
       "      <td>-5.584355e-07</td>\n",
       "      <td>0.853555</td>\n",
       "      <td>-5.187680e-07</td>\n",
       "      <td>1.0</td>\n",
       "    </tr>\n",
       "    <tr>\n",
       "      <th>3</th>\n",
       "      <td>0.426778</td>\n",
       "      <td>4.999979e-01</td>\n",
       "      <td>0.073224</td>\n",
       "      <td>5.053519e-07</td>\n",
       "      <td>1.0</td>\n",
       "    </tr>\n",
       "  </tbody>\n",
       "</table>\n",
       "</div>"
      ],
      "text/plain": [
       "          Measure                                                \n",
       "                0             1         2             3 sum_probs\n",
       "State 0  0.853555 -5.529569e-07  0.146446 -4.358923e-07       1.0\n",
       "      1  0.000001  9.999964e-01  0.000001  1.280249e-06       1.0\n",
       "      2  0.146446 -5.584355e-07  0.853555 -5.187680e-07       1.0\n",
       "      3  0.426778  4.999979e-01  0.073224  5.053519e-07       1.0"
      ]
     },
     "execution_count": 35,
     "metadata": {},
     "output_type": "execute_result"
    }
   ],
   "source": [
    "val, E = sdp_med(init_states, n_outcome)\n",
    "dp_probs(init_states, E)"
   ]
  },
  {
   "attachments": {},
   "cell_type": "markdown",
   "metadata": {},
   "source": [
    "#### PGM"
   ]
  },
  {
   "cell_type": "code",
   "execution_count": 40,
   "metadata": {},
   "outputs": [],
   "source": [
    "rhos = [np.outer(init_states[i],init_states[i]) for i in range(n_outcome)]"
   ]
  },
  {
   "cell_type": "code",
   "execution_count": 41,
   "metadata": {},
   "outputs": [
    {
     "name": "stdout",
     "output_type": "stream",
     "text": [
      "Error Prob by PGMs: 0.3336334812758035\n"
     ]
    },
    {
     "data": {
      "text/html": [
       "<div>\n",
       "<style scoped>\n",
       "    .dataframe tbody tr th:only-of-type {\n",
       "        vertical-align: middle;\n",
       "    }\n",
       "\n",
       "    .dataframe tbody tr th {\n",
       "        vertical-align: top;\n",
       "    }\n",
       "\n",
       "    .dataframe thead tr th {\n",
       "        text-align: left;\n",
       "    }\n",
       "</style>\n",
       "<table border=\"1\" class=\"dataframe\">\n",
       "  <thead>\n",
       "    <tr>\n",
       "      <th></th>\n",
       "      <th></th>\n",
       "      <th colspan=\"5\" halign=\"left\">Measure</th>\n",
       "    </tr>\n",
       "    <tr>\n",
       "      <th></th>\n",
       "      <th></th>\n",
       "      <th>0</th>\n",
       "      <th>1</th>\n",
       "      <th>2</th>\n",
       "      <th>3</th>\n",
       "      <th>sum_probs</th>\n",
       "    </tr>\n",
       "  </thead>\n",
       "  <tbody>\n",
       "    <tr>\n",
       "      <th rowspan=\"4\" valign=\"top\">State</th>\n",
       "      <th>0</th>\n",
       "      <td>0.638936</td>\n",
       "      <td>0.018484</td>\n",
       "      <td>0.122545</td>\n",
       "      <td>0.220035</td>\n",
       "      <td>1.0</td>\n",
       "    </tr>\n",
       "    <tr>\n",
       "      <th>1</th>\n",
       "      <td>0.018484</td>\n",
       "      <td>0.724433</td>\n",
       "      <td>0.001342</td>\n",
       "      <td>0.255740</td>\n",
       "      <td>1.0</td>\n",
       "    </tr>\n",
       "    <tr>\n",
       "      <th>2</th>\n",
       "      <td>0.122545</td>\n",
       "      <td>0.001342</td>\n",
       "      <td>0.826993</td>\n",
       "      <td>0.049121</td>\n",
       "      <td>1.0</td>\n",
       "    </tr>\n",
       "    <tr>\n",
       "      <th>3</th>\n",
       "      <td>0.220035</td>\n",
       "      <td>0.255740</td>\n",
       "      <td>0.049121</td>\n",
       "      <td>0.475104</td>\n",
       "      <td>1.0</td>\n",
       "    </tr>\n",
       "  </tbody>\n",
       "</table>\n",
       "</div>"
      ],
      "text/plain": [
       "          Measure                                        \n",
       "                0         1         2         3 sum_probs\n",
       "State 0  0.638936  0.018484  0.122545  0.220035       1.0\n",
       "      1  0.018484  0.724433  0.001342  0.255740       1.0\n",
       "      2  0.122545  0.001342  0.826993  0.049121       1.0\n",
       "      3  0.220035  0.255740  0.049121  0.475104       1.0"
      ]
     },
     "execution_count": 41,
     "metadata": {},
     "output_type": "execute_result"
    }
   ],
   "source": [
    "val_pgm, E_pgm = pgm(a_priori_probs, rhos)\n",
    "print(\"Error Prob by PGMs:\", val_pgm)\n",
    "dp_probs(rhos, E_pgm)"
   ]
  },
  {
   "cell_type": "markdown",
   "metadata": {},
   "source": [
    "#### Plot"
   ]
  },
  {
   "cell_type": "code",
   "execution_count": 42,
   "metadata": {},
   "outputs": [
    {
     "data": {
      "image/png": "[encoded data removed]",
      "text/plain": [
       "<Figure size 432x288 with 1 Axes>"
      ]
     },
     "metadata": {
      "needs_background": "light"
     },
     "output_type": "display_data"
    }
   ],
   "source": [
    "plt.plot(range(len(cost_list)), cost_list, 'x', markersize=8, label='VQA')\n",
    "plt.plot(range(len(cost_list)), [val]*len(cost_list), linewidth=3, label='SDP')\n",
    "plt.plot(range(len(cost_list)), [val_pgm]*len(cost_list), \":\", linewidth=3, label='PGM')\n",
    "plt.xlabel('Iteration', usetex=True, fontsize=28)\n",
    "plt.ylabel(r'$p_{error}$', usetex=True, fontsize=35, labelpad=10)\n",
    "plt.xticks(fontsize=15)\n",
    "plt.yticks(fontsize=15)\n",
    "#plt.ylim([0.35,0.40,0.45,0.50,0.55,0.60,0.65,0.70])\n",
    "plt.legend(fontsize=15)\n",
    "plt.text(270, 0.45, '(d)', fontsize=28)\n",
    "plt.savefig('./data/output4.png', bbox_inches='tight', transparent=True)"
   ]
  },
  {
   "cell_type": "markdown",
   "metadata": {},
   "source": [
    "## 2. Classifying Iris Dataset"
   ]
  },
  {
   "cell_type": "markdown",
   "metadata": {},
   "source": [
    "### 2-1. Single-qubit POVM-based Classifier"
   ]
  },
  {
   "cell_type": "markdown",
   "metadata": {},
   "source": [
    "#### Quantum Feature Map"
   ]
  },
  {
   "cell_type": "code",
   "execution_count": 6,
   "metadata": {},
   "outputs": [],
   "source": [
    "X, y = load_iris().data, load_iris().target\n",
    "X = 0.2 * np.pi * affine_preprocessing(X)\n",
    "#X = 0.2 * (affine_preprocessing(X, minmax='0-to-2pi') - np.pi)\n",
    "enc_type='invcoscos'\n",
    "#enc_type='gaussian'"
   ]
  },
  {
   "cell_type": "code",
   "execution_count": 7,
   "metadata": {},
   "outputs": [
    {
     "data": {
      "text/plain": [
       "tensor([[-3.49065850e-01,  1.57079633e-01, -5.43122798e-01,\n",
       "         -5.75958653e-01],\n",
       "        [-4.18879020e-01, -1.04719755e-01, -5.43122798e-01,\n",
       "         -5.75958653e-01],\n",
       "        [-4.88692191e-01,  0.00000000e+00, -5.64421731e-01,\n",
       "         -5.75958653e-01],\n",
       "        [-5.23598776e-01, -5.23598776e-02, -5.21823864e-01,\n",
       "         -5.75958653e-01],\n",
       "        [-3.83972435e-01,  2.09439510e-01, -5.43122798e-01,\n",
       "         -5.75958653e-01],\n",
       "        [-2.44346095e-01,  3.66519143e-01, -4.79225998e-01,\n",
       "         -4.71238898e-01],\n",
       "        [-5.23598776e-01,  1.04719755e-01, -5.43122798e-01,\n",
       "         -5.23598776e-01],\n",
       "        [-3.83972435e-01,  1.04719755e-01, -5.21823864e-01,\n",
       "         -5.75958653e-01],\n",
       "        [-5.93411946e-01, -1.57079633e-01, -5.43122798e-01,\n",
       "         -5.75958653e-01],\n",
       "        [-4.18879020e-01, -5.23598776e-02, -5.21823864e-01,\n",
       "         -6.28318531e-01],\n",
       "        [-2.44346095e-01,  2.61799388e-01, -5.21823864e-01,\n",
       "         -5.75958653e-01],\n",
       "        [-4.53785606e-01,  1.04719755e-01, -5.00524931e-01,\n",
       "         -5.75958653e-01],\n",
       "        [-4.53785606e-01, -1.04719755e-01, -5.43122798e-01,\n",
       "         -6.28318531e-01],\n",
       "        [-6.28318531e-01, -1.04719755e-01, -6.07019597e-01,\n",
       "         -6.28318531e-01],\n",
       "        [-1.04719755e-01,  4.18879020e-01, -5.85720664e-01,\n",
       "         -5.75958653e-01],\n",
       "        [-1.39626340e-01,  6.28318531e-01, -5.21823864e-01,\n",
       "         -4.71238898e-01],\n",
       "        [-2.44346095e-01,  3.66519143e-01, -5.64421731e-01,\n",
       "         -4.71238898e-01],\n",
       "        [-3.49065850e-01,  1.57079633e-01, -5.43122798e-01,\n",
       "         -5.23598776e-01],\n",
       "        [-1.39626340e-01,  3.14159265e-01, -4.79225998e-01,\n",
       "         -5.23598776e-01],\n",
       "        [-3.49065850e-01,  3.14159265e-01, -5.21823864e-01,\n",
       "         -5.23598776e-01],\n",
       "        [-2.44346095e-01,  1.04719755e-01, -4.79225998e-01,\n",
       "         -5.75958653e-01],\n",
       "        [-3.49065850e-01,  2.61799388e-01, -5.21823864e-01,\n",
       "         -4.71238898e-01],\n",
       "        [-5.23598776e-01,  2.09439510e-01, -6.28318531e-01,\n",
       "         -5.75958653e-01],\n",
       "        [-3.49065850e-01,  5.23598776e-02, -4.79225998e-01,\n",
       "         -4.18879020e-01],\n",
       "        [-4.53785606e-01,  1.04719755e-01, -4.36628132e-01,\n",
       "         -5.75958653e-01],\n",
       "        [-3.83972435e-01, -1.04719755e-01, -5.00524931e-01,\n",
       "         -5.75958653e-01],\n",
       "        [-3.83972435e-01,  1.04719755e-01, -5.00524931e-01,\n",
       "         -4.71238898e-01],\n",
       "        [-3.14159265e-01,  1.57079633e-01, -5.21823864e-01,\n",
       "         -5.75958653e-01],\n",
       "        [-3.14159265e-01,  1.04719755e-01, -5.43122798e-01,\n",
       "         -5.75958653e-01],\n",
       "        [-4.88692191e-01,  0.00000000e+00, -5.00524931e-01,\n",
       "         -5.75958653e-01],\n",
       "        [-4.53785606e-01, -5.23598776e-02, -5.00524931e-01,\n",
       "         -5.75958653e-01],\n",
       "        [-2.44346095e-01,  1.04719755e-01, -5.21823864e-01,\n",
       "         -4.71238898e-01],\n",
       "        [-3.14159265e-01,  4.71238898e-01, -5.21823864e-01,\n",
       "         -6.28318531e-01],\n",
       "        [-2.09439510e-01,  5.23598776e-01, -5.43122798e-01,\n",
       "         -5.75958653e-01],\n",
       "        [-4.18879020e-01, -5.23598776e-02, -5.21823864e-01,\n",
       "         -5.75958653e-01],\n",
       "        [-3.83972435e-01,  0.00000000e+00, -5.85720664e-01,\n",
       "         -5.75958653e-01],\n",
       "        [-2.09439510e-01,  1.57079633e-01, -5.64421731e-01,\n",
       "         -5.75958653e-01],\n",
       "        [-4.18879020e-01,  2.09439510e-01, -5.43122798e-01,\n",
       "         -6.28318531e-01],\n",
       "        [-5.93411946e-01, -1.04719755e-01, -5.64421731e-01,\n",
       "         -5.75958653e-01],\n",
       "        [-3.49065850e-01,  1.04719755e-01, -5.21823864e-01,\n",
       "         -5.75958653e-01],\n",
       "        [-3.83972435e-01,  1.57079633e-01, -5.64421731e-01,\n",
       "         -5.23598776e-01],\n",
       "        [-5.58505361e-01, -4.71238898e-01, -5.64421731e-01,\n",
       "         -5.23598776e-01],\n",
       "        [-5.93411946e-01,  0.00000000e+00, -5.64421731e-01,\n",
       "         -5.75958653e-01],\n",
       "        [-3.83972435e-01,  1.57079633e-01, -5.00524931e-01,\n",
       "         -3.66519143e-01],\n",
       "        [-3.49065850e-01,  3.14159265e-01, -4.36628132e-01,\n",
       "         -4.71238898e-01],\n",
       "        [-4.53785606e-01, -1.04719755e-01, -5.43122798e-01,\n",
       "         -5.23598776e-01],\n",
       "        [-3.49065850e-01,  3.14159265e-01, -5.00524931e-01,\n",
       "         -5.75958653e-01],\n",
       "        [-5.23598776e-01,  0.00000000e+00, -5.43122798e-01,\n",
       "         -5.75958653e-01],\n",
       "        [-2.79252680e-01,  2.61799388e-01, -5.21823864e-01,\n",
       "         -5.75958653e-01],\n",
       "        [-3.83972435e-01,  5.23598776e-02, -5.43122798e-01,\n",
       "         -5.75958653e-01],\n",
       "        [ 3.14159265e-01,  0.00000000e+00,  1.59741999e-01,\n",
       "          5.23598776e-02],\n",
       "        [ 1.04719755e-01,  0.00000000e+00,  1.17144133e-01,\n",
       "          1.04719755e-01],\n",
       "        [ 2.79252680e-01, -5.23598776e-02,  2.02339866e-01,\n",
       "          1.04719755e-01],\n",
       "        [-2.09439510e-01, -4.71238898e-01,  1.06494666e-02,\n",
       "          0.00000000e+00],\n",
       "        [ 1.39626340e-01, -2.09439510e-01,  1.38443066e-01,\n",
       "          1.04719755e-01],\n",
       "        [-1.39626340e-01, -2.09439510e-01,  1.17144133e-01,\n",
       "          0.00000000e+00],\n",
       "        [ 6.98131701e-02,  5.23598776e-02,  1.59741999e-01,\n",
       "          1.57079633e-01],\n",
       "        [-4.18879020e-01, -4.18879020e-01, -1.38443066e-01,\n",
       "         -1.57079633e-01],\n",
       "        [ 1.74532925e-01, -1.57079633e-01,  1.38443066e-01,\n",
       "          0.00000000e+00],\n",
       "        [-3.14159265e-01, -2.61799388e-01, -1.06494666e-02,\n",
       "          5.23598776e-02],\n",
       "        [-3.83972435e-01, -6.28318531e-01, -9.58451996e-02,\n",
       "         -1.57079633e-01],\n",
       "        [-6.98131701e-02, -1.04719755e-01,  5.32473331e-02,\n",
       "          1.04719755e-01],\n",
       "        [-3.49065850e-02, -5.23598776e-01,  1.06494666e-02,\n",
       "         -1.57079633e-01],\n",
       "        [-2.79029480e-16, -1.57079633e-01,  1.59741999e-01,\n",
       "          5.23598776e-02],\n",
       "        [-1.74532925e-01, -1.57079633e-01, -7.45462664e-02,\n",
       "          0.00000000e+00],\n",
       "        [ 2.09439510e-01, -5.23598776e-02,  9.58451996e-02,\n",
       "          5.23598776e-02],\n",
       "        [-1.74532925e-01, -1.04719755e-01,  1.17144133e-01,\n",
       "          1.04719755e-01],\n",
       "        [-1.04719755e-01, -2.61799388e-01,  3.19483999e-02,\n",
       "         -1.57079633e-01],\n",
       "        [ 3.49065850e-02, -5.23598776e-01,  1.17144133e-01,\n",
       "          1.04719755e-01],\n",
       "        [-1.74532925e-01, -3.66519143e-01, -1.06494666e-02,\n",
       "         -1.04719755e-01],\n",
       "        [-6.98131701e-02,  0.00000000e+00,  1.81040933e-01,\n",
       "          2.61799388e-01],\n",
       "        [-2.79029480e-16, -2.09439510e-01,  1.06494666e-02,\n",
       "          0.00000000e+00],\n",
       "        [ 6.98131701e-02, -3.66519143e-01,  2.02339866e-01,\n",
       "          1.04719755e-01],\n",
       "        [-2.79029480e-16, -2.09439510e-01,  1.59741999e-01,\n",
       "         -5.23598776e-02],\n",
       "        [ 1.04719755e-01, -1.57079633e-01,  7.45462664e-02,\n",
       "          0.00000000e+00],\n",
       "        [ 1.74532925e-01, -1.04719755e-01,  9.58451996e-02,\n",
       "          5.23598776e-02],\n",
       "        [ 2.44346095e-01, -2.09439510e-01,  1.81040933e-01,\n",
       "          5.23598776e-02],\n",
       "        [ 2.09439510e-01, -1.04719755e-01,  2.23638799e-01,\n",
       "          2.09439510e-01],\n",
       "        [-3.49065850e-02, -1.57079633e-01,  1.17144133e-01,\n",
       "          1.04719755e-01],\n",
       "        [-1.39626340e-01, -3.14159265e-01, -9.58451996e-02,\n",
       "         -1.57079633e-01],\n",
       "        [-2.09439510e-01, -4.18879020e-01, -3.19483999e-02,\n",
       "         -1.04719755e-01],\n",
       "        [-2.09439510e-01, -4.18879020e-01, -5.32473331e-02,\n",
       "         -1.57079633e-01],\n",
       "        [-1.04719755e-01, -2.61799388e-01, -1.06494666e-02,\n",
       "         -5.23598776e-02],\n",
       "        [-3.49065850e-02, -2.61799388e-01,  2.44937732e-01,\n",
       "          1.57079633e-01],\n",
       "        [-2.44346095e-01, -1.04719755e-01,  1.17144133e-01,\n",
       "          1.04719755e-01],\n",
       "        [-3.49065850e-02,  1.04719755e-01,  1.17144133e-01,\n",
       "          1.57079633e-01],\n",
       "        [ 2.09439510e-01, -5.23598776e-02,  1.59741999e-01,\n",
       "          1.04719755e-01],\n",
       "        [ 6.98131701e-02, -4.71238898e-01,  9.58451996e-02,\n",
       "          0.00000000e+00],\n",
       "        [-1.74532925e-01, -1.04719755e-01,  3.19483999e-02,\n",
       "          0.00000000e+00],\n",
       "        [-2.09439510e-01, -3.66519143e-01,  1.06494666e-02,\n",
       "          0.00000000e+00],\n",
       "        [-2.09439510e-01, -3.14159265e-01,  9.58451996e-02,\n",
       "         -5.23598776e-02],\n",
       "        [-2.79029480e-16, -1.04719755e-01,  1.38443066e-01,\n",
       "          5.23598776e-02],\n",
       "        [-1.04719755e-01, -3.14159265e-01,  1.06494666e-02,\n",
       "         -5.23598776e-02],\n",
       "        [-3.83972435e-01, -4.71238898e-01, -1.38443066e-01,\n",
       "         -1.57079633e-01],\n",
       "        [-1.74532925e-01, -2.61799388e-01,  5.32473331e-02,\n",
       "          0.00000000e+00],\n",
       "        [-1.39626340e-01, -1.04719755e-01,  5.32473331e-02,\n",
       "         -5.23598776e-02],\n",
       "        [-1.39626340e-01, -1.57079633e-01,  5.32473331e-02,\n",
       "          0.00000000e+00],\n",
       "        [ 3.49065850e-02, -1.57079633e-01,  7.45462664e-02,\n",
       "          0.00000000e+00],\n",
       "        [-3.49065850e-01, -3.66519143e-01, -2.02339866e-01,\n",
       "         -1.04719755e-01],\n",
       "        [-1.39626340e-01, -2.09439510e-01,  3.19483999e-02,\n",
       "          0.00000000e+00],\n",
       "        [ 6.98131701e-02,  5.23598776e-02,  4.36628132e-01,\n",
       "          6.28318531e-01],\n",
       "        [-1.04719755e-01, -2.61799388e-01,  2.44937732e-01,\n",
       "          3.14159265e-01],\n",
       "        [ 3.49065850e-01, -1.04719755e-01,  4.15329198e-01,\n",
       "          4.18879020e-01],\n",
       "        [ 6.98131701e-02, -1.57079633e-01,  3.51432399e-01,\n",
       "          2.61799388e-01],\n",
       "        [ 1.39626340e-01, -1.04719755e-01,  3.94030265e-01,\n",
       "          4.71238898e-01],\n",
       "        [ 5.23598776e-01, -1.04719755e-01,  5.64421731e-01,\n",
       "          4.18879020e-01],\n",
       "        [-4.18879020e-01, -3.66519143e-01,  1.17144133e-01,\n",
       "          2.09439510e-01],\n",
       "        [ 4.18879020e-01, -1.57079633e-01,  5.00524931e-01,\n",
       "          2.61799388e-01],\n",
       "        [ 2.09439510e-01, -3.66519143e-01,  3.94030265e-01,\n",
       "          2.61799388e-01],\n",
       "        [ 3.83972435e-01,  2.09439510e-01,  4.57927065e-01,\n",
       "          6.28318531e-01],\n",
       "        [ 1.39626340e-01,  0.00000000e+00,  2.44937732e-01,\n",
       "          3.66519143e-01],\n",
       "        [ 1.04719755e-01, -2.61799388e-01,  2.87535599e-01,\n",
       "          3.14159265e-01],\n",
       "        [ 2.44346095e-01, -1.04719755e-01,  3.30133465e-01,\n",
       "          4.18879020e-01],\n",
       "        [-1.39626340e-01, -3.66519143e-01,  2.23638799e-01,\n",
       "          3.66519143e-01],\n",
       "        [-1.04719755e-01, -2.09439510e-01,  2.44937732e-01,\n",
       "          5.75958653e-01],\n",
       "        [ 1.04719755e-01,  0.00000000e+00,  2.87535599e-01,\n",
       "          5.23598776e-01],\n",
       "        [ 1.39626340e-01, -1.04719755e-01,  3.30133465e-01,\n",
       "          2.61799388e-01],\n",
       "        [ 5.58505361e-01,  3.14159265e-01,  5.85720664e-01,\n",
       "          4.71238898e-01],\n",
       "        [ 5.58505361e-01, -3.14159265e-01,  6.28318531e-01,\n",
       "          5.23598776e-01],\n",
       "        [-3.49065850e-02, -5.23598776e-01,  2.23638799e-01,\n",
       "          1.04719755e-01],\n",
       "        [ 2.79252680e-01,  0.00000000e+00,  3.72731332e-01,\n",
       "          5.23598776e-01],\n",
       "        [-1.74532925e-01, -2.09439510e-01,  2.02339866e-01,\n",
       "          3.66519143e-01],\n",
       "        [ 5.58505361e-01, -2.09439510e-01,  5.85720664e-01,\n",
       "          3.66519143e-01],\n",
       "        [ 6.98131701e-02, -2.61799388e-01,  2.02339866e-01,\n",
       "          2.61799388e-01],\n",
       "        [ 2.09439510e-01,  5.23598776e-02,  3.72731332e-01,\n",
       "          4.18879020e-01],\n",
       "        [ 3.83972435e-01,  0.00000000e+00,  4.36628132e-01,\n",
       "          2.61799388e-01],\n",
       "        [ 3.49065850e-02, -2.09439510e-01,  1.81040933e-01,\n",
       "          2.61799388e-01],\n",
       "        [-2.79029480e-16, -1.04719755e-01,  2.02339866e-01,\n",
       "          2.61799388e-01],\n",
       "        [ 1.04719755e-01, -2.09439510e-01,  3.51432399e-01,\n",
       "          4.18879020e-01],\n",
       "        [ 3.83972435e-01, -1.04719755e-01,  3.94030265e-01,\n",
       "          1.57079633e-01],\n",
       "        [ 4.53785606e-01, -2.09439510e-01,  4.57927065e-01,\n",
       "          3.14159265e-01],\n",
       "        [ 6.28318531e-01,  3.14159265e-01,  5.21823864e-01,\n",
       "          3.66519143e-01],\n",
       "        [ 1.04719755e-01, -2.09439510e-01,  3.51432399e-01,\n",
       "          4.71238898e-01],\n",
       "        [ 6.98131701e-02, -2.09439510e-01,  2.44937732e-01,\n",
       "          1.04719755e-01],\n",
       "        [-2.79029480e-16, -3.14159265e-01,  3.51432399e-01,\n",
       "          5.23598776e-02],\n",
       "        [ 5.58505361e-01, -1.04719755e-01,  4.57927065e-01,\n",
       "          5.23598776e-01],\n",
       "        [ 6.98131701e-02,  1.04719755e-01,  3.51432399e-01,\n",
       "          5.75958653e-01],\n",
       "        [ 1.04719755e-01, -5.23598776e-02,  3.30133465e-01,\n",
       "          2.61799388e-01],\n",
       "        [-3.49065850e-02, -1.04719755e-01,  1.81040933e-01,\n",
       "          2.61799388e-01],\n",
       "        [ 2.79252680e-01, -5.23598776e-02,  3.08834532e-01,\n",
       "          4.18879020e-01],\n",
       "        [ 2.09439510e-01, -5.23598776e-02,  3.51432399e-01,\n",
       "          5.75958653e-01],\n",
       "        [ 2.79252680e-01, -5.23598776e-02,  2.44937732e-01,\n",
       "          5.23598776e-01],\n",
       "        [-1.04719755e-01, -2.61799388e-01,  2.44937732e-01,\n",
       "          3.14159265e-01],\n",
       "        [ 2.44346095e-01,  0.00000000e+00,  4.15329198e-01,\n",
       "          5.23598776e-01],\n",
       "        [ 2.09439510e-01,  5.23598776e-02,  3.72731332e-01,\n",
       "          6.28318531e-01],\n",
       "        [ 2.09439510e-01, -1.04719755e-01,  2.66236666e-01,\n",
       "          5.23598776e-01],\n",
       "        [ 6.98131701e-02, -3.66519143e-01,  2.23638799e-01,\n",
       "          3.14159265e-01],\n",
       "        [ 1.39626340e-01, -1.04719755e-01,  2.66236666e-01,\n",
       "          3.66519143e-01],\n",
       "        [ 3.49065850e-02,  1.04719755e-01,  3.08834532e-01,\n",
       "          5.23598776e-01],\n",
       "        [-6.98131701e-02, -1.04719755e-01,  2.44937732e-01,\n",
       "          2.61799388e-01]], requires_grad=True)"
      ]
     },
     "execution_count": 7,
     "metadata": {},
     "output_type": "execute_result"
    }
   ],
   "source": [
    "X"
   ]
  },
  {
   "cell_type": "markdown",
   "metadata": {},
   "source": [
    "Data-Embedded Reduced Density States on Bloch Sphere"
   ]
  },
  {
   "cell_type": "code",
   "execution_count": 8,
   "metadata": {},
   "outputs": [],
   "source": [
    "quFeatmap = QuantumEmbedding(wires=[0,1], enc_type=enc_type)\n",
    "\n",
    "dev = qml.device(\"default.qubit\", wires=2)\n",
    "@qml.qnode(dev)\n",
    "def data_state(input):\n",
    "    quFeatmap(input)\n",
    "    return qml.state()\n",
    "\n",
    "bloch_list = []\n",
    "for i in range(len(X)):\n",
    "    bloch_list.append(rho_2_bloch(rdm(data_state(X[i]))))"
   ]
  },
  {
   "cell_type": "code",
   "execution_count": 25,
   "metadata": {},
   "outputs": [
    {
     "data": {
      "image/png": "[encoded data removed]",
      "text/plain": [
       "<Figure size 360x360 with 1 Axes>"
      ]
     },
     "metadata": {},
     "output_type": "display_data"
    }
   ],
   "source": [
    "import qutip as qt\n",
    "\n",
    "b = qt.Bloch()\n",
    "b.make_sphere()\n",
    "b.point_color = ['b'] * 50 + ['r'] * 50 + ['g'] * 50\n",
    "b.point_marker = ['s'] * 50 + ['o'] * 50 + ['^'] * 50\n",
    "b.point_size = [45] * 150\n",
    "b.view = [0,30]\n",
    "b.frame_alpha = 0.08\n",
    "b.frame_width = 0.8\n",
    "b.frame_color = 'black'\n",
    "b.sphere_alpha = 0.0\n",
    "b.sphere_color = 'skyblue'\n",
    "for i in range(50):\n",
    "    b.add_points(bloch_list[i].tolist())\n",
    "\n",
    "for i in range(50,100):\n",
    "    b.add_points(bloch_list[i].tolist())\n",
    "\n",
    "for i in range(100,150):\n",
    "    b.add_points(bloch_list[i].tolist())\n",
    "\n",
    "b.show()\n",
    "b.save()"
   ]
  },
  {
   "cell_type": "markdown",
   "metadata": {},
   "source": [
    "#### Training POVM-based classifier"
   ]
  },
  {
   "cell_type": "code",
   "execution_count": 21,
   "metadata": {},
   "outputs": [
    {
     "name": "stdout",
     "output_type": "stream",
     "text": [
      "[40, 40, 40]\n"
     ]
    }
   ],
   "source": [
    "X_train, X_test, y_train, y_test = train_test_split(X, y, \n",
    "                                                    test_size=30/150,\n",
    "                                                    stratify=y,\n",
    "                                                    random_state=3) #35\n",
    "print([np.count_nonzero(y_train == i) for i in range(3)])"
   ]
  },
  {
   "cell_type": "code",
   "execution_count": 23,
   "metadata": {},
   "outputs": [],
   "source": [
    "num_measuring_qubits = 1\n",
    "num_povm = 3\n",
    "\n",
    "clf = POVMbasedCLF(num_measuring_qubits, num_povm)"
   ]
  },
  {
   "cell_type": "code",
   "execution_count": 16,
   "metadata": {},
   "outputs": [
    {
     "name": "stdout",
     "output_type": "stream",
     "text": [
      "Cost(init_params)    :  0.7085710\n",
      "Cost after step   20 :  0.6647043\n",
      "Cost after step   40 :  0.6176799\n",
      "Cost after step   60 :  0.5430399\n",
      "Cost after step   80 :  0.5175331\n",
      "Cost after step  100 :  0.5134721\n",
      "Cost after step  120 :  0.5123426\n",
      "Cost after step  140 :  0.5122226\n",
      "Cost after step  160 :  0.5122005\n"
     ]
    }
   ],
   "source": [
    "clf.fit(X_train, y_train, enc_type=enc_type)"
   ]
  },
  {
   "cell_type": "markdown",
   "metadata": {},
   "source": [
    "#### Test"
   ]
  },
  {
   "cell_type": "code",
   "execution_count": 17,
   "metadata": {},
   "outputs": [
    {
     "name": "stdout",
     "output_type": "stream",
     "text": [
      "Quantum Embedding Type: qfeat\n",
      "Layer: 2 | enc_type: invcoscos\n",
      "Training size: 120 | Success: 103\n",
      "Test size: 30 | Success: 24 | Ratio: 0.8\n"
     ]
    }
   ],
   "source": [
    "print('Quantum Embedding Type:', quFeatmap.embedding_type)\n",
    "if quFeatmap.embedding_type == 'qfeat':\n",
    "    print('Layer:',quFeatmap.layer, '| enc_type:',quFeatmap.enc_type)\n",
    "\n",
    "print('Training size:', len(y_train), \n",
    "        '| Success:', np.count_nonzero(y_train == clf.predict(X_train)))\n",
    "\n",
    "outcome = clf.predict(X_test)\n",
    "print('Test size:', len(y_test), \n",
    "        '| Success:', np.count_nonzero(y_test == outcome), \n",
    "        '| Ratio:', np.count_nonzero(y_test == outcome)/len(y_test))"
   ]
  },
  {
   "cell_type": "code",
   "execution_count": 18,
   "metadata": {},
   "outputs": [
    {
     "data": {
      "image/png": "[encoded data removed]",
      "text/plain": [
       "<Figure size 576x576 with 1 Axes>"
      ]
     },
     "metadata": {
      "needs_background": "light"
     },
     "output_type": "display_data"
    }
   ],
   "source": [
    "y_scores = clf.probs_predict[:,:3]\n",
    "plot_ROC_curve(y_test, y_scores)"
   ]
  },
  {
   "cell_type": "markdown",
   "metadata": {},
   "source": [
    "#### Accuracy w.r.t. the size of dataset"
   ]
  },
  {
   "cell_type": "code",
   "execution_count": null,
   "metadata": {},
   "outputs": [],
   "source": [
    "X, y = load_iris().data, load_iris().target\n",
    "X = 0.2 * np.pi * affine_preprocessing(X)\n",
    "enc_type='invcoscos'\n",
    "\n",
    "\n",
    "size_list = list(range(3, 120+3, 3))\n",
    "accuracy_list = []\n",
    "for size in size_list:\n",
    "    X_train, X_test, y_train, y_test = train_test_split(X, y, \n",
    "                                                    test_size=(150-size)/150,\n",
    "                                                    stratify=y,\n",
    "                                                    random_state=1)\n",
    "\n",
    "    num_measuring_qubits, num_povm = 1, 3\n",
    "    clf = POVMbasedCLF(num_measuring_qubits, num_povm)\n",
    "    clf.fit(X_train, y_train, enc_type=enc_type)\n",
    "\n",
    "    outcome = clf.predict(X_test)\n",
    "    accuracy_list.append(np.count_nonzero(y_test == outcome)/len(y_test))\n",
    "\n",
    "np.save('1qpovm_accuracy.npy', accuracy_list)"
   ]
  },
  {
   "cell_type": "code",
   "execution_count": 26,
   "metadata": {},
   "outputs": [
    {
     "data": {
      "text/plain": [
       "[<matplotlib.lines.Line2D at 0x281cb6730>]"
      ]
     },
     "execution_count": 26,
     "metadata": {},
     "output_type": "execute_result"
    },
    {
     "data": {
      "image/png": "[encoded data removed]",
      "text/plain": [
       "<Figure size 432x288 with 1 Axes>"
      ]
     },
     "metadata": {
      "needs_background": "light"
     },
     "output_type": "display_data"
    }
   ],
   "source": [
    "plt.plot(size_list, accuracy_list, 'x')"
   ]
  },
  {
   "cell_type": "markdown",
   "metadata": {},
   "source": [
    "Plots w.r.t. seed #"
   ]
  },
  {
   "cell_type": "code",
   "execution_count": 5,
   "metadata": {},
   "outputs": [
    {
     "data": {
      "image/png": "[encoded data removed]",
      "text/plain": [
       "<Figure size 576x432 with 1 Axes>"
      ]
     },
     "metadata": {
      "needs_background": "light"
     },
     "output_type": "display_data"
    }
   ],
   "source": [
    "plt.figure(figsize=(8, 6))\n",
    "\n",
    "accrc_list = []\n",
    "for i in range(1, 6):\n",
    "    accrc_list.append(np.load('1qpovm_accuracy_seed'+str(i)+'.npy'))\n",
    "\n",
    "    plt.plot(range(3, 3*(len(accrc_list[i-1])+1), 3), accrc_list[i-1], 'x-',label='#'+str(i))\n",
    "\n",
    "plt.xlabel('Size of Training Dataset')\n",
    "plt.ylabel('Accuracy')\n",
    "plt.legend()\n",
    "plt.show()"
   ]
  },
  {
   "cell_type": "markdown",
   "metadata": {},
   "source": [
    "#### 5-fold Cross Validation"
   ]
  },
  {
   "cell_type": "code",
   "execution_count": 4,
   "metadata": {},
   "outputs": [],
   "source": [
    "X, y = load_iris().data, load_iris().target\n",
    "X = 0.2 * np.pi * affine_preprocessing(X)\n",
    "\n",
    "enc_type='invcoscos'\n",
    "\n",
    "cv = StratifiedKFold(n_splits=5)"
   ]
  },
  {
   "cell_type": "code",
   "execution_count": 5,
   "metadata": {},
   "outputs": [],
   "source": [
    "num_measuring_qubits = 1\n",
    "num_povm = 3\n",
    "\n",
    "clf = POVMbasedCLF(num_measuring_qubits, num_povm)"
   ]
  },
  {
   "cell_type": "code",
   "execution_count": 6,
   "metadata": {},
   "outputs": [
    {
     "name": "stdout",
     "output_type": "stream",
     "text": [
      "Cost(init_params)    :  0.7078896\n",
      "Cost after step   20 :  0.6643903\n",
      "Cost after step   40 :  0.6142696\n",
      "Cost after step   60 :  0.5417910\n",
      "Cost after step   80 :  0.5183592\n",
      "Cost after step  100 :  0.5141783\n",
      "Cost after step  120 :  0.5130521\n",
      "Cost after step  140 :  0.5129203\n",
      "Cost after step  160 :  0.5128935\n",
      "Quantum Embedding Type: qfeat\n",
      "Layer: 2 | enc_type: invcoscos\n",
      "Training size: 120 | Success: 103\n",
      "Test size: 30 | Success: 26 | Ratio: 0.8666666666666667\n",
      "Cost(init_params)    :  0.5130669\n",
      "Quantum Embedding Type: qfeat\n",
      "Layer: 2 | enc_type: invcoscos\n",
      "Training size: 120 | Success: 111\n",
      "Test size: 30 | Success: 28 | Ratio: 0.9333333333333333\n",
      "Cost(init_params)    :  0.5101544\n",
      "Quantum Embedding Type: qfeat\n",
      "Layer: 2 | enc_type: invcoscos\n",
      "Training size: 120 | Success: 104\n",
      "Test size: 30 | Success: 26 | Ratio: 0.8666666666666667\n",
      "Cost(init_params)    :  0.5103408\n",
      "Quantum Embedding Type: qfeat\n",
      "Layer: 2 | enc_type: invcoscos\n",
      "Training size: 120 | Success: 113\n",
      "Test size: 30 | Success: 28 | Ratio: 0.9333333333333333\n",
      "Cost(init_params)    :  0.5186144\n",
      "Quantum Embedding Type: qfeat\n",
      "Layer: 2 | enc_type: invcoscos\n",
      "Training size: 120 | Success: 94\n",
      "Test size: 30 | Success: 26 | Ratio: 0.8666666666666667\n"
     ]
    }
   ],
   "source": [
    "probs_preds = []\n",
    "label_preds = []\n",
    "label_ys = []\n",
    "accuracy_list = []\n",
    "\n",
    "for i, (train_index,test_index) in enumerate(cv.split(X, y)):\n",
    "    #print(i, test_index)\n",
    "    clf.fit(X[train_index], y[train_index], enc_type=enc_type)\n",
    "\n",
    "    # y labels\n",
    "    label_ys.append(y[test_index])\n",
    "\n",
    "    # Predictive labels\n",
    "    label_pred = clf.predict(X[test_index])\n",
    "    label_preds.append(label_pred)\n",
    "\n",
    "    # Prediction Probabilities\n",
    "    probs_preds.append(clf.probs_predict[:,:num_povm])\n",
    "\n",
    "    \n",
    "\n",
    "    # Displaying Results \n",
    "    quFeatmap = QuantumEmbedding(wires=[0,1], enc_type=enc_type)\n",
    "    print('Quantum Embedding Type:', quFeatmap.embedding_type)\n",
    "    if quFeatmap.embedding_type == 'qfeat':\n",
    "        print('Layer:',quFeatmap.layer, '| enc_type:',quFeatmap.enc_type)\n",
    "\n",
    "    print('Training size:', len(y[train_index]), \n",
    "            '| Success:', np.count_nonzero(y[train_index] == clf.predict(X[train_index])))\n",
    "\n",
    "    accuracy = np.count_nonzero(y[test_index] == label_pred)/len(y[test_index])\n",
    "    accuracy_list.append(accuracy)\n",
    "    print('Test size:', len(y[test_index]), \n",
    "            '| Success:', np.count_nonzero(y[test_index] == label_pred), \n",
    "            '| Ratio:', accuracy)"
   ]
  },
  {
   "cell_type": "code",
   "execution_count": 7,
   "metadata": {},
   "outputs": [
    {
     "data": {
      "text/plain": [
       "(0.8933333333333333, 0.03265986323710904)"
      ]
     },
     "execution_count": 7,
     "metadata": {},
     "output_type": "execute_result"
    }
   ],
   "source": [
    "np.mean(accuracy_list), np.std(accuracy_list)"
   ]
  },
  {
   "cell_type": "markdown",
   "metadata": {},
   "source": [
    "[Mean ROC Curves](https://scikit-learn.org/stable/auto_examples/model_selection/plot_roc_crossval.html#sphx-glr-auto-examples-model-selection-plot-roc-crossval-py)"
   ]
  },
  {
   "cell_type": "code",
   "execution_count": 8,
   "metadata": {},
   "outputs": [
    {
     "data": {
      "image/png": "[encoded data removed]",
      "text/plain": [
       "<Figure size 576x576 with 1 Axes>"
      ]
     },
     "metadata": {
      "needs_background": "light"
     },
     "output_type": "display_data"
    }
   ],
   "source": [
    "plot_mean_ROC_curve(label_ys, probs_preds, 3, 5)"
   ]
  },
  {
   "cell_type": "markdown",
   "metadata": {},
   "source": [
    "### 2-2. Two-qubit POVM-based Classifier"
   ]
  },
  {
   "cell_type": "markdown",
   "metadata": {},
   "source": [
    "#### Iris Dataset "
   ]
  },
  {
   "cell_type": "code",
   "execution_count": 3,
   "metadata": {},
   "outputs": [
    {
     "name": "stdout",
     "output_type": "stream",
     "text": [
      "[40, 40, 40]\n"
     ]
    }
   ],
   "source": [
    "X, y = load_iris().data, load_iris().target\n",
    "X = 0.2 * np.pi * affine_preprocessing(X) #, minmax='0-to-2pi')\n",
    "#X = .1 * (affine_preprocessing(X, minmax='0-to-2pi')) #- np.pi) #, minmax='0-to-2pi')\n",
    "\n",
    "X_train, X_test, y_train, y_test = train_test_split(X, y, \n",
    "                                                    test_size=30/150,\n",
    "                                                    stratify=y,\n",
    "                                                    random_state=2) #35\n",
    "print([np.count_nonzero(y_train == i) for i in range(3)])"
   ]
  },
  {
   "cell_type": "markdown",
   "metadata": {},
   "source": [
    "#### Training POVM-based classifier by using Quantum Feature Map"
   ]
  },
  {
   "cell_type": "code",
   "execution_count": 4,
   "metadata": {},
   "outputs": [],
   "source": [
    "num_measuring_qubits = 2\n",
    "num_povm = 3\n",
    "#wires = [0, 1, 2, 3]\n",
    "clf = POVMbasedCLF(num_measuring_qubits, num_povm)"
   ]
  },
  {
   "cell_type": "code",
   "execution_count": 5,
   "metadata": {},
   "outputs": [
    {
     "name": "stdout",
     "output_type": "stream",
     "text": [
      "Cost(init_params)    :  0.6748065\n",
      "Cost after step   20 :  0.4906207\n",
      "Cost after step   40 :  0.4333764\n",
      "Cost after step   60 :  0.4049859\n",
      "Cost after step   80 :  0.3910283\n",
      "Cost after step  100 :  0.3718884\n",
      "Cost after step  120 :  0.3491641\n",
      "Cost after step  140 :  0.3358152\n",
      "Cost after step  160 :  0.3306940\n",
      "Cost after step  180 :  0.3295476\n",
      "Cost after step  200 :  0.3294238\n"
     ]
    }
   ],
   "source": [
    "clf.fit(X_train, y_train)\n",
    "# 34m 13.9s"
   ]
  },
  {
   "cell_type": "markdown",
   "metadata": {},
   "source": [
    "#### Test"
   ]
  },
  {
   "cell_type": "code",
   "execution_count": 6,
   "metadata": {},
   "outputs": [
    {
     "name": "stdout",
     "output_type": "stream",
     "text": [
      "Quantum Encoding Type: gaussian\n",
      "Training size: 120 | Success: 108\n",
      "Test size: 30 | Success: 30 | Ratio: 1.0\n"
     ]
    }
   ],
   "source": [
    "qdata = QuantumEmbedding([0,1])\n",
    "print('Quantum Encoding Type:', qdata.enc_type)\n",
    "if qdata.enc_type == 'qfeat':\n",
    "    print('Layer:', qdata.layer, '| feat_type:', qdata.feat_type)\n",
    "\n",
    "print('Training size:', len(y_train), \n",
    "        '| Success:', np.count_nonzero(y_train == clf.predict(X_train)))\n",
    "\n",
    "outcome = clf.predict(X_test)\n",
    "print('Test size:', len(y_test), \n",
    "        '| Success:', np.count_nonzero(y_test == outcome), \n",
    "        '| Ratio:', np.count_nonzero(y_test == outcome)/len(y_test))"
   ]
  },
  {
   "cell_type": "code",
   "execution_count": 7,
   "metadata": {},
   "outputs": [
    {
     "data": {
      "image/png": "[encoded data removed]",
      "text/plain": [
       "<Figure size 576x576 with 1 Axes>"
      ]
     },
     "metadata": {
      "needs_background": "light"
     },
     "output_type": "display_data"
    }
   ],
   "source": [
    "y_scores = clf.probs_predict[:,:3]\n",
    "plot_ROC_curve(y_test, y_scores)"
   ]
  },
  {
   "cell_type": "markdown",
   "metadata": {},
   "source": [
    "#### Accuracy w.r.t. the size of dataset"
   ]
  },
  {
   "cell_type": "code",
   "execution_count": 6,
   "metadata": {},
   "outputs": [
    {
     "name": "stdout",
     "output_type": "stream",
     "text": [
      "Cost(init_params)    :  0.6311644\n",
      "Cost after step   20 :  0.4833248\n",
      "Cost after step   40 :  0.3716727\n",
      "Cost after step   60 :  0.3174643\n",
      "Cost after step   80 :  0.3100450\n",
      "Cost(init_params)    :  0.6655377\n",
      "Cost after step   20 :  0.4997579\n",
      "Cost after step   40 :  0.4428038\n",
      "Cost after step   60 :  0.4049879\n",
      "Cost after step   80 :  0.3735441\n",
      "Cost after step  100 :  0.3532608\n",
      "Cost after step  120 :  0.3462621\n",
      "Cost after step  140 :  0.3447402\n",
      "Cost after step  160 :  0.3446241\n",
      "Cost(init_params)    :  0.6650888\n",
      "Cost after step   20 :  0.4956380\n",
      "Cost after step   40 :  0.4368109\n",
      "Cost after step   60 :  0.4035669\n",
      "Cost after step   80 :  0.3832569\n",
      "Cost after step  100 :  0.3666771\n",
      "Cost after step  120 :  0.3566548\n",
      "Cost after step  140 :  0.3531072\n",
      "Cost after step  160 :  0.3524851\n",
      "Cost after step  180 :  0.3524410\n",
      "Cost(init_params)    :  0.6637009\n",
      "Cost after step   20 :  0.4872954\n",
      "Cost after step   40 :  0.4301266\n",
      "Cost after step   60 :  0.3996365\n",
      "Cost after step   80 :  0.3827165\n",
      "Cost after step  100 :  0.3657018\n",
      "Cost after step  120 :  0.3494917\n",
      "Cost after step  140 :  0.3432945\n",
      "Cost after step  160 :  0.3418317\n",
      "Cost after step  180 :  0.3416923\n",
      "Cost(init_params)    :  0.6705460\n",
      "Cost after step   20 :  0.4874301\n",
      "Cost after step   40 :  0.4282806\n",
      "Cost after step   60 :  0.3840646\n",
      "Cost after step   80 :  0.3580246\n",
      "Cost after step  100 :  0.3456511\n",
      "Cost after step  120 :  0.3423433\n",
      "Cost after step  140 :  0.3420197\n",
      "Cost(init_params)    :  0.6708599\n",
      "Cost after step   20 :  0.4855508\n",
      "Cost after step   40 :  0.4255802\n",
      "Cost after step   60 :  0.3803440\n",
      "Cost after step   80 :  0.3518272\n",
      "Cost after step  100 :  0.3367392\n",
      "Cost after step  120 :  0.3321618\n",
      "Cost after step  140 :  0.3316676\n",
      "Cost(init_params)    :  0.6715706\n",
      "Cost after step   20 :  0.4871144\n",
      "Cost after step   40 :  0.4294792\n",
      "Cost after step   60 :  0.3939155\n",
      "Cost after step   80 :  0.3664206\n",
      "Cost after step  100 :  0.3462979\n",
      "Cost after step  120 :  0.3352596\n",
      "Cost after step  140 :  0.3330866\n",
      "Cost after step  160 :  0.3328616\n",
      "Cost(init_params)    :  0.6731043\n",
      "Cost after step   20 :  0.4861543\n",
      "Cost after step   40 :  0.4279269\n",
      "Cost after step   60 :  0.3872782\n",
      "Cost after step   80 :  0.3581130\n",
      "Cost after step  100 :  0.3378835\n",
      "Cost after step  120 :  0.3308868\n",
      "Cost after step  140 :  0.3295230\n",
      "Cost after step  160 :  0.3294537\n",
      "Cost(init_params)    :  0.6743659\n",
      "Cost after step   20 :  0.4898514\n",
      "Cost after step   40 :  0.4290702\n",
      "Cost after step   60 :  0.3973210\n",
      "Cost after step   80 :  0.3791056\n",
      "Cost after step  100 :  0.3601001\n",
      "Cost after step  120 :  0.3446874\n",
      "Cost after step  140 :  0.3372261\n",
      "Cost after step  160 :  0.3348645\n",
      "Cost after step  180 :  0.3344249\n",
      "Cost after step  200 :  0.3343804\n",
      "Cost after step  220 :  0.3343732\n",
      "Cost after step  240 :  0.3343690\n",
      "Cost(init_params)    :  0.6727035\n",
      "Cost after step   20 :  0.4878627\n",
      "Cost after step   40 :  0.4307683\n",
      "Cost after step   60 :  0.4006277\n",
      "Cost after step   80 :  0.3852558\n",
      "Cost after step  100 :  0.3652183\n",
      "Cost after step  120 :  0.3447376\n",
      "Cost after step  140 :  0.3339755\n",
      "Cost after step  160 :  0.3303566\n",
      "Cost after step  180 :  0.3296767\n",
      "Cost after step  200 :  0.3296252\n",
      "Cost(init_params)    :  0.6730479\n",
      "Cost after step   20 :  0.4860240\n",
      "Cost after step   40 :  0.4283352\n",
      "Cost after step   60 :  0.3980182\n",
      "Cost after step   80 :  0.3822050\n",
      "Cost after step  100 :  0.3615277\n",
      "Cost after step  120 :  0.3407696\n",
      "Cost after step  140 :  0.3303631\n",
      "Cost after step  160 :  0.3270556\n",
      "Cost after step  180 :  0.3264854\n",
      "Cost(init_params)    :  0.6729398\n",
      "Cost after step   20 :  0.4873154\n",
      "Cost after step   40 :  0.4282667\n",
      "Cost after step   60 :  0.3964539\n",
      "Cost after step   80 :  0.3768812\n",
      "Cost after step  100 :  0.3559124\n",
      "Cost after step  120 :  0.3399895\n",
      "Cost after step  140 :  0.3328679\n",
      "Cost after step  160 :  0.3309040\n",
      "Cost after step  180 :  0.3306091\n",
      "Cost(init_params)    :  0.6734530\n",
      "Cost after step   20 :  0.4866812\n",
      "Cost after step   40 :  0.4273641\n",
      "Cost after step   60 :  0.3956455\n",
      "Cost after step   80 :  0.3759385\n",
      "Cost after step  100 :  0.3538526\n",
      "Cost after step  120 :  0.3367368\n",
      "Cost after step  140 :  0.3288107\n",
      "Cost after step  160 :  0.3265120\n",
      "Cost after step  180 :  0.3261431\n",
      "Cost(init_params)    :  0.6742813\n",
      "Cost after step   20 :  0.4862970\n",
      "Cost after step   40 :  0.4268985\n",
      "Cost after step   60 :  0.3963041\n",
      "Cost after step   80 :  0.3808940\n",
      "Cost after step  100 :  0.3608228\n",
      "Cost after step  120 :  0.3399418\n",
      "Cost after step  140 :  0.3285429\n",
      "Cost after step  160 :  0.3245245\n",
      "Cost after step  180 :  0.3237118\n",
      "Cost after step  200 :  0.3236382\n",
      "Cost(init_params)    :  0.6739039\n",
      "Cost after step   20 :  0.4866046\n",
      "Cost after step   40 :  0.4269527\n",
      "Cost after step   60 :  0.3963793\n",
      "Cost after step   80 :  0.3817566\n",
      "Cost after step  100 :  0.3634090\n",
      "Cost after step  120 :  0.3437421\n",
      "Cost after step  140 :  0.3325934\n",
      "Cost after step  160 :  0.3284866\n",
      "Cost after step  180 :  0.3276013\n",
      "Cost after step  200 :  0.3275093\n",
      "Cost(init_params)    :  0.6704228\n",
      "Cost after step   20 :  0.4900142\n",
      "Cost after step   40 :  0.4371470\n",
      "Cost after step   60 :  0.4035719\n",
      "Cost after step   80 :  0.3783440\n",
      "Cost after step  100 :  0.3603519\n",
      "Cost after step  120 :  0.3515057\n",
      "Cost after step  140 :  0.3496110\n",
      "Cost after step  160 :  0.3494161\n",
      "Cost(init_params)    :  0.6721067\n",
      "Cost after step   20 :  0.4896789\n",
      "Cost after step   40 :  0.4326139\n",
      "Cost after step   60 :  0.4036008\n",
      "Cost after step   80 :  0.3903446\n",
      "Cost after step  100 :  0.3737246\n",
      "Cost after step  120 :  0.3534066\n",
      "Cost after step  140 :  0.3410546\n",
      "Cost after step  160 :  0.3361408\n",
      "Cost after step  180 :  0.3349835\n",
      "Cost after step  200 :  0.3348457\n",
      "Cost(init_params)    :  0.6722116\n",
      "Cost after step   20 :  0.4883088\n",
      "Cost after step   40 :  0.4316909\n",
      "Cost after step   60 :  0.4030275\n",
      "Cost after step   80 :  0.3898533\n",
      "Cost after step  100 :  0.3733183\n",
      "Cost after step  120 :  0.3526964\n",
      "Cost after step  140 :  0.3401244\n",
      "Cost after step  160 :  0.3350947\n",
      "Cost after step  180 :  0.3339015\n",
      "Cost after step  200 :  0.3337585\n",
      "Cost(init_params)    :  0.6716209\n",
      "Cost after step   20 :  0.4880011\n",
      "Cost after step   40 :  0.4317393\n",
      "Cost after step   60 :  0.4033552\n",
      "Cost after step   80 :  0.3907379\n",
      "Cost after step  100 :  0.3756108\n",
      "Cost after step  120 :  0.3567972\n",
      "Cost after step  140 :  0.3452346\n",
      "Cost after step  160 :  0.3405705\n",
      "Cost after step  180 :  0.3394377\n",
      "Cost after step  200 :  0.3392940\n",
      "Cost(init_params)    :  0.6710089\n",
      "Cost after step   20 :  0.4896519\n",
      "Cost after step   40 :  0.4333246\n",
      "Cost after step   60 :  0.4050515\n",
      "Cost after step   80 :  0.3931105\n",
      "Cost after step  100 :  0.3791127\n",
      "Cost after step  120 :  0.3602237\n",
      "Cost after step  140 :  0.3477688\n",
      "Cost after step  160 :  0.3424662\n",
      "Cost after step  180 :  0.3410914\n",
      "Cost after step  200 :  0.3408958\n",
      "Cost(init_params)    :  0.6703440\n",
      "Cost after step   20 :  0.4875818\n",
      "Cost after step   40 :  0.4331004\n",
      "Cost after step   60 :  0.4058632\n",
      "Cost after step   80 :  0.3954999\n",
      "Cost after step  100 :  0.3844653\n",
      "Cost after step  120 :  0.3643800\n",
      "Cost after step  140 :  0.3483372\n",
      "Cost after step  160 :  0.3411833\n",
      "Cost after step  180 :  0.3392155\n",
      "Cost after step  200 :  0.3389278\n",
      "Cost(init_params)    :  0.6729174\n",
      "Cost after step   20 :  0.4907076\n",
      "Cost after step   40 :  0.4371731\n",
      "Cost after step   60 :  0.4082708\n",
      "Cost after step   80 :  0.3876400\n",
      "Cost after step  100 :  0.3656543\n",
      "Cost after step  120 :  0.3503635\n",
      "Cost after step  140 :  0.3441868\n",
      "Cost after step  160 :  0.3426713\n",
      "Cost after step  180 :  0.3424872\n",
      "Cost(init_params)    :  0.6717936\n",
      "Cost after step   20 :  0.4926202\n",
      "Cost after step   40 :  0.4366900\n",
      "Cost after step   60 :  0.4085578\n",
      "Cost after step   80 :  0.3955405\n",
      "Cost after step  100 :  0.3796259\n",
      "Cost after step  120 :  0.3608875\n",
      "Cost after step  140 :  0.3494552\n",
      "Cost after step  160 :  0.3448146\n",
      "Cost after step  180 :  0.3436674\n",
      "Cost after step  200 :  0.3435153\n",
      "Cost(init_params)    :  0.6718740\n",
      "Cost after step   20 :  0.4912952\n",
      "Cost after step   40 :  0.4357387\n",
      "Cost after step   60 :  0.4080789\n",
      "Cost after step   80 :  0.3961241\n",
      "Cost after step  100 :  0.3817014\n",
      "Cost after step  120 :  0.3620925\n",
      "Cost after step  140 :  0.3491554\n",
      "Cost after step  160 :  0.3436121\n",
      "Cost after step  180 :  0.3421584\n",
      "Cost after step  200 :  0.3419481\n",
      "Cost(init_params)    :  0.6720936\n",
      "Cost after step   20 :  0.4904607\n",
      "Cost after step   40 :  0.4347309\n",
      "Cost after step   60 :  0.4069843\n",
      "Cost after step   80 :  0.3949342\n",
      "Cost after step  100 :  0.3802810\n",
      "Cost after step  120 :  0.3602206\n",
      "Cost after step  140 :  0.3470076\n",
      "Cost after step  160 :  0.3413464\n",
      "Cost after step  180 :  0.3398675\n",
      "Cost after step  200 :  0.3396570\n",
      "Cost(init_params)    :  0.6722579\n",
      "Cost after step   20 :  0.4896662\n",
      "Cost after step   40 :  0.4337230\n",
      "Cost after step   60 :  0.4057061\n",
      "Cost after step   80 :  0.3931689\n",
      "Cost after step  100 :  0.3774194\n",
      "Cost after step  120 :  0.3568225\n",
      "Cost after step  140 :  0.3438193\n",
      "Cost after step  160 :  0.3384926\n",
      "Cost after step  180 :  0.3371861\n",
      "Cost after step  200 :  0.3370200\n",
      "Cost(init_params)    :  0.6720338\n",
      "Cost after step   20 :  0.4904294\n",
      "Cost after step   40 :  0.4361165\n",
      "Cost after step   60 :  0.4089008\n",
      "Cost after step   80 :  0.3972126\n",
      "Cost after step  100 :  0.3829218\n",
      "Cost after step  120 :  0.3628067\n",
      "Cost after step  140 :  0.3497950\n",
      "Cost after step  160 :  0.3445420\n",
      "Cost after step  180 :  0.3432888\n",
      "Cost after step  200 :  0.3431400\n",
      "Cost(init_params)    :  0.6725262\n",
      "Cost after step   20 :  0.4922472\n",
      "Cost after step   40 :  0.4370488\n",
      "Cost after step   60 :  0.4091554\n",
      "Cost after step   80 :  0.3964281\n",
      "Cost after step  100 :  0.3807033\n",
      "Cost after step  120 :  0.3611816\n",
      "Cost after step  140 :  0.3492523\n",
      "Cost after step  160 :  0.3444817\n",
      "Cost after step  180 :  0.3433420\n",
      "Cost after step  200 :  0.3432039\n",
      "Cost(init_params)    :  0.6733662\n",
      "Cost after step   20 :  0.4919282\n",
      "Cost after step   40 :  0.4360525\n",
      "Cost after step   60 :  0.4072402\n",
      "Cost after step   80 :  0.3915653\n",
      "Cost after step  100 :  0.3724237\n",
      "Cost after step  120 :  0.3542102\n",
      "Cost after step  140 :  0.3448479\n",
      "Cost after step  160 :  0.3416829\n",
      "Cost after step  180 :  0.3410676\n",
      "Cost after step  200 :  0.3410162\n",
      "Cost(init_params)    :  0.6735703\n",
      "Cost after step   20 :  0.4925719\n",
      "Cost after step   40 :  0.4359382\n",
      "Cost after step   60 :  0.4072722\n",
      "Cost after step   80 :  0.3931248\n",
      "Cost after step  100 :  0.3751834\n",
      "Cost after step  120 :  0.3555747\n",
      "Cost after step  140 :  0.3443496\n",
      "Cost after step  160 :  0.3401090\n",
      "Cost after step  180 :  0.3391588\n",
      "Cost after step  200 :  0.3390537\n",
      "Cost(init_params)    :  0.6741356\n",
      "Cost after step   20 :  0.4924127\n",
      "Cost after step   40 :  0.4352836\n",
      "Cost after step   60 :  0.4065728\n",
      "Cost after step   80 :  0.3928318\n",
      "Cost after step  100 :  0.3753540\n",
      "Cost after step  120 :  0.3552381\n",
      "Cost after step  140 :  0.3432860\n",
      "Cost after step  160 :  0.3386096\n",
      "Cost after step  180 :  0.3375149\n",
      "Cost after step  200 :  0.3373836\n",
      "Cost(init_params)    :  0.6750194\n",
      "Cost after step   20 :  0.4934866\n",
      "Cost after step   40 :  0.4353599\n",
      "Cost after step   60 :  0.4060706\n",
      "Cost after step   80 :  0.3912992\n",
      "Cost after step  100 :  0.3729422\n",
      "Cost after step  120 :  0.3539237\n",
      "Cost after step  140 :  0.3431192\n",
      "Cost after step  160 :  0.3390513\n",
      "Cost after step  180 :  0.3381295\n",
      "Cost after step  200 :  0.3380216\n",
      "Cost(init_params)    :  0.6737484\n",
      "Cost after step   20 :  0.4918410\n",
      "Cost after step   40 :  0.4380250\n",
      "Cost after step   60 :  0.4095437\n",
      "Cost after step   80 :  0.3899011\n",
      "Cost after step  100 :  0.3661622\n",
      "Cost after step  120 :  0.3481065\n",
      "Cost after step  140 :  0.3400778\n",
      "Cost after step  160 :  0.3378644\n",
      "Cost after step  180 :  0.3375427\n",
      "Cost(init_params)    :  0.6730045\n",
      "Cost after step   20 :  0.4918551\n",
      "Cost after step   40 :  0.4354580\n",
      "Cost after step   60 :  0.4074644\n",
      "Cost after step   80 :  0.3947208\n",
      "Cost after step  100 :  0.3786107\n",
      "Cost after step  120 :  0.3577820\n",
      "Cost after step  140 :  0.3447258\n",
      "Cost after step  160 :  0.3393615\n",
      "Cost after step  180 :  0.3380445\n",
      "Cost after step  200 :  0.3378774\n",
      "Cost(init_params)    :  0.6727458\n",
      "Cost after step   20 :  0.4907756\n",
      "Cost after step   40 :  0.4348214\n",
      "Cost after step   60 :  0.4072490\n",
      "Cost after step   80 :  0.3956259\n",
      "Cost after step  100 :  0.3814857\n",
      "Cost after step  120 :  0.3598547\n",
      "Cost after step  140 :  0.3448591\n",
      "Cost after step  160 :  0.3383183\n",
      "Cost after step  180 :  0.3365978\n",
      "Cost after step  200 :  0.3363563\n",
      "Cost(init_params)    :  0.6736365\n",
      "Cost after step   20 :  0.4925191\n",
      "Cost after step   40 :  0.4392771\n",
      "Cost after step   60 :  0.4107065\n",
      "Cost after step   80 :  0.3894809\n",
      "Cost after step  100 :  0.3648308\n",
      "Cost after step  120 :  0.3474670\n",
      "Cost after step  140 :  0.3402571\n",
      "Cost after step  160 :  0.3384641\n",
      "Cost after step  180 :  0.3382464\n",
      "Cost(init_params)    :  0.6739527\n",
      "Cost after step   20 :  0.4914196\n",
      "Cost after step   40 :  0.4344821\n",
      "Cost after step   60 :  0.4064051\n",
      "Cost after step   80 :  0.3938895\n",
      "Cost after step  100 :  0.3777877\n",
      "Cost after step  120 :  0.3553370\n",
      "Cost after step  140 :  0.3406239\n",
      "Cost after step  160 :  0.3343924\n",
      "Cost after step  180 :  0.3328160\n",
      "Cost after step  200 :  0.3326071\n",
      "Cost(init_params)    :  0.6745015\n",
      "Cost after step   20 :  0.4908124\n",
      "Cost after step   40 :  0.4338188\n",
      "Cost after step   60 :  0.4054681\n",
      "Cost after step   80 :  0.3914135\n",
      "Cost after step  100 :  0.3724579\n",
      "Cost after step  120 :  0.3503591\n",
      "Cost after step  140 :  0.3374934\n",
      "Cost after step  160 :  0.3325695\n",
      "Cost after step  180 :  0.3314672\n",
      "Cost after step  200 :  0.3313480\n",
      "Cost(init_params)    :  0.6745385\n",
      "Cost after step   20 :  0.4904463\n",
      "Cost after step   40 :  0.4333312\n",
      "Cost after step   60 :  0.4049431\n",
      "Cost after step   80 :  0.3906216\n",
      "Cost after step  100 :  0.3708613\n",
      "Cost after step  120 :  0.3481594\n",
      "Cost after step  140 :  0.3351046\n",
      "Cost after step  160 :  0.3301940\n",
      "Cost after step  180 :  0.3291217\n",
      "Cost after step  200 :  0.3290110\n",
      "Cost(init_params)    :  0.6748065\n",
      "Cost after step   20 :  0.4906207\n",
      "Cost after step   40 :  0.4333764\n",
      "Cost after step   60 :  0.4049859\n",
      "Cost after step   80 :  0.3910283\n",
      "Cost after step  100 :  0.3718884\n",
      "Cost after step  120 :  0.3491641\n",
      "Cost after step  140 :  0.3358152\n",
      "Cost after step  160 :  0.3306940\n",
      "Cost after step  180 :  0.3295476\n",
      "Cost after step  200 :  0.3294238\n"
     ]
    }
   ],
   "source": [
    "X, y = load_iris().data, load_iris().target\n",
    "X = 0.2 * np.pi * affine_preprocessing(X)\n",
    "\n",
    "\n",
    "size_list = list(range(3, 120+3, 3))\n",
    "accuracy_list = []\n",
    "for size in size_list:\n",
    "    X_train, X_test, y_train, y_test = train_test_split(X, y, \n",
    "                                                    test_size=(150-size)/150,\n",
    "                                                    stratify=y,\n",
    "                                                    random_state=2)\n",
    "\n",
    "    num_measuring_qubits, num_povm = 2, 3\n",
    "    clf = POVMbasedCLF(num_measuring_qubits, num_povm)\n",
    "    clf.fit(X_train, y_train)\n",
    "\n",
    "    outcome = clf.predict(X_test)\n",
    "    accuracy_list.append(np.count_nonzero(y_test == outcome)/len(y_test))\n",
    "\n",
    "np.save('2qpovm_accuracy.npy', accuracy_list)"
   ]
  },
  {
   "cell_type": "code",
   "execution_count": 8,
   "metadata": {},
   "outputs": [
    {
     "data": {
      "text/plain": [
       "[<matplotlib.lines.Line2D at 0x28aea89a0>]"
      ]
     },
     "execution_count": 8,
     "metadata": {},
     "output_type": "execute_result"
    },
    {
     "data": {
      "image/png": "[encoded data removed]",
      "text/plain": [
       "<Figure size 432x288 with 1 Axes>"
      ]
     },
     "metadata": {
      "needs_background": "light"
     },
     "output_type": "display_data"
    }
   ],
   "source": [
    "plt.plot(size_list, accuracy_list, 'x')"
   ]
  },
  {
   "cell_type": "markdown",
   "metadata": {},
   "source": [
    "#### 5-fold Cross Validation"
   ]
  },
  {
   "cell_type": "code",
   "execution_count": 9,
   "metadata": {},
   "outputs": [],
   "source": [
    "X, y = load_iris().data, load_iris().target\n",
    "X = 0.2 * np.pi * affine_preprocessing(X)\n",
    "\n",
    "cv = StratifiedKFold(n_splits=5)"
   ]
  },
  {
   "cell_type": "code",
   "execution_count": 10,
   "metadata": {},
   "outputs": [],
   "source": [
    "num_measuring_qubits = 2\n",
    "num_povm = 3\n",
    "\n",
    "clf = POVMbasedCLF(num_measuring_qubits, num_povm)"
   ]
  },
  {
   "cell_type": "code",
   "execution_count": 11,
   "metadata": {},
   "outputs": [
    {
     "name": "stdout",
     "output_type": "stream",
     "text": [
      "Cost(init_params)    :  0.6767433\n",
      "Cost after step   20 :  0.4924288\n",
      "Cost after step   40 :  0.4354683\n",
      "Cost after step   60 :  0.4064368\n",
      "Cost after step   80 :  0.3875102\n",
      "Cost after step  100 :  0.3620039\n",
      "Cost after step  120 :  0.3401673\n",
      "Cost after step  140 :  0.3292411\n",
      "Cost after step  160 :  0.3257984\n",
      "Cost after step  180 :  0.3251876\n",
      "Cost after step  200 :  0.3251427\n",
      "Quantum Encoding Type: gaussian\n",
      "Training size: 120 | Success: 113\n",
      "Test size: 30 | Success: 25 | Ratio: 0.8333333333333334\n",
      "Cost(init_params)    :  0.3249045\n",
      "Quantum Encoding Type: gaussian\n",
      "Training size: 120 | Success: 109\n",
      "Test size: 30 | Success: 29 | Ratio: 0.9666666666666667\n",
      "Cost(init_params)    :  0.3251615\n",
      "Quantum Encoding Type: gaussian\n",
      "Training size: 120 | Success: 110\n",
      "Test size: 30 | Success: 28 | Ratio: 0.9333333333333333\n",
      "Cost(init_params)    :  0.3271541\n",
      "Quantum Encoding Type: gaussian\n",
      "Training size: 120 | Success: 112\n",
      "Test size: 30 | Success: 26 | Ratio: 0.8666666666666667\n",
      "Cost(init_params)    :  0.3314654\n",
      "Quantum Encoding Type: gaussian\n",
      "Training size: 120 | Success: 107\n",
      "Test size: 30 | Success: 30 | Ratio: 1.0\n"
     ]
    }
   ],
   "source": [
    "probs_preds = []\n",
    "label_preds = []\n",
    "label_ys = []\n",
    "accuracy_list = []\n",
    "\n",
    "for i, (train_index,test_index) in enumerate(cv.split(X, y)):\n",
    "    #print(i, test_index)\n",
    "    clf.fit(X[train_index], y[train_index])\n",
    "\n",
    "    # y labels\n",
    "    label_ys.append(y[test_index])\n",
    "\n",
    "    # Predictive labels\n",
    "    label_pred = clf.predict(X[test_index])\n",
    "    label_preds.append(label_pred)\n",
    "\n",
    "    # Prediction Probabilities\n",
    "    probs_preds.append(clf.probs_predict[:,:num_povm])\n",
    "\n",
    "    \n",
    "\n",
    "    # Displaying Results \n",
    "    qdata = QuantumEmbedding([0,1])\n",
    "    print('Quantum Encoding Type:', qdata.enc_type)\n",
    "    if qdata.enc_type == 'qfeat':\n",
    "        print('Layer:', qdata.layer, '| feat_type:', qdata.feat_type)\n",
    "\n",
    "    print('Training size:', len(y[train_index]), \n",
    "            '| Success:', np.count_nonzero(y[train_index] == clf.predict(X[train_index])))\n",
    "\n",
    "    accuracy = np.count_nonzero(y[test_index] == label_pred)/len(y[test_index])\n",
    "    accuracy_list.append(accuracy)\n",
    "    print('Test size:', len(y[test_index]), \n",
    "            '| Success:', np.count_nonzero(y[test_index] == label_pred), \n",
    "            '| Ratio:', accuracy)"
   ]
  },
  {
   "cell_type": "code",
   "execution_count": 12,
   "metadata": {},
   "outputs": [
    {
     "data": {
      "text/plain": [
       "(0.9199999999999999, 0.06182412330330468)"
      ]
     },
     "execution_count": 12,
     "metadata": {},
     "output_type": "execute_result"
    }
   ],
   "source": [
    "np.mean(accuracy_list), np.std(accuracy_list)"
   ]
  },
  {
   "cell_type": "code",
   "execution_count": null,
   "metadata": {},
   "outputs": [],
   "source": [
    "np.save('label_ys', label_ys)\n",
    "np.save('probs_preds', probs_preds)"
   ]
  },
  {
   "cell_type": "markdown",
   "metadata": {},
   "source": [
    "[Mean ROC Curves](https://scikit-learn.org/stable/auto_examples/model_selection/plot_roc_crossval.html#sphx-glr-auto-examples-model-selection-plot-roc-crossval-py)"
   ]
  },
  {
   "cell_type": "code",
   "execution_count": 2,
   "metadata": {},
   "outputs": [],
   "source": [
    "label_ys = np.load('label_ys.npy')\n",
    "probs_preds= np.load('probs_preds.npy')"
   ]
  },
  {
   "cell_type": "code",
   "execution_count": 3,
   "metadata": {},
   "outputs": [
    {
     "data": {
      "image/png": "[encoded data removed]",
      "text/plain": [
       "<Figure size 576x576 with 1 Axes>"
      ]
     },
     "metadata": {
      "needs_background": "light"
     },
     "output_type": "display_data"
    }
   ],
   "source": [
    "plot_mean_ROC_curve(label_ys, probs_preds, 3, 5)"
   ]
  },
  {
   "cell_type": "code",
   "execution_count": null,
   "metadata": {},
   "outputs": [],
   "source": []
  }
 ],
 "metadata": {
  "interpreter": {
   "hash": "1923b8b6bed7754dab0e0510a44e064234e668f10f6ed5fe96633ed24dba4d11"
  },
  "kernelspec": {
   "display_name": "Python 3.9.10 ('quant_circ')",
   "language": "python",
   "name": "python3"
  },
  "language_info": {
   "codemirror_mode": {
    "name": "ipython",
    "version": 3
   },
   "file_extension": ".py",
   "mimetype": "text/x-python",
   "name": "python",
   "nbconvert_exporter": "python",
   "pygments_lexer": "ipython3",
   "version": "3.9.10 | packaged by conda-forge | (main, Feb  1 2022, 21:27:43) \n[Clang 11.1.0 ]"
  },
  "orig_nbformat": 4
 },
 "nbformat": 4,
 "nbformat_minor": 2
}

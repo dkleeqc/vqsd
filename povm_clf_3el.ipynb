{
 "cells": [
  {
   "cell_type": "markdown",
   "metadata": {},
   "source": [
    "# <center> POVM as a quantum version of the classifier </center>"
   ]
  },
  {
   "cell_type": "code",
   "execution_count": 41,
   "metadata": {},
   "outputs": [],
   "source": [
    "import pennylane as qml\n",
    "from pennylane import numpy as np\n",
    "\n",
    "from sympy import * \n",
    "from sympy.physics.quantum.circuitplot import CircuitPlot,labeller,Mz,CreateOneQubitGate\n",
    "from sympy.physics.quantum.gate import *\n",
    "from sympy.physics.quantum.qasm import Qasm"
   ]
  },
  {
   "cell_type": "code",
   "execution_count": 42,
   "metadata": {},
   "outputs": [],
   "source": [
    "dev = qml.device('default.qubit', wires=2)\n",
    "dev = qml.device('default.qubit', wires=3)\n",
    "#dev = qml.device('qiskit.aer', wires=2)\n",
    "#dev = qml.device('qiskit.ibmq', wires=2, shots=8192, ibmqx_token=\"e942e97ce86ca8c3609a4053fe6762ec3db17c41895b2d85d6a3560a1156501d57db36753f99138ecb32dca58a97ae5b38005ad39855dd92ab0e86cef852c1a2\")"
   ]
  },
  {
   "cell_type": "markdown",
   "metadata": {},
   "source": [
    "---\n",
    "## Two-element POVM Module."
   ]
  },
  {
   "cell_type": "code",
   "execution_count": 43,
   "metadata": {},
   "outputs": [
    {
     "data": {
      "text/plain": [
       "<sympy.physics.quantum.circuitplot.CircuitPlot at 0x7febac218430>"
      ]
     },
     "execution_count": 43,
     "metadata": {},
     "output_type": "execute_result"
    },
    {
     "data": {
      "image/png": "[encoded data removed]",
      "text/plain": [
       "<Figure size 576x144 with 1 Axes>"
      ]
     },
     "metadata": {},
     "output_type": "display_data"
    }
   ],
   "source": [
    "Ry1 = CreateOneQubitGate('Ry1', r'R_y(\\theta_1)')\n",
    "Ry2 = CreateOneQubitGate('Ry2', r'R_y(\\theta_2)')\n",
    "V1 = CreateOneQubitGate('V1', r'V_1')\n",
    "V2 = CreateOneQubitGate('V2', r'V_2')\n",
    "\n",
    "CircuitPlot(CGate(0,V2(1))*X(0)*CGate(0,V1(1))*X(0)*CGate(1,Ry2(0))*X(1)*CGate(1,Ry1(0))*X(1),2)"
   ]
  },
  {
   "cell_type": "code",
   "execution_count": 44,
   "metadata": {},
   "outputs": [],
   "source": [
    "def two_element_povm(params, wires):\n",
    "    #params \n",
    "\n",
    "    # Controlled-RY gate controlled by first qubit in |0> state\n",
    "    qml.PauliX(wires=wires[0])\n",
    "    qml.CRY(params[0], wires=[wires[0],wires[1]])\n",
    "    qml.PauliX(wires=wires[0])\n",
    "    \n",
    "    # Controlled-RY gate controlled by first qubit in |1> state\n",
    "    qml.CRY(params[1], wires=[wires[0],wires[1]])\n",
    "    \n",
    "    # Controlled-Rotation gate (arbitrary single-qubit unitary operator) controlled by 2nd qubit in |0> state\n",
    "    qml.PauliX(wires=wires[1])\n",
    "    qml.CRot(params[2], params[3], params[4], wires=[wires[1],wires[0]])\n",
    "    qml.PauliX(wires=wires[1])\n",
    "\n",
    "    # # Controlled-Rotation gate (arbitrary single-qubit unitary operator) controlled by 2nd qubit in |1> state\n",
    "    qml.CRot(params[5], params[6], params[7], wires=[wires[1],wires[0]])"
   ]
  },
  {
   "cell_type": "markdown",
   "metadata": {},
   "source": [
    "#### Test and Drawing `two_element_povm` module"
   ]
  },
  {
   "cell_type": "code",
   "execution_count": 45,
   "metadata": {},
   "outputs": [
    {
     "name": "stdout",
     "output_type": "stream",
     "text": [
      "Drawing a two-element POVM circuit : \n",
      " 0: ──X──╭C───────────X──╭C─────────────╭Rot(0.0653, 0.428, 0.0965)─────╭Rot(0.127, 0.597, 0.226)──╭┤ ⟨I ⊗ Z⟩ \n",
      " 1: ─────╰RY(0.0796)─────╰RY(0.505)──X──╰C───────────────────────────X──╰C─────────────────────────╰┤ ⟨I ⊗ Z⟩ \n",
      "\n"
     ]
    }
   ],
   "source": [
    "@qml.qnode(dev)\n",
    "def povm_circuit(params):\n",
    "    two_element_povm(params, wires=[0, 1])\n",
    "    return qml.expval(qml.Identity(0) @ qml.PauliZ(1))\n",
    "\n",
    "# initial parameters\n",
    "params = np.random.random([8])\n",
    "povm_circuit(params)\n",
    "\n",
    "print(\"Drawing a two-element POVM circuit : \")\n",
    "print(povm_circuit.draw())"
   ]
  },
  {
   "cell_type": "code",
   "execution_count": 46,
   "metadata": {},
   "outputs": [
    {
     "data": {
      "text/plain": [
       "<QNode: wires=3, device='default.qubit.autograd', interface='autograd', diff_method='backprop'>"
      ]
     },
     "execution_count": 46,
     "metadata": {},
     "output_type": "execute_result"
    }
   ],
   "source": [
    "povm_circuit"
   ]
  },
  {
   "cell_type": "markdown",
   "metadata": {},
   "source": [
    "---\n",
    "## Three-element POVM Module."
   ]
  },
  {
   "cell_type": "code",
   "execution_count": 47,
   "metadata": {},
   "outputs": [
    {
     "data": {
      "text/plain": [
       "<sympy.physics.quantum.circuitplot.CircuitPlot at 0x7febab0614f0>"
      ]
     },
     "execution_count": 47,
     "metadata": {},
     "output_type": "execute_result"
    },
    {
     "data": {
      "image/png": "[encoded data removed]",
      "text/plain": [
       "<Figure size 360x216 with 1 Axes>"
      ]
     },
     "metadata": {},
     "output_type": "display_data"
    }
   ],
   "source": [
    "V = CreateOneQubitGate('V', r'V')\n",
    "Vdg = CreateOneQubitGate('Vdg', r'V^\\dagger')\n",
    "CircuitPlot(CGate(2,V(0))*CNOT(2,1)*CGate((1),Vdg(0))*CNOT(2,1)*CGate((1),V(0)),3)"
   ]
  },
  {
   "cell_type": "markdown",
   "metadata": {},
   "source": [
    "### Doubly controlled $\\hat{R}_y(\\theta)$"
   ]
  },
  {
   "cell_type": "code",
   "execution_count": 48,
   "metadata": {},
   "outputs": [],
   "source": [
    "def CCRY(phi, wires):\n",
    "    phi = phi/2\n",
    "    qml.CRY(phi, wires=[wires[1], wires[2]])\n",
    "    qml.CNOT(wires=[wires[0], wires[1]])\n",
    "    qml.CRY((-1)*phi, wires=[wires[1], wires[2]])\n",
    "    qml.CNOT(wires=[wires[0], wires[1]])\n",
    "    qml.CRY(phi, wires=[wires[0], wires[2]])"
   ]
  },
  {
   "cell_type": "code",
   "execution_count": 49,
   "metadata": {},
   "outputs": [
    {
     "name": "stdout",
     "output_type": "stream",
     "text": [
      "Drawing a CCRY circuit : \n",
      " 0: ───────────────╭C────────────────╭C──╭C───────────╭┤ ⟨I ⊗ Z ⊗ Z⟩ \n",
      " 1: ──╭C───────────╰X──╭C────────────╰X──│────────────├┤ ⟨I ⊗ Z ⊗ Z⟩ \n",
      " 2: ──╰RY(0.0535)──────╰RY(-0.0535)──────╰RY(0.0535)──╰┤ ⟨I ⊗ Z ⊗ Z⟩ \n",
      "\n"
     ]
    }
   ],
   "source": [
    "@qml.qnode(dev)\n",
    "def ccry_circuit(params):\n",
    "    CCRY(params[0], wires=[0, 1, 2])\n",
    "    return qml.expval(qml.Identity(0) @ qml.PauliZ(1) @ qml.PauliZ(2))\n",
    "\n",
    "# initial parameters\n",
    "params = np.random.random([1])\n",
    "ccry_circuit(params)\n",
    "\n",
    "print(\"Drawing a CCRY circuit : \")\n",
    "print(ccry_circuit.draw())"
   ]
  },
  {
   "cell_type": "markdown",
   "metadata": {},
   "source": [
    "CCRY 만들면서 params가 2배된다."
   ]
  },
  {
   "cell_type": "code",
   "execution_count": 50,
   "metadata": {},
   "outputs": [
    {
     "data": {
      "text/plain": [
       "tensor([0.+0.j, 0.+0.j, 0.+0.j, 0.+0.j, 0.+0.j, 0.+0.j, 0.+0.j, 1.+0.j], requires_grad=True)"
      ]
     },
     "execution_count": 50,
     "metadata": {},
     "output_type": "execute_result"
    }
   ],
   "source": [
    "@qml.qnode(dev)\n",
    "def ccry_circuit(params):\n",
    "    qml.PauliX(wires=0)\n",
    "    qml.PauliX(wires=1)\n",
    "    #qml.PauliX(wires=2)\n",
    "    CCRY(params, wires=[0, 1, 2])\n",
    "    return qml.state()\n",
    "ccry_circuit(np.pi)"
   ]
  },
  {
   "cell_type": "code",
   "execution_count": 51,
   "metadata": {},
   "outputs": [
    {
     "data": {
      "text/plain": [
       "tensor([0.00000000e+00+0.j, 0.00000000e+00+0.j, 0.00000000e+00+0.j,\n",
       "        0.00000000e+00+0.j, 2.22044605e-16+0.j, 0.00000000e+00+0.j,\n",
       "        1.00000000e+00+0.j, 0.00000000e+00+0.j], requires_grad=True)"
      ]
     },
     "execution_count": 51,
     "metadata": {},
     "output_type": "execute_result"
    }
   ],
   "source": [
    "@qml.qnode(dev)\n",
    "def cry_circuit(params):\n",
    "    qml.PauliX(wires=0)\n",
    "    qml.CRY(params, wires=[0, 1])\n",
    "    return qml.state()\n",
    "cry_circuit(np.pi)"
   ]
  },
  {
   "cell_type": "markdown",
   "metadata": {},
   "source": [
    "### Doubly controlled Rotation $\\hat{V}(\\phi, \\theta, \\omega)$"
   ]
  },
  {
   "cell_type": "markdown",
   "metadata": {},
   "source": [
    "$U(\\phi,\\theta,\\omega)^\\dagger = U(-\\omega,-\\theta,-\\gamma)$"
   ]
  },
  {
   "cell_type": "code",
   "execution_count": 52,
   "metadata": {},
   "outputs": [],
   "source": [
    "def CCRot(phi, theta, omega, wires):\n",
    "    phi, theta, omega = phi/2, theta/2, omega/2\n",
    "    qml.CRot(phi, theta, omega, wires=[wires[1], wires[2]])\n",
    "    qml.CNOT(wires=[wires[0], wires[1]])\n",
    "    qml.CRot((-1)*omega, (-1)*theta, (-1)*phi, wires=[wires[1], wires[2]])\n",
    "    qml.CNOT(wires=[wires[0], wires[1]])\n",
    "    qml.CRot(phi, theta, omega, wires=[wires[0], wires[2]])"
   ]
  },
  {
   "cell_type": "code",
   "execution_count": 53,
   "metadata": {},
   "outputs": [
    {
     "name": "stdout",
     "output_type": "stream",
     "text": [
      "Drawing a CCRY circuit : \n",
      " 0: ────────────────────────────╭C───────────────────────────────╭C──╭C────────────────────────╭┤ ⟨I ⊗ Z ⊗ Z⟩ \n",
      " 1: ──╭C────────────────────────╰X──╭C───────────────────────────╰X──│─────────────────────────├┤ ⟨I ⊗ Z ⊗ Z⟩ \n",
      " 2: ──╰Rot(0.11, 0.175, 0.234)──────╰Rot(-0.234, -0.175, -0.11)──────╰Rot(0.11, 0.175, 0.234)──╰┤ ⟨I ⊗ Z ⊗ Z⟩ \n",
      "\n"
     ]
    }
   ],
   "source": [
    "@qml.qnode(dev)\n",
    "def ccrot_circuit(params):\n",
    "    CCRot(params[0], params[1], params[2], wires=[0, 1, 2])\n",
    "    return qml.expval(qml.Identity(0) @ qml.PauliZ(1) @ qml.PauliZ(2))\n",
    "\n",
    "# initial parameters\n",
    "params = np.random.random([3])\n",
    "ccrot_circuit(params)\n",
    "\n",
    "print(\"Drawing a CCRY circuit : \")\n",
    "print(ccrot_circuit.draw())"
   ]
  },
  {
   "cell_type": "markdown",
   "metadata": {},
   "source": [
    "### Three-element POVM "
   ]
  },
  {
   "cell_type": "code",
   "execution_count": 54,
   "metadata": {},
   "outputs": [
    {
     "data": {
      "text/plain": [
       "<sympy.physics.quantum.circuitplot.CircuitPlot at 0x7febac3e6ac0>"
      ]
     },
     "execution_count": 54,
     "metadata": {},
     "output_type": "execute_result"
    },
    {
     "data": {
      "image/png": "[encoded data removed]",
      "text/plain": [
       "<Figure size 1152x216 with 1 Axes>"
      ]
     },
     "metadata": {},
     "output_type": "display_data"
    }
   ],
   "source": [
    "Ry11 = CreateOneQubitGate('Ry1', r'R_y(\\theta^{(1)}_1)')\n",
    "Ry12 = CreateOneQubitGate('Ry2', r'R_y(\\theta^{(1)}_2)')\n",
    "V11 = CreateOneQubitGate('V1', r'V^{(1)}_1')\n",
    "V12 = CreateOneQubitGate('V2', r'V^{(1)}_2')\n",
    "Ry21 = CreateOneQubitGate('Ry1', r'R_y(\\theta^{(2)}_1)')\n",
    "Ry22 = CreateOneQubitGate('Ry2', r'R_y(\\theta^{(2)}_2)')\n",
    "V21 = CreateOneQubitGate('V1', r'V^{(2)}_1')\n",
    "V22 = CreateOneQubitGate('V2', r'V^{(2)}_2')\n",
    "\n",
    "\n",
    "\n",
    "CircuitPlot(CGate((0,1),V22(2))*X(0)*CGate((0,1),V21(2))*X(0)*CGate((1,2),Ry22(0))*X(2)*CGate((1,2),Ry21(0))*X(2)*CGate(1,V12(2))*X(1)*CGate(1,V11(2))*X(1)*CGate(2,Ry12(1))*X(2)*CGate(2,Ry11(1))*X(2),3)"
   ]
  },
  {
   "cell_type": "code",
   "execution_count": 55,
   "metadata": {},
   "outputs": [],
   "source": [
    "def three_element_povm(params, wires): \n",
    "\n",
    "    two_element_povm(params[:8], wires=[wires[0], wires[1]])\n",
    "    \n",
    "    qml.PauliX(wires=wires[0])\n",
    "    CCRY(params[8], wires=[wires[0], wires[1], wires[2]])\n",
    "    qml.PauliX(wires=wires[0])\n",
    "    CCRY(params[9], wires=[wires[0], wires[1], wires[2]])\n",
    "\n",
    "    qml.PauliX(wires=wires[2])\n",
    "    CCRot(params[10], params[11], params[12], wires=[wires[2],wires[1],wires[0]])\n",
    "    qml.PauliX(wires=wires[2])\n",
    "    CCRot(params[13], params[14], params[15], wires=[wires[2],wires[1],wires[0]])\n",
    "    "
   ]
  },
  {
   "cell_type": "code",
   "execution_count": 56,
   "metadata": {},
   "outputs": [
    {
     "name": "stdout",
     "output_type": "stream",
     "text": [
      "Drawing a two-element POVM circuit : \n",
      " 0: ──X──╭C──────────X──╭C────────────╭Rot(0.483, 0.505, 0.387)─────╭Rot(0.794, 0.58, 0.162)───X─────────╭C──────────────╭C──╭C──────────X──────────╭C───────────────╭C──╭C──────────╭Rot(0.25, 0.445, 0.171)──────╭Rot(-0.171, -0.445, -0.25)──────╭Rot(0.25, 0.445, 0.171)──╭Rot(0.284, 0.214, 0.218)──────╭Rot(-0.218, -0.214, -0.284)──────╭Rot(0.284, 0.214, 0.218)──╭┤ ⟨I ⊗ Z ⊗ Z⟩ \n",
      " 1: ─────╰RY(0.202)─────╰RY(0.64)──X──╰C─────────────────────────X──╰C────────────────────────╭C─────────╰X──╭C──────────╰X──│──────────╭C──────────╰X──╭C───────────╰X──│───────────╰C────────────────────────╭X──╰C───────────────────────────╭X──│─────────────────────────╰C─────────────────────────╭X──╰C────────────────────────────╭X──│──────────────────────────├┤ ⟨I ⊗ Z ⊗ Z⟩ \n",
      " 2: ──────────────────────────────────────────────────────────────────────────────────────────╰RY(0.35)──────╰RY(-0.35)──────╰RY(0.35)──╰RY(0.482)──────╰RY(-0.482)──────╰RY(0.482)───X────────────────────────╰C───────────────────────────────╰C──╰C─────────────────────────X─────────────────────────╰C────────────────────────────────╰C──╰C─────────────────────────╰┤ ⟨I ⊗ Z ⊗ Z⟩ \n",
      "\n"
     ]
    }
   ],
   "source": [
    "@qml.qnode(dev)\n",
    "def povm_circuit(params):\n",
    "    three_element_povm(params, wires=[0, 1, 2])\n",
    "    return qml.expval(qml.Identity(0) @ qml.PauliZ(1) @ qml.PauliZ(2))\n",
    "\n",
    "# initial parameters\n",
    "params = np.random.random([16])\n",
    "povm_circuit(params)\n",
    "\n",
    "print(\"Drawing a two-element POVM circuit : \")\n",
    "print(povm_circuit.draw())"
   ]
  },
  {
   "cell_type": "markdown",
   "metadata": {},
   "source": [
    "---\n",
    "## Preparing arbitrary pure states in the quantum circuit"
   ]
  },
  {
   "cell_type": "code",
   "execution_count": 57,
   "metadata": {},
   "outputs": [],
   "source": [
    "#@qml.qnode(dev)\n",
    "def state_preparation(statevector, wire):\n",
    "    theta = 2 * np.arccos(statevector[0])\n",
    "    phi = np.angle(statevector[1]/np.sin(theta/2)) if not np.isclose(np.sin(theta/2), 0) else 0\n",
    "    #print(theta, phi)\n",
    "\n",
    "    qml.Rot(phi, theta, (-1)*phi, wires=wire)\n",
    "    #return qml.state()"
   ]
  },
  {
   "cell_type": "markdown",
   "metadata": {},
   "source": [
    "Examples <br>\n",
    "$n=2$ <br>\n",
    "$n=3$, $|\\psi_0\\rangle$"
   ]
  },
  {
   "cell_type": "markdown",
   "metadata": {},
   "source": [
    "---\n",
    "## Minimum Error Discrimination"
   ]
  },
  {
   "cell_type": "markdown",
   "metadata": {},
   "source": [
    "Preparation: $\\{q_i,\\hat{\\rho}_i\\}^{N}_{i=1}$ $\\longleftarrow$ $\\hat{\\rho} = \\sum_i q_i\\hat{\\rho}_i$. <br>\n",
    "\n",
    "POVMs: $\\{E_k\\}_{k=1}^{L}$ with $\\sum_{k=1}^{L} E_k = I$."
   ]
  },
  {
   "cell_type": "markdown",
   "metadata": {},
   "source": [
    "For three-element POVMs $\\{\\hat{E}_0, \\hat{E}_1, \\hat{E}_2\\}$ on three different state prepared as $\\{(q_0,\\hat{\\rho}_0), (q_1,\\hat{\\rho}_1), (q_2,\\hat{\\rho}_2)\\}$, \n",
    "$$\n",
    "p_{error} = 1 - p_{guess} = 1-\\max_{\\vec{\\theta}}\\left(q_0\\text{Tr}[\\hat{E}_0\\hat{\\rho}_0] + q_1\\text{Tr}[\\hat{E}_1\\hat{\\rho}_1] + q_2\\text{Tr}[\\hat{E}_2\\hat{\\rho}_2]\\right)\n",
    "$$"
   ]
  },
  {
   "cell_type": "markdown",
   "metadata": {},
   "source": [
    "---\n",
    "## Probabilities"
   ]
  },
  {
   "cell_type": "markdown",
   "metadata": {},
   "source": [
    "$$\n",
    "p(k) = \\langle \\psi_k|\\hat{K}^\\dagger_k\\hat{K}_k|\\psi_k\\rangle = \\text{Tr}[\\hat{E}_k\\hat{\\rho}_k]\n",
    "$$"
   ]
  },
  {
   "cell_type": "code",
   "execution_count": 58,
   "metadata": {},
   "outputs": [],
   "source": [
    "@qml.qnode(dev)\n",
    "def circuit_povm_probs(init_state, params):\n",
    "\n",
    "    # state preparation\n",
    "    state_preparation(init_state, wire=0)\n",
    "\n",
    "    # arbitrary rotation\n",
    "    qml.Rot(params[0], params[1], params[2], wires=0)\n",
    "\n",
    "    # three-element POVM\n",
    "    three_element_povm(params[3:], wires=[0, 1, 2])\n",
    "\n",
    "    #qml.CNOT(wires=[2,1])\n",
    "\n",
    "    return qml.probs(wires=[1, 2])"
   ]
  },
  {
   "cell_type": "code",
   "execution_count": 59,
   "metadata": {},
   "outputs": [
    {
     "ename": "IndexError",
     "evalue": "index 13 is out of bounds for axis 0 with size 13",
     "output_type": "error",
     "traceback": [
      "\u001b[0;31m---------------------------------------------------------------------------\u001b[0m",
      "\u001b[0;31mIndexError\u001b[0m                                Traceback (most recent call last)",
      "\u001b[0;32m/var/folders/sk/_pw8yxgn2b7d1scl0rnlhkp80000gn/T/ipykernel_54815/2538925001.py\u001b[0m in \u001b[0;36m<module>\u001b[0;34m\u001b[0m\n\u001b[1;32m      2\u001b[0m                 [1/np.sqrt(2), np.exp(-1j*2*np.pi/3)/np.sqrt(2)]]\n\u001b[1;32m      3\u001b[0m \u001b[0;34m\u001b[0m\u001b[0m\n\u001b[0;32m----> 4\u001b[0;31m \u001b[0;34m[\u001b[0m\u001b[0mcircuit_povm_probs\u001b[0m\u001b[0;34m(\u001b[0m\u001b[0mstate_vecs\u001b[0m\u001b[0;34m[\u001b[0m\u001b[0mi\u001b[0m\u001b[0;34m]\u001b[0m\u001b[0;34m,\u001b[0m \u001b[0mparams\u001b[0m\u001b[0;34m)\u001b[0m \u001b[0;32mfor\u001b[0m \u001b[0mi\u001b[0m \u001b[0;32min\u001b[0m \u001b[0mrange\u001b[0m\u001b[0;34m(\u001b[0m\u001b[0;36m3\u001b[0m\u001b[0;34m)\u001b[0m\u001b[0;34m]\u001b[0m\u001b[0;34m\u001b[0m\u001b[0;34m\u001b[0m\u001b[0m\n\u001b[0m",
      "\u001b[0;32m/var/folders/sk/_pw8yxgn2b7d1scl0rnlhkp80000gn/T/ipykernel_54815/2538925001.py\u001b[0m in \u001b[0;36m<listcomp>\u001b[0;34m(.0)\u001b[0m\n\u001b[1;32m      2\u001b[0m                 [1/np.sqrt(2), np.exp(-1j*2*np.pi/3)/np.sqrt(2)]]\n\u001b[1;32m      3\u001b[0m \u001b[0;34m\u001b[0m\u001b[0m\n\u001b[0;32m----> 4\u001b[0;31m \u001b[0;34m[\u001b[0m\u001b[0mcircuit_povm_probs\u001b[0m\u001b[0;34m(\u001b[0m\u001b[0mstate_vecs\u001b[0m\u001b[0;34m[\u001b[0m\u001b[0mi\u001b[0m\u001b[0;34m]\u001b[0m\u001b[0;34m,\u001b[0m \u001b[0mparams\u001b[0m\u001b[0;34m)\u001b[0m \u001b[0;32mfor\u001b[0m \u001b[0mi\u001b[0m \u001b[0;32min\u001b[0m \u001b[0mrange\u001b[0m\u001b[0;34m(\u001b[0m\u001b[0;36m3\u001b[0m\u001b[0;34m)\u001b[0m\u001b[0;34m]\u001b[0m\u001b[0;34m\u001b[0m\u001b[0;34m\u001b[0m\u001b[0m\n\u001b[0m",
      "\u001b[0;32m~/anaconda3/envs/quantcirc/lib/python3.8/site-packages/pennylane/qnode.py\u001b[0m in \u001b[0;36m__call__\u001b[0;34m(self, *args, **kwargs)\u001b[0m\n\u001b[1;32m    665\u001b[0m         \u001b[0;32mif\u001b[0m \u001b[0mself\u001b[0m\u001b[0;34m.\u001b[0m\u001b[0mmutable\u001b[0m \u001b[0;32mor\u001b[0m \u001b[0mself\u001b[0m\u001b[0;34m.\u001b[0m\u001b[0mqtape\u001b[0m \u001b[0;32mis\u001b[0m \u001b[0;32mNone\u001b[0m\u001b[0;34m:\u001b[0m\u001b[0;34m\u001b[0m\u001b[0;34m\u001b[0m\u001b[0m\n\u001b[1;32m    666\u001b[0m             \u001b[0;31m# construct the tape\u001b[0m\u001b[0;34m\u001b[0m\u001b[0;34m\u001b[0m\u001b[0;34m\u001b[0m\u001b[0m\n\u001b[0;32m--> 667\u001b[0;31m             \u001b[0mself\u001b[0m\u001b[0;34m.\u001b[0m\u001b[0mconstruct\u001b[0m\u001b[0;34m(\u001b[0m\u001b[0margs\u001b[0m\u001b[0;34m,\u001b[0m \u001b[0mkwargs\u001b[0m\u001b[0;34m)\u001b[0m\u001b[0;34m\u001b[0m\u001b[0;34m\u001b[0m\u001b[0m\n\u001b[0m\u001b[1;32m    668\u001b[0m \u001b[0;34m\u001b[0m\u001b[0m\n\u001b[1;32m    669\u001b[0m         \u001b[0;31m# If the observable contains a Hamiltonian and the device does not\u001b[0m\u001b[0;34m\u001b[0m\u001b[0;34m\u001b[0m\u001b[0;34m\u001b[0m\u001b[0m\n",
      "\u001b[0;32m~/anaconda3/envs/quantcirc/lib/python3.8/site-packages/pennylane/qnode.py\u001b[0m in \u001b[0;36mconstruct\u001b[0;34m(self, args, kwargs)\u001b[0m\n\u001b[1;32m    577\u001b[0m \u001b[0;34m\u001b[0m\u001b[0m\n\u001b[1;32m    578\u001b[0m         \u001b[0;32mwith\u001b[0m \u001b[0mself\u001b[0m\u001b[0;34m.\u001b[0m\u001b[0mqtape\u001b[0m\u001b[0;34m:\u001b[0m\u001b[0;34m\u001b[0m\u001b[0;34m\u001b[0m\u001b[0m\n\u001b[0;32m--> 579\u001b[0;31m             \u001b[0mself\u001b[0m\u001b[0;34m.\u001b[0m\u001b[0mqfunc_output\u001b[0m \u001b[0;34m=\u001b[0m \u001b[0mself\u001b[0m\u001b[0;34m.\u001b[0m\u001b[0mfunc\u001b[0m\u001b[0;34m(\u001b[0m\u001b[0;34m*\u001b[0m\u001b[0margs\u001b[0m\u001b[0;34m,\u001b[0m \u001b[0;34m**\u001b[0m\u001b[0mkwargs\u001b[0m\u001b[0;34m)\u001b[0m\u001b[0;34m\u001b[0m\u001b[0;34m\u001b[0m\u001b[0m\n\u001b[0m\u001b[1;32m    580\u001b[0m \u001b[0;34m\u001b[0m\u001b[0m\n\u001b[1;32m    581\u001b[0m         \u001b[0;32mif\u001b[0m \u001b[0;32mnot\u001b[0m \u001b[0misinstance\u001b[0m\u001b[0;34m(\u001b[0m\u001b[0mself\u001b[0m\u001b[0;34m.\u001b[0m\u001b[0mqfunc_output\u001b[0m\u001b[0;34m,\u001b[0m \u001b[0mSequence\u001b[0m\u001b[0;34m)\u001b[0m\u001b[0;34m:\u001b[0m\u001b[0;34m\u001b[0m\u001b[0;34m\u001b[0m\u001b[0m\n",
      "\u001b[0;32m/var/folders/sk/_pw8yxgn2b7d1scl0rnlhkp80000gn/T/ipykernel_54815/3906284067.py\u001b[0m in \u001b[0;36mcircuit_povm_probs\u001b[0;34m(init_state, params)\u001b[0m\n\u001b[1;32m      9\u001b[0m \u001b[0;34m\u001b[0m\u001b[0m\n\u001b[1;32m     10\u001b[0m     \u001b[0;31m# three-element POVM\u001b[0m\u001b[0;34m\u001b[0m\u001b[0;34m\u001b[0m\u001b[0;34m\u001b[0m\u001b[0m\n\u001b[0;32m---> 11\u001b[0;31m     \u001b[0mthree_element_povm\u001b[0m\u001b[0;34m(\u001b[0m\u001b[0mparams\u001b[0m\u001b[0;34m[\u001b[0m\u001b[0;36m3\u001b[0m\u001b[0;34m:\u001b[0m\u001b[0;34m]\u001b[0m\u001b[0;34m,\u001b[0m \u001b[0mwires\u001b[0m\u001b[0;34m=\u001b[0m\u001b[0;34m[\u001b[0m\u001b[0;36m0\u001b[0m\u001b[0;34m,\u001b[0m \u001b[0;36m1\u001b[0m\u001b[0;34m,\u001b[0m \u001b[0;36m2\u001b[0m\u001b[0;34m]\u001b[0m\u001b[0;34m)\u001b[0m\u001b[0;34m\u001b[0m\u001b[0;34m\u001b[0m\u001b[0m\n\u001b[0m\u001b[1;32m     12\u001b[0m \u001b[0;34m\u001b[0m\u001b[0m\n\u001b[1;32m     13\u001b[0m     \u001b[0;31m#qml.CNOT(wires=[2,1])\u001b[0m\u001b[0;34m\u001b[0m\u001b[0;34m\u001b[0m\u001b[0;34m\u001b[0m\u001b[0m\n",
      "\u001b[0;32m/var/folders/sk/_pw8yxgn2b7d1scl0rnlhkp80000gn/T/ipykernel_54815/2602043284.py\u001b[0m in \u001b[0;36mthree_element_povm\u001b[0;34m(params, wires)\u001b[0m\n\u001b[1;32m     11\u001b[0m     \u001b[0mCCRot\u001b[0m\u001b[0;34m(\u001b[0m\u001b[0mparams\u001b[0m\u001b[0;34m[\u001b[0m\u001b[0;36m10\u001b[0m\u001b[0;34m]\u001b[0m\u001b[0;34m,\u001b[0m \u001b[0mparams\u001b[0m\u001b[0;34m[\u001b[0m\u001b[0;36m11\u001b[0m\u001b[0;34m]\u001b[0m\u001b[0;34m,\u001b[0m \u001b[0mparams\u001b[0m\u001b[0;34m[\u001b[0m\u001b[0;36m12\u001b[0m\u001b[0;34m]\u001b[0m\u001b[0;34m,\u001b[0m \u001b[0mwires\u001b[0m\u001b[0;34m=\u001b[0m\u001b[0;34m[\u001b[0m\u001b[0mwires\u001b[0m\u001b[0;34m[\u001b[0m\u001b[0;36m2\u001b[0m\u001b[0;34m]\u001b[0m\u001b[0;34m,\u001b[0m\u001b[0mwires\u001b[0m\u001b[0;34m[\u001b[0m\u001b[0;36m1\u001b[0m\u001b[0;34m]\u001b[0m\u001b[0;34m,\u001b[0m\u001b[0mwires\u001b[0m\u001b[0;34m[\u001b[0m\u001b[0;36m0\u001b[0m\u001b[0;34m]\u001b[0m\u001b[0;34m]\u001b[0m\u001b[0;34m)\u001b[0m\u001b[0;34m\u001b[0m\u001b[0;34m\u001b[0m\u001b[0m\n\u001b[1;32m     12\u001b[0m     \u001b[0mqml\u001b[0m\u001b[0;34m.\u001b[0m\u001b[0mPauliX\u001b[0m\u001b[0;34m(\u001b[0m\u001b[0mwires\u001b[0m\u001b[0;34m=\u001b[0m\u001b[0mwires\u001b[0m\u001b[0;34m[\u001b[0m\u001b[0;36m2\u001b[0m\u001b[0;34m]\u001b[0m\u001b[0;34m)\u001b[0m\u001b[0;34m\u001b[0m\u001b[0;34m\u001b[0m\u001b[0m\n\u001b[0;32m---> 13\u001b[0;31m     \u001b[0mCCRot\u001b[0m\u001b[0;34m(\u001b[0m\u001b[0mparams\u001b[0m\u001b[0;34m[\u001b[0m\u001b[0;36m13\u001b[0m\u001b[0;34m]\u001b[0m\u001b[0;34m,\u001b[0m \u001b[0mparams\u001b[0m\u001b[0;34m[\u001b[0m\u001b[0;36m14\u001b[0m\u001b[0;34m]\u001b[0m\u001b[0;34m,\u001b[0m \u001b[0mparams\u001b[0m\u001b[0;34m[\u001b[0m\u001b[0;36m15\u001b[0m\u001b[0;34m]\u001b[0m\u001b[0;34m,\u001b[0m \u001b[0mwires\u001b[0m\u001b[0;34m=\u001b[0m\u001b[0;34m[\u001b[0m\u001b[0mwires\u001b[0m\u001b[0;34m[\u001b[0m\u001b[0;36m2\u001b[0m\u001b[0;34m]\u001b[0m\u001b[0;34m,\u001b[0m\u001b[0mwires\u001b[0m\u001b[0;34m[\u001b[0m\u001b[0;36m1\u001b[0m\u001b[0;34m]\u001b[0m\u001b[0;34m,\u001b[0m\u001b[0mwires\u001b[0m\u001b[0;34m[\u001b[0m\u001b[0;36m0\u001b[0m\u001b[0;34m]\u001b[0m\u001b[0;34m]\u001b[0m\u001b[0;34m)\u001b[0m\u001b[0;34m\u001b[0m\u001b[0;34m\u001b[0m\u001b[0m\n\u001b[0m\u001b[1;32m     14\u001b[0m \u001b[0;34m\u001b[0m\u001b[0m\n",
      "\u001b[0;32m~/anaconda3/envs/quantcirc/lib/python3.8/site-packages/pennylane/numpy/tensor.py\u001b[0m in \u001b[0;36m__getitem__\u001b[0;34m(self, *args, **kwargs)\u001b[0m\n\u001b[1;32m    182\u001b[0m \u001b[0;34m\u001b[0m\u001b[0m\n\u001b[1;32m    183\u001b[0m     \u001b[0;32mdef\u001b[0m \u001b[0m__getitem__\u001b[0m\u001b[0;34m(\u001b[0m\u001b[0mself\u001b[0m\u001b[0;34m,\u001b[0m \u001b[0;34m*\u001b[0m\u001b[0margs\u001b[0m\u001b[0;34m,\u001b[0m \u001b[0;34m**\u001b[0m\u001b[0mkwargs\u001b[0m\u001b[0;34m)\u001b[0m\u001b[0;34m:\u001b[0m\u001b[0;34m\u001b[0m\u001b[0;34m\u001b[0m\u001b[0m\n\u001b[0;32m--> 184\u001b[0;31m         \u001b[0mitem\u001b[0m \u001b[0;34m=\u001b[0m \u001b[0msuper\u001b[0m\u001b[0;34m(\u001b[0m\u001b[0;34m)\u001b[0m\u001b[0;34m.\u001b[0m\u001b[0m__getitem__\u001b[0m\u001b[0;34m(\u001b[0m\u001b[0;34m*\u001b[0m\u001b[0margs\u001b[0m\u001b[0;34m,\u001b[0m \u001b[0;34m**\u001b[0m\u001b[0mkwargs\u001b[0m\u001b[0;34m)\u001b[0m\u001b[0;34m\u001b[0m\u001b[0;34m\u001b[0m\u001b[0m\n\u001b[0m\u001b[1;32m    185\u001b[0m \u001b[0;34m\u001b[0m\u001b[0m\n\u001b[1;32m    186\u001b[0m         \u001b[0;32mif\u001b[0m \u001b[0;32mnot\u001b[0m \u001b[0misinstance\u001b[0m\u001b[0;34m(\u001b[0m\u001b[0mitem\u001b[0m\u001b[0;34m,\u001b[0m \u001b[0mtensor\u001b[0m\u001b[0;34m)\u001b[0m\u001b[0;34m:\u001b[0m\u001b[0;34m\u001b[0m\u001b[0;34m\u001b[0m\u001b[0m\n",
      "\u001b[0;31mIndexError\u001b[0m: index 13 is out of bounds for axis 0 with size 13"
     ]
    }
   ],
   "source": [
    "state_vecs = [[1/np.sqrt(2), np.exp(1j*2*np.pi/3)/np.sqrt(2)], [1/np.sqrt(2), 1/np.sqrt(2)], \\\n",
    "                [1/np.sqrt(2), np.exp(-1j*2*np.pi/3)/np.sqrt(2)]]\n",
    "\n",
    "[circuit_povm_probs(state_vecs[i], params) for i in range(3)]"
   ]
  },
  {
   "cell_type": "markdown",
   "metadata": {},
   "source": [
    "---\n",
    "Optimal POVM for State Discrimination"
   ]
  },
  {
   "cell_type": "code",
   "execution_count": 60,
   "metadata": {},
   "outputs": [],
   "source": [
    "def cost(x):\n",
    "    psi0 = np.array([1/np.sqrt(2), np.exp(1j*2*np.pi/3)/np.sqrt(2)])\n",
    "    psi1 = np.array([1/np.sqrt(2), 1/np.sqrt(2)])\n",
    "    psi2 = np.array([1/np.sqrt(2), np.exp(-1j*2*np.pi/3)/np.sqrt(2)])\n",
    "\n",
    "    prob0 = circuit_povm_probs(psi0, x)[0]\n",
    "    prob1 = circuit_povm_probs(psi1, x)[2]\n",
    "    prob2 = circuit_povm_probs(psi2, x)[3]\n",
    "\n",
    "    q0 = 1/3\n",
    "    q1 = 1/3\n",
    "    q2 = 1/3\n",
    "\n",
    "    res = 1 - (q0 * prob0 + q1 * prob1 + q2 * prob2)\n",
    "    return res\n"
   ]
  },
  {
   "cell_type": "code",
   "execution_count": 63,
   "metadata": {},
   "outputs": [
    {
     "name": "stdout",
     "output_type": "stream",
     "text": [
      "cost(init_params) = 0.6828178032150394\n",
      "Cost after step    20:  0.6227101\n",
      "Cost after step    40:  0.4983709\n",
      "Cost after step    60:  0.3998543\n",
      "Cost after step    80:  0.3752633\n",
      "Cost after step   100:  0.3648510\n",
      "Cost after step   120:  0.3536371\n",
      "Cost after step   140:  0.3431094\n",
      "Cost after step   160:  0.3369534\n",
      "Cost after step   180:  0.3344866\n",
      "Cost after step   200:  0.3336768\n",
      "Cost after step   220:  0.3334341\n",
      "Cost after step   240:  0.3333639\n",
      "Cost after step   260:  0.3333433\n",
      "Cost after step   280:  0.3333370\n",
      "Cost after step   300:  0.3333348\n",
      "Optimized rotation angles: [ 5.24004636 10.99556807 -0.1360504   3.14159267  1.23404439  1.160361\n",
      "  2.34061485  4.34244417  4.84843945  7.84781143  5.26775363  6.28320605\n",
      "  3.14158942 11.03474915  0.34416265  8.42534322  5.24400681  7.02070344\n",
      "  1.7641543 ]\n"
     ]
    }
   ],
   "source": [
    "# initialise the optimizer\n",
    "opt = qml.GradientDescentOptimizer(stepsize=0.4)\n",
    "\n",
    "# set the number of steps\n",
    "steps = 300\n",
    "\n",
    "# set the initial parameter values\n",
    "np.random.seed(1)\n",
    "params = 4 * np.pi * np.random.random([19])\n",
    "\n",
    "print(\"cost(init_params) =\", cost(params))\n",
    "\n",
    "for i in range(steps):\n",
    "    # update the circuit parameters\n",
    "    params = opt.step(cost, params)\n",
    "\n",
    "    if (i+1) % 20 == 0:\n",
    "        print(\"Cost after step {:5d}: {: .7f}\".format(i + 1, cost(params)))\n",
    "\n",
    "print(\"Optimized rotation angles: {}\".format(params))"
   ]
  },
  {
   "cell_type": "markdown",
   "metadata": {},
   "source": [
    "---"
   ]
  },
  {
   "cell_type": "code",
   "execution_count": 67,
   "metadata": {},
   "outputs": [],
   "source": [
    "def unitaries_in_povm(params):\n",
    "    U = qml.Rot(params[0], params[1], params[2], wires=2).matrix\n",
    "    Ry00 = qml.RY(params[3], wires=2).matrix\n",
    "    Ry01 = qml.RY(params[4], wires=2).matrix\n",
    "    V00 = qml.Rot(params[5], params[6], params[7], wires=2).matrix\n",
    "    V01 = qml.Rot(params[8], params[9], params[10], wires=2).matrix\n",
    "    Ry10 = qml.RY(params[11], wires=2).matrix\n",
    "    Ry11 = qml.RY(params[12], wires=2).matrix\n",
    "    V10 = qml.Rot(params[13], params[14], params[15], wires=2).matrix\n",
    "    V11 = qml.Rot(params[16], params[17], params[18], wires=2).matrix\n",
    "\n",
    "\n",
    "    return U, Ry00, Ry01, V00, V01, Ry10, Ry11, V10, V11\n",
    "\n",
    "U, Ry00, Ry01, V00, V01, Ry10, Ry11, V10, V11 = unitaries_in_povm(params)"
   ]
  },
  {
   "cell_type": "markdown",
   "metadata": {},
   "source": [
    "$$\n",
    "\\hat{K}_0 = V^{(0)}_0D^{(0)}_0U \\\\\n",
    "\\hat{K}_1 = V^{(1)}_0D^{(1)}_0V^{(0)}_1D^{(0)}_1U \\\\\n",
    "\\hat{K}_2 = V^{(1)}_1D^{(1)}_1V^{(0)}_1D^{(0)}_1U \n",
    "$$"
   ]
  },
  {
   "cell_type": "code",
   "execution_count": 68,
   "metadata": {},
   "outputs": [],
   "source": [
    "def kraus_op(params):\n",
    "    U, _, _, V00, V01, _, _, V10, V11 = unitaries_in_povm(params)\n",
    "    D00 = np.diag([np.cos(params[3]/2), np.cos(params[4]/2)])\n",
    "    D01 = np.diag([np.sin(params[3]/2), np.sin(params[4]/2)])\n",
    "    D10 = np.diag([np.cos(params[11]/2), np.cos(params[12]/2)])\n",
    "    D11 = np.diag([np.sin(params[11]/2), np.sin(params[12]/2)])\n",
    "    K0 = np.dot(np.dot(V00, D00), U)\n",
    "    _mid = np.dot(np.dot(V01, D01), U)\n",
    "    K1 = np.dot(np.dot(V10,D10),_mid)\n",
    "    K2 = np.dot(np.dot(V11,D11),_mid)\n",
    "    \n",
    "\n",
    "    return K0, K1, K2"
   ]
  },
  {
   "cell_type": "code",
   "execution_count": 69,
   "metadata": {},
   "outputs": [
    {
     "name": "stdout",
     "output_type": "stream",
     "text": [
      "[[-0.36056483-0.14829206j  0.01864198+0.92068178j]\n",
      " [-0.01864198+0.92068178j -0.36056483+0.14829206j]]\n",
      "[[-0.24035003-0.66732072j  0.68948578-0.14671153j]\n",
      " [-0.68948578-0.14671153j -0.24035003+0.66732072j]]\n",
      "[[-0.93967973+0.29611005j -0.04502825-0.16520684j]\n",
      " [ 0.04502825-0.16520684j -0.93967973-0.29611005j]]\n",
      "[[ 0.8721613 -0.3307636j  -0.06067404+0.35531504j]\n",
      " [ 0.06067404+0.35531504j  0.8721613 +0.3307636j ]]\n"
     ]
    }
   ],
   "source": [
    "U, _, _, V00, V01, _, _, V10, V11 = unitaries_in_povm(params)\n",
    "print(V00)\n",
    "print(V01)\n",
    "print(V10)\n",
    "print(V11)"
   ]
  },
  {
   "cell_type": "code",
   "execution_count": 70,
   "metadata": {},
   "outputs": [
    {
     "name": "stdout",
     "output_type": "stream",
     "text": [
      "K0 = [[-0.22298559+0.48200594j -0.30417029-0.43534954j]\n",
      " [-0.22439459-0.01423539j  0.12528352-0.18670561j]]\n",
      "K1 = [[ 0.31392809+0.47576992j  0.31364111+0.47596107j]\n",
      " [-0.09906027+0.00117735j -0.09906215+0.0011188j ]]\n",
      "K2 = [[-0.20731936+0.01561321j  0.11772692+0.17135391j]\n",
      " [-0.06342438+0.53424919j  0.49371225-0.21377194j]]\n"
     ]
    }
   ],
   "source": [
    "K0, K1, K2 = kraus_op(params)\n",
    "\n",
    "print(\"K0 =\", K0)\n",
    "print(\"K1 =\", K1)\n",
    "print(\"K2 =\", K2)"
   ]
  },
  {
   "cell_type": "code",
   "execution_count": 71,
   "metadata": {},
   "outputs": [
    {
     "name": "stdout",
     "output_type": "stream",
     "text": [
      "E0 = [[ 0.33260787+0.j         -0.16747059+0.28736775j]\n",
      " [-0.16747059-0.28736775j  0.33260373+0.j        ]]\n",
      "E1 = [[0.33472219+0.j         0.33472315+0.00020235j]\n",
      " [0.33472315-0.00020235j 0.33472424+0.j        ]]\n",
      "E2 = [[ 0.33266994+0.j        -0.16725256-0.2875701j]\n",
      " [-0.16725256+0.2875701j  0.33267202+0.j       ]]\n",
      "E0 + E1 + E2 = [[ 1.00000000e+00+0.00000000e+00j -8.32667268e-17+1.66533454e-16j]\n",
      " [-8.32667268e-17-1.66533454e-16j  1.00000000e+00+0.00000000e+00j]]\n"
     ]
    }
   ],
   "source": [
    "E0 = np.dot(K0.conj().T, K0) \n",
    "E1 = np.dot(K1.conj().T, K1)\n",
    "E2 = np.dot(K2.conj().T, K2)\n",
    "print(\"E0 =\", E0)\n",
    "print(\"E1 =\", E1)\n",
    "print(\"E2 =\", E2)\n",
    "print(\"E0 + E1 + E2 =\", E0 + E1 + E2)"
   ]
  },
  {
   "cell_type": "code",
   "execution_count": 72,
   "metadata": {},
   "outputs": [
    {
     "data": {
      "text/plain": [
       "(-0.16666666666666657+0.2886751345948129j)"
      ]
     },
     "execution_count": 72,
     "metadata": {},
     "output_type": "execute_result"
    }
   ],
   "source": []
  },
  {
   "cell_type": "markdown",
   "metadata": {},
   "source": [
    "---\n",
    "In PRA,"
   ]
  },
  {
   "cell_type": "markdown",
   "metadata": {},
   "source": [
    "Following JW Bae paper(Eq.(29) in p.16), <br>\n",
    "I found that the guessing probability are the same!"
   ]
  }
 ],
 "metadata": {
  "interpreter": {
   "hash": "f3566aecee92b9119d5cab9d3e2af068b42db2260767c2b53e50be0379b5c2ee"
  },
  "kernelspec": {
   "display_name": "Python 3.8.12 64-bit ('quantcirc': conda)",
   "name": "python3"
  },
  "language_info": {
   "codemirror_mode": {
    "name": "ipython",
    "version": 3
   },
   "file_extension": ".py",
   "mimetype": "text/x-python",
   "name": "python",
   "nbconvert_exporter": "python",
   "pygments_lexer": "ipython3",
   "version": "3.8.12"
  }
 },
 "nbformat": 4,
 "nbformat_minor": 2
}

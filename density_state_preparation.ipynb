{
 "cells": [
  {
   "cell_type": "code",
   "execution_count": 55,
   "metadata": {},
   "outputs": [],
   "source": [
    "import pennylane as qml\n",
    "import numpy as np\n",
    "import torch\n",
    "from torch.autograd import Variable"
   ]
  },
  {
   "cell_type": "code",
   "execution_count": 52,
   "metadata": {},
   "outputs": [],
   "source": [
    "v = np.random.normal(0, 1, 3)"
   ]
  },
  {
   "cell_type": "code",
   "execution_count": 2,
   "metadata": {},
   "outputs": [],
   "source": [
    "bloch_vec = np.array([0.8 ,0, 0])"
   ]
  },
  {
   "cell_type": "code",
   "execution_count": 43,
   "metadata": {},
   "outputs": [],
   "source": [
    "n_qubits = 2\n",
    "n_layers = 2\n",
    "params = np.random.normal(0, np.pi, (n_qubits, n_layers, 3))\n",
    "\n",
    "def layer(params, j):\n",
    "    for i in range(n_qubits):\n",
    "        qml.Rot(params[i, j, 0], params[i, j, 1], params[i, j, 2], wires=i)\n",
    "    \n",
    "    #qml.CNOT(wires=[0, 1])"
   ]
  },
  {
   "cell_type": "code",
   "execution_count": 44,
   "metadata": {},
   "outputs": [],
   "source": [
    "dev = qml.device(\"default.qubit\", wires=3)"
   ]
  },
  {
   "cell_type": "code",
   "execution_count": 45,
   "metadata": {},
   "outputs": [],
   "source": [
    "Paulis = np.zeros((3, 2, 2), dtype=complex)\n",
    "Paulis[0] = [[0, 1], [1, 0]]\n",
    "Paulis[1] = [[0, -1j], [1j, 0]]\n",
    "Paulis[2] = [[1, 0], [0, -1]]"
   ]
  },
  {
   "cell_type": "code",
   "execution_count": 46,
   "metadata": {},
   "outputs": [],
   "source": [
    "@qml.qnode(dev)\n",
    "def circuit(params, A=None):\n",
    "\n",
    "    # repeatedly apply each layer in the circuit\n",
    "    #for j in range(n_layers):\n",
    "    #    layer(params, j)\n",
    "    layer(params, 0)\n",
    "    qml.CNOT(wires=[0,1])\n",
    "    layer(params, 1)\n",
    "\n",
    "    # returns the expectation of the input matrix A on the first qubit\n",
    "    return qml.expval(qml.Hermitian(A, wires=0))"
   ]
  },
  {
   "cell_type": "code",
   "execution_count": 47,
   "metadata": {},
   "outputs": [],
   "source": [
    "# cost function\n",
    "def cost_fn(params):\n",
    "    cost = 0\n",
    "    for k in range(3):\n",
    "        cost += np.abs(circuit(params, A=Paulis[k]) - bloch_vec[k])\n",
    "\n",
    "    return cost"
   ]
  },
  {
   "cell_type": "code",
   "execution_count": 51,
   "metadata": {},
   "outputs": [
    {
     "name": "stdout",
     "output_type": "stream",
     "text": [
      "Cost after 0 steps is 0.0061\n",
      "Cost after 10 steps is 0.0901\n",
      "Cost after 20 steps is 0.0196\n",
      "Cost after 30 steps is 0.0081\n",
      "Cost after 40 steps is 0.0076\n",
      "Cost after 50 steps is 0.0074\n",
      "Cost after 60 steps is 0.0024\n",
      "Cost after 70 steps is 0.0033\n",
      "Cost after 80 steps is 0.0020\n",
      "Cost after 90 steps is 0.0031\n",
      "Cost after 100 steps is 0.0064\n",
      "Cost after 110 steps is 0.0032\n",
      "Cost after 120 steps is 0.0033\n",
      "Cost after 130 steps is 0.0044\n",
      "Cost after 140 steps is 0.0003\n",
      "Cost after 150 steps is 0.0045\n",
      "Cost after 160 steps is 0.0069\n",
      "Cost after 170 steps is 0.0050\n",
      "Cost after 180 steps is 0.0050\n",
      "Cost after 190 steps is 0.0041\n",
      "Cost after 200 steps is 0.0044\n"
     ]
    }
   ],
   "source": [
    "# set up the optimizer\n",
    "opt = qml.AdamOptimizer()\n",
    "\n",
    "# number of steps in the optimization routine\n",
    "steps = 200\n",
    "\n",
    "# the final stage of optimization isn't always the best, so we keep track of\n",
    "# the best parameters along the way\n",
    "best_cost = cost_fn(params)\n",
    "best_params = np.zeros((n_qubits, n_layers, 3))\n",
    "\n",
    "print(\"Cost after 0 steps is {:.4f}\".format(cost_fn(params)))\n",
    "\n",
    "# optimization begins\n",
    "for n in range(steps):\n",
    "    params = opt.step(cost_fn, params)\n",
    "    current_cost = cost_fn(params)\n",
    "\n",
    "    # keeps track of best parameters\n",
    "    if current_cost < best_cost:\n",
    "        best_params = params\n",
    "\n",
    "    # Keep track of progress every 10 steps\n",
    "    if n % 10 == 9 or n == steps - 1:\n",
    "        print(\"Cost after {} steps is {:.4f}\".format(n + 1, current_cost))"
   ]
  },
  {
   "cell_type": "code",
   "execution_count": 50,
   "metadata": {},
   "outputs": [
    {
     "name": "stdout",
     "output_type": "stream",
     "text": [
      "Target Bloch vector =  [0.8 0.  0. ]\n",
      "Output Bloch vector =  [ 0.80124905  0.00181443 -0.0030508 ]\n"
     ]
    }
   ],
   "source": [
    "# calculate the Bloch vector of the output state\n",
    "output_bloch_v = np.zeros(3)\n",
    "for l in range(3):\n",
    "    output_bloch_v[l] = circuit(best_params, A=Paulis[l])\n",
    "\n",
    "# print results\n",
    "print(\"Target Bloch vector = \", bloch_vec)\n",
    "print(\"Output Bloch vector = \", output_bloch_v)"
   ]
  },
  {
   "cell_type": "code",
   "execution_count": null,
   "metadata": {},
   "outputs": [],
   "source": []
  }
 ],
 "metadata": {
  "interpreter": {
   "hash": "f3566aecee92b9119d5cab9d3e2af068b42db2260767c2b53e50be0379b5c2ee"
  },
  "kernelspec": {
   "display_name": "Python 3.8.12 64-bit ('quantcirc': conda)",
   "language": "python",
   "name": "python3"
  },
  "language_info": {
   "codemirror_mode": {
    "name": "ipython",
    "version": 3
   },
   "file_extension": ".py",
   "mimetype": "text/x-python",
   "name": "python",
   "nbconvert_exporter": "python",
   "pygments_lexer": "ipython3",
   "version": "3.8.12"
  },
  "orig_nbformat": 4
 },
 "nbformat": 4,
 "nbformat_minor": 2
}

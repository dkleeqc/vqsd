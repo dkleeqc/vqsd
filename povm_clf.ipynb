{
 "cells": [
  {
   "cell_type": "markdown",
   "metadata": {},
   "source": [
    "# <center> POVM as a quantum version of the classifier </center>"
   ]
  },
  {
   "cell_type": "code",
   "execution_count": 95,
   "metadata": {},
   "outputs": [],
   "source": [
    "import pennylane as qml\n",
    "from pennylane import numpy as np"
   ]
  },
  {
   "cell_type": "code",
   "execution_count": 96,
   "metadata": {},
   "outputs": [],
   "source": [
    "dev = qml.device('default.qubit', wires=2)"
   ]
  },
  {
   "cell_type": "code",
   "execution_count": 115,
   "metadata": {},
   "outputs": [
    {
     "ename": "ContextualVersionConflict",
     "evalue": "(scipy 1.7.1 (/Users/Mac_dk/anaconda3/lib/python3.7/site-packages), Requirement.parse('scipy<=1.6.1,>=1.4'), {'qiskit-aqua'})",
     "output_type": "error",
     "traceback": [
      "\u001b[0;31m---------------------------------------------------------------------------\u001b[0m",
      "\u001b[0;31mContextualVersionConflict\u001b[0m                 Traceback (most recent call last)",
      "\u001b[0;32m<ipython-input-115-85c65641b9be>\u001b[0m in \u001b[0;36m<module>\u001b[0;34m\u001b[0m\n\u001b[0;32m----> 1\u001b[0;31m \u001b[0mdev\u001b[0m \u001b[0;34m=\u001b[0m \u001b[0mqml\u001b[0m\u001b[0;34m.\u001b[0m\u001b[0mdevice\u001b[0m\u001b[0;34m(\u001b[0m\u001b[0;34m'qiskit.aer'\u001b[0m\u001b[0;34m,\u001b[0m \u001b[0mwires\u001b[0m\u001b[0;34m=\u001b[0m\u001b[0;36m2\u001b[0m\u001b[0;34m)\u001b[0m\u001b[0;34m\u001b[0m\u001b[0;34m\u001b[0m\u001b[0m\n\u001b[0m\u001b[1;32m      2\u001b[0m \u001b[0;31m#dev = qml.device('qiskit.ibmq', wires=2, backend='')\u001b[0m\u001b[0;34m\u001b[0m\u001b[0;34m\u001b[0m\u001b[0;34m\u001b[0m\u001b[0m\n",
      "\u001b[0;32m~/anaconda3/lib/python3.7/site-packages/pennylane/__init__.py\u001b[0m in \u001b[0;36mdevice\u001b[0;34m(name, *args, **kwargs)\u001b[0m\n\u001b[1;32m    252\u001b[0m \u001b[0;34m\u001b[0m\u001b[0m\n\u001b[1;32m    253\u001b[0m         \u001b[0;31m# loads the device class\u001b[0m\u001b[0;34m\u001b[0m\u001b[0;34m\u001b[0m\u001b[0;34m\u001b[0m\u001b[0m\n\u001b[0;32m--> 254\u001b[0;31m         \u001b[0mplugin_device_class\u001b[0m \u001b[0;34m=\u001b[0m \u001b[0mplugin_devices\u001b[0m\u001b[0;34m[\u001b[0m\u001b[0mname\u001b[0m\u001b[0;34m]\u001b[0m\u001b[0;34m.\u001b[0m\u001b[0mload\u001b[0m\u001b[0;34m(\u001b[0m\u001b[0;34m)\u001b[0m\u001b[0;34m\u001b[0m\u001b[0;34m\u001b[0m\u001b[0m\n\u001b[0m\u001b[1;32m    255\u001b[0m \u001b[0;34m\u001b[0m\u001b[0m\n\u001b[1;32m    256\u001b[0m         \u001b[0;32mif\u001b[0m \u001b[0mVersion\u001b[0m\u001b[0;34m(\u001b[0m\u001b[0mversion\u001b[0m\u001b[0;34m(\u001b[0m\u001b[0;34m)\u001b[0m\u001b[0;34m)\u001b[0m \u001b[0;32mnot\u001b[0m \u001b[0;32min\u001b[0m \u001b[0mSpec\u001b[0m\u001b[0;34m(\u001b[0m\u001b[0mplugin_device_class\u001b[0m\u001b[0;34m.\u001b[0m\u001b[0mpennylane_requires\u001b[0m\u001b[0;34m)\u001b[0m\u001b[0;34m:\u001b[0m\u001b[0;34m\u001b[0m\u001b[0;34m\u001b[0m\u001b[0m\n",
      "\u001b[0;32m~/anaconda3/lib/python3.7/site-packages/pkg_resources/__init__.py\u001b[0m in \u001b[0;36mload\u001b[0;34m(self, require, *args, **kwargs)\u001b[0m\n\u001b[1;32m   2442\u001b[0m             )\n\u001b[1;32m   2443\u001b[0m         \u001b[0;32mif\u001b[0m \u001b[0mrequire\u001b[0m\u001b[0;34m:\u001b[0m\u001b[0;34m\u001b[0m\u001b[0;34m\u001b[0m\u001b[0m\n\u001b[0;32m-> 2444\u001b[0;31m             \u001b[0mself\u001b[0m\u001b[0;34m.\u001b[0m\u001b[0mrequire\u001b[0m\u001b[0;34m(\u001b[0m\u001b[0;34m*\u001b[0m\u001b[0margs\u001b[0m\u001b[0;34m,\u001b[0m \u001b[0;34m**\u001b[0m\u001b[0mkwargs\u001b[0m\u001b[0;34m)\u001b[0m\u001b[0;34m\u001b[0m\u001b[0;34m\u001b[0m\u001b[0m\n\u001b[0m\u001b[1;32m   2445\u001b[0m         \u001b[0;32mreturn\u001b[0m \u001b[0mself\u001b[0m\u001b[0;34m.\u001b[0m\u001b[0mresolve\u001b[0m\u001b[0;34m(\u001b[0m\u001b[0;34m)\u001b[0m\u001b[0;34m\u001b[0m\u001b[0;34m\u001b[0m\u001b[0m\n\u001b[1;32m   2446\u001b[0m \u001b[0;34m\u001b[0m\u001b[0m\n",
      "\u001b[0;32m~/anaconda3/lib/python3.7/site-packages/pkg_resources/__init__.py\u001b[0m in \u001b[0;36mrequire\u001b[0;34m(self, env, installer)\u001b[0m\n\u001b[1;32m   2465\u001b[0m         \u001b[0;31m# requirements for that extra are purely optional and skip over them.\u001b[0m\u001b[0;34m\u001b[0m\u001b[0;34m\u001b[0m\u001b[0;34m\u001b[0m\u001b[0m\n\u001b[1;32m   2466\u001b[0m         \u001b[0mreqs\u001b[0m \u001b[0;34m=\u001b[0m \u001b[0mself\u001b[0m\u001b[0;34m.\u001b[0m\u001b[0mdist\u001b[0m\u001b[0;34m.\u001b[0m\u001b[0mrequires\u001b[0m\u001b[0;34m(\u001b[0m\u001b[0mself\u001b[0m\u001b[0;34m.\u001b[0m\u001b[0mextras\u001b[0m\u001b[0;34m)\u001b[0m\u001b[0;34m\u001b[0m\u001b[0;34m\u001b[0m\u001b[0m\n\u001b[0;32m-> 2467\u001b[0;31m         \u001b[0mitems\u001b[0m \u001b[0;34m=\u001b[0m \u001b[0mworking_set\u001b[0m\u001b[0;34m.\u001b[0m\u001b[0mresolve\u001b[0m\u001b[0;34m(\u001b[0m\u001b[0mreqs\u001b[0m\u001b[0;34m,\u001b[0m \u001b[0menv\u001b[0m\u001b[0;34m,\u001b[0m \u001b[0minstaller\u001b[0m\u001b[0;34m,\u001b[0m \u001b[0mextras\u001b[0m\u001b[0;34m=\u001b[0m\u001b[0mself\u001b[0m\u001b[0;34m.\u001b[0m\u001b[0mextras\u001b[0m\u001b[0;34m)\u001b[0m\u001b[0;34m\u001b[0m\u001b[0;34m\u001b[0m\u001b[0m\n\u001b[0m\u001b[1;32m   2468\u001b[0m         \u001b[0mlist\u001b[0m\u001b[0;34m(\u001b[0m\u001b[0mmap\u001b[0m\u001b[0;34m(\u001b[0m\u001b[0mworking_set\u001b[0m\u001b[0;34m.\u001b[0m\u001b[0madd\u001b[0m\u001b[0;34m,\u001b[0m \u001b[0mitems\u001b[0m\u001b[0;34m)\u001b[0m\u001b[0;34m)\u001b[0m\u001b[0;34m\u001b[0m\u001b[0;34m\u001b[0m\u001b[0m\n\u001b[1;32m   2469\u001b[0m \u001b[0;34m\u001b[0m\u001b[0m\n",
      "\u001b[0;32m~/anaconda3/lib/python3.7/site-packages/pkg_resources/__init__.py\u001b[0m in \u001b[0;36mresolve\u001b[0;34m(self, requirements, env, installer, replace_conflicting, extras)\u001b[0m\n\u001b[1;32m    790\u001b[0m                 \u001b[0;31m# Oops, the \"best\" so far conflicts with a dependency\u001b[0m\u001b[0;34m\u001b[0m\u001b[0;34m\u001b[0m\u001b[0;34m\u001b[0m\u001b[0m\n\u001b[1;32m    791\u001b[0m                 \u001b[0mdependent_req\u001b[0m \u001b[0;34m=\u001b[0m \u001b[0mrequired_by\u001b[0m\u001b[0;34m[\u001b[0m\u001b[0mreq\u001b[0m\u001b[0;34m]\u001b[0m\u001b[0;34m\u001b[0m\u001b[0;34m\u001b[0m\u001b[0m\n\u001b[0;32m--> 792\u001b[0;31m                 \u001b[0;32mraise\u001b[0m \u001b[0mVersionConflict\u001b[0m\u001b[0;34m(\u001b[0m\u001b[0mdist\u001b[0m\u001b[0;34m,\u001b[0m \u001b[0mreq\u001b[0m\u001b[0;34m)\u001b[0m\u001b[0;34m.\u001b[0m\u001b[0mwith_context\u001b[0m\u001b[0;34m(\u001b[0m\u001b[0mdependent_req\u001b[0m\u001b[0;34m)\u001b[0m\u001b[0;34m\u001b[0m\u001b[0;34m\u001b[0m\u001b[0m\n\u001b[0m\u001b[1;32m    793\u001b[0m \u001b[0;34m\u001b[0m\u001b[0m\n\u001b[1;32m    794\u001b[0m             \u001b[0;31m# push the new requirements onto the stack\u001b[0m\u001b[0;34m\u001b[0m\u001b[0;34m\u001b[0m\u001b[0;34m\u001b[0m\u001b[0m\n",
      "\u001b[0;31mContextualVersionConflict\u001b[0m: (scipy 1.7.1 (/Users/Mac_dk/anaconda3/lib/python3.7/site-packages), Requirement.parse('scipy<=1.6.1,>=1.4'), {'qiskit-aqua'})"
     ]
    }
   ],
   "source": [
    "dev = qml.device('qiskit.aer', wires=2)\n",
    "#dev = qml.device('qiskit.ibmq', wires=2, backend='')"
   ]
  },
  {
   "cell_type": "markdown",
   "metadata": {},
   "source": [
    "## A module of the two-element povm."
   ]
  },
  {
   "cell_type": "code",
   "execution_count": 98,
   "metadata": {},
   "outputs": [],
   "source": [
    "def two_element_povm(params, wire0, wire1):\n",
    "    #params \n",
    "\n",
    "    # Controlled-RY gate controlled by first qubit in |0> state\n",
    "    qml.PauliX(wires=wire0)\n",
    "    qml.CRY(params[0], wires=[wire0,wire1])\n",
    "    qml.PauliX(wires=wire0)\n",
    "    \n",
    "    # Controlled-RY gate controlled by first qubit in |1> state\n",
    "    qml.CRY(params[1], wires=[wire0,wire1])\n",
    "\n",
    "    # Controlled-Rotation gate (arbitrary single-qubit unitary operator) controlled by 2nd qubit in |0> state\n",
    "    qml.PauliX(wires=wire1)\n",
    "    qml.CRot(params[2], params[3], params[4], wires=[wire1,wire0])\n",
    "    qml.PauliX(wires=wire1)\n",
    "\n",
    "    # # Controlled-Rotation gate (arbitrary single-qubit unitary operator) controlled by 2nd qubit in |1> state\n",
    "    qml.CRot(params[5], params[6], params[7], wires=[wire1,wire0])"
   ]
  },
  {
   "cell_type": "markdown",
   "metadata": {},
   "source": [
    "Drawing `two_element_povm` module"
   ]
  },
  {
   "cell_type": "code",
   "execution_count": 99,
   "metadata": {},
   "outputs": [
    {
     "name": "stdout",
     "output_type": "stream",
     "text": [
      "Drawing a two-element POVM circuit : \n",
      " 0: ──X──╭C──────────X──╭C─────────────╭Rot(0.464, 0.499, 0.147)─────╭Rot(0.395, 0.911, 0.718)──╭┤ ⟨I ⊗ Z⟩ \n",
      " 1: ─────╰RY(0.942)─────╰RY(0.874)──X──╰C─────────────────────────X──╰C─────────────────────────╰┤ ⟨I ⊗ Z⟩ \n",
      "\n"
     ]
    }
   ],
   "source": [
    "@qml.qnode(dev)\n",
    "def povm_circuit(params):\n",
    "    two_element_povm(params, 0, 1)\n",
    "    return qml.expval(qml.Identity(0) @ qml.PauliZ(1))\n",
    "\n",
    "# initial parameters\n",
    "params = np.random.random([8])\n",
    "povm_circuit(params)\n",
    "\n",
    "print(\"Drawing a two-element POVM circuit : \")\n",
    "print(povm_circuit.draw())"
   ]
  },
  {
   "cell_type": "markdown",
   "metadata": {},
   "source": [
    "---"
   ]
  },
  {
   "cell_type": "markdown",
   "metadata": {},
   "source": [
    "## Preparing two arbitrary pure states"
   ]
  },
  {
   "cell_type": "code",
   "execution_count": 100,
   "metadata": {},
   "outputs": [],
   "source": [
    "def state_preparation(params):\n",
    "    return"
   ]
  },
  {
   "cell_type": "markdown",
   "metadata": {},
   "source": [
    "---"
   ]
  },
  {
   "cell_type": "markdown",
   "metadata": {},
   "source": [
    "## Minimum Error Discrimination"
   ]
  },
  {
   "cell_type": "markdown",
   "metadata": {},
   "source": [
    "Preparation: $\\{q_i,\\hat{\\rho}_i\\}^{N}_{i=1}$ $\\longleftarrow$ $\\hat{\\rho} = \\sum_i q_i\\hat{\\rho}_i$. <br>\n",
    "\n",
    "POVMs: $\\{E_k\\}_{k=1}^{L}$ with $\\sum_{k=1}^{L} E_k = I$."
   ]
  },
  {
   "cell_type": "markdown",
   "metadata": {},
   "source": [
    "Q. Why \"$N=L$\" is optimal?"
   ]
  },
  {
   "cell_type": "markdown",
   "metadata": {},
   "source": [
    "In general, for a state $\\hat{\\rho}_i$ generated in preparation, a detection event on $\\hat{E}_k$ happens with probability $ p(k|i) = tr [\\hat{E}_k\\hat{\\rho_i}] $."
   ]
  },
  {
   "cell_type": "markdown",
   "metadata": {},
   "source": [
    "$$\n",
    "p_{success} = \\sum_i q_i p(i|i)\n",
    "$$\n",
    "$$\n",
    "p_{guess} = \\max_{E} \\sum_i q_i p(i|i)\n",
    "$$\n",
    "$$\n",
    "p_{error} = 1 - p_{guess}\n",
    "$$"
   ]
  },
  {
   "cell_type": "markdown",
   "metadata": {},
   "source": [
    "For two-element POVMs $\\{\\hat{E}_1, \\hat{E}_2\\}$ on two different state prepared as $\\{(q_1,\\hat{\\rho}_1), (q_2,\\hat{\\rho}_2)\\}$, \n",
    "$$\n",
    "p_{error} = 1 - p_{guess} = 1-\\max_{\\vec{\\theta}}\\left(q_o\\text{Tr}[\\hat{E}_0\\hat{\\rho}_0] + q_1\\text{Tr}[\\hat{E}_1\\hat{\\rho}_1] \\right)\n",
    "$$"
   ]
  },
  {
   "cell_type": "markdown",
   "metadata": {},
   "source": [
    "---"
   ]
  },
  {
   "cell_type": "markdown",
   "metadata": {},
   "source": [
    "## Classification of two different states by using POVM"
   ]
  },
  {
   "cell_type": "markdown",
   "metadata": {},
   "source": [
    "$|\\Psi^0_i\\rangle := |\\psi_0\\rangle|0\\rangle$ \n",
    "$\\longrightarrow$ POVM $\\longrightarrow$ \n",
    "$|\\Psi^0_f\\rangle := \\left(\\hat{K}_0|\\psi_0\\rangle\\right)|0\\rangle + \\left(\\hat{K}_1|\\psi_0\\rangle\\right)|1\\rangle$"
   ]
  },
  {
   "cell_type": "markdown",
   "metadata": {},
   "source": [
    "$$\n",
    "\\text{Tr}[\\hat{\\rho}_0\\hat{E}_0] = \\langle\\psi_0|\\hat{K}^\\dagger_0\\hat{K}_0|\\psi_0\\rangle \\langle 0 | 0 \\rangle = \\langle\\psi_0|\\langle 0|\\hat{K}^\\dagger_0\\hat{K}_0|\\psi_0\\rangle|0\\rangle\\\\\n",
    "=\\frac{1}{2}\\left(\\langle\\psi_0|\\langle 0|\\hat{K}^\\dagger_0\\hat{K}_0|\\psi_0\\rangle|0\\rangle + \\langle\\psi_0|\\langle 1|\\hat{K}^\\dagger_0\\hat{K}_0|\\psi_0\\rangle|1\\rangle\\right)\\\\\n",
    "+\\frac{1}{2}\\left(\\langle\\psi_0|\\langle 0|\\hat{K}^\\dagger_0\\hat{K}_0|\\psi_0\\rangle|0\\rangle - \\langle\\psi_0|\\langle 1|\\hat{K}^\\dagger_0\\hat{K}_0|\\psi_0\\rangle|1\\rangle\\right) \\\\ \n",
    "\\frac{1}{2} \\left(1 + \\langle\\Psi_f|I\\otimes Z|\\Psi_f\\rangle\\right)\n",
    "$$\n",
    "Similarly, $\\text{Tr}[\\hat{\\rho}_0\\hat{E}_1] = \\frac{1}{2}\\left(1 - \\langle\\Psi_f|I\\otimes Z|\\Psi_f\\rangle\\right)$."
   ]
  },
  {
   "cell_type": "markdown",
   "metadata": {},
   "source": [
    "Find **the optimal POVMs** for discriminating two different states:\n",
    "$$\n",
    "p_{error} = 1- (-1)\\min_{\\vec{\\theta}}\\left(-q_o\\text{Tr}[\\hat{E}_0\\hat{\\rho}_0] - q_1\\text{Tr}[\\hat{E}_1\\hat{\\rho}_1]\\right)\\\\\n",
    "=\\min_{\\vec{\\theta}}\\left[\\frac{1}{2} - \\frac{q_0}{2}\\langle\\Psi^0_f|I\\otimes Z|\\Psi^0_f\\rangle + \\frac{q_1}{2}\\langle\\Psi^1_f|I\\otimes Z|\\Psi^1_f\\rangle\\right]\n",
    "$$"
   ]
  },
  {
   "cell_type": "code",
   "execution_count": 101,
   "metadata": {},
   "outputs": [],
   "source": [
    "dev = qml.device('default.qubit', wires=2)"
   ]
  },
  {
   "cell_type": "markdown",
   "metadata": {},
   "source": [
    "$ \\langle\\Psi^0_f|I\\otimes Z|\\Psi^0_f\\rangle $"
   ]
  },
  {
   "cell_type": "code",
   "execution_count": 113,
   "metadata": {},
   "outputs": [],
   "source": [
    "@qml.qnode(dev)\n",
    "def circuit_povm_expvalIZpsi0(params):\n",
    "    # Initial state: |0>\n",
    "    qml.Hadamard(wires=0) # |+>\n",
    "\n",
    "    # arbitrary rotation\n",
    "    qml.Rot(params[0], params[1], params[2], wires=0)\n",
    "\n",
    "    # two-element POVM\n",
    "    two_element_povm(params[3:], 0, 1)\n",
    "\n",
    "    return qml.expval(qml.Identity(0) @ qml.PauliZ(1)) "
   ]
  },
  {
   "cell_type": "markdown",
   "metadata": {},
   "source": [
    "$ \\langle\\Psi^1_f|I\\otimes Z|\\Psi^1_f\\rangle $"
   ]
  },
  {
   "cell_type": "code",
   "execution_count": 103,
   "metadata": {},
   "outputs": [],
   "source": [
    "@qml.qnode(dev)\n",
    "def circuit_povm_expvalIZpsi1(params):\n",
    "    # Initial state: X|0> = |1>\n",
    "    qml.PauliX(wires=0)\n",
    "    qml.Hadamard(wires=0) # |->\n",
    "\n",
    "    # arbitrary rotation\n",
    "    qml.Rot(params[0], params[1], params[2], wires=0)\n",
    "\n",
    "    # two-element POVM\n",
    "    two_element_povm(params[3:], 0, 1)\n",
    "\n",
    "    return qml.expval(qml.Identity(0) @ qml.PauliZ(1))"
   ]
  },
  {
   "cell_type": "markdown",
   "metadata": {},
   "source": [
    "Cost function : $C(\\vec{\\theta}) = \\frac{1}{2}\\left(1 - q_0\\langle\\Psi^0_f|I\\otimes Z|\\Psi^0_f\\rangle + q_1\\langle\\Psi^1_f|I\\otimes Z|\\Psi^1_f\\rangle\\right)$"
   ]
  },
  {
   "cell_type": "code",
   "execution_count": 104,
   "metadata": {},
   "outputs": [],
   "source": [
    "def cost(x):\n",
    "    K0psi0 = circuit_povm_expvalIZpsi0(x)\n",
    "    K1psi1 = circuit_povm_expvalIZpsi1(x)\n",
    "    return (1/2) * (1 - (1/2)*K0psi0 + (1/2)*K1psi1)\n"
   ]
  },
  {
   "cell_type": "markdown",
   "metadata": {},
   "source": [
    "### Optimization of POVM: solving $\\min_{\\vec{\\theta}}C(\\vec{\\theta})$"
   ]
  },
  {
   "cell_type": "code",
   "execution_count": 114,
   "metadata": {},
   "outputs": [
    {
     "name": "stdout",
     "output_type": "stream",
     "text": [
      "cost(init_params) = 0.6936881499191591\n",
      "Cost after step     5:  0.5925137\n",
      "Cost after step    10:  0.5318706\n",
      "Cost after step    15:  0.4917141\n",
      "Cost after step    20:  0.4491884\n",
      "Cost after step    25:  0.3823426\n",
      "Cost after step    30:  0.2755206\n",
      "Cost after step    35:  0.1522323\n",
      "Cost after step    40:  0.0657218\n",
      "Cost after step    45:  0.0248550\n",
      "Cost after step    50:  0.0089242\n",
      "Cost after step    55:  0.0031446\n",
      "Cost after step    60:  0.0011006\n",
      "Cost after step    65:  0.0003843\n",
      "Cost after step    70:  0.0001341\n",
      "Cost after step    75:  0.0000467\n",
      "Cost after step    80:  0.0000163\n",
      "Cost after step    85:  0.0000057\n",
      "Cost after step    90:  0.0000020\n",
      "Cost after step    95:  0.0000007\n",
      "Cost after step   100:  0.0000002\n",
      "Cost after step   105:  0.0000001\n",
      "Cost after step   110:  0.0000000\n",
      "Cost after step   115:  0.0000000\n",
      "Cost after step   120:  0.0000000\n",
      "Cost after step   125:  0.0000000\n",
      "Cost after step   130:  0.0000000\n",
      "Cost after step   135:  0.0000000\n",
      "Cost after step   140:  0.0000000\n",
      "Cost after step   145:  0.0000000\n",
      "Cost after step   150:  0.0000000\n",
      "Cost after step   155:  0.0000000\n",
      "Cost after step   160:  0.0000000\n",
      "Cost after step   165:  0.0000000\n",
      "Cost after step   170:  0.0000000\n",
      "Cost after step   175:  0.0000000\n",
      "Cost after step   180:  0.0000000\n",
      "Cost after step   185:  0.0000000\n",
      "Cost after step   190:  0.0000000\n",
      "Cost after step   195:  0.0000000\n",
      "Cost after step   200:  0.0000000\n",
      "Optimized rotation angles: [3.14159265e+00 4.71238898e+00 2.03430083e+00 3.14159269e+00\n",
      " 2.16882994e-09 2.11454901e+00 2.54362388e+00 3.49968351e-01\n",
      " 2.89460741e-01 1.10221311e+00 5.57264190e-01]\n"
     ]
    }
   ],
   "source": [
    "# initialise the optimizer\n",
    "opt = qml.GradientDescentOptimizer(stepsize=0.4)\n",
    "\n",
    "# set the number of steps\n",
    "steps = 200\n",
    "\n",
    "# set the initial parameter values\n",
    "params = 2 * np.pi * np.random.random([11])\n",
    "print(\"cost(init_params) =\", cost(params))\n",
    "\n",
    "for i in range(steps):\n",
    "    # update the circuit parameters\n",
    "    params = opt.step(cost, params)\n",
    "\n",
    "    if (i+1) % 5 == 0:\n",
    "        print(\"Cost after step {:5d}: {: .7f}\".format(i + 1, cost(params)))\n",
    "\n",
    "print(\"Optimized rotation angles: {}\".format(params))"
   ]
  },
  {
   "cell_type": "code",
   "execution_count": 106,
   "metadata": {},
   "outputs": [
    {
     "name": "stdout",
     "output_type": "stream",
     "text": [
      "Drawing a circuit of povm_expvalIZ_psi0 : \n",
      " 0: ──Rot(3.14, 3.93, 0.0251)──X──╭C─────────X──╭C────────────╭Rot(3.47, 1.26, 3.06)─────╭Rot(1.52, 2.48, 1.6)──╭┤ ⟨I ⊗ Z⟩ \n",
      " 1: ──────────────────────────────╰RY(3.14)─────╰RY(6.28)──X──╰C──────────────────────X──╰C─────────────────────╰┤ ⟨I ⊗ Z⟩ \n",
      "\n",
      "Drawing a circuit of povm_expvalIZ_psi1 : \n",
      " 0: ──X──H──Rot(3.14, 3.93, 0.0251)──X──╭C─────────X──╭C────────────╭Rot(3.47, 1.26, 3.06)─────╭Rot(1.52, 2.48, 1.6)──╭┤ ⟨I ⊗ Z⟩ \n",
      " 1: ────────────────────────────────────╰RY(3.14)─────╰RY(6.28)──X──╰C──────────────────────X──╰C─────────────────────╰┤ ⟨I ⊗ Z⟩ \n",
      "\n"
     ]
    }
   ],
   "source": [
    "print(\"Drawing a circuit of povm_expvalIZ_psi0 : \")\n",
    "print(circuit_povm_expvalIZpsi0.draw())\n",
    "print(\"Drawing a circuit of povm_expvalIZ_psi1 : \")\n",
    "print(circuit_povm_expvalIZpsi1.draw())"
   ]
  },
  {
   "cell_type": "markdown",
   "metadata": {},
   "source": [
    "## Calculating Kraus Operators or POVMs"
   ]
  },
  {
   "cell_type": "markdown",
   "metadata": {},
   "source": [
    "### Arbitrary rotation of the single qubit\n",
    "### $$ U = R_z(\\beta)R_y(\\gamma)R_z(\\delta) = \\begin{bmatrix} e^{-i(\\delta+\\beta)/2}\\cos(\\gamma/2) & -e^{i(\\delta-\\beta)/2}\\sin(\\gamma/2) \\\\ e^{-i(\\delta-\\beta)/2}\\sin(\\gamma/2) & e^{i(\\delta+\\beta)/2}\\cos(\\gamma/2) \\end{bmatrix}$$\n",
    "\n",
    "### Y-Rotation of the single qubit\n",
    "### $$ R_y(\\phi) = e^{-i\\phi\\sigma_y/2} = \\begin{bmatrix} \\cos\\phi/2 & -\\sin\\phi/2 \\\\ \\sin\\phi/2 & \\cos\\phi/2 \\end{bmatrix} $$"
   ]
  },
  {
   "cell_type": "code",
   "execution_count": 107,
   "metadata": {},
   "outputs": [],
   "source": [
    "def unitaries_in_povm(params):\n",
    "    U = qml.Rot(params[0], params[1], params[2], wires=2).matrix\n",
    "    Ry0 = qml.RY(params[3], wires=2).matrix\n",
    "    Ry1 = qml.RY(params[4], wires=2).matrix\n",
    "    V0 = qml.Rot(params[5], params[6], params[7], wires=2).matrix\n",
    "    V1 = qml.Rot(params[8], params[9], params[10], wires=2).matrix\n",
    "\n",
    "    return U, Ry0, Ry1, V0, V1\n",
    "\n",
    "U, Ry0, Ry1, V0, V1 = unitaries_in_povm(params)"
   ]
  },
  {
   "cell_type": "markdown",
   "metadata": {},
   "source": [
    "$$\n",
    "\\hat{K}_1 = V_1D_1U \\\\\n",
    "\\hat{K}_2 = V_2D_2U \n",
    "$$"
   ]
  },
  {
   "cell_type": "code",
   "execution_count": 108,
   "metadata": {},
   "outputs": [],
   "source": [
    "def kraus_op(params):\n",
    "    U, _, _, V0, V1 = unitaries_in_povm(params)\n",
    "    D0 = np.diag([np.cos(params[3]/2), np.cos(params[4]/2)])\n",
    "    D1 = np.diag([np.sin(params[3]/2), np.sin(params[4]/2)])\n",
    "    K0 = np.dot(np.dot(V0, D0), U)\n",
    "    K1 = np.dot(np.dot(V1, D1), U)\n",
    "\n",
    "    return K0, K1\n",
    "\n",
    "K0, K1 = kraus_op(params)"
   ]
  },
  {
   "cell_type": "markdown",
   "metadata": {},
   "source": [
    "$ \\hat{K}^\\dagger_1\\hat{K}_1 + \\hat{K}^\\dagger_2\\hat{K}_2 = I$"
   ]
  },
  {
   "cell_type": "code",
   "execution_count": 109,
   "metadata": {},
   "outputs": [
    {
     "data": {
      "text/plain": [
       "tensor([[ 1.00000000e+00+0.00000000e+00j,\n",
       "         -5.55111512e-17-1.21430643e-17j],\n",
       "        [-5.55111512e-17+1.21430643e-17j,\n",
       "          1.00000000e+00+0.00000000e+00j]], requires_grad=True)"
      ]
     },
     "execution_count": 109,
     "metadata": {},
     "output_type": "execute_result"
    }
   ],
   "source": [
    "np.dot(K0.conj().T, K0) + np.dot(K1.conj().T, K1)"
   ]
  },
  {
   "cell_type": "markdown",
   "metadata": {},
   "source": [
    "$ \\langle \\psi_0 $"
   ]
  },
  {
   "cell_type": "code",
   "execution_count": 110,
   "metadata": {},
   "outputs": [
    {
     "data": {
      "text/plain": [
       "(0.1464466093903767+0j)"
      ]
     },
     "execution_count": 110,
     "metadata": {},
     "output_type": "execute_result"
    }
   ],
   "source": [
    "res = np.dot(K1, np.array([1,0]))\n",
    "np.dot(res.conj(),res)"
   ]
  },
  {
   "cell_type": "code",
   "execution_count": 111,
   "metadata": {},
   "outputs": [
    {
     "data": {
      "text/plain": [
       "(0.9999999999855727+0j)"
      ]
     },
     "execution_count": 111,
     "metadata": {},
     "output_type": "execute_result"
    }
   ],
   "source": [
    "res = np.dot(K2, np.array([1/np.sqrt(2),-1/np.sqrt(2)]))\n",
    "np.dot(res.conj(),res)"
   ]
  },
  {
   "cell_type": "code",
   "execution_count": 112,
   "metadata": {},
   "outputs": [
    {
     "data": {
      "text/plain": [
       "tensor([[ 0.12477206-4.31158281e-04j, -0.30122637+1.04122018e-03j],\n",
       "        [-0.00929095+3.61651815e-01j,  0.02243358-8.73104642e-01j]], requires_grad=True)"
      ]
     },
     "execution_count": 112,
     "metadata": {},
     "output_type": "execute_result"
    }
   ],
   "source": [
    "K1"
   ]
  },
  {
   "cell_type": "code",
   "execution_count": null,
   "metadata": {},
   "outputs": [],
   "source": []
  }
 ],
 "metadata": {
  "interpreter": {
   "hash": "8613c02920a51202e77dee99993d866e60c75b9a4757d9c1c24f8bb29668ccad"
  },
  "kernelspec": {
   "display_name": "Python 3.7.4 64-bit ('base': conda)",
   "name": "python3"
  },
  "language_info": {
   "codemirror_mode": {
    "name": "ipython",
    "version": 3
   },
   "file_extension": ".py",
   "mimetype": "text/x-python",
   "name": "python",
   "nbconvert_exporter": "python",
   "pygments_lexer": "ipython3",
   "version": "3.7.4"
  },
  "orig_nbformat": 4
 },
 "nbformat": 4,
 "nbformat_minor": 2
}

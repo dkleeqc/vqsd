{
 "cells": [
  {
   "cell_type": "markdown",
   "metadata": {},
   "source": [
    "# <center> POVM as a quantum version of the classifier </center>"
   ]
  },
  {
   "cell_type": "code",
   "execution_count": 1,
   "metadata": {},
   "outputs": [],
   "source": [
    "import pennylane as qml\n",
    "from pennylane import numpy as np\n",
    "\n",
    "from sympy import * \n",
    "from sympy.physics.quantum.circuitplot import CircuitPlot,labeller,Mz,CreateOneQubitGate\n",
    "from sympy.physics.quantum.gate import *\n",
    "from sympy.physics.quantum.qasm import Qasm"
   ]
  },
  {
   "cell_type": "code",
   "execution_count": 2,
   "metadata": {},
   "outputs": [],
   "source": [
    "dev = qml.device('default.qubit', wires=2)\n",
    "dev = qml.device('default.qubit', wires=3)\n",
    "#dev = qml.device('qiskit.aer', wires=2)\n",
    "#dev = qml.device('qiskit.ibmq', wires=2, shots=8192, ibmqx_token=\"e942e97ce86ca8c3609a4053fe6762ec3db17c41895b2d85d6a3560a1156501d57db36753f99138ecb32dca58a97ae5b38005ad39855dd92ab0e86cef852c1a2\")"
   ]
  },
  {
   "cell_type": "markdown",
   "metadata": {},
   "source": [
    "---\n",
    "## Two-element POVM Module."
   ]
  },
  {
   "cell_type": "code",
   "execution_count": 3,
   "metadata": {},
   "outputs": [
    {
     "data": {
      "text/plain": [
       "<sympy.physics.quantum.circuitplot.CircuitPlot at 0x7fb7121e41c0>"
      ]
     },
     "execution_count": 3,
     "metadata": {},
     "output_type": "execute_result"
    },
    {
     "data": {
      "image/png": "[encoded data removed]",
      "text/plain": [
       "<Figure size 576x144 with 1 Axes>"
      ]
     },
     "metadata": {},
     "output_type": "display_data"
    }
   ],
   "source": [
    "Ry1 = CreateOneQubitGate('Ry1', r'R_y(\\theta_1)')\n",
    "Ry2 = CreateOneQubitGate('Ry2', r'R_y(\\theta_2)')\n",
    "V1 = CreateOneQubitGate('V1', r'V_1')\n",
    "V2 = CreateOneQubitGate('V2', r'V_2')\n",
    "\n",
    "CircuitPlot(CGate(0,V2(1))*X(0)*CGate(0,V1(1))*X(0)*CGate(1,Ry2(0))*X(1)*CGate(1,Ry1(0))*X(1),2)"
   ]
  },
  {
   "cell_type": "code",
   "execution_count": 4,
   "metadata": {},
   "outputs": [],
   "source": [
    "def two_element_povm(params, wires):\n",
    "    #params \n",
    "\n",
    "    # Controlled-RY gate controlled by first qubit in |0> state\n",
    "    qml.PauliX(wires=wires[0])\n",
    "    qml.CRY(params[0], wires=[wires[0],wires[1]])\n",
    "    qml.PauliX(wires=wires[0])\n",
    "    \n",
    "    # Controlled-RY gate controlled by first qubit in |1> state\n",
    "    qml.CRY(params[1], wires=[wires[0],wires[1]])\n",
    "    \n",
    "    # Controlled-Rotation gate (arbitrary single-qubit unitary operator) controlled by 2nd qubit in |0> state\n",
    "    qml.PauliX(wires=wires[1])\n",
    "    qml.CRot(params[2], params[3], params[4], wires=[wires[1],wires[0]])\n",
    "    qml.PauliX(wires=wires[1])\n",
    "\n",
    "    # # Controlled-Rotation gate (arbitrary single-qubit unitary operator) controlled by 2nd qubit in |1> state\n",
    "    qml.CRot(params[5], params[6], params[7], wires=[wires[1],wires[0]])"
   ]
  },
  {
   "cell_type": "markdown",
   "metadata": {},
   "source": [
    "#### Test and Drawing `two_element_povm` module"
   ]
  },
  {
   "cell_type": "code",
   "execution_count": 5,
   "metadata": {},
   "outputs": [
    {
     "name": "stdout",
     "output_type": "stream",
     "text": [
      "Drawing a two-element POVM circuit : \n",
      " 0: ──X──╭C──────────X──╭C─────────────╭Rot(0.758, 0.43, 0.679)─────╭Rot(0.984, 0.202, 0.868)──╭┤ ⟨I ⊗ Z⟩ \n",
      " 1: ─────╰RY(0.684)─────╰RY(0.524)──X──╰C────────────────────────X──╰C─────────────────────────╰┤ ⟨I ⊗ Z⟩ \n",
      "\n"
     ]
    }
   ],
   "source": [
    "@qml.qnode(dev)\n",
    "def povm_circuit(params):\n",
    "    two_element_povm(params, wires=[0, 1])\n",
    "    return qml.expval(qml.Identity(0) @ qml.PauliZ(1))\n",
    "\n",
    "# initial parameters\n",
    "params = np.random.random([8])\n",
    "povm_circuit(params)\n",
    "\n",
    "print(\"Drawing a two-element POVM circuit : \")\n",
    "print(povm_circuit.draw())"
   ]
  },
  {
   "cell_type": "code",
   "execution_count": 6,
   "metadata": {},
   "outputs": [
    {
     "data": {
      "text/plain": [
       "<QNode: wires=3, device='default.qubit.autograd', interface='autograd', diff_method='backprop'>"
      ]
     },
     "execution_count": 6,
     "metadata": {},
     "output_type": "execute_result"
    }
   ],
   "source": [
    "povm_circuit"
   ]
  },
  {
   "cell_type": "markdown",
   "metadata": {},
   "source": [
    "---\n",
    "## Three-element POVM Module."
   ]
  },
  {
   "cell_type": "code",
   "execution_count": 7,
   "metadata": {},
   "outputs": [
    {
     "data": {
      "text/plain": [
       "<sympy.physics.quantum.circuitplot.CircuitPlot at 0x7fb712416640>"
      ]
     },
     "execution_count": 7,
     "metadata": {},
     "output_type": "execute_result"
    },
    {
     "data": {
      "image/png": "[encoded data removed]",
      "text/plain": [
       "<Figure size 360x216 with 1 Axes>"
      ]
     },
     "metadata": {},
     "output_type": "display_data"
    }
   ],
   "source": [
    "V = CreateOneQubitGate('V', r'V')\n",
    "Vdg = CreateOneQubitGate('Vdg', r'V^\\dagger')\n",
    "CircuitPlot(CGate(2,V(0))*CNOT(2,1)*CGate((1),Vdg(0))*CNOT(2,1)*CGate((1),V(0)),3)"
   ]
  },
  {
   "cell_type": "markdown",
   "metadata": {},
   "source": [
    "### Doubly controlled $\\hat{R}_y(\\theta)$"
   ]
  },
  {
   "cell_type": "code",
   "execution_count": 8,
   "metadata": {},
   "outputs": [],
   "source": [
    "def CCRY(phi, wires):\n",
    "    qml.CRY(phi, wires=[wires[1], wires[2]])\n",
    "    qml.CNOT(wires=[wires[0], wires[1]])\n",
    "    qml.CRY((-1)*phi, wires=[wires[1], wires[2]])\n",
    "    qml.CNOT(wires=[wires[0], wires[1]])\n",
    "    qml.CRY(phi, wires=[wires[0], wires[2]])"
   ]
  },
  {
   "cell_type": "code",
   "execution_count": 9,
   "metadata": {},
   "outputs": [
    {
     "name": "stdout",
     "output_type": "stream",
     "text": [
      "Drawing a CCRY circuit : \n",
      " 0: ──────────────╭C───────────────╭C──╭C──────────╭┤ ⟨I ⊗ Z ⊗ Z⟩ \n",
      " 1: ──╭C──────────╰X──╭C───────────╰X──│───────────├┤ ⟨I ⊗ Z ⊗ Z⟩ \n",
      " 2: ──╰RY(0.655)──────╰RY(-0.655)──────╰RY(0.655)──╰┤ ⟨I ⊗ Z ⊗ Z⟩ \n",
      "\n"
     ]
    }
   ],
   "source": [
    "@qml.qnode(dev)\n",
    "def ccry_circuit(params):\n",
    "    CCRY(params[0], wires=[0, 1, 2])\n",
    "    return qml.expval(qml.Identity(0) @ qml.PauliZ(1) @ qml.PauliZ(2))\n",
    "\n",
    "# initial parameters\n",
    "params = np.random.random([1])\n",
    "ccry_circuit(params)\n",
    "\n",
    "print(\"Drawing a CCRY circuit : \")\n",
    "print(ccry_circuit.draw())"
   ]
  },
  {
   "cell_type": "markdown",
   "metadata": {},
   "source": [
    "### Doubly controlled Rotation $\\hat{V}(\\phi, \\theta, \\omega)$"
   ]
  },
  {
   "cell_type": "markdown",
   "metadata": {},
   "source": [
    "$U(\\phi,\\theta,\\omega)^\\dagger = U(-\\omega,-\\theta,-\\gamma)$"
   ]
  },
  {
   "cell_type": "code",
   "execution_count": 10,
   "metadata": {},
   "outputs": [],
   "source": [
    "def CCRot(phi, theta, omega, wires):\n",
    "    qml.CRot(phi, theta, omega, wires=[wires[1], wires[2]])\n",
    "    qml.CNOT(wires=[wires[0], wires[1]])\n",
    "    qml.CRot((-1)*omega, (-1)*theta, (-1)*phi, wires=[wires[1], wires[2]])\n",
    "    qml.CNOT(wires=[wires[0], wires[1]])\n",
    "    qml.CRot(phi, theta, omega, wires=[wires[0], wires[2]])"
   ]
  },
  {
   "cell_type": "code",
   "execution_count": 11,
   "metadata": {},
   "outputs": [
    {
     "name": "stdout",
     "output_type": "stream",
     "text": [
      "Drawing a CCRY circuit : \n",
      " 0: ───────────────────────────╭C──────────────────────────────╭C──╭C───────────────────────╭┤ ⟨I ⊗ Z ⊗ Z⟩ \n",
      " 1: ──╭C───────────────────────╰X──╭C──────────────────────────╰X──│────────────────────────├┤ ⟨I ⊗ Z ⊗ Z⟩ \n",
      " 2: ──╰Rot(0.378, 0.53, 0.25)──────╰Rot(-0.25, -0.53, -0.378)──────╰Rot(0.378, 0.53, 0.25)──╰┤ ⟨I ⊗ Z ⊗ Z⟩ \n",
      "\n"
     ]
    }
   ],
   "source": [
    "@qml.qnode(dev)\n",
    "def ccrot_circuit(params):\n",
    "    CCRot(params[0], params[1], params[2], wires=[0, 1, 2])\n",
    "    return qml.expval(qml.Identity(0) @ qml.PauliZ(1) @ qml.PauliZ(2))\n",
    "\n",
    "# initial parameters\n",
    "params = np.random.random([3])\n",
    "ccrot_circuit(params)\n",
    "\n",
    "print(\"Drawing a CCRY circuit : \")\n",
    "print(ccrot_circuit.draw())"
   ]
  },
  {
   "cell_type": "markdown",
   "metadata": {},
   "source": [
    "### Three-element POVM "
   ]
  },
  {
   "cell_type": "code",
   "execution_count": 12,
   "metadata": {},
   "outputs": [
    {
     "data": {
      "text/plain": [
       "<sympy.physics.quantum.circuitplot.CircuitPlot at 0x7fb712753070>"
      ]
     },
     "execution_count": 12,
     "metadata": {},
     "output_type": "execute_result"
    },
    {
     "data": {
      "image/png": "[encoded data removed]",
      "text/plain": [
       "<Figure size 1152x216 with 1 Axes>"
      ]
     },
     "metadata": {},
     "output_type": "display_data"
    }
   ],
   "source": [
    "Ry11 = CreateOneQubitGate('Ry1', r'R_y(\\theta^{(1)}_1)')\n",
    "Ry12 = CreateOneQubitGate('Ry2', r'R_y(\\theta^{(1)}_2)')\n",
    "V11 = CreateOneQubitGate('V1', r'V^{(1)}_1')\n",
    "V12 = CreateOneQubitGate('V2', r'V^{(1)}_2')\n",
    "Ry21 = CreateOneQubitGate('Ry1', r'R_y(\\theta^{(2)}_1)')\n",
    "Ry22 = CreateOneQubitGate('Ry2', r'R_y(\\theta^{(2)}_2)')\n",
    "V21 = CreateOneQubitGate('V1', r'V^{(2)}_1')\n",
    "V22 = CreateOneQubitGate('V2', r'V^{(2)}_2')\n",
    "\n",
    "\n",
    "\n",
    "CircuitPlot(CGate((0,1),V22(2))*X(0)*CGate((0,1),V21(2))*X(0)*CGate((1,2),Ry22(0))*X(2)*CGate((1,2),Ry21(0))*X(2)*CGate(1,V12(2))*X(1)*CGate(1,V11(2))*X(1)*CGate(2,Ry12(1))*X(2)*CGate(2,Ry11(1))*X(2),3)"
   ]
  },
  {
   "cell_type": "code",
   "execution_count": 13,
   "metadata": {},
   "outputs": [],
   "source": [
    "def three_element_povm(params, wires): \n",
    "\n",
    "    two_element_povm(params[:8], wires=[wires[0], wires[1]])\n",
    "\n",
    "    qml.PauliX(wires=wires[0])\n",
    "    CCRY(params[8], wires=[wires[0], wires[1], wires[2]])\n",
    "    qml.PauliX(wires=wires[0])\n",
    "    CCRY(params[9], wires=[wires[0], wires[1], wires[2]])\n",
    "\n",
    "    qml.PauliX(wires=wires[2])\n",
    "    CCRot(params[10], params[11], params[12], wires=[wires[2],wires[1],wires[0]])\n",
    "    qml.PauliX(wires=wires[2])\n",
    "    CCRot(params[13], params[14], params[15], wires=[wires[2],wires[1],wires[0]])"
   ]
  },
  {
   "cell_type": "code",
   "execution_count": 14,
   "metadata": {},
   "outputs": [
    {
     "name": "stdout",
     "output_type": "stream",
     "text": [
      "Drawing a two-element POVM circuit : \n",
      " 0: ──X──╭C──────────X──╭C─────────────╭Rot(0.547, 0.579, 0.511)─────╭Rot(0.77, 0.765, 0.639)───X──────────╭C───────────────╭C──╭C───────────X──────────╭C───────────────╭C──╭C──────────╭Rot(0.509, 0.6, 0.364)──────╭Rot(-0.364, -0.6, -0.509)──────╭Rot(0.509, 0.6, 0.364)──╭Rot(0.916, 0.172, 0.743)──────╭Rot(-0.743, -0.172, -0.916)──────╭Rot(0.916, 0.172, 0.743)──╭┤ ⟨I ⊗ Z ⊗ Z⟩ \n",
      " 1: ─────╰RY(0.225)─────╰RY(0.984)──X──╰C─────────────────────────X──╰C────────────────────────╭C──────────╰X──╭C───────────╰X──│───────────╭C──────────╰X──╭C───────────╰X──│───────────╰C───────────────────────╭X──╰C──────────────────────────╭X──│────────────────────────╰C─────────────────────────╭X──╰C────────────────────────────╭X──│──────────────────────────├┤ ⟨I ⊗ Z ⊗ Z⟩ \n",
      " 2: ───────────────────────────────────────────────────────────────────────────────────────────╰RY(0.743)──────╰RY(-0.743)──────╰RY(0.743)──╰RY(0.368)──────╰RY(-0.368)──────╰RY(0.368)───X───────────────────────╰C──────────────────────────────╰C──╰C────────────────────────X─────────────────────────╰C────────────────────────────────╰C──╰C─────────────────────────╰┤ ⟨I ⊗ Z ⊗ Z⟩ \n",
      "\n"
     ]
    }
   ],
   "source": [
    "@qml.qnode(dev)\n",
    "def povm_circuit(params):\n",
    "    three_element_povm(params, wires=[0, 1, 2])\n",
    "    return qml.expval(qml.Identity(0) @ qml.PauliZ(1) @ qml.PauliZ(2))\n",
    "\n",
    "# initial parameters\n",
    "params = np.random.random([16])\n",
    "povm_circuit(params)\n",
    "\n",
    "print(\"Drawing a two-element POVM circuit : \")\n",
    "print(povm_circuit.draw())"
   ]
  },
  {
   "cell_type": "markdown",
   "metadata": {},
   "source": [
    "---\n",
    "## Preparing arbitrary pure states in the quantum circuit"
   ]
  },
  {
   "cell_type": "code",
   "execution_count": 15,
   "metadata": {},
   "outputs": [],
   "source": [
    "#@qml.qnode(dev)\n",
    "def state_preparation(statevector, wire):\n",
    "    theta = 2 * np.arccos(statevector[0])\n",
    "    phi = np.angle(statevector[1]/np.sin(theta/2)) if not np.isclose(np.sin(theta/2), 0) else 0\n",
    "    #print(theta, phi)\n",
    "\n",
    "    qml.Rot(phi, theta, (-1)*phi, wires=wire)\n",
    "    #return qml.state()"
   ]
  },
  {
   "cell_type": "markdown",
   "metadata": {},
   "source": [
    "Examples <br>\n",
    "$n=2$ <br>\n",
    "$n=3$, $|\\psi_0\\rangle = |0\\rangle$, $|\\psi_1\\rangle = (|0\\rangle + \\sqrt{3} |1\\rangle)/2$, $|\\psi_2\\rangle = (|0\\rangle - \\sqrt{3} |1\\rangle)/2$"
   ]
  },
  {
   "cell_type": "markdown",
   "metadata": {},
   "source": [
    "---\n",
    "## Minimum Error Discrimination"
   ]
  },
  {
   "cell_type": "markdown",
   "metadata": {},
   "source": [
    "Preparation: $\\{q_i,\\hat{\\rho}_i\\}^{N}_{i=1}$ $\\longleftarrow$ $\\hat{\\rho} = \\sum_i q_i\\hat{\\rho}_i$. <br>\n",
    "\n",
    "POVMs: $\\{E_k\\}_{k=1}^{L}$ with $\\sum_{k=1}^{L} E_k = I$."
   ]
  },
  {
   "cell_type": "markdown",
   "metadata": {},
   "source": [
    "For three-element POVMs $\\{\\hat{E}_0, \\hat{E}_1, \\hat{E}_2\\}$ on three different state prepared as $\\{(q_0,\\hat{\\rho}_0), (q_1,\\hat{\\rho}_1), (q_2,\\hat{\\rho}_2)\\}$, \n",
    "$$\n",
    "p_{error} = 1 - p_{guess} = 1-\\max_{\\vec{\\theta}}\\left(q_0\\text{Tr}[\\hat{E}_0\\hat{\\rho}_0] + q_1\\text{Tr}[\\hat{E}_1\\hat{\\rho}_1] + q_2\\text{Tr}[\\hat{E}_2\\hat{\\rho}_2]\\right)\n",
    "$$"
   ]
  },
  {
   "cell_type": "markdown",
   "metadata": {},
   "source": [
    "---\n",
    "## Probabilities"
   ]
  },
  {
   "cell_type": "markdown",
   "metadata": {},
   "source": [
    "$$\n",
    "p(k) = \\langle \\psi_k|\\hat{K}^\\dagger_k\\hat{K}_k|\\psi_k\\rangle = \\text{Tr}[\\hat{E}_k\\hat{\\rho}_k]\n",
    "$$"
   ]
  },
  {
   "cell_type": "code",
   "execution_count": 16,
   "metadata": {},
   "outputs": [],
   "source": [
    "@qml.qnode(dev)\n",
    "def circuit_povm_probs(init_state, params):\n",
    "    state_preparation(init_state, wire=0)\n",
    "\n",
    "    # arbitrary rotation\n",
    "    qml.Rot(params[0], params[1], params[2], wires=0)\n",
    "\n",
    "    # two-element POVM\n",
    "    three_element_povm(params[3:], wires=[0, 1, 2])\n",
    "\n",
    "    #qml.CNOT(wires=[2,1])\n",
    "\n",
    "    return qml.probs(wires=[1, 2])"
   ]
  },
  {
   "cell_type": "markdown",
   "metadata": {},
   "source": [
    "---"
   ]
  },
  {
   "cell_type": "markdown",
   "metadata": {},
   "source": [
    "Optimal POVM for State Discrimination"
   ]
  },
  {
   "cell_type": "code",
   "execution_count": 17,
   "metadata": {},
   "outputs": [],
   "source": [
    "def cost(x):\n",
    "    psi0 = [1, 0]\n",
    "    psi1 = [1/2, np.sqrt(3)/2]\n",
    "    psi2 = [1/2, (-1)*np.sqrt(3)/2]\n",
    "\n",
    "    prob0 = circuit_povm_probs(psi0, x)[0]\n",
    "    prob1 = circuit_povm_probs(psi1, x)[2]\n",
    "    prob2 = circuit_povm_probs(psi2, x)[3]\n",
    "\n",
    "    q0 = 1/2\n",
    "    q1 = 1/2\n",
    "    q2 = 1/2\n",
    "\n",
    "    res = 1 - (q0 * prob0 + q1 * prob1 + q2 * prob2)\n",
    "    return res\n"
   ]
  },
  {
   "cell_type": "code",
   "execution_count": 32,
   "metadata": {},
   "outputs": [
    {
     "name": "stdout",
     "output_type": "stream",
     "text": [
      "cost(init_params) = 0.44632437676803105\n",
      "Cost after step     5:  0.1931916\n",
      "Cost after step    10:  0.0703299\n",
      "Cost after step    15:  0.0338388\n",
      "Cost after step    20:  0.0204800\n",
      "Cost after step    25:  0.0129653\n",
      "Cost after step    30:  0.0082205\n",
      "Cost after step    35:  0.0051899\n",
      "Cost after step    40:  0.0032641\n",
      "Cost after step    45:  0.0020476\n",
      "Cost after step    50:  0.0012824\n",
      "Cost after step    55:  0.0008025\n",
      "Cost after step    60:  0.0005019\n",
      "Cost after step    65:  0.0003139\n",
      "Cost after step    70:  0.0001964\n",
      "Cost after step    75:  0.0001228\n",
      "Cost after step    80:  0.0000769\n",
      "Cost after step    85:  0.0000481\n",
      "Cost after step    90:  0.0000301\n",
      "Cost after step    95:  0.0000189\n",
      "Cost after step   100:  0.0000118\n",
      "Cost after step   105:  0.0000074\n",
      "Cost after step   110:  0.0000046\n",
      "Cost after step   115:  0.0000029\n",
      "Cost after step   120:  0.0000018\n",
      "Cost after step   125:  0.0000011\n",
      "Cost after step   130:  0.0000007\n",
      "Cost after step   135:  0.0000005\n",
      "Cost after step   140:  0.0000003\n",
      "Cost after step   145:  0.0000002\n",
      "Cost after step   150:  0.0000001\n",
      "Cost after step   155:  0.0000001\n",
      "Cost after step   160:  0.0000000\n",
      "Cost after step   165:  0.0000000\n",
      "Cost after step   170:  0.0000000\n",
      "Cost after step   175:  0.0000000\n",
      "Cost after step   180:  0.0000000\n",
      "Cost after step   185:  0.0000000\n",
      "Cost after step   190:  0.0000000\n",
      "Cost after step   195:  0.0000000\n",
      "Cost after step   200:  0.0000000\n",
      "Optimized rotation angles: [ 5.38123778  6.28326753  5.50856712 11.33538365  3.14159265  6.92855169\n",
      " 10.77708332  5.81219217  7.95975103  7.85408884  9.47466207  9.42477796\n",
      " 10.99557429  7.49482246  0.79704091 11.82254663  8.78140866 11.8054378\n",
      "  3.60673981]\n"
     ]
    }
   ],
   "source": [
    "# initialise the optimizer\n",
    "opt = qml.GradientDescentOptimizer(stepsize=0.4)\n",
    "\n",
    "# set the number of steps\n",
    "steps = 200\n",
    "\n",
    "# set the initial parameter values\n",
    "params = 4 * np.pi * np.random.random([19])\n",
    "print(\"cost(init_params) =\", cost(params))\n",
    "\n",
    "for i in range(steps):\n",
    "    # update the circuit parameters\n",
    "    params = opt.step(cost, params)\n",
    "\n",
    "    if (i+1) % 5 == 0:\n",
    "        print(\"Cost after step {:5d}: {: .7f}\".format(i + 1, cost(params)))\n",
    "\n",
    "print(\"Optimized rotation angles: {}\".format(params))"
   ]
  },
  {
   "cell_type": "markdown",
   "metadata": {},
   "source": [
    "---"
   ]
  },
  {
   "cell_type": "code",
   "execution_count": 33,
   "metadata": {},
   "outputs": [],
   "source": [
    "def unitaries_in_povm(params):\n",
    "    U = qml.Rot(params[0], params[1], params[2], wires=2).matrix\n",
    "    Ry00 = qml.RY(params[3], wires=2).matrix\n",
    "    Ry01 = qml.RY(params[4], wires=2).matrix\n",
    "    V00 = qml.Rot(params[5], params[6], params[7], wires=2).matrix\n",
    "    V01 = qml.Rot(params[8], params[9], params[10], wires=2).matrix\n",
    "    Ry10 = qml.RY(params[11], wires=2).matrix\n",
    "    Ry11 = qml.RY(params[12], wires=2).matrix\n",
    "    V10 = qml.Rot(params[13], params[14], params[15], wires=2).matrix\n",
    "    V11 = qml.Rot(params[16], params[17], params[18], wires=2).matrix\n",
    "\n",
    "\n",
    "    return U, Ry00, Ry01, V00, V01, Ry10, Ry11, V10, V11\n",
    "\n",
    "U, Ry00, Ry01, V00, V01, Ry10, Ry11, V10, V11 = unitaries_in_povm(params)"
   ]
  },
  {
   "cell_type": "markdown",
   "metadata": {},
   "source": [
    "$$\n",
    "\\hat{K}_0 = V^{(0)}_0D^{(0)}_0U \\\\\n",
    "\\hat{K}_1 = V^{(1)}_0D^{(1)}_0V^{(0)}_1D^{(0)}_1U \\\\\n",
    "\\hat{K}_2 = V^{(1)}_1D^{(1)}_1V^{(0)}_1D^{(0)}_1U \n",
    "$$"
   ]
  },
  {
   "cell_type": "code",
   "execution_count": 34,
   "metadata": {},
   "outputs": [],
   "source": [
    "def kraus_op(params):\n",
    "    U, _, _, V00, V01, _, _, V10, V11 = unitaries_in_povm(params)\n",
    "    D00 = np.diag([np.cos(params[3]/2), np.cos(params[4]/2)])\n",
    "    D01 = np.diag([np.sin(params[3]/2), np.sin(params[4]/2)])\n",
    "    D10 = np.diag([np.cos(params[11]/2), np.cos(params[12]/2)])\n",
    "    D11 = np.diag([np.sin(params[11]/2), np.sin(params[12]/2)])\n",
    "    K0 = np.dot(np.dot(V00, D00), U)\n",
    "    _mid = np.dot(np.dot(V01, D01), U)\n",
    "    K1 = np.dot(np.dot(V10,D10),_mid)\n",
    "    K2 = np.dot(np.dot(V11,D11),_mid)\n",
    "    \n",
    "\n",
    "    return K0, K1, K2"
   ]
  },
  {
   "cell_type": "code",
   "execution_count": 35,
   "metadata": {},
   "outputs": [
    {
     "name": "stdout",
     "output_type": "stream",
     "text": [
      "K0 = [[-3.73478769e-01-3.48697028e-01j  2.07674116e-05-3.15678344e-06j]\n",
      " [ 6.12029819e-01+1.76060141e-01j -2.12804154e-05+1.52516026e-05j]]\n",
      "K1 = [[ 0.09442395-0.06028055j -0.16353987+0.10439581j]\n",
      " [-0.06808869+0.2572012j   0.11794167-0.44545095j]]\n",
      "K2 = [[-0.02980864-0.47080745j  0.1358702 -0.49495669j]\n",
      " [ 0.09376274+0.13663274j  0.10282349-0.68993038j]]\n"
     ]
    }
   ],
   "source": [
    "K0, K1, K2 = kraus_op(params)\n",
    "\n",
    "print(\"K0 =\", K0)\n",
    "print(\"K1 =\", K1)\n",
    "print(\"K2 =\", K2)"
   ]
  },
  {
   "cell_type": "code",
   "execution_count": 36,
   "metadata": {},
   "outputs": [
    {
     "name": "stdout",
     "output_type": "stream",
     "text": [
      "E0 = [[ 6.66653681e-01+0.00000000e+00j -1.69944758e-05+2.15015948e-05j]\n",
      " [-1.69944758e-05-2.15015948e-05j  1.12671813e-09+0.00000000e+00j]]\n",
      "E1 = [[ 0.08333816+0.00000000e+00j -0.14433613-5.37513954e-06j]\n",
      " [-0.14433613+5.37513954e-06j  0.24998056+0.00000000e+00j]]\n",
      "E2 = [[0.25000816+0.00000000e+00j 0.14435312-1.61264553e-05j]\n",
      " [0.14435312+1.61264553e-05j 0.75001944+0.00000000e+00j]]\n",
      "E0 + E1 + E2 = [[1.00000000e+00+0.00000000e+00j 8.32667268e-17+1.83026879e-17j]\n",
      " [8.32667268e-17-1.83026879e-17j 1.00000000e+00+0.00000000e+00j]]\n"
     ]
    }
   ],
   "source": [
    "E0 = np.dot(K0.conj().T, K0) \n",
    "E1 = np.dot(K1.conj().T, K1)\n",
    "E2 = np.dot(K2.conj().T, K2)\n",
    "print(\"E0 =\", E0)\n",
    "print(\"E1 =\", E1)\n",
    "print(\"E2 =\", E2)\n",
    "print(\"E0 + E1 + E2 =\", E0 + E1 + E2)"
   ]
  },
  {
   "cell_type": "markdown",
   "metadata": {},
   "source": [
    "In PRA,"
   ]
  },
  {
   "cell_type": "code",
   "execution_count": 37,
   "metadata": {},
   "outputs": [],
   "source": [
    "M2 = (1/np.sqrt(6)) * np.array([[1/4, np.sqrt(3)/4],[np.sqrt(3)/4, 3/4]])\n",
    "M3 = (1/np.sqrt(6)) * np.array([[1/4, -np.sqrt(3)/4],[-np.sqrt(3)/4, 3/4]])"
   ]
  },
  {
   "cell_type": "code",
   "execution_count": 38,
   "metadata": {},
   "outputs": [
    {
     "name": "stdout",
     "output_type": "stream",
     "text": [
      "[[0.04166667 0.07216878]\n",
      " [0.07216878 0.125     ]]\n",
      "[[ 0.04166667 -0.07216878]\n",
      " [-0.07216878  0.125     ]]\n"
     ]
    }
   ],
   "source": [
    "print(np.dot(M2.T, M2))\n",
    "print(np.dot(M3.T, M3))"
   ]
  },
  {
   "cell_type": "code",
   "execution_count": 39,
   "metadata": {},
   "outputs": [
    {
     "data": {
      "text/plain": [
       "(0.6666536805367365+0j)"
      ]
     },
     "execution_count": 39,
     "metadata": {},
     "output_type": "execute_result"
    }
   ],
   "source": [
    "res = np.dot(K0, np.array([1,0]))\n",
    "np.dot(res.conj(),res)"
   ]
  },
  {
   "cell_type": "code",
   "execution_count": 40,
   "metadata": {},
   "outputs": [
    {
     "data": {
      "text/plain": [
       "(0.08332120134780044+0j)"
      ]
     },
     "execution_count": 40,
     "metadata": {},
     "output_type": "execute_result"
    }
   ],
   "source": [
    "res = np.dot(K1, np.array([1/2,np.sqrt(3)/2]))\n",
    "np.dot(res.conj(),res)"
   ]
  },
  {
   "cell_type": "code",
   "execution_count": 41,
   "metadata": {},
   "outputs": [
    {
     "data": {
      "text/plain": [
       "(0.5000031497040741+0j)"
      ]
     },
     "execution_count": 41,
     "metadata": {},
     "output_type": "execute_result"
    }
   ],
   "source": [
    "res = np.dot(K2, np.array([1/2,(-1)*np.sqrt(3)/2]))\n",
    "np.dot(res.conj(),res)"
   ]
  },
  {
   "cell_type": "markdown",
   "metadata": {},
   "source": []
  }
 ],
 "metadata": {
  "interpreter": {
   "hash": "f3566aecee92b9119d5cab9d3e2af068b42db2260767c2b53e50be0379b5c2ee"
  },
  "kernelspec": {
   "display_name": "Python 3.8.12 64-bit ('quantcirc': conda)",
   "name": "python3"
  },
  "language_info": {
   "codemirror_mode": {
    "name": "ipython",
    "version": 3
   },
   "file_extension": ".py",
   "mimetype": "text/x-python",
   "name": "python",
   "nbconvert_exporter": "python",
   "pygments_lexer": "ipython3",
   "version": "3.8.12"
  }
 },
 "nbformat": 4,
 "nbformat_minor": 2
}

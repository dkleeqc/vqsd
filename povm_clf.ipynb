{
 "cells": [
  {
   "cell_type": "code",
   "execution_count": 4,
   "metadata": {},
   "outputs": [],
   "source": [
    "import pennylane as qml\n",
    "from pennylane import numpy as np\n",
    "import matplotlib.pyplot as plt \n",
    "import qutip\n",
    "from scipy.linalg import sqrtm\n",
    "\n",
    "from povm_clf_test import *"
   ]
  },
  {
   "cell_type": "markdown",
   "metadata": {},
   "source": [
    "---\n",
    "# Circuit Diagrams"
   ]
  },
  {
   "cell_type": "markdown",
   "metadata": {},
   "source": [
    "## State preparation circuit"
   ]
  },
  {
   "cell_type": "code",
   "execution_count": 3,
   "metadata": {},
   "outputs": [
    {
     "name": "stdout",
     "output_type": "stream",
     "text": [
      "* Optimizing for preparing a mixed state ..............................\n",
      "Target Bloch vector =  [0.7, 0, 0]\n",
      "Output Bloch vector =  [7.00518230e-01 6.65558669e-04 2.89266589e-03]\n"
     ]
    }
   ],
   "source": [
    "test = SingleQubitPOVM(bloch_vec=[0.7,0,0])\n",
    "@qml.qnode(qml.device('default.qubit', wires=2))\n",
    "def circ_test():\n",
    "    test.state_prepared_on_circuit(wires=[0,1]) #요거 그림 그려보기!\n",
    "    return qml.expval(qml.PauliZ(0) @ qml.PauliZ(1))"
   ]
  },
  {
   "cell_type": "code",
   "execution_count": 4,
   "metadata": {},
   "outputs": [
    {
     "name": "stdout",
     "output_type": "stream",
     "text": [
      " 0: ──Rot(1.45, 1.02, -0.85)───╭C──Rot(-1.96, 2.27, -6.07)──╭┤ ⟨Z ⊗ Z⟩ \n",
      " 1: ──Rot(-2.52, -1.6, -4.13)──╰X──Rot(3.28, -2.6, -1.53)───╰┤ ⟨Z ⊗ Z⟩ \n",
      "\n"
     ]
    }
   ],
   "source": [
    "diagram = qml.draw(circ_test)\n",
    "print(diagram())"
   ]
  },
  {
   "cell_type": "markdown",
   "metadata": {},
   "source": [
    "## n-element POVM circuit"
   ]
  },
  {
   "cell_type": "code",
   "execution_count": null,
   "metadata": {},
   "outputs": [],
   "source": [
    "n = 3\n",
    "devs = [qml.device('default.qubit', wires=n), qml.device('default.qubit', wires=n)]\n",
    "wires = [0, 1, 2]\n",
    "bloch_vecs = [[0,0,0.7], [0,0,-0.7]]\n",
    "params = 2 * np.pi * np.random.random([(3 + 8 * 2)])\n",
    "\n",
    "\n",
    "@qml.qnode(devs[0])\n",
    "def circ_test1(params, wires):\n",
    "    state_prepared(wires=[wires[0], wires[-1]])\n",
    "    SingleQubitPOVM().first_U(params[:3], wire=wires[0])\n",
    "    SingleQubitPOVM().two_element_povm(params[3:], wires=[wires[0],wires[1]])\n",
    "\n",
    "    return qml.probs(wires=wires[1])\n",
    "\n",
    "circ_test1(params=params, wires=wires)\n",
    "print(circ_test1.draw())"
   ]
  },
  {
   "cell_type": "markdown",
   "metadata": {},
   "source": [
    "---\n",
    "# Pure-state Classifier"
   ]
  },
  {
   "cell_type": "markdown",
   "metadata": {},
   "source": [
    "##  Two-element POVM"
   ]
  },
  {
   "cell_type": "code",
   "execution_count": 3,
   "metadata": {},
   "outputs": [],
   "source": [
    "n = 2\n",
    "dev = [qml.device('default.qubit', wires=n)] * n\n",
    "wires = [0, 1]\n",
    "bloch_vecs = [[1,0,0], [-1,0,0]]"
   ]
  },
  {
   "cell_type": "code",
   "execution_count": 4,
   "metadata": {},
   "outputs": [],
   "source": [
    "classifier = POVM_clf(2, wires, bloch_vecs, dev)\n",
    "Helstrom_bound = classifier.spectral_decomp()"
   ]
  },
  {
   "cell_type": "code",
   "execution_count": 5,
   "metadata": {},
   "outputs": [
    {
     "name": "stdout",
     "output_type": "stream",
     "text": [
      "Cost(init_params)    :  0.4760694\n",
      "Cost after step    20:  0.1443643\n",
      "Cost after step    40:  0.0021662\n",
      "Cost after step    60:  0.0000320\n",
      "Cost after step    80:  0.0000005\n",
      "Cost after step   100:  0.0000000\n"
     ]
    }
   ],
   "source": [
    "cost_list = classifier.run_opt(steps=100)"
   ]
  },
  {
   "cell_type": "code",
   "execution_count": 6,
   "metadata": {},
   "outputs": [
    {
     "data": {
      "image/png": "[encoded data removed]",
      "text/plain": [
       "<Figure size 432x288 with 1 Axes>"
      ]
     },
     "metadata": {
      "needs_background": "light"
     },
     "output_type": "display_data"
    }
   ],
   "source": [
    "plt.plot(list(range(101)), cost_list, '.', label='POVM optimization')\n",
    "plt.plot(list(range(101)), [Helstrom_bound]*101, '-', label=\"Helstrom_bound\")\n",
    "plt.legend()\n",
    "plt.show()"
   ]
  },
  {
   "cell_type": "code",
   "execution_count": 10,
   "metadata": {},
   "outputs": [
    {
     "data": {
      "text/plain": [
       "((tensor([[-2.03418257e-05+1.46183378e-08j,\n",
       "            2.03418259e-05-1.46184923e-08j],\n",
       "          [ 7.07106597e-01+5.08156561e-04j,\n",
       "            7.07106591e-01+5.08151194e-04j]], requires_grad=True),\n",
       "  tensor([[ 7.07106595e-01-5.08151197e-04j,\n",
       "           -7.07106601e-01+5.08156565e-04j],\n",
       "          [ 8.10527988e-05+5.82479526e-08j,\n",
       "            8.10527981e-05+5.82473373e-08j]], requires_grad=True)),\n",
       " (tensor([[0.5       +0.00000000e+00j, 0.49999999-3.79276262e-09j],\n",
       "          [0.49999999+3.79276262e-09j, 0.49999999+0.00000000e+00j]], requires_grad=True),\n",
       "  tensor([[ 0.5       +0.00000000e+00j, -0.49999999+3.79276262e-09j],\n",
       "          [-0.49999999-3.79276262e-09j,  0.50000001+0.00000000e+00j]], requires_grad=True)),\n",
       " [tensor([[0.5+0.j, 0.5+0.j],\n",
       "          [0.5+0.j, 0.5+0.j]], requires_grad=True),\n",
       "  tensor([[ 0.5+0.j, -0.5+0.j],\n",
       "          [-0.5+0.j,  0.5+0.j]], requires_grad=True)])"
      ]
     },
     "execution_count": 10,
     "metadata": {},
     "output_type": "execute_result"
    }
   ],
   "source": [
    "K = classifier.kraus_op()\n",
    "E = classifier.povm()\n",
    "rho = classifier.density_matrices\n",
    "K, E, rho"
   ]
  },
  {
   "cell_type": "markdown",
   "metadata": {},
   "source": [
    "## Three-element POVM"
   ]
  },
  {
   "cell_type": "code",
   "execution_count": 81,
   "metadata": {},
   "outputs": [],
   "source": [
    "n = 3\n",
    "dev = [qml.device('default.qubit', wires=n)] * n\n",
    "wires = [0, 1, 2]\n",
    "\n",
    "\n",
    "state_vecs = [[1/np.sqrt(2), np.exp(1j*2*np.pi/3)/np.sqrt(2)], [1/np.sqrt(2), 1/np.sqrt(2)], \\\n",
    "                [1/np.sqrt(2), np.exp(-1j*2*np.pi/3)/np.sqrt(2)]]\n",
    "bloch_vecs = [state_2_bloch(state_vecs[i]) for i in range(n)"
   ]
  },
  {
   "cell_type": "code",
   "execution_count": 82,
   "metadata": {},
   "outputs": [],
   "source": [
    "classifier = POVM_clf(n, wires, bloch_vecs, dev)\n",
    "#Helstrom_bound = classifier.spectral_decomp()"
   ]
  },
  {
   "cell_type": "code",
   "execution_count": 83,
   "metadata": {},
   "outputs": [
    {
     "name": "stdout",
     "output_type": "stream",
     "text": [
      "Cost(init_params)    :  0.7080831\n",
      "Cost after step    20:  0.6506864\n",
      "Cost after step    40:  0.5334323\n",
      "Cost after step    60:  0.4012811\n",
      "Cost after step    80:  0.3520046\n",
      "Cost after step   100:  0.3387344\n",
      "Cost after step   120:  0.3351352\n",
      "Cost after step   140:  0.3340359\n",
      "Cost after step   160:  0.3336414\n",
      "Cost after step   180:  0.3334793\n",
      "Cost after step   200:  0.3334058\n",
      "Cost after step   220:  0.3333703\n",
      "Cost after step   240:  0.3333524\n",
      "Cost after step   260:  0.3333432\n",
      "Cost after step   280:  0.3333385\n",
      "Cost after step   300:  0.3333360\n"
     ]
    }
   ],
   "source": [
    "steps = 300\n",
    "cost_list = classifier.run_opt(steps)"
   ]
  },
  {
   "cell_type": "code",
   "execution_count": 84,
   "metadata": {},
   "outputs": [
    {
     "data": {
      "image/png": "[encoded data removed]",
      "text/plain": [
       "<Figure size 432x288 with 1 Axes>"
      ]
     },
     "metadata": {
      "needs_background": "light"
     },
     "output_type": "display_data"
    }
   ],
   "source": [
    "plt.plot(list(range(steps+1)), cost_list, '.', label='POVM optimization')\n",
    "pgm, cost_pgm = classifier.sq_rt_m()\n",
    "plt.plot(list(range(steps+1)), [cost_pgm]*(steps+1), '-', label=\"Exact\")\n",
    "plt.legend()\n",
    "plt.show()"
   ]
  },
  {
   "cell_type": "code",
   "execution_count": 85,
   "metadata": {},
   "outputs": [
    {
     "data": {
      "text/plain": [
       "(tensor([[ 0.3332859 +0.j        , -0.16846876+0.28757226j],\n",
       "         [-0.16846876-0.28757226j,  0.33328601+0.j        ]], requires_grad=True),\n",
       " tensor([[0.33496495+0.j        , 0.33496433-0.00062852j],\n",
       "         [0.33496433+0.00062852j, 0.33496489+0.j        ]], requires_grad=True),\n",
       " tensor([[ 0.33174915+0.j        , -0.16649557-0.28694374j],\n",
       "         [-0.16649557+0.28694374j,  0.3317491 +0.j        ]], requires_grad=True))"
      ]
     },
     "execution_count": 85,
     "metadata": {},
     "output_type": "execute_result"
    }
   ],
   "source": [
    "K = classifier.kraus_op()\n",
    "E = classifier.povm()\n",
    "rho = classifier.density_matrices\n",
    "E"
   ]
  },
  {
   "cell_type": "code",
   "execution_count": 86,
   "metadata": {},
   "outputs": [
    {
     "data": {
      "text/plain": [
       "[(0.16847545244759105+0j), (0.6699292431652624+0j), (0.16649634209141412+0j)]"
      ]
     },
     "execution_count": 86,
     "metadata": {},
     "output_type": "execute_result"
    }
   ],
   "source": [
    "[np.trace(np.dot(E[i],rho[i])) for i in range(3)]"
   ]
  },
  {
   "cell_type": "code",
   "execution_count": 6,
   "metadata": {},
   "outputs": [
    {
     "data": {
      "text/plain": [
       "([tensor([[ 0.33333333-2.13662521e-17j, -0.16666667-2.88675135e-01j],\n",
       "          [-0.16666667+2.88675135e-01j,  0.33333333-2.13662521e-17j]], requires_grad=True),\n",
       "  tensor([[0.33333333+0.j, 0.33333333+0.j],\n",
       "          [0.33333333+0.j, 0.33333333+0.j]], requires_grad=True),\n",
       "  tensor([[ 0.33333333+2.13662521e-17j, -0.16666667+2.88675135e-01j],\n",
       "          [-0.16666667-2.88675135e-01j,  0.33333333+2.13662521e-17j]], requires_grad=True)],\n",
       " 0.3333333333333335)"
      ]
     },
     "execution_count": 6,
     "metadata": {},
     "output_type": "execute_result"
    }
   ],
   "source": [
    "#PGM\n",
    "classifier.sq_rt_m()"
   ]
  },
  {
   "cell_type": "markdown",
   "metadata": {},
   "source": [
    "Bloch Sphere visualization for both initial qubit and measurment direction"
   ]
  },
  {
   "cell_type": "code",
   "execution_count": 17,
   "metadata": {},
   "outputs": [
    {
     "data": {
      "image/png": "[encoded data removed]",
      "text/plain": [
       "<Figure size 360x360 with 1 Axes>"
      ]
     },
     "metadata": {},
     "output_type": "display_data"
    }
   ],
   "source": [
    "bloch3 = qutip.Bloch()\n",
    "bloch3.add_points(bloch_vecs[0])\n",
    "bloch3.add_points(bloch_vecs[1])\n",
    "bloch3.add_points(bloch_vecs[2])\n",
    "#bloch3.save('bs_3')\n",
    "bloch3.show()"
   ]
  },
  {
   "cell_type": "markdown",
   "metadata": {},
   "source": [
    "---\n",
    "# Mixed-state Classifier"
   ]
  },
  {
   "cell_type": "markdown",
   "metadata": {},
   "source": [
    "## Two-element POVM"
   ]
  },
  {
   "cell_type": "code",
   "execution_count": 8,
   "metadata": {},
   "outputs": [],
   "source": [
    "n = 2\n",
    "n_qubit = n + 1\n",
    "devs = [qml.device('default.qubit', wires=n_qubit)] * n\n",
    "wires = [0, 1, 2]\n",
    "bloch_vecs = [[0.2,0,0], [-0.2,0,0]]"
   ]
  },
  {
   "cell_type": "code",
   "execution_count": 9,
   "metadata": {},
   "outputs": [
    {
     "name": "stdout",
     "output_type": "stream",
     "text": [
      "* Optimizing for preparing a mixed state ..............................\n",
      "Target Bloch vector =  [0.2, 0, 0]\n",
      "Output Bloch vector =  [0.19820978 0.0006546  0.00154326]\n",
      "* Optimizing for preparing a mixed state ..............................\n",
      "Target Bloch vector =  [-0.2, 0, 0]\n",
      "Output Bloch vector =  [-0.20001478 -0.00167471 -0.00026973]\n"
     ]
    }
   ],
   "source": [
    "classifier = POVM_clf(2, wires, bloch_vecs, devs)\n",
    "Helstrom_bound_exact = classifier.spectral_decomp()\n",
    "Helstrom_bound_noisy = classifier.spectral_decomp(types='noisy')"
   ]
  },
  {
   "cell_type": "code",
   "execution_count": 10,
   "metadata": {},
   "outputs": [
    {
     "name": "stdout",
     "output_type": "stream",
     "text": [
      "Cost(init_params)    :  0.5000960\n",
      "Cost after step    20:  0.4998963\n",
      "Cost after step    40:  0.4995666\n",
      "Cost after step    60:  0.4986857\n",
      "Cost after step    80:  0.4961913\n",
      "Cost after step   100:  0.4895065\n",
      "Cost after step   120:  0.4743087\n",
      "Cost after step   140:  0.4498586\n",
      "Cost after step   160:  0.4262387\n",
      "Cost after step   180:  0.4120539\n",
      "Cost after step   200:  0.4054791\n",
      "Cost after step   220:  0.4026407\n",
      "Cost after step   240:  0.4014120\n",
      "Cost after step   260:  0.4008727\n",
      "Cost after step   280:  0.4006336\n",
      "Cost after step   300:  0.4005271\n",
      "Cost after step   320:  0.4004796\n",
      "Cost after step   340:  0.4004583\n",
      "Cost after step   360:  0.4004488\n",
      "Cost after step   380:  0.4004446\n",
      "Cost after step   400:  0.4004427\n"
     ]
    }
   ],
   "source": [
    "steps=400\n",
    "cost_list = classifier.run_opt(steps)"
   ]
  },
  {
   "cell_type": "code",
   "execution_count": 11,
   "metadata": {},
   "outputs": [
    {
     "data": {
      "image/png": "[encoded data removed]",
      "text/plain": [
       "<Figure size 432x288 with 1 Axes>"
      ]
     },
     "metadata": {
      "needs_background": "light"
     },
     "output_type": "display_data"
    }
   ],
   "source": [
    "plt.plot(list(range(steps+1)), cost_list, '.', label='POVM_clf optimization')\n",
    "plt.plot(list(range(steps+1)), [Helstrom_bound_exact]*(steps+1), '-', label=\"Helstrom_bound_exact: {: .4f}\".format(Helstrom_bound_exact))\n",
    "plt.plot(list(range(steps+1)), [Helstrom_bound_noisy]*(steps+1), '-', label=\"Helstrom_bound_noisy: {: .4f}\".format(Helstrom_bound_noisy))\n",
    "plt.legend()\n",
    "plt.show()"
   ]
  },
  {
   "cell_type": "code",
   "execution_count": 12,
   "metadata": {},
   "outputs": [],
   "source": [
    "K = classifier.kraus_op()\n",
    "E = classifier.povm()\n",
    "rho = classifier.density_matrices"
   ]
  },
  {
   "cell_type": "code",
   "execution_count": 13,
   "metadata": {},
   "outputs": [
    {
     "data": {
      "text/plain": [
       "(0.40000430209859195+0j)"
      ]
     },
     "execution_count": 13,
     "metadata": {},
     "output_type": "execute_result"
    }
   ],
   "source": [
    "1-(1/2)*sum([np.trace(np.dot(E[i], rho[i])) for i in range(2)])"
   ]
  },
  {
   "cell_type": "code",
   "execution_count": 14,
   "metadata": {},
   "outputs": [
    {
     "data": {
      "text/plain": [
       "(tensor([[0.50228751+0.j       , 0.49997849-0.0029226j],\n",
       "         [0.49997849+0.0029226j, 0.49770757+0.j       ]], requires_grad=True),\n",
       " tensor([[ 0.49771249+0.j       , -0.49997849+0.0029226j],\n",
       "         [-0.49997849-0.0029226j,  0.50229243+0.j       ]], requires_grad=True))"
      ]
     },
     "execution_count": 14,
     "metadata": {},
     "output_type": "execute_result"
    }
   ],
   "source": [
    "E"
   ]
  },
  {
   "cell_type": "markdown",
   "metadata": {},
   "source": [
    "## Three-element POVM"
   ]
  },
  {
   "cell_type": "code",
   "execution_count": 38,
   "metadata": {},
   "outputs": [],
   "source": [
    "n = 3\n",
    "n_qubit = n + 1\n",
    "devs = [qml.device('default.qubit', wires=n_qubit)] * n\n",
    "wires = [0, 1, 2, 3]\n",
    "\n",
    "state_vecs = [[1/np.sqrt(2), np.exp(1j*2*np.pi/3)/np.sqrt(2)], [1/np.sqrt(2), 1/np.sqrt(2)], \\\n",
    "                [1/np.sqrt(2), np.exp(-1j*2*np.pi/3)/np.sqrt(2)]]\n",
    "bloch_vecs = [state_2_bloch(state_vecs[i]) for i in range(n)]\n",
    "bloch_vecs = [[0.7 * bloch_vecs[n][i] for i in range(3)] for n in range(n)]"
   ]
  },
  {
   "cell_type": "code",
   "execution_count": 39,
   "metadata": {},
   "outputs": [
    {
     "name": "stdout",
     "output_type": "stream",
     "text": [
      "* Optimizing for preparing a mixed state ..............................\n",
      "Target Bloch vector =  [-0.3499999999999998, 0.6062177826491071, -1.1256858547736456e-16]\n",
      "Output Bloch vector =  [-0.3486154   0.6061899  -0.00239247]\n",
      "* Optimizing for preparing a mixed state ..............................\n",
      "Target Bloch vector =  [0.7, 0.0, -1.1256858547736456e-16]\n",
      "Output Bloch vector =  [ 0.70117007 -0.00117203  0.00076142]\n",
      "* Optimizing for preparing a mixed state ..............................\n",
      "Target Bloch vector =  [-0.3499999999999998, -0.6062177826491071, -1.1256858547736456e-16]\n",
      "Output Bloch vector =  [-0.34949757 -0.60564331 -0.0031617 ]\n"
     ]
    }
   ],
   "source": [
    "classifier = POVM_clf(3, wires, bloch_vecs, devs)\n",
    "#Helstrom_bound_exact = classifier.spectral_decomp()\n",
    "#Helstrom_bound_noisy = classifier.spectral_decomp(types='noisy')"
   ]
  },
  {
   "cell_type": "code",
   "execution_count": 51,
   "metadata": {},
   "outputs": [
    {
     "name": "stdout",
     "output_type": "stream",
     "text": [
      "Cost(init_params)    :  0.4333995\n",
      "Cost after step    20:  0.4333859\n",
      "Cost after step    40:  0.4333780\n",
      "Cost after step    60:  0.4333732\n",
      "Cost after step    80:  0.4333702\n",
      "Cost after step   100:  0.4333684\n",
      "Cost after step   120:  0.4333672\n",
      "Cost after step   140:  0.4333665\n",
      "Cost after step   160:  0.4333660\n",
      "Cost after step   180:  0.4333658\n",
      "Cost after step   200:  0.4333656\n",
      "Cost after step   220:  0.4333655\n",
      "Cost after step   240:  0.4333654\n",
      "Cost after step   260:  0.4333653\n",
      "Cost after step   280:  0.4333653\n",
      "Cost after step   300:  0.4333653\n",
      "Cost after step   320:  0.4333653\n",
      "Cost after step   340:  0.4333653\n",
      "Cost after step   360:  0.4333653\n",
      "Cost after step   380:  0.4333653\n",
      "Cost after step   400:  0.4333653\n",
      "Cost after step   420:  0.4333653\n",
      "Cost after step   440:  0.4333653\n",
      "Cost after step   460:  0.4333653\n",
      "Cost after step   480:  0.4333653\n",
      "Cost after step   500:  0.4333653\n",
      "Cost after step   520:  0.4333653\n",
      "Cost after step   540:  0.4333653\n",
      "Cost after step   560:  0.4333653\n",
      "Cost after step   580:  0.4333653\n",
      "Cost after step   600:  0.4333653\n"
     ]
    }
   ],
   "source": [
    "steps=600\n",
    "cost_list = classifier.run_opt(steps)"
   ]
  },
  {
   "cell_type": "code",
   "execution_count": 52,
   "metadata": {},
   "outputs": [
    {
     "data": {
      "image/png": "[encoded data removed]",
      "text/plain": [
       "<Figure size 432x288 with 1 Axes>"
      ]
     },
     "metadata": {
      "needs_background": "light"
     },
     "output_type": "display_data"
    }
   ],
   "source": [
    "plt.plot(list(range(steps+1)), cost_list, '.', label='POVM_clf optimization')\n",
    "#plt.plot(list(range(steps+1)), [Helstrom_bound_exact]*(steps+1), '-', label=\"Helstrom_bound_exact: {: .4f}\".format(Helstrom_bound_exact))\n",
    "#plt.plot(list(range(steps+1)), [Helstrom_bound_noisy]*(steps+1), '-', label=\"Helstrom_bound_noisy: {: .4f}\".format(Helstrom_bound_noisy))\n",
    "plt.legend()\n",
    "plt.show()"
   ]
  },
  {
   "cell_type": "code",
   "execution_count": 53,
   "metadata": {},
   "outputs": [],
   "source": [
    "K = classifier.kraus_op()\n",
    "E = classifier.povm()\n",
    "rho = classifier.density_matrices"
   ]
  },
  {
   "cell_type": "code",
   "execution_count": 54,
   "metadata": {},
   "outputs": [
    {
     "data": {
      "text/plain": [
       "((tensor([[ 0.33302119+0.j        , -0.16667687-0.28874637j],\n",
       "          [-0.16667687+0.28874637j,  0.33377949+0.j        ]], requires_grad=True),\n",
       "  tensor([[0.33470387+0.j        , 0.33357764+0.00056994j],\n",
       "          [0.33357764-0.00056994j, 0.33245618+0.j        ]], requires_grad=True),\n",
       "  tensor([[ 0.33227494+0.j        , -0.16690077+0.28817643j],\n",
       "          [-0.16690077-0.28817643j,  0.33376433+0.j        ]], requires_grad=True)),\n",
       " (0.4333342051151585+0j))"
      ]
     },
     "execution_count": 54,
     "metadata": {},
     "output_type": "execute_result"
    }
   ],
   "source": [
    "E, 1-(1/3)*sum([np.trace(np.dot(E[i], rho[i])) for i in range(3)])"
   ]
  },
  {
   "cell_type": "code",
   "execution_count": 55,
   "metadata": {},
   "outputs": [
    {
     "data": {
      "text/plain": [
       "([tensor([[ 0.33333333-1.12172823e-17j, -0.11666667-2.02072594e-01j],\n",
       "          [-0.11666667+2.02072594e-01j,  0.33333333-1.12172823e-17j]], requires_grad=True),\n",
       "  tensor([[0.33333333+0.j, 0.23333333+0.j],\n",
       "          [0.23333333+0.j, 0.33333333+0.j]], requires_grad=True),\n",
       "  tensor([[ 0.33333333+1.12172823e-17j, -0.11666667+2.02072594e-01j],\n",
       "          [-0.11666667-2.02072594e-01j,  0.33333333+1.12172823e-17j]], requires_grad=True)],\n",
       " 0.5033333333333334)"
      ]
     },
     "execution_count": 55,
     "metadata": {},
     "output_type": "execute_result"
    }
   ],
   "source": [
    "pgm, cost_pgm = classifier.sq_rt_m()\n",
    "pgm, cost_pgm"
   ]
  },
  {
   "cell_type": "markdown",
   "metadata": {},
   "source": [
    "$$\n",
    "\\text{Tr}[\\hat{\\rho}_i\\hat{E}_i]\n",
    "$$"
   ]
  },
  {
   "cell_type": "code",
   "execution_count": 61,
   "metadata": {},
   "outputs": [
    {
     "data": {
      "text/plain": [
       "[0.4966666666666666, 0.4966666666666666, 0.4966666666666666]"
      ]
     },
     "execution_count": 61,
     "metadata": {},
     "output_type": "execute_result"
    }
   ],
   "source": [
    "[np.real(np.trace(np.dot(rho[i], pgm[i]))) for i in range(3)]"
   ]
  },
  {
   "cell_type": "code",
   "execution_count": 62,
   "metadata": {},
   "outputs": [
    {
     "data": {
      "text/plain": [
       "[0.5667804282755329, 0.5670843747270415, 0.5661325816519499]"
      ]
     },
     "execution_count": 62,
     "metadata": {},
     "output_type": "execute_result"
    }
   ],
   "source": [
    "[np.real(np.trace(np.dot(rho[i], E[i]))) for i in range(3)]"
   ]
  },
  {
   "cell_type": "code",
   "execution_count": 67,
   "metadata": {},
   "outputs": [
    {
     "data": {
      "text/plain": [
       "tensor([[0.18875-0.10608811j, 0.0875 -0.15155445j],\n",
       "        [0.0875 +0.15155445j, 0.18875+0.10608811j]], requires_grad=True)"
      ]
     },
     "execution_count": 67,
     "metadata": {},
     "output_type": "execute_result"
    }
   ],
   "source": [
    "np.dot(rho[0], rho[1])"
   ]
  },
  {
   "cell_type": "code",
   "execution_count": 65,
   "metadata": {},
   "outputs": [
    {
     "data": {
      "text/plain": [
       "tensor([[ 5.59737442e-18+5.80039465e-19j,\n",
       "         -2.97500000e-02-1.71761705e-02j],\n",
       "        [-2.97500000e-02+1.71761705e-02j,\n",
       "          9.29811783e-18-2.16076401e-18j]], requires_grad=True)"
      ]
     },
     "execution_count": 65,
     "metadata": {},
     "output_type": "execute_result"
    }
   ],
   "source": [
    "i, j = 0, 1\n",
    "np.dot(np.dot(pgm[i], rho[i] - rho[j]), pgm[j])"
   ]
  },
  {
   "cell_type": "code",
   "execution_count": 72,
   "metadata": {},
   "outputs": [
    {
     "data": {
      "text/plain": [
       "tensor([[-0.00043039-9.99921834e-06j,  0.00022485-3.68245770e-04j],\n",
       "        [-0.00042896-9.23270331e-06j,  0.00022347-3.67389568e-04j]], requires_grad=True)"
      ]
     },
     "execution_count": 72,
     "metadata": {},
     "output_type": "execute_result"
    }
   ],
   "source": [
    "i, j = 1, 2\n",
    "np.dot(np.dot(E[i], rho[i] - rho[j]), E[j])"
   ]
  },
  {
   "cell_type": "markdown",
   "metadata": {},
   "source": [
    "---\n",
    "# For various purities $\\mathcal{P}$,"
   ]
  },
  {
   "cell_type": "markdown",
   "metadata": {},
   "source": [
    "$\\hat{\\rho} = \\frac{1}{2}(I+\\vec{a}\\cdot\\hat{\\sigma})$ <br>\n",
    "$\n",
    "\\mathcal{P} = Tr[\\hat{\\rho}^2] = \\frac{1}{2}(1+|\\vec{a}|^2) \\Longrightarrow\n",
    "|\\vec{a}| = \\sqrt{2\\mathcal{P}-1}\n",
    "$ "
   ]
  },
  {
   "cell_type": "markdown",
   "metadata": {},
   "source": [
    "## Case 1\n",
    "$\\vec{a}_1 = (\\sqrt{2\\mathcal{P}-1}, 0, 0)$  \n",
    "$\\vec{a}_2 = (-\\sqrt{2\\mathcal{P}-1}, 0, 0)$"
   ]
  },
  {
   "cell_type": "code",
   "execution_count": null,
   "metadata": {},
   "outputs": [],
   "source": [
    "n_qubit = 3\n",
    "wires = [0, 1, 2]\n",
    "n_outcome = 2\n",
    "devs = [qml.device('default.qubit', wires=n_qubit)] * n_outcome\n",
    "\n",
    "cost_list, Hbe_list, Hbn_list = [], [], []\n",
    "ampltd_abs = [1, 0.7, 0.4, 0.1]\n",
    "#Pure state\n",
    "\n",
    "\n",
    "#Mixed state\n",
    "steps = [100, 150, 200, 400]\n",
    "for i, a in enumerate(ampltd_abs):\n",
    "    \n",
    "    bloch_vecs = [[a,0,0], [(-1)*a,0,0]]\n",
    "    if a == 1:\n",
    "        classifier =POVM_clf(2, wires[:2], bloch_vecs, devs[:2])\n",
    "        cost_list.append(classifier.run_opt(steps[i]))\n",
    "        Hbe_list.append(classifier.spectral_decomp())\n",
    "        Hbn_list.append(classifier.spectral_decomp())\n",
    "\n",
    "    else:\n",
    "        classifier = POVM_clf(2, wires, bloch_vecs, devs)\n",
    "        Hbe_list.append(classifier.spectral_decomp())\n",
    "        Hbn_list.append(classifier.spectral_decomp(types='noisy'))\n",
    "\n",
    "        cost_list.append(classifier.run_opt(steps[i]))"
   ]
  },
  {
   "cell_type": "code",
   "execution_count": 14,
   "metadata": {},
   "outputs": [
    {
     "data": {
      "image/png": "[encoded data removed]",
      "text/plain": [
       "<Figure size 576x432 with 1 Axes>"
      ]
     },
     "metadata": {
      "needs_background": "light"
     },
     "output_type": "display_data"
    }
   ],
   "source": [
    "plt.figure(figsize=(8,6))\n",
    "for i in range(len(cost_list)):\n",
    "    plt.plot(list(range(steps[i]+1)), cost_list[i], '.', label=\"POVM_clf opt, purity:{: .2f}\".format((ampltd_abs[i]**2+1)/2))\n",
    "    plt.plot(list(range(steps[i]+1)), [Hbe_list[i]]*(steps[i]+1), '--', label=\"Helstrom_bound_exact: {:.4f}\".format(Hbe_list[i]))\n",
    "    if i !=0:\n",
    "        plt.plot(list(range(steps[i]+1)), [Hbe_list[i]]*(steps[i]+1), '--', label=\"Helstrom_bound_noisy: {:.4f}\".format(Hbn_list[i]))\n",
    "\n",
    "plt.xlabel('Steps', fontsize=13)\n",
    "plt.ylabel(r'$p_{error}$', fontsize=15)\n",
    "plt.legend()\n",
    "plt.savefig('result1.png', bbox_inches='tight', transparent=True)\n",
    "plt.show()"
   ]
  },
  {
   "cell_type": "markdown",
   "metadata": {},
   "source": [
    "## Case 2\n",
    "$\\vec{a}_1 = (\\sqrt{2\\mathcal{P}-1}, 0, 0)$  \n",
    "$\\vec{a}_2 = (0, 0, \\sqrt{2\\mathcal{P}-1})$"
   ]
  },
  {
   "cell_type": "code",
   "execution_count": 15,
   "metadata": {},
   "outputs": [
    {
     "name": "stdout",
     "output_type": "stream",
     "text": [
      "Cost(init_params)    :  0.5131265\n",
      "Cost after step    20:  0.2264332\n",
      "Cost after step    40:  0.1508853\n",
      "Cost after step    60:  0.1466824\n",
      "Cost after step    80:  0.1464592\n",
      "Cost after step   100:  0.1464473\n",
      "Cost after step   120:  0.1464466\n",
      "* Optimizing for preparing a mixed state ......"
     ]
    }
   ],
   "source": [
    "n_qubit = 3\n",
    "wires = [0, 1, 2]\n",
    "n_outcome = 2\n",
    "devs = [qml.device('default.qubit', wires=n_qubit)] * n_outcome\n",
    "\n",
    "cost_list, Hbe_list, Hbn_list = [], [], []\n",
    "purities = [1, 0.85, 0.7, 0.55]\n",
    "\n",
    "\n",
    "steps = [130, 170, 250, 500]\n",
    "for i, p in enumerate(purities):\n",
    "    \n",
    "    bloch_vecs = [[np.sqrt(2*p-1),0,0], [0,0,np.sqrt(2*p-1)]]\n",
    "    if p == 1:\n",
    "        classifier =POVM_clf(2, wires[:2], bloch_vecs, devs[:2])\n",
    "        cost_list.append(classifier.run_opt(steps[i]))\n",
    "        Hbe_list.append(classifier.spectral_decomp())\n",
    "        Hbn_list.append(classifier.spectral_decomp())\n",
    "\n",
    "    else:\n",
    "        classifier = POVM_clf(2, wires, bloch_vecs, devs)\n",
    "        Hbe_list.append(classifier.spectral_decomp())\n",
    "        Hbn_list.append(classifier.spectral_decomp(types='noisy'))\n",
    "\n",
    "        cost_list.append(classifier.run_opt(steps[i]))"
   ]
  },
  {
   "cell_type": "code",
   "execution_count": 14,
   "metadata": {},
   "outputs": [
    {
     "data": {
      "image/png": "[encoded data removed]",
      "text/plain": [
       "<Figure size 576x432 with 1 Axes>"
      ]
     },
     "metadata": {
      "needs_background": "light"
     },
     "output_type": "display_data"
    }
   ],
   "source": [
    "plt.figure(figsize=(8,6))\n",
    "for i in range(len(cost_list)):\n",
    "    plt.plot(list(range(steps[i]+1)), cost_list[i], '.', label=\"Purity:{: .2f}\".format((purities[i])))\n",
    "    plt.plot(list(range(steps[i]+1)), [Hbe_list[i]]*(steps[i]+1), '--', label=\"Helstrom_bound: {:.4f}\".format(Hbe_list[i]))\n",
    "    #if i !=0:\n",
    "    #    plt.plot(list(range(steps[i]+1)), [Hbe_list[i]]*(steps[i]+1), '--', label=\"Helstrom_bound, \"+r\"$\\rho_{noisy}$\"+\": {:.4f}\".format(Hbn_list[i]))\n",
    "\n",
    "plt.xlabel('Steps', fontsize=15)\n",
    "plt.ylabel(r'$C(\\Theta)$', fontsize=20, usetex=True)\n",
    "plt.legend()\n",
    "plt.savefig('result2.png', bbox_inches='tight', transparent=True)\n",
    "plt.show()"
   ]
  },
  {
   "cell_type": "markdown",
   "metadata": {},
   "source": [
    "## Case 3\n",
    "$|\\psi_0\\rangle = \\left(|0\\rangle + e^{2\\pi i /3}|1\\rangle\\right)/\\sqrt{2}$ ===> $\\vec{a}_0=\\sqrt{2\\mathcal{P}-1}(-1/2, \\sqrt{3}/2, 0)$<br>\n",
    "$|\\psi_1\\rangle = \\left(|0\\rangle+|1\\rangle\\right)/\\sqrt{2}$       ========> $\\vec{a}_1 = \\sqrt{2\\mathcal{P}-1}(1,0,0) $ <br>\n",
    "$|\\psi_2\\rangle = \\left(|0\\rangle + e^{-2\\pi i /3}|1\\rangle\\right)/\\sqrt{2}$ ===> $\\vec{a}_2 = \\sqrt{2\\mathcal{P}-1}(-1/2, -\\sqrt{3}/2, 0)$"
   ]
  },
  {
   "cell_type": "code",
   "execution_count": 34,
   "metadata": {},
   "outputs": [
    {
     "name": "stdout",
     "output_type": "stream",
     "text": [
      "Cost(init_params)    :  0.7080831\n",
      "Cost after step    20:  0.6506864\n",
      "Cost after step    40:  0.5334323\n",
      "Cost after step    60:  0.4012811\n",
      "Cost after step    80:  0.3520046\n",
      "Cost after step   100:  0.3387344\n",
      "Cost after step   120:  0.3351352\n",
      "Cost after step   140:  0.3340359\n",
      "Cost after step   160:  0.3336414\n",
      "Cost after step   180:  0.3334793\n",
      "Cost after step   200:  0.3334058\n",
      "Cost after step   220:  0.3333703\n",
      "Cost after step   240:  0.3333524\n",
      "Cost after step   260:  0.3333432\n",
      "Cost after step   280:  0.3333385\n",
      "Cost after step   300:  0.3333360\n",
      "* Optimizing for preparing a mixed state ..............................\n",
      "Target Bloch vector =  [-0.4183300132670376, 0.7245688373094721, -1.3454519387485027e-16]\n",
      "Output Bloch vector =  [-0.41899513  0.72457413 -0.00076244]\n",
      "* Optimizing for preparing a mixed state ..............................\n",
      "Target Bloch vector =  [0.8366600265340756, 0.0, -1.3454519387485027e-16]\n",
      "Output Bloch vector =  [8.35795789e-01 4.77741450e-04 3.30869028e-03]\n",
      "* Optimizing for preparing a mixed state ..............................\n",
      "Target Bloch vector =  [-0.4183300132670376, -0.7245688373094721, -1.3454519387485027e-16]\n",
      "Output Bloch vector =  [-4.20148261e-01 -7.20641875e-01  6.35685763e-04]\n",
      "Cost(init_params)    :  0.7171205\n",
      "Cost after step    20:  0.6719579\n",
      "Cost after step    40:  0.6334682\n",
      "Cost after step    60:  0.5578112\n",
      "Cost after step    80:  0.4842573\n",
      "Cost after step   100:  0.4467973\n",
      "Cost after step   120:  0.4332673\n",
      "Cost after step   140:  0.4287184\n",
      "Cost after step   160:  0.4269347\n",
      "Cost after step   180:  0.4260203\n",
      "Cost after step   200:  0.4254011\n",
      "Cost after step   220:  0.4248572\n",
      "Cost after step   240:  0.4242541\n",
      "Cost after step   260:  0.4234523\n",
      "Cost after step   280:  0.4222503\n",
      "Cost after step   300:  0.4203218\n",
      "Cost after step   320:  0.4171720\n",
      "Cost after step   340:  0.4122744\n",
      "Cost after step   360:  0.4056957\n",
      "Cost after step   380:  0.3988428\n",
      "Cost after step   400:  0.3936213\n",
      "Cost after step   420:  0.3906185\n",
      "Cost after step   440:  0.3891934\n",
      "Cost after step   460:  0.3885816\n",
      "Cost after step   480:  0.3883260\n",
      "Cost after step   500:  0.3882164\n",
      "Cost after step   520:  0.3881666\n",
      "Cost after step   540:  0.3881423\n",
      "Cost after step   560:  0.3881298\n",
      "Cost after step   580:  0.3881230\n",
      "Cost after step   600:  0.3881192\n",
      "Cost after step   620:  0.3881170\n",
      "Cost after step   640:  0.3881158\n",
      "Cost after step   660:  0.3881151\n",
      "Cost after step   680:  0.3881146\n",
      "Cost after step   700:  0.3881144\n",
      "* Optimizing for preparing a mixed state ..............................\n",
      "Target Bloch vector =  [-0.3162277660168377, 0.5477225575051662, -1.0170660659766416e-16]\n",
      "Output Bloch vector =  [-3.14910471e-01  5.48635729e-01 -1.38233554e-04]\n",
      "* Optimizing for preparing a mixed state ..............................\n",
      "Target Bloch vector =  [0.6324555320336758, 0.0, -1.0170660659766416e-16]\n",
      "Output Bloch vector =  [6.32549025e-01 3.98372195e-04 9.79856397e-04]\n",
      "* Optimizing for preparing a mixed state ..............................\n",
      "Target Bloch vector =  [-0.3162277660168377, -0.5477225575051662, -1.0170660659766416e-16]\n",
      "Output Bloch vector =  [-0.31834087 -0.54771263 -0.00341454]\n",
      "Cost(init_params)    :  0.7048143\n",
      "Cost after step    20:  0.6768718\n",
      "Cost after step    40:  0.6578315\n",
      "Cost after step    60:  0.6284294\n",
      "Cost after step    80:  0.5813192\n",
      "Cost after step   100:  0.5372659\n",
      "Cost after step   120:  0.5092704\n",
      "Cost after step   140:  0.4953059\n",
      "Cost after step   160:  0.4891507\n",
      "Cost after step   180:  0.4864227\n",
      "Cost after step   200:  0.4850633\n",
      "Cost after step   220:  0.4842387\n",
      "Cost after step   240:  0.4836114\n",
      "Cost after step   260:  0.4830205\n",
      "Cost after step   280:  0.4823582\n",
      "Cost after step   300:  0.4815175\n",
      "Cost after step   320:  0.4803659\n",
      "Cost after step   340:  0.4787310\n",
      "Cost after step   360:  0.4764181\n",
      "Cost after step   380:  0.4732977\n",
      "Cost after step   400:  0.4694847\n",
      "Cost after step   420:  0.4654731\n",
      "Cost after step   440:  0.4619514\n",
      "Cost after step   460:  0.4593656\n",
      "Cost after step   480:  0.4577260\n",
      "Cost after step   500:  0.4567879\n",
      "Cost after step   520:  0.4562832\n",
      "Cost after step   540:  0.4560189\n",
      "Cost after step   560:  0.4558806\n",
      "Cost after step   580:  0.4558067\n",
      "Cost after step   600:  0.4557660\n",
      "Cost after step   620:  0.4557426\n",
      "Cost after step   640:  0.4557287\n",
      "Cost after step   660:  0.4557202\n",
      "Cost after step   680:  0.4557149\n",
      "Cost after step   700:  0.4557114\n",
      "* Optimizing for preparing a mixed state ..............................\n",
      "Target Bloch vector =  [-0.15811388300841894, 0.2738612787525832, -5.085330329883211e-17]\n",
      "Output Bloch vector =  [-0.15765245  0.27266283 -0.00060132]\n",
      "* Optimizing for preparing a mixed state ..............................\n",
      "Target Bloch vector =  [0.31622776601683805, 0.0, -5.085330329883211e-17]\n",
      "Output Bloch vector =  [3.16307076e-01 1.66392108e-04 4.87221316e-04]\n",
      "* Optimizing for preparing a mixed state ..............................\n",
      "Target Bloch vector =  [-0.15811388300841894, -0.2738612787525832, -5.085330329883211e-17]\n",
      "Output Bloch vector =  [-0.15722589 -0.27447292  0.00295437]\n",
      "Cost(init_params)    :  0.6858016\n",
      "Cost after step    20:  0.6777185\n",
      "Cost after step    40:  0.6717872\n",
      "Cost after step    60:  0.6669658\n",
      "Cost after step    80:  0.6620334\n",
      "Cost after step   100:  0.6557443\n",
      "Cost after step   120:  0.6470624\n",
      "Cost after step   140:  0.6359013\n",
      "Cost after step   160:  0.6235864\n",
      "Cost after step   180:  0.6118845\n",
      "Cost after step   200:  0.6018936\n",
      "Cost after step   220:  0.5940090\n",
      "Cost after step   240:  0.5881836\n",
      "Cost after step   260:  0.5841009\n",
      "Cost after step   280:  0.5813420\n",
      "Cost after step   300:  0.5795150\n",
      "Cost after step   320:  0.5783120\n",
      "Cost after step   340:  0.5775149\n",
      "Cost after step   360:  0.5769777\n",
      "Cost after step   380:  0.5766065\n",
      "Cost after step   400:  0.5763421\n",
      "Cost after step   420:  0.5761474\n",
      "Cost after step   440:  0.5759990\n",
      "Cost after step   460:  0.5758822\n",
      "Cost after step   480:  0.5757874\n",
      "Cost after step   500:  0.5757081\n",
      "Cost after step   520:  0.5756401\n",
      "Cost after step   540:  0.5755802\n",
      "Cost after step   560:  0.5755258\n",
      "Cost after step   580:  0.5754753\n",
      "Cost after step   600:  0.5754270\n",
      "Cost after step   620:  0.5753796\n",
      "Cost after step   640:  0.5753317\n",
      "Cost after step   660:  0.5752822\n",
      "Cost after step   680:  0.5752298\n",
      "Cost after step   700:  0.5751731\n"
     ]
    }
   ],
   "source": [
    "n_qubit = 4\n",
    "wires = [0, 1, 2, 3]\n",
    "n_outcome = 3\n",
    "devs = [qml.device('default.qubit', wires=n_qubit)] * n_outcome\n",
    "\n",
    "cost_list = []\n",
    "cost_pgm_list = []\n",
    "purities = [1, 0.85, 0.7, 0.55]\n",
    "steps = [300, 700, 700, 700]\n",
    "\n",
    "for i, p in enumerate(purities):    \n",
    "    state_vecs = [[1/np.sqrt(2), np.exp(1j*2*np.pi/3)/np.sqrt(2)], [1/np.sqrt(2), 1/np.sqrt(2)], [1/np.sqrt(2), np.exp(-1j*2*np.pi/3)/np.sqrt(2)]]\n",
    "    bloch_vecs = [state_2_bloch(state_vecs[i]) for i in range(3)]\n",
    "    bloch_vecs = [[np.sqrt(2*p-1) * bloch_vecs[n][i] for i in range(3)] for n in range(3)]\n",
    "\n",
    "    if p == 1:\n",
    "        classifier =POVM_clf(3, wires[:3], bloch_vecs, devs)\n",
    "        cost_list.append(classifier.run_opt(steps[i]))\n",
    "\n",
    "    else:\n",
    "        classifier = POVM_clf(3, wires, bloch_vecs, devs)\n",
    "        cost_list.append(classifier.run_opt(steps[i]))\n",
    "    \n",
    "    pgm, cost_pgm = classifier.sq_rt_m()\n",
    "    cost_pgm_list.append(cost_pgm)"
   ]
  },
  {
   "cell_type": "code",
   "execution_count": 37,
   "metadata": {},
   "outputs": [
    {
     "data": {
      "text/plain": [
       "[0.3333333333333335,\n",
       " 0.43333333333333335,\n",
       " 0.5333333333333334,\n",
       " 0.6333333333333332]"
      ]
     },
     "execution_count": 37,
     "metadata": {},
     "output_type": "execute_result"
    }
   ],
   "source": [
    "cost_pgm_list"
   ]
  },
  {
   "cell_type": "code",
   "execution_count": 12,
   "metadata": {},
   "outputs": [
    {
     "data": {
      "image/png": "[encoded data removed]",
      "text/plain": [
       "<Figure size 576x432 with 1 Axes>"
      ]
     },
     "metadata": {
      "needs_background": "light"
     },
     "output_type": "display_data"
    }
   ],
   "source": [
    "plt.figure(figsize=(8,6))\n",
    "for i in range(len(cost_list)):\n",
    "    plt.plot(list(range(steps[i]+1)), cost_list[i], '.', label=\"Purity:{: .2f}\".format((purities[i])))\n",
    "    #cost_pgm\n",
    "    plt.plot(list(range(steps[i]+1)), [cost_pgm_list[i]]*(steps[i]+1), '--', label=\"PGM, Purity:{: .2f}\".format((purities[i])))\n",
    "\n",
    "\n",
    "plt.xlabel('Steps', fontsize=13)\n",
    "plt.ylabel(r'$C(\\Theta)$', fontsize=20, usetex=True)\n",
    "plt.legend()\n",
    "plt.savefig('result3.png', bbox_inches='tight', transparent=True)\n",
    "plt.show()"
   ]
  },
  {
   "cell_type": "code",
   "execution_count": null,
   "metadata": {},
   "outputs": [],
   "source": []
  },
  {
   "cell_type": "code",
   "execution_count": 4,
   "metadata": {},
   "outputs": [
    {
     "data": {
      "text/plain": [
       "[0.333336019989774,\n",
       " 0.38811440103983674,\n",
       " 0.4557114445909325,\n",
       " 0.5751731372929737]"
      ]
     },
     "execution_count": 4,
     "metadata": {},
     "output_type": "execute_result"
    }
   ],
   "source": [
    "[cost_list[i][-1] for i in range(4)]"
   ]
  },
  {
   "cell_type": "markdown",
   "metadata": {},
   "source": [
    "`seed(9)` [0.333336019989774,\n",
    " 0.38811440103983674,\n",
    " 0.4557114445909325,\n",
    " 0.5751731372929737]"
   ]
  },
  {
   "cell_type": "markdown",
   "metadata": {},
   "source": [
    "`seed(10)`\n",
    "[0.3334029406865143,\n",
    " 0.40208094829335383,\n",
    " 0.45379789753879407,\n",
    " 0.5611921005937575]"
   ]
  },
  {
   "cell_type": "markdown",
   "metadata": {},
   "source": [
    "그래프 조금 더 다듬기"
   ]
  },
  {
   "cell_type": "markdown",
   "metadata": {},
   "source": [
    "## Case 4\n",
    "$\\vec{a}_0=\\sqrt{2\\mathcal{P}-1}(1, 0, 0)$<br>\n",
    "$\\vec{a}_1 = \\sqrt{2\\mathcal{P}-1}(0, 1, 0) $ <br>\n",
    "$\\vec{a}_2 = \\sqrt{2\\mathcal{P}-1}(0, 0, 1)$"
   ]
  },
  {
   "cell_type": "code",
   "execution_count": 73,
   "metadata": {},
   "outputs": [
    {
     "name": "stdout",
     "output_type": "stream",
     "text": [
      "Cost(init_params)    :  0.6806341\n",
      "Cost after step    20:  0.5717313\n",
      "Cost after step    40:  0.4399949\n",
      "Cost after step    60:  0.4080400\n",
      "Cost after step    80:  0.3996520\n",
      "Cost after step   100:  0.3965569\n",
      "Cost after step   120:  0.3953304\n",
      "Cost after step   140:  0.3948449\n",
      "Cost after step   160:  0.3946513\n",
      "Cost after step   180:  0.3945715\n",
      "Cost after step   200:  0.3945365\n",
      "Cost after step   220:  0.3945201\n",
      "Cost after step   240:  0.3945117\n",
      "Cost after step   260:  0.3945072\n",
      "Cost after step   280:  0.3945047\n",
      "Cost after step   300:  0.3945033\n",
      "* Optimizing for preparing a mixed state ..............................\n",
      "Target Bloch vector =  [0.8366600265340756, 0.0, 0.0]\n",
      "Output Bloch vector =  [ 0.83727665 -0.0027127  -0.00252595]\n",
      "* Optimizing for preparing a mixed state ..............................\n",
      "Target Bloch vector =  [0.0, 0.8366600265340756, 0.0]\n",
      "Output Bloch vector =  [-7.07989662e-04  8.37538164e-01  1.56406598e-03]\n",
      "* Optimizing for preparing a mixed state ..............................\n",
      "Target Bloch vector =  [0.0, 0.0, 0.8366600265340756]\n",
      "Output Bloch vector =  [ 4.53848116e-04 -2.45359972e-04  8.36242896e-01]\n",
      "Cost(init_params)    :  0.6966884\n",
      "Cost after step    20:  0.6254196\n",
      "Cost after step    40:  0.5172846\n",
      "Cost after step    60:  0.4711571\n",
      "Cost after step    80:  0.4553632\n",
      "Cost after step   100:  0.4473351\n",
      "Cost after step   120:  0.4429112\n",
      "Cost after step   140:  0.4406214\n",
      "Cost after step   160:  0.4395262\n",
      "Cost after step   180:  0.4390335\n",
      "Cost after step   200:  0.4388208\n",
      "Cost after step   220:  0.4387313\n",
      "Cost after step   240:  0.4386942\n",
      "Cost after step   260:  0.4386789\n",
      "Cost after step   280:  0.4386726\n",
      "Cost after step   300:  0.4386700\n",
      "Cost after step   320:  0.4386689\n",
      "Cost after step   340:  0.4386684\n",
      "Cost after step   360:  0.4386682\n",
      "Cost after step   380:  0.4386681\n",
      "Cost after step   400:  0.4386680\n",
      "Cost after step   420:  0.4386680\n",
      "Cost after step   440:  0.4386680\n",
      "Cost after step   460:  0.4386680\n",
      "Cost after step   480:  0.4386680\n",
      "Cost after step   500:  0.4386680\n",
      "Cost after step   520:  0.4386680\n",
      "Cost after step   540:  0.4386680\n",
      "Cost after step   560:  0.4386680\n",
      "Cost after step   580:  0.4386680\n",
      "Cost after step   600:  0.4386680\n",
      "Cost after step   620:  0.4386680\n",
      "Cost after step   640:  0.4386680\n",
      "Cost after step   660:  0.4386680\n",
      "Cost after step   680:  0.4386680\n",
      "Cost after step   700:  0.4386680\n",
      "* Optimizing for preparing a mixed state ..............................\n",
      "Target Bloch vector =  [0.6324555320336758, 0.0, 0.0]\n",
      "Output Bloch vector =  [ 0.63179438 -0.00331542  0.00112699]\n",
      "* Optimizing for preparing a mixed state ..............................\n",
      "Target Bloch vector =  [0.0, 0.6324555320336758, 0.0]\n",
      "Output Bloch vector =  [-0.00255238  0.63264933 -0.00145007]\n",
      "* Optimizing for preparing a mixed state ..............................\n",
      "Target Bloch vector =  [0.0, 0.0, 0.6324555320336758]\n",
      "Output Bloch vector =  [-0.00211314  0.00075126  0.63162742]\n",
      "Cost(init_params)    :  0.6893647\n",
      "Cost after step    20:  0.6522354\n",
      "Cost after step    40:  0.5917785\n",
      "Cost after step    60:  0.5396595\n",
      "Cost after step    80:  0.5183075\n",
      "Cost after step   100:  0.5086658\n",
      "Cost after step   120:  0.5030869\n",
      "Cost after step   140:  0.4995518\n",
      "Cost after step   160:  0.4973299\n",
      "Cost after step   180:  0.4959908\n",
      "Cost after step   200:  0.4952190\n",
      "Cost after step   220:  0.4947907\n",
      "Cost after step   240:  0.4945596\n",
      "Cost after step   260:  0.4944375\n",
      "Cost after step   280:  0.4943740\n",
      "Cost after step   300:  0.4943412\n",
      "Cost after step   320:  0.4943244\n",
      "Cost after step   340:  0.4943158\n",
      "Cost after step   360:  0.4943115\n",
      "Cost after step   380:  0.4943092\n",
      "Cost after step   400:  0.4943081\n",
      "Cost after step   420:  0.4943075\n",
      "Cost after step   440:  0.4943071\n",
      "Cost after step   460:  0.4943070\n",
      "Cost after step   480:  0.4943069\n",
      "Cost after step   500:  0.4943068\n",
      "Cost after step   520:  0.4943068\n",
      "Cost after step   540:  0.4943068\n",
      "Cost after step   560:  0.4943068\n",
      "Cost after step   580:  0.4943068\n",
      "Cost after step   600:  0.4943068\n",
      "Cost after step   620:  0.4943067\n",
      "Cost after step   640:  0.4943067\n",
      "Cost after step   660:  0.4943067\n",
      "Cost after step   680:  0.4943067\n",
      "Cost after step   700:  0.4943067\n",
      "* Optimizing for preparing a mixed state ..............................\n",
      "Target Bloch vector =  [0.31622776601683805, 0.0, 0.0]\n",
      "Output Bloch vector =  [ 0.31581703  0.00206207 -0.00112719]\n",
      "* Optimizing for preparing a mixed state ..............................\n",
      "Target Bloch vector =  [0.0, 0.31622776601683805, 0.0]\n",
      "Output Bloch vector =  [-0.00144328  0.31607404 -0.00033861]\n",
      "* Optimizing for preparing a mixed state ..............................\n",
      "Target Bloch vector =  [0.0, 0.0, 0.31622776601683805]\n",
      "Output Bloch vector =  [0.00092388 0.00085983 0.31570706]\n",
      "Cost(init_params)    :  0.6779398\n",
      "Cost after step    20:  0.6692587\n",
      "Cost after step    40:  0.6590756\n",
      "Cost after step    60:  0.6452462\n",
      "Cost after step    80:  0.6284707\n",
      "Cost after step   100:  0.6133540\n",
      "Cost after step   120:  0.6029600\n",
      "Cost after step   140:  0.5965624\n",
      "Cost after step   160:  0.5925227\n",
      "Cost after step   180:  0.5897732\n",
      "Cost after step   200:  0.5877667\n",
      "Cost after step   220:  0.5862296\n",
      "Cost after step   240:  0.5850195\n",
      "Cost after step   260:  0.5840562\n",
      "Cost after step   280:  0.5832893\n",
      "Cost after step   300:  0.5826828\n",
      "Cost after step   320:  0.5822077\n",
      "Cost after step   340:  0.5818397\n",
      "Cost after step   360:  0.5815578\n",
      "Cost after step   380:  0.5813442\n",
      "Cost after step   400:  0.5811838\n",
      "Cost after step   420:  0.5810643\n",
      "Cost after step   440:  0.5809760\n",
      "Cost after step   460:  0.5809112\n",
      "Cost after step   480:  0.5808638\n",
      "Cost after step   500:  0.5808294\n",
      "Cost after step   520:  0.5808044\n",
      "Cost after step   540:  0.5807863\n",
      "Cost after step   560:  0.5807733\n",
      "Cost after step   580:  0.5807640\n",
      "Cost after step   600:  0.5807573\n",
      "Cost after step   620:  0.5807525\n",
      "Cost after step   640:  0.5807490\n",
      "Cost after step   660:  0.5807465\n",
      "Cost after step   680:  0.5807448\n",
      "Cost after step   700:  0.5807435\n"
     ]
    }
   ],
   "source": [
    "n_qubit = 4\n",
    "wires = [0, 1, 2, 3]\n",
    "n_outcome = 3\n",
    "devs = [qml.device('default.qubit', wires=n_qubit)] * n_outcome\n",
    "\n",
    "cost_list = []\n",
    "cost_pgm_list = []\n",
    "purities = [1, 0.85, 0.7, 0.55]\n",
    "steps = [300, 700, 700, 700]\n",
    "\n",
    "for i, p in enumerate(purities):    \n",
    "    bloch_vecs = [[1,0,0], [0,1,0], [0, 0, 1]]\n",
    "    bloch_vecs = [[np.sqrt(2*p-1) * bloch_vecs[n][i] for i in range(3)] for n in range(3)]\n",
    "\n",
    "    if p == 1:\n",
    "        classifier =POVM_clf(3, wires[:3], bloch_vecs, devs)\n",
    "        cost_list.append(classifier.run_opt(steps[i]))\n",
    "\n",
    "    else:\n",
    "        classifier = POVM_clf(3, wires, bloch_vecs, devs)\n",
    "        cost_list.append(classifier.run_opt(steps[i]))\n",
    "    \n",
    "    pgm, cost_pgm = classifier.sq_rt_m()\n",
    "    cost_pgm_list.append(cost_pgm)"
   ]
  },
  {
   "cell_type": "code",
   "execution_count": 74,
   "metadata": {},
   "outputs": [
    {
     "data": {
      "image/png": "[encoded data removed]",
      "text/plain": [
       "<Figure size 576x432 with 1 Axes>"
      ]
     },
     "metadata": {
      "needs_background": "light"
     },
     "output_type": "display_data"
    }
   ],
   "source": [
    "plt.figure(figsize=(8,6))\n",
    "for i in range(len(cost_list)):\n",
    "    plt.plot(list(range(steps[i]+1)), cost_list[i], '.', label=\"Purity:{: .2f}\".format((purities[i])))\n",
    "    #cost_pgm\n",
    "    plt.plot(list(range(steps[i]+1)), [cost_pgm_list[i]]*(steps[i]+1), '--', label=\"PGM, Purity:{: .2f}\".format((purities[i])))\n",
    "\n",
    "\n",
    "plt.xlabel('Steps', fontsize=13)\n",
    "plt.ylabel(r'$C(\\Theta)$', fontsize=20, usetex=True)\n",
    "plt.legend()\n",
    "#plt.savefig('result4.png', bbox_inches='tight', transparent=True)\n",
    "plt.show()"
   ]
  },
  {
   "cell_type": "code",
   "execution_count": 79,
   "metadata": {},
   "outputs": [],
   "source": [
    "E = classifier.povm()\n",
    "rho = classifier.density_matrices"
   ]
  },
  {
   "cell_type": "code",
   "execution_count": 80,
   "metadata": {},
   "outputs": [
    {
     "data": {
      "text/plain": [
       "(0.4218252531205732+0j)"
      ]
     },
     "execution_count": 80,
     "metadata": {},
     "output_type": "execute_result"
    }
   ],
   "source": [
    "np.trace(np.dot(E[0],rho[0]))"
   ]
  },
  {
   "cell_type": "markdown",
   "metadata": {},
   "source": [
    "---\n",
    "---\n",
    "---\n",
    "# Test"
   ]
  },
  {
   "cell_type": "code",
   "execution_count": 36,
   "metadata": {},
   "outputs": [],
   "source": [
    "import pennylane as qml\n",
    "from pennylane import numpy as np\n",
    "import matplotlib.pyplot as plt \n",
    "\n",
    "from povm_clf_test import *"
   ]
  },
  {
   "cell_type": "code",
   "execution_count": 37,
   "metadata": {},
   "outputs": [],
   "source": [
    "n = 3\n",
    "dev = [qml.device('default.qubit', wires=n)] * n#, qml.device('default.qubit', wires=n), qml.device('default.qubit', wires=n)] \n",
    "wires = [0, 1, 2]\n",
    "\n",
    "state_vecs = [[1/np.sqrt(2), np.exp(1j*2*np.pi/3)/np.sqrt(2)], [1/np.sqrt(2), 1/np.sqrt(2)], \\\n",
    "                [1/np.sqrt(2), np.exp(-1j*2*np.pi/3)/np.sqrt(2)]]\n",
    "bloch_vecs = [state_2_bloch(state_vecs[i]) for i in range(n)] "
   ]
  },
  {
   "cell_type": "code",
   "execution_count": 38,
   "metadata": {},
   "outputs": [
    {
     "data": {
      "text/plain": [
       "tensor([ 5.47887353,  0.32579864,  6.90726241,  5.47042252,  5.2824976 ,\n",
       "         4.15110979,  2.57169058,  7.78198847,  3.76557169,  3.35305043,\n",
       "         7.80539794,  6.64939566,  1.69118147,  6.45381301,  2.31773971,\n",
       "         9.86881252, 10.73137002,  6.21076327, 10.63820537], requires_grad=True)"
      ]
     },
     "execution_count": 38,
     "metadata": {},
     "output_type": "execute_result"
    }
   ],
   "source": [
    "np.random.seed(2)\n",
    "params = 4 * np.pi * np.random.random([19])\n",
    "params"
   ]
  },
  {
   "cell_type": "code",
   "execution_count": 39,
   "metadata": {},
   "outputs": [
    {
     "data": {
      "text/plain": [
       "(0.6590201492131856, 0.4658705746335089)"
      ]
     },
     "execution_count": 39,
     "metadata": {},
     "output_type": "execute_result"
    }
   ],
   "source": [
    "params_opt = np.array([2.07716568, 7.85397763, 0.5236459 , 3.14159269, 1.23291917,\n",
    "        1.59793933, 7.49892272, 2.84015056, 1.0471506 , 1.59700472,\n",
    "        4.39604675, 6.28317501, 3.14158859, 8.04758825, 6.07043459,\n",
    "        6.34899187, 4.86183644, 9.97314239, 7.28854747])\n",
    "classifier = POVM_clf(n, wires, bloch_vecs, dev)\n",
    "classifier.cost_fn(params), classifier.cost_fn(params_opt)"
   ]
  },
  {
   "cell_type": "code",
   "execution_count": 42,
   "metadata": {},
   "outputs": [
    {
     "data": {
      "text/plain": [
       "tensor([0.13036546, 6.30674213, 6.23007094, 1.68175146, 1.78582057,\n",
       "        2.74648932, 5.2591289 , 3.11773123, 1.05632473, 4.34166396], requires_grad=True)"
      ]
     },
     "execution_count": 42,
     "metadata": {},
     "output_type": "execute_result"
    }
   ],
   "source": [
    "classifier.povm_params"
   ]
  },
  {
   "cell_type": "code",
   "execution_count": 43,
   "metadata": {},
   "outputs": [
    {
     "data": {
      "text/plain": [
       "array([[8.18281620e-01, 0.00000000e+00, 1.00309875e-02, 1.71687392e-01],\n",
       "       [7.98603265e-01, 7.70371978e-34, 1.62819042e-02, 1.85114830e-01],\n",
       "       [8.03528796e-01, 7.73381243e-34, 8.09517569e-03, 1.88376028e-01]])"
      ]
     },
     "execution_count": 43,
     "metadata": {},
     "output_type": "execute_result"
    }
   ],
   "source": [
    "qnodes = qml.QNodeCollection()\n",
    "for i in range(3):\n",
    "    povm_circ = SingleQubitPOVM(n=3, bloch_vec = bloch_vecs[i])\n",
    "    qnode = povm_circ(wires=wires, dev=dev[i])\n",
    "    qnodes.append(qnode)\n",
    "probs_povm = qnodes(params)\n",
    "probs_povm"
   ]
  },
  {
   "cell_type": "code",
   "execution_count": 44,
   "metadata": {},
   "outputs": [
    {
     "name": "stdout",
     "output_type": "stream",
     "text": [
      "0.8182816203882222 0.016281904151902307 0.18837602782031881\n"
     ]
    }
   ],
   "source": [
    "print(probs_povm[0][0], probs_povm[1][2], probs_povm[2][3])"
   ]
  },
  {
   "cell_type": "code",
   "execution_count": null,
   "metadata": {},
   "outputs": [],
   "source": [
    "probs_povm[0][0] + q[1] * probs_povm[1][2] + q[2] * probs_povm[2][3]"
   ]
  },
  {
   "cell_type": "markdown",
   "metadata": {},
   "source": [
    "---\n",
    "---\n",
    "---"
   ]
  },
  {
   "cell_type": "code",
   "execution_count": null,
   "metadata": {},
   "outputs": [],
   "source": []
  }
 ],
 "metadata": {
  "interpreter": {
   "hash": "f3566aecee92b9119d5cab9d3e2af068b42db2260767c2b53e50be0379b5c2ee"
  },
  "kernelspec": {
   "display_name": "Python 3.8.12 64-bit ('quantcirc': conda)",
   "language": "python",
   "name": "python3"
  },
  "language_info": {
   "codemirror_mode": {
    "name": "ipython",
    "version": 3
   },
   "file_extension": ".py",
   "mimetype": "text/x-python",
   "name": "python",
   "nbconvert_exporter": "python",
   "pygments_lexer": "ipython3",
   "version": "3.8.12"
  },
  "orig_nbformat": 4
 },
 "nbformat": 4,
 "nbformat_minor": 2
}

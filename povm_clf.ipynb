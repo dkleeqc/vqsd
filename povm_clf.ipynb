{
 "cells": [
  {
   "cell_type": "code",
   "execution_count": 10,
   "metadata": {},
   "outputs": [],
   "source": [
    "import pennylane as qml\n",
    "from pennylane import numpy as np\n",
    "import matplotlib.pyplot as plt \n",
    "\n",
    "from povm_clf import POVM_clf"
   ]
  },
  {
   "cell_type": "code",
   "execution_count": 2,
   "metadata": {},
   "outputs": [],
   "source": [
    "dev = [qml.device('default.qubit', wires=2), qml.device('default.qubit', wires=2)]\n",
    "wires = [0, 1]\n",
    "init_states = [[1,0], [0,1]]"
   ]
  },
  {
   "cell_type": "code",
   "execution_count": null,
   "metadata": {},
   "outputs": [],
   "source": [
    "classifier = POVM_clf(2, wires, init_states, dev)\n",
    "cost_list = classifier.run_opt(steps=100)"
   ]
  },
  {
   "cell_type": "code",
   "execution_count": 4,
   "metadata": {},
   "outputs": [
    {
     "data": {
      "text/plain": [
       "[<matplotlib.lines.Line2D at 0x7ff481e9c370>]"
      ]
     },
     "execution_count": 4,
     "metadata": {},
     "output_type": "execute_result"
    },
    {
     "data": {
      "image/png": "[encoded data removed]",
      "text/plain": [
       "<Figure size 432x288 with 1 Axes>"
      ]
     },
     "metadata": {
      "needs_background": "light"
     },
     "output_type": "display_data"
    }
   ],
   "source": [
    "plt.plot(list(range(101)), cost_list, 'o')"
   ]
  },
  {
   "cell_type": "code",
   "execution_count": 5,
   "metadata": {},
   "outputs": [],
   "source": [
    "para=classifier.params"
   ]
  },
  {
   "cell_type": "code",
   "execution_count": 6,
   "metadata": {},
   "outputs": [
    {
     "data": {
      "text/plain": [
       "(array([[-8.70567499e-08-2.99171345e-08j, -1.90921908e-01-9.81605229e-01j],\n",
       "        [ 1.90921908e-01-9.81605229e-01j, -8.70567499e-08+2.99171345e-08j]]),\n",
       " array([[-5.61249129e-04, -9.99999842e-01],\n",
       "        [ 9.99999842e-01, -5.61249129e-04]]),\n",
       " array([[-9.99999995e-01, -9.81914354e-05],\n",
       "        [ 9.81914354e-05, -9.99999995e-01]]),\n",
       " array([[-0.31966326-0.26434245j, -0.07344024+0.90694266j],\n",
       "        [ 0.07344024+0.90694266j, -0.31966326+0.26434245j]]),\n",
       " array([[-0.3359079 +0.60555401j, -0.68439978-0.22818231j],\n",
       "        [ 0.68439978-0.22818231j, -0.3359079 -0.60555401j]]))"
      ]
     },
     "execution_count": 6,
     "metadata": {},
     "output_type": "execute_result"
    }
   ],
   "source": [
    "classifier.unitaries_in_povm(para)"
   ]
  },
  {
   "cell_type": "code",
   "execution_count": 7,
   "metadata": {},
   "outputs": [
    {
     "data": {
      "text/plain": [
       "(tensor([[-8.76238306e-01-2.45244550e-01j,\n",
       "           1.11400188e-04-2.04354907e-04j],\n",
       "         [-1.98449213e-01-3.64251894e-01j,\n",
       "          -4.91807909e-04+1.37675867e-04j]], requires_grad=True),\n",
       " tensor([[-3.47764158e-05+6.16456495e-05j,\n",
       "           6.58547055e-01+2.14115390e-01j],\n",
       "         [-6.47300990e-05+2.10236903e-05j,\n",
       "          -3.54651805e-01-6.28245301e-01j]], requires_grad=True))"
      ]
     },
     "execution_count": 7,
     "metadata": {},
     "output_type": "execute_result"
    }
   ],
   "source": [
    "classifier.kraus_op(para)"
   ]
  },
  {
   "cell_type": "code",
   "execution_count": 9,
   "metadata": {},
   "outputs": [],
   "source": [
    "E0, E1 = classifier.povm(para)"
   ]
  },
  {
   "cell_type": "code",
   "execution_count": 10,
   "metadata": {},
   "outputs": [
    {
     "data": {
      "text/plain": [
       "tensor([[1.00000000e+00+0.j, 8.90046339e-21+0.j],\n",
       "        [8.90046339e-21+0.j, 1.00000000e+00+0.j]], requires_grad=True)"
      ]
     },
     "execution_count": 10,
     "metadata": {},
     "output_type": "execute_result"
    }
   ],
   "source": [
    "E0 + E1"
   ]
  },
  {
   "cell_type": "code",
   "execution_count": 11,
   "metadata": {},
   "outputs": [],
   "source": [
    "params=[np.pi,0,0]"
   ]
  },
  {
   "cell_type": "code",
   "execution_count": 12,
   "metadata": {},
   "outputs": [
    {
     "data": {
      "text/plain": [
       "array([[6.123234e-17-1.j, 0.000000e+00-0.j],\n",
       "       [0.000000e+00+0.j, 6.123234e-17+1.j]])"
      ]
     },
     "execution_count": 12,
     "metadata": {},
     "output_type": "execute_result"
    }
   ],
   "source": [
    "qml.Rot(params[0], params[1], params[2], wires=100).matrix"
   ]
  },
  {
   "cell_type": "code",
   "execution_count": null,
   "metadata": {},
   "outputs": [],
   "source": []
  }
 ],
 "metadata": {
  "interpreter": {
   "hash": "f3566aecee92b9119d5cab9d3e2af068b42db2260767c2b53e50be0379b5c2ee"
  },
  "kernelspec": {
   "display_name": "Python 3.8.12 64-bit ('quantcirc': conda)",
   "language": "python",
   "name": "python3"
  },
  "language_info": {
   "codemirror_mode": {
    "name": "ipython",
    "version": 3
   },
   "file_extension": ".py",
   "mimetype": "text/x-python",
   "name": "python",
   "nbconvert_exporter": "python",
   "pygments_lexer": "ipython3",
   "version": "3.8.12"
  },
  "orig_nbformat": 4
 },
 "nbformat": 4,
 "nbformat_minor": 2
}

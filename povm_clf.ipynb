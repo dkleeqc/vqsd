{
 "cells": [
  {
   "cell_type": "markdown",
   "metadata": {},
   "source": [
    "# <center> POVM as a quantum version of the classifier </center>"
   ]
  },
  {
   "cell_type": "code",
   "execution_count": 1,
   "metadata": {},
   "outputs": [],
   "source": [
    "import pennylane as qml\n",
    "from pennylane import numpy as np\n",
    "\n",
    "from sympy import * \n",
    "from sympy.physics.quantum.circuitplot import CircuitPlot,labeller,Mz,CreateOneQubitGate\n",
    "from sympy.physics.quantum.gate import *\n",
    "from sympy.physics.quantum.qasm import Qasm"
   ]
  },
  {
   "cell_type": "code",
   "execution_count": 21,
   "metadata": {},
   "outputs": [],
   "source": [
    "dev = qml.device('default.qubit', wires=2)\n",
    "#dev = qml.device('qiskit.aer', wires=2)\n",
    "#dev = qml.device('qiskit.ibmq', wires=2, shots=8192, ibmqx_token=\"e942e97ce86ca8c3609a4053fe6762ec3db17c41895b2d85d6a3560a1156501d57db36753f99138ecb32dca58a97ae5b38005ad39855dd92ab0e86cef852c1a2\")"
   ]
  },
  {
   "cell_type": "markdown",
   "metadata": {},
   "source": [
    "---\n",
    "## Two-element POVM Module."
   ]
  },
  {
   "cell_type": "code",
   "execution_count": 47,
   "metadata": {},
   "outputs": [
    {
     "data": {
      "text/plain": [
       "<sympy.physics.quantum.circuitplot.CircuitPlot at 0x7fb52b377760>"
      ]
     },
     "execution_count": 47,
     "metadata": {},
     "output_type": "execute_result"
    },
    {
     "data": {
      "image/png": "[encoded data removed]",
      "text/plain": [
       "<Figure size 576x144 with 1 Axes>"
      ]
     },
     "metadata": {},
     "output_type": "display_data"
    }
   ],
   "source": [
    "Ry1 = CreateOneQubitGate('Ry1', r'R_y(\\theta_1)')\n",
    "Ry2 = CreateOneQubitGate('Ry2', r'R_y(\\theta_2)')\n",
    "V1 = CreateOneQubitGate('V1', r'V_1')\n",
    "V2 = CreateOneQubitGate('V2', r'V_2')\n",
    "\n",
    "CircuitPlot(CGate(0,V2(1))*X(0)*CGate(0,V1(1))*X(0)*CGate(1,Ry2(0))*X(1)*CGate(1,Ry1(0))*X(1),2)"
   ]
  },
  {
   "cell_type": "code",
   "execution_count": 22,
   "metadata": {},
   "outputs": [],
   "source": [
    "def two_element_povm(params, wire0, wire1):\n",
    "    #params \n",
    "\n",
    "    # Controlled-RY gate controlled by first qubit in |0> state\n",
    "    qml.PauliX(wires=wire0)\n",
    "    qml.CRY(params[0], wires=[wire0,wire1])\n",
    "    qml.PauliX(wires=wire0)\n",
    "    \n",
    "    # Controlled-RY gate controlled by first qubit in |1> state\n",
    "    qml.CRY(params[1], wires=[wire0,wire1])\n",
    "    \n",
    "    # Controlled-Rotation gate (arbitrary single-qubit unitary operator) controlled by 2nd qubit in |0> state\n",
    "    qml.PauliX(wires=wire1)\n",
    "    qml.CRot(params[2], params[3], params[4], wires=[wire1,wire0])\n",
    "    qml.PauliX(wires=wire1)\n",
    "\n",
    "    # # Controlled-Rotation gate (arbitrary single-qubit unitary operator) controlled by 2nd qubit in |1> state\n",
    "    qml.CRot(params[5], params[6], params[7], wires=[wire1,wire0])"
   ]
  },
  {
   "cell_type": "markdown",
   "metadata": {},
   "source": [
    "#### Test and Drawing `two_element_povm` module"
   ]
  },
  {
   "cell_type": "code",
   "execution_count": 23,
   "metadata": {},
   "outputs": [
    {
     "name": "stdout",
     "output_type": "stream",
     "text": [
      "Drawing a two-element POVM circuit : \n",
      " 0: ──X──╭C──────────X──╭C──────────╭┤ ⟨I ⊗ Z⟩ \n",
      " 1: ─────╰RY(0.566)─────╰RY(0.673)──╰┤ ⟨I ⊗ Z⟩ \n",
      "\n"
     ]
    }
   ],
   "source": [
    "@qml.qnode(dev)\n",
    "def povm_circuit(params):\n",
    "    two_element_povm(params, 0, 1)\n",
    "    return qml.expval(qml.Identity(0) @ qml.PauliZ(1))\n",
    "\n",
    "# initial parameters\n",
    "params = np.random.random([8])\n",
    "povm_circuit(params)\n",
    "\n",
    "print(\"Drawing a two-element POVM circuit : \")\n",
    "print(povm_circuit.draw())"
   ]
  },
  {
   "cell_type": "markdown",
   "metadata": {},
   "source": [
    "---"
   ]
  },
  {
   "cell_type": "markdown",
   "metadata": {},
   "source": [
    "---\n",
    "## Preparing two arbitrary pure states"
   ]
  },
  {
   "cell_type": "code",
   "execution_count": 24,
   "metadata": {},
   "outputs": [],
   "source": [
    "def state_preparation(params):\n",
    "    return qml.Hadamard(wires=0)"
   ]
  },
  {
   "cell_type": "markdown",
   "metadata": {},
   "source": [
    "---\n",
    "## Minimum Error Discrimination"
   ]
  },
  {
   "cell_type": "markdown",
   "metadata": {},
   "source": [
    "Preparation: $\\{q_i,\\hat{\\rho}_i\\}^{N}_{i=1}$ $\\longleftarrow$ $\\hat{\\rho} = \\sum_i q_i\\hat{\\rho}_i$. <br>\n",
    "\n",
    "POVMs: $\\{E_k\\}_{k=1}^{L}$ with $\\sum_{k=1}^{L} E_k = I$."
   ]
  },
  {
   "cell_type": "markdown",
   "metadata": {},
   "source": [
    "Q. Why \"$N=L$\" is optimal?"
   ]
  },
  {
   "cell_type": "markdown",
   "metadata": {},
   "source": [
    "In general, for a state $\\hat{\\rho}_i$ generated in preparation, a detection event on $\\hat{E}_k$ happens with probability $ p(k|i) = tr [\\hat{E}_k\\hat{\\rho_i}] $."
   ]
  },
  {
   "cell_type": "markdown",
   "metadata": {},
   "source": [
    "$$\n",
    "p_{success} = \\sum_i q_i p(i|i)\n",
    "$$\n",
    "$$\n",
    "p_{guess} = \\max_{E} \\sum_i q_i p(i|i)\n",
    "$$\n",
    "$$\n",
    "p_{error} = 1 - p_{guess}\n",
    "$$"
   ]
  },
  {
   "cell_type": "markdown",
   "metadata": {},
   "source": [
    "For two-element POVMs $\\{\\hat{E}_0, \\hat{E}_1\\}$ on two different state prepared as $\\{(q_0,\\hat{\\rho}_0), (q_1,\\hat{\\rho}_1)\\}$, \n",
    "$$\n",
    "p_{error} = 1 - p_{guess} = 1-\\max_{\\vec{\\theta}}\\left(q_0\\text{Tr}[\\hat{E}_0\\hat{\\rho}_0] + q_1\\text{Tr}[\\hat{E}_1\\hat{\\rho}_1] \\right)\n",
    "$$"
   ]
  },
  {
   "cell_type": "markdown",
   "metadata": {},
   "source": [
    "---\n",
    "## Classification of two different states by using POVM"
   ]
  },
  {
   "cell_type": "markdown",
   "metadata": {},
   "source": [
    "$|\\Psi^0_i\\rangle := |\\psi_0\\rangle|0\\rangle$ \n",
    "$\\longrightarrow$ POVM $\\longrightarrow$ \n",
    "$|\\Psi^0_f\\rangle := \\left(\\hat{K}_0|\\psi_0\\rangle\\right)|0\\rangle + \\left(\\hat{K}_1|\\psi_0\\rangle\\right)|1\\rangle$"
   ]
  },
  {
   "cell_type": "markdown",
   "metadata": {},
   "source": [
    "$$\n",
    "\\text{Tr}[\\hat{\\rho}_0\\hat{E}_0] = \\langle\\psi_0|\\hat{K}^\\dagger_0\\hat{K}_0|\\psi_0\\rangle \\langle 0 | 0 \\rangle = \\langle\\psi_0|\\langle 0|\\hat{K}^\\dagger_0\\hat{K}_0|\\psi_0\\rangle|0\\rangle\\\\\n",
    "=\\frac{1}{2}\\left(\\langle\\psi_0|\\langle 0|\\hat{K}^\\dagger_0\\hat{K}_0|\\psi_0\\rangle|0\\rangle + \\langle\\psi_0|\\langle 1|\\hat{K}^\\dagger_1\\hat{K}_1|\\psi_0\\rangle|1\\rangle\\right)\\\\\n",
    "+\\frac{1}{2}\\left(\\langle\\psi_0|\\langle 0|\\hat{K}^\\dagger_0\\hat{K}_0|\\psi_0\\rangle|0\\rangle - \\langle\\psi_0|\\langle 1|\\hat{K}^\\dagger_1\\hat{K}_1|\\psi_0\\rangle|1\\rangle\\right) \\\\ \n",
    "\\frac{1}{2} \\left(1 + \\langle\\Psi_f|I\\otimes Z|\\Psi_f\\rangle\\right)\n",
    "$$\n",
    "Similarly, $\\text{Tr}[\\hat{\\rho}_0\\hat{E}_1] = \\frac{1}{2}\\left(1 - \\langle\\Psi_f|I\\otimes Z|\\Psi_f\\rangle\\right)$."
   ]
  },
  {
   "cell_type": "markdown",
   "metadata": {},
   "source": [
    "From the minimum error discrimination, find **the optimal POVMs** for discriminating two different states:\n",
    "$$\n",
    "p_{error} = 1- (-1)\\min_{\\vec{\\theta}}\\left(-q_o\\text{Tr}[\\hat{E}_0\\hat{\\rho}_0] - q_1\\text{Tr}[\\hat{E}_1\\hat{\\rho}_1]\\right)\\\\\n",
    "=\\min_{\\vec{\\theta}}\\left[\\frac{1}{2} - \\frac{q_0}{2}\\langle\\Psi^0_f|I\\otimes Z|\\Psi^0_f\\rangle + \\frac{q_1}{2}\\langle\\Psi^1_f|I\\otimes Z|\\Psi^1_f\\rangle\\right]\n",
    "$$"
   ]
  },
  {
   "cell_type": "markdown",
   "metadata": {},
   "source": [
    "### Cost function : $C(\\vec{\\theta}) = \\frac{1}{2}\\left(1 - q_0\\langle\\Psi^0_f|I\\otimes Z|\\Psi^0_f\\rangle + q_1\\langle\\Psi^1_f|I\\otimes Z|\\Psi^1_f\\rangle\\right)$"
   ]
  },
  {
   "cell_type": "markdown",
   "metadata": {},
   "source": [
    "$ \\langle\\Psi^0_f|I\\otimes Z|\\Psi^0_f\\rangle $"
   ]
  },
  {
   "cell_type": "code",
   "execution_count": null,
   "metadata": {},
   "outputs": [
    {
     "data": {
      "text/plain": [
       "<sympy.physics.quantum.circuitplot.CircuitPlot at 0x7fb52b9a83a0>"
      ]
     },
     "metadata": {},
     "output_type": "display_data"
    },
    {
     "data": {
      "image/png": "[encoded data removed]",
      "text/plain": [
       "<Figure size 720x144 with 1 Axes>"
      ]
     },
     "metadata": {},
     "output_type": "display_data"
    }
   ],
   "source": [
    "U = CreateOneQubitGate('U')\n",
    "Ry1 = CreateOneQubitGate('Ry1', r'R_y(\\theta_1)')\n",
    "Ry2 = CreateOneQubitGate('Ry2', r'R_y(\\theta_2)')\n",
    "V1 = CreateOneQubitGate('V1', r'V_1')\n",
    "V2 = CreateOneQubitGate('V2', r'V_2')\n",
    "\n",
    "CircuitPlot(Mz(0)*CGate(0,V2(1))*X(0)*CGate(0,V1(1))*X(0)*CGate(1,Ry2(0))*X(1)*CGate(1,Ry1(0))*X(1)*U(1), 2, labels=['0','\\psi'])"
   ]
  },
  {
   "cell_type": "markdown",
   "metadata": {},
   "source": [
    "---"
   ]
  },
  {
   "cell_type": "code",
   "execution_count": null,
   "metadata": {},
   "outputs": [],
   "source": [
    "# initialise the optimizer\n",
    "opt = qml.GradientDescentOptimizer(stepsize=0.4)\n",
    "\n",
    "# set the number of steps\n",
    "steps = 100\n",
    "\n",
    "# set the initial parameter values\n",
    "params = 4 * np.pi * np.random.random([11])\n",
    "print(\"cost(init_params) =\", cost(params))\n",
    "\n",
    "for i in range(steps):\n",
    "    # update the circuit parameters\n",
    "    params = opt.step(cost, params)\n",
    "\n",
    "    if (i+1) % 5 == 0:\n",
    "        print(\"Cost after step {:5d}: {: .7f}\".format(i + 1, cost(params)))\n",
    "\n",
    "print(\"Optimized rotation angles: {}\".format(params))"
   ]
  },
  {
   "cell_type": "code",
   "execution_count": 11,
   "metadata": {},
   "outputs": [],
   "source": [
    "params=None\n",
    "params=1"
   ]
  },
  {
   "cell_type": "code",
   "execution_count": 12,
   "metadata": {},
   "outputs": [
    {
     "name": "stdout",
     "output_type": "stream",
     "text": [
      "1\n"
     ]
    }
   ],
   "source": [
    "if params:\n",
    "    print(params)"
   ]
  },
  {
   "cell_type": "markdown",
   "metadata": {},
   "source": [
    "---"
   ]
  },
  {
   "cell_type": "code",
   "execution_count": 3,
   "metadata": {},
   "outputs": [],
   "source": [
    "dev0 = qml.device('default.qubit', wires=2)\n",
    "dev1 = qml.device('default.qubit', wires=2)"
   ]
  },
  {
   "cell_type": "code",
   "execution_count": 63,
   "metadata": {},
   "outputs": [],
   "source": [
    "qnodes = qml.QNodeCollection(\n",
    "    [qml.QNode(circuit_povm_expvalIZpsi0, dev0, interface=\"tf\"), \n",
    "    qml.QNode(circuit_povm_expvalIZpsi1, dev1, interface=\"tf\")]\n",
    ")"
   ]
  },
  {
   "cell_type": "code",
   "execution_count": 64,
   "metadata": {},
   "outputs": [
    {
     "name": "stderr",
     "output_type": "stream",
     "text": [
      "/Users/Mac_dk/anaconda3/envs/quantcirc/lib/python3.8/site-packages/pennylane/collections/qnode_collection.py:218: UserWarning: Parallel execution of QNodeCollections is an experimental feature, and currently doesn't work with TensorFlow backpropagation. Please use the PyTorch or Autograd interfaces instead.\n",
      "  warnings.warn(\n"
     ]
    },
    {
     "data": {
      "text/plain": [
       "<tf.Tensor: shape=(2,), dtype=float64, numpy=array([0.37818385, 0.91133354])>"
      ]
     },
     "execution_count": 64,
     "metadata": {},
     "output_type": "execute_result"
    }
   ],
   "source": [
    "params = 4 * np.pi * np.random.random([11])\n",
    "qnodes(circuit, parallel=True)"
   ]
  },
  {
   "cell_type": "code",
   "execution_count": 69,
   "metadata": {},
   "outputs": [],
   "source": [
    "def cost(x):\n",
    "    prob_povm = qnodes(x)\n",
    "    res = (1/2) * (1 - (1/2)*prob_povm[0] + (1/2)*prob_povm[1])\n",
    "    return res.numpy()"
   ]
  },
  {
   "cell_type": "code",
   "execution_count": 71,
   "metadata": {},
   "outputs": [
    {
     "data": {
      "text/plain": [
       "0.5050535050993928"
      ]
     },
     "execution_count": 71,
     "metadata": {},
     "output_type": "execute_result"
    }
   ],
   "source": [
    "cost(params)"
   ]
  },
  {
   "cell_type": "code",
   "execution_count": null,
   "metadata": {},
   "outputs": [],
   "source": [
    "# initialise the optimizer\n",
    "opt = qml.GradientDescentOptimizer(stepsize=0.4)\n",
    "\n",
    "# set the number of steps\n",
    "steps = 100\n",
    "\n",
    "# set the initial parameter values\n",
    "params = 4 * np.pi * np.random.random([11])\n",
    "print(\"cost(init_params) =\", cost(params))\n",
    "\n",
    "for i in range(steps):\n",
    "    # update the circuit parameters\n",
    "    params = opt.step(cost, params)\n",
    "\n",
    "    if (i+1) % 5 == 0:\n",
    "        print(\"Cost after step {:5d}: {: .7f}\".format(i + 1, cost(params)))\n",
    "\n",
    "print(\"Optimized rotation angles: {}\".format(params))"
   ]
  },
  {
   "cell_type": "markdown",
   "metadata": {},
   "source": [
    "---"
   ]
  }
 ],
 "metadata": {
  "interpreter": {
   "hash": "f3566aecee92b9119d5cab9d3e2af068b42db2260767c2b53e50be0379b5c2ee"
  },
  "kernelspec": {
   "display_name": "Python 3.8.12 64-bit ('quantcirc': conda)",
   "name": "python3"
  },
  "language_info": {
   "codemirror_mode": {
    "name": "ipython",
    "version": 3
   },
   "file_extension": ".py",
   "mimetype": "text/x-python",
   "name": "python",
   "nbconvert_exporter": "python",
   "pygments_lexer": "ipython3",
   "version": "3.8.12"
  }
 },
 "nbformat": 4,
 "nbformat_minor": 2
}

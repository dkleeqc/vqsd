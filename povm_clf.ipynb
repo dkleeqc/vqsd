{
 "cells": [
  {
   "cell_type": "code",
   "execution_count": 1,
   "metadata": {},
   "outputs": [],
   "source": [
    "import pennylane as qml\n",
    "from pennylane import numpy as np\n",
    "import matplotlib.pyplot as plt \n",
    "\n",
    "from povm_clf import *"
   ]
  },
  {
   "cell_type": "markdown",
   "metadata": {},
   "source": [
    "---\n",
    "# Circuit Diagrams"
   ]
  },
  {
   "cell_type": "markdown",
   "metadata": {},
   "source": [
    "## State preparation circuit"
   ]
  },
  {
   "cell_type": "code",
   "execution_count": 2,
   "metadata": {},
   "outputs": [
    {
     "name": "stdout",
     "output_type": "stream",
     "text": [
      "* Optimizing for preparing a mixed state ..............................\n",
      "Target Bloch vector =  [0.7, 0, 0]\n",
      "Output Bloch vector =  [ 7.01060417e-01 -7.15448720e-04  2.88136914e-04]\n"
     ]
    }
   ],
   "source": [
    "test = SingleQubitPOVM(bloch_vec=[0.7,0,0])\n",
    "@qml.qnode(qml.device('default.qubit', wires=2))\n",
    "def circ_test():\n",
    "    test.state_prepared_on_circuit(wires=[0,1]) #요거 그림 그려보기!\n",
    "    return qml.expval(qml.PauliZ(0) @ qml.PauliZ(1))"
   ]
  },
  {
   "cell_type": "code",
   "execution_count": 3,
   "metadata": {},
   "outputs": [
    {
     "name": "stdout",
     "output_type": "stream",
     "text": [
      " 0: ──Rot(0.192, -1.57, 4.74)─────╭C──Rot(3.12, 1.43, 4.71)──╭┤ ⟨Z ⊗ Z⟩ \n",
      " 1: ──Rot(-0.119, -1.01, -0.596)──╰X──Rot(2.41, 2.67, 5.28)──╰┤ ⟨Z ⊗ Z⟩ \n",
      "\n"
     ]
    }
   ],
   "source": [
    "diagram = qml.draw(circ_test)\n",
    "print(diagram())"
   ]
  },
  {
   "cell_type": "markdown",
   "metadata": {},
   "source": [
    "## n-element POVM circuit"
   ]
  },
  {
   "cell_type": "code",
   "execution_count": null,
   "metadata": {},
   "outputs": [],
   "source": [
    "n = 3\n",
    "devs = [qml.device('default.qubit', wires=n), qml.device('default.qubit', wires=n)]\n",
    "wires = [0, 1, 2]\n",
    "bloch_vecs = [[0,0,0.7], [0,0,-0.7]]\n",
    "params = 2 * np.pi * np.random.random([(3 + 8 * 2)])\n",
    "\n",
    "\n",
    "@qml.qnode(devs[0])\n",
    "def circ_test1(params, wires):\n",
    "    state_prepared(wires=[wires[0], wires[-1]])\n",
    "    SingleQubitPOVM().first_U(params[:3], wire=wires[0])\n",
    "    SingleQubitPOVM().two_element_povm(params[3:], wires=[wires[0],wires[1]])\n",
    "\n",
    "    return qml.probs(wires=wires[1])\n",
    "\n",
    "circ_test1(params=params, wires=wires)\n",
    "print(circ_test1.draw())"
   ]
  },
  {
   "cell_type": "markdown",
   "metadata": {},
   "source": [
    "---\n",
    "# Pure-state Classifier"
   ]
  },
  {
   "cell_type": "markdown",
   "metadata": {},
   "source": [
    "##  Two-element POVM"
   ]
  },
  {
   "cell_type": "code",
   "execution_count": 6,
   "metadata": {},
   "outputs": [],
   "source": [
    "n = 2\n",
    "dev = [qml.device('default.qubit', wires=n)] * n\n",
    "wires = [0, 1]\n",
    "bloch_vecs = [[1,0,0], [-1,0,0]]"
   ]
  },
  {
   "cell_type": "code",
   "execution_count": 7,
   "metadata": {},
   "outputs": [],
   "source": [
    "classifier = POVM_clf(2, wires, bloch_vecs, dev)\n",
    "Helstrom_bound = classifier.spectral_decomp()"
   ]
  },
  {
   "cell_type": "code",
   "execution_count": 8,
   "metadata": {},
   "outputs": [
    {
     "name": "stdout",
     "output_type": "stream",
     "text": [
      "Cost(init_params)    :  0.4760694\n",
      "Cost after step    20:  0.1443643\n",
      "Cost after step    40:  0.0021662\n",
      "Cost after step    60:  0.0000320\n",
      "Cost after step    80:  0.0000005\n",
      "Cost after step   100:  0.0000000\n"
     ]
    }
   ],
   "source": [
    "cost_list = classifier.run_opt(steps=100)"
   ]
  },
  {
   "cell_type": "code",
   "execution_count": 9,
   "metadata": {},
   "outputs": [
    {
     "data": {
      "image/png": "[encoded data removed]",
      "text/plain": [
       "<Figure size 432x288 with 1 Axes>"
      ]
     },
     "metadata": {
      "needs_background": "light"
     },
     "output_type": "display_data"
    }
   ],
   "source": [
    "plt.plot(list(range(101)), cost_list, '.', label='POVM optimization')\n",
    "plt.plot(list(range(101)), [Helstrom_bound]*101, '-', label=\"Helstrom_bound\")\n",
    "plt.legend()\n",
    "plt.show()"
   ]
  },
  {
   "cell_type": "code",
   "execution_count": 10,
   "metadata": {},
   "outputs": [
    {
     "name": "stdout",
     "output_type": "stream",
     "text": [
      "(tensor([[0.5       +0.00000000e+00j, 0.49999999-3.79276262e-09j],\n",
      "        [0.49999999+3.79276262e-09j, 0.49999999+0.00000000e+00j]], requires_grad=True), tensor([[ 0.5       +0.00000000e+00j, -0.49999999+3.79276269e-09j],\n",
      "        [-0.49999999-3.79276269e-09j,  0.50000001+0.00000000e+00j]], requires_grad=True))\n"
     ]
    },
    {
     "data": {
      "text/plain": [
       "[tensor([[0.5+0.j, 0.5+0.j],\n",
       "         [0.5+0.j, 0.5+0.j]], requires_grad=True),\n",
       " tensor([[ 0.5+0.j, -0.5+0.j],\n",
       "         [-0.5+0.j,  0.5+0.j]], requires_grad=True)]"
      ]
     },
     "execution_count": 10,
     "metadata": {},
     "output_type": "execute_result"
    }
   ],
   "source": [
    "E = classifier.povm()\n",
    "rho = classifier.density_matrices\n",
    "print(E)\n",
    "rho"
   ]
  },
  {
   "cell_type": "markdown",
   "metadata": {},
   "source": [
    "## Three-element POVM"
   ]
  },
  {
   "cell_type": "code",
   "execution_count": 11,
   "metadata": {},
   "outputs": [],
   "source": [
    "n = 3\n",
    "dev = [qml.device('default.qubit', wires=n)] * n\n",
    "wires = [0, 1, 2]\n",
    "\n",
    "state_vecs = [[1/np.sqrt(2), np.exp(1j*2*np.pi/3)/np.sqrt(2)], [1/np.sqrt(2), 1/np.sqrt(2)], \\\n",
    "                [1/np.sqrt(2), np.exp(-1j*2*np.pi/3)/np.sqrt(2)]]\n",
    "bloch_vecs = [state_2_bloch(state_vecs[i]) for i in range(n)]"
   ]
  },
  {
   "cell_type": "code",
   "execution_count": 12,
   "metadata": {},
   "outputs": [],
   "source": [
    "classifier = POVM_clf(n, wires, bloch_vecs, dev)\n",
    "#Helstrom_bound = classifier.spectral_decomp()"
   ]
  },
  {
   "cell_type": "code",
   "execution_count": 13,
   "metadata": {},
   "outputs": [
    {
     "name": "stdout",
     "output_type": "stream",
     "text": [
      "Cost(init_params)    :  0.6828178\n",
      "Cost after step    20:  0.6227101\n",
      "Cost after step    40:  0.4983709\n",
      "Cost after step    60:  0.3998543\n",
      "Cost after step    80:  0.3752633\n",
      "Cost after step   100:  0.3648510\n",
      "Cost after step   120:  0.3536371\n",
      "Cost after step   140:  0.3431094\n",
      "Cost after step   160:  0.3369534\n",
      "Cost after step   180:  0.3344866\n",
      "Cost after step   200:  0.3336768\n",
      "Cost after step   220:  0.3334341\n",
      "Cost after step   240:  0.3333639\n",
      "Cost after step   260:  0.3333433\n",
      "Cost after step   280:  0.3333370\n",
      "Cost after step   300:  0.3333348\n"
     ]
    }
   ],
   "source": [
    "steps = 300\n",
    "cost_list = classifier.run_opt(steps)"
   ]
  },
  {
   "cell_type": "code",
   "execution_count": 14,
   "metadata": {},
   "outputs": [
    {
     "data": {
      "image/png": "[encoded data removed]",
      "text/plain": [
       "<Figure size 432x288 with 1 Axes>"
      ]
     },
     "metadata": {
      "needs_background": "light"
     },
     "output_type": "display_data"
    }
   ],
   "source": [
    "plt.plot(list(range(steps+1)), cost_list, '.', label='POVM optimization')\n",
    "plt.plot(list(range(steps+1)), [1/3]*(steps+1), '-', label=\"Exact\")\n",
    "plt.legend()\n",
    "plt.show()"
   ]
  },
  {
   "cell_type": "code",
   "execution_count": 15,
   "metadata": {},
   "outputs": [
    {
     "data": {
      "text/plain": [
       "(tensor([[ 0.33260787+0.j        , -0.16747059+0.28736775j],\n",
       "         [-0.16747059-0.28736775j,  0.33260373+0.j        ]], requires_grad=True),\n",
       " tensor([[0.33472219+0.j        , 0.33472315+0.00020235j],\n",
       "         [0.33472315-0.00020235j, 0.33472424+0.j        ]], requires_grad=True),\n",
       " tensor([[ 0.33266994+0.j       , -0.16725256-0.2875701j],\n",
       "         [-0.16725256+0.2875701j,  0.33267202+0.j       ]], requires_grad=True))"
      ]
     },
     "execution_count": 15,
     "metadata": {},
     "output_type": "execute_result"
    }
   ],
   "source": [
    "K = classifier.kraus_op()\n",
    "E = classifier.povm()\n",
    "rho = classifier.density_matrices\n",
    "E"
   ]
  },
  {
   "cell_type": "markdown",
   "metadata": {},
   "source": [
    "Bloch Sphere visualization for both initial qubit and measurment direction"
   ]
  },
  {
   "cell_type": "markdown",
   "metadata": {},
   "source": [
    "---\n",
    "# Mixed-state Classifier"
   ]
  },
  {
   "cell_type": "markdown",
   "metadata": {},
   "source": [
    "## Two-element POVM"
   ]
  },
  {
   "cell_type": "code",
   "execution_count": 23,
   "metadata": {},
   "outputs": [],
   "source": [
    "n = 2\n",
    "n_qubit = n + 1\n",
    "devs = [qml.device('default.qubit', wires=n_qubit)] * n\n",
    "wires = [0, 1, 2]\n",
    "bloch_vecs = [[0.2,0,0], [-0.2,0,0]]"
   ]
  },
  {
   "cell_type": "code",
   "execution_count": 24,
   "metadata": {},
   "outputs": [
    {
     "name": "stdout",
     "output_type": "stream",
     "text": [
      "* Optimizing for preparing a mixed state ..............................\n",
      "Target Bloch vector =  [0.2, 0, 0]\n",
      "Output Bloch vector =  [ 0.20009325 -0.00021131  0.00180862]\n",
      "* Optimizing for preparing a mixed state ..............................\n",
      "Target Bloch vector =  [-0.2, 0, 0]\n",
      "Output Bloch vector =  [-2.00473033e-01 -7.87159817e-05  2.73090140e-03]\n"
     ]
    }
   ],
   "source": [
    "classifier = POVM_clf(2, wires, bloch_vecs, devs)\n",
    "Helstrom_bound_exact = classifier.spectral_decomp()\n",
    "Helstrom_bound_noisy = classifier.spectral_decomp(types='noisy')"
   ]
  },
  {
   "cell_type": "code",
   "execution_count": 25,
   "metadata": {},
   "outputs": [
    {
     "name": "stdout",
     "output_type": "stream",
     "text": [
      "Cost(init_params)    :  0.4952658\n",
      "Cost after step    20:  0.4916201\n",
      "Cost after step    40:  0.4844267\n",
      "Cost after step    60:  0.4706704\n",
      "Cost after step    80:  0.4490980\n",
      "Cost after step   100:  0.4267059\n",
      "Cost after step   120:  0.4122001\n",
      "Cost after step   140:  0.4052332\n",
      "Cost after step   160:  0.4021997\n",
      "Cost after step   180:  0.4008877\n",
      "Cost after step   200:  0.4003137\n",
      "Cost after step   220:  0.4000604\n",
      "Cost after step   240:  0.3999481\n",
      "Cost after step   260:  0.3998982\n",
      "Cost after step   280:  0.3998760\n",
      "Cost after step   300:  0.3998661\n",
      "Cost after step   320:  0.3998617\n",
      "Cost after step   340:  0.3998597\n",
      "Cost after step   360:  0.3998589\n",
      "Cost after step   380:  0.3998585\n",
      "Cost after step   400:  0.3998583\n"
     ]
    }
   ],
   "source": [
    "steps=400\n",
    "cost_list = classifier.run_opt(steps)"
   ]
  },
  {
   "cell_type": "code",
   "execution_count": 26,
   "metadata": {},
   "outputs": [
    {
     "data": {
      "image/png": "[encoded data removed]",
      "text/plain": [
       "<Figure size 432x288 with 1 Axes>"
      ]
     },
     "metadata": {
      "needs_background": "light"
     },
     "output_type": "display_data"
    }
   ],
   "source": [
    "plt.plot(list(range(steps+1)), cost_list, '.', label='POVM_clf optimization')\n",
    "plt.plot(list(range(steps+1)), [Helstrom_bound_exact]*(steps+1), '-', label=\"Helstrom_bound_exact: {: .4f}\".format(Helstrom_bound_exact))\n",
    "plt.plot(list(range(steps+1)), [Helstrom_bound_noisy]*(steps+1), '-', label=\"Helstrom_bound_noisy: {: .4f}\".format(Helstrom_bound_noisy))\n",
    "plt.legend()\n",
    "plt.show()"
   ]
  },
  {
   "cell_type": "code",
   "execution_count": 27,
   "metadata": {},
   "outputs": [],
   "source": [
    "K = classifier.kraus_op()\n",
    "E = classifier.povm()\n",
    "rho = classifier.density_matrices"
   ]
  },
  {
   "cell_type": "code",
   "execution_count": 28,
   "metadata": {},
   "outputs": [
    {
     "data": {
      "text/plain": [
       "(0.4000004084701315+0j)"
      ]
     },
     "execution_count": 28,
     "metadata": {},
     "output_type": "execute_result"
    }
   ],
   "source": [
    "1-(1/2)*sum([np.trace(np.dot(E[i], rho[i])) for i in range(2)])"
   ]
  },
  {
   "cell_type": "markdown",
   "metadata": {},
   "source": [
    "## Three-element POVM"
   ]
  },
  {
   "cell_type": "code",
   "execution_count": 57,
   "metadata": {},
   "outputs": [],
   "source": [
    "n = 3\n",
    "n_qubit = n + 1\n",
    "devs = [qml.device('default.qubit', wires=n_qubit)] * n\n",
    "wires = [0, 1, 2, 3]\n",
    "\n",
    "state_vecs = [[1/np.sqrt(2), np.exp(1j*2*np.pi/3)/np.sqrt(2)], [1/np.sqrt(2), 1/np.sqrt(2)], \\\n",
    "                [1/np.sqrt(2), np.exp(-1j*2*np.pi/3)/np.sqrt(2)]]\n",
    "bloch_vecs = [state_2_bloch(state_vecs[i]) for i in range(n)]\n",
    "bloch_vecs = [[0.7 * bloch_vecs[n][i] for i in range(3)] for n in range(n)]"
   ]
  },
  {
   "cell_type": "code",
   "execution_count": 60,
   "metadata": {},
   "outputs": [
    {
     "data": {
      "text/plain": [
       "0.7"
      ]
     },
     "execution_count": 60,
     "metadata": {},
     "output_type": "execute_result"
    }
   ],
   "source": [
    "i=0\n",
    "np.sqrt(np.dot(bloch_vecs[i], bloch_vecs[i]))"
   ]
  },
  {
   "cell_type": "code",
   "execution_count": 61,
   "metadata": {},
   "outputs": [
    {
     "name": "stdout",
     "output_type": "stream",
     "text": [
      "* Optimizing for preparing a mixed state ..............................\n",
      "Target Bloch vector =  [-0.3499999999999998, 0.6062177826491071, -1.1256858547736456e-16]\n",
      "Output Bloch vector =  [-0.35012612  0.60478534 -0.00108377]\n",
      "* Optimizing for preparing a mixed state ..............................\n",
      "Target Bloch vector =  [0.7, 0.0, -1.1256858547736456e-16]\n",
      "Output Bloch vector =  [ 6.99685197e-01 -3.71520512e-03 -4.32940196e-04]\n",
      "* Optimizing for preparing a mixed state ..............................\n",
      "Target Bloch vector =  [-0.3499999999999998, -0.6062177826491071, -1.1256858547736456e-16]\n",
      "Output Bloch vector =  [-0.34926078 -0.60618612  0.00419005]\n"
     ]
    }
   ],
   "source": [
    "classifier = POVM_clf(3, wires, bloch_vecs, devs)\n",
    "#Helstrom_bound_exact = classifier.spectral_decomp()\n",
    "#Helstrom_bound_noisy = classifier.spectral_decomp(types='noisy')"
   ]
  },
  {
   "cell_type": "code",
   "execution_count": 62,
   "metadata": {},
   "outputs": [
    {
     "name": "stdout",
     "output_type": "stream",
     "text": [
      "Cost(init_params)    :  0.6517105\n",
      "Cost after step    20:  0.6159763\n",
      "Cost after step    40:  0.5345015\n",
      "Cost after step    60:  0.4855346\n",
      "Cost after step    80:  0.4725027\n",
      "Cost after step   100:  0.4683831\n",
      "Cost after step   120:  0.4666586\n",
      "Cost after step   140:  0.4658399\n",
      "Cost after step   160:  0.4654338\n",
      "Cost after step   180:  0.4652269\n",
      "Cost after step   200:  0.4651178\n",
      "Cost after step   220:  0.4650571\n",
      "Cost after step   240:  0.4650207\n",
      "Cost after step   260:  0.4649967\n",
      "Cost after step   280:  0.4649793\n",
      "Cost after step   300:  0.4649656\n",
      "Cost after step   320:  0.4649542\n",
      "Cost after step   340:  0.4649443\n",
      "Cost after step   360:  0.4649355\n",
      "Cost after step   380:  0.4649277\n",
      "Cost after step   400:  0.4649205\n"
     ]
    }
   ],
   "source": [
    "steps=400\n",
    "cost_list = classifier.run_opt(steps)"
   ]
  },
  {
   "cell_type": "code",
   "execution_count": 63,
   "metadata": {},
   "outputs": [
    {
     "data": {
      "image/png": "[encoded data removed]",
      "text/plain": [
       "<Figure size 432x288 with 1 Axes>"
      ]
     },
     "metadata": {
      "needs_background": "light"
     },
     "output_type": "display_data"
    }
   ],
   "source": [
    "plt.plot(list(range(steps+1)), cost_list, '.', label='POVM_clf optimization')\n",
    "#plt.plot(list(range(steps+1)), [Helstrom_bound_exact]*(steps+1), '-', label=\"Helstrom_bound_exact: {: .4f}\".format(Helstrom_bound_exact))\n",
    "#plt.plot(list(range(steps+1)), [Helstrom_bound_noisy]*(steps+1), '-', label=\"Helstrom_bound_noisy: {: .4f}\".format(Helstrom_bound_noisy))\n",
    "plt.legend()\n",
    "plt.show()"
   ]
  },
  {
   "cell_type": "markdown",
   "metadata": {},
   "source": [
    "---\n",
    "# For various purities $\\mathcal{P}$,"
   ]
  },
  {
   "cell_type": "markdown",
   "metadata": {},
   "source": [
    "$\\hat{\\rho} = \\frac{1}{2}(I+\\vec{a}\\cdot\\hat{\\sigma})$ <br>\n",
    "$\n",
    "\\mathcal{P} = Tr[\\hat{\\rho}^2] = \\frac{1}{2}(1+|\\vec{a}|^2) \\Longrightarrow\n",
    "|\\vec{a}| = \\sqrt{2\\mathcal{P}-1}\n",
    "$ "
   ]
  },
  {
   "cell_type": "markdown",
   "metadata": {},
   "source": [
    "## Case 1\n",
    "$\\vec{a}_1 = (\\sqrt{2\\mathcal{P}-1}, 0, 0)$  \n",
    "$\\vec{a}_2 = (-\\sqrt{2\\mathcal{P}-1}, 0, 0)$"
   ]
  },
  {
   "cell_type": "code",
   "execution_count": null,
   "metadata": {},
   "outputs": [],
   "source": [
    "n_qubit = 3\n",
    "wires = [0, 1, 2]\n",
    "n_outcome = 2\n",
    "devs = [qml.device('default.qubit', wires=n_qubit)] * n_outcome\n",
    "\n",
    "cost_list, Hbe_list, Hbn_list = [], [], []\n",
    "ampltd_abs = [1, 0.7, 0.4, 0.1]\n",
    "#Pure state\n",
    "\n",
    "\n",
    "#Mixed state\n",
    "steps = [100, 150, 200, 400]\n",
    "for i, a in enumerate(ampltd_abs):\n",
    "    \n",
    "    bloch_vecs = [[a,0,0], [(-1)*a,0,0]]\n",
    "    if a == 1:\n",
    "        classifier =POVM_clf(2, wires[:2], bloch_vecs, devs[:2])\n",
    "        cost_list.append(classifier.run_opt(steps[i]))\n",
    "        Hbe_list.append(classifier.spectral_decomp())\n",
    "        Hbn_list.append(classifier.spectral_decomp())\n",
    "\n",
    "    else:\n",
    "        classifier = POVM_clf(2, wires, bloch_vecs, devs)\n",
    "        Hbe_list.append(classifier.spectral_decomp())\n",
    "        Hbn_list.append(classifier.spectral_decomp(types='noisy'))\n",
    "\n",
    "        cost_list.append(classifier.run_opt(steps[i]))"
   ]
  },
  {
   "cell_type": "code",
   "execution_count": 14,
   "metadata": {},
   "outputs": [
    {
     "data": {
      "image/png": "[encoded data removed]",
      "text/plain": [
       "<Figure size 576x432 with 1 Axes>"
      ]
     },
     "metadata": {
      "needs_background": "light"
     },
     "output_type": "display_data"
    }
   ],
   "source": [
    "plt.figure(figsize=(8,6))\n",
    "for i in range(len(cost_list)):\n",
    "    plt.plot(list(range(steps[i]+1)), cost_list[i], '.', label=\"POVM_clf opt, purity:{: .2f}\".format((ampltd_abs[i]**2+1)/2))\n",
    "    plt.plot(list(range(steps[i]+1)), [Hbe_list[i]]*(steps[i]+1), '--', label=\"Helstrom_bound_exact: {:.4f}\".format(Hbe_list[i]))\n",
    "    if i !=0:\n",
    "        plt.plot(list(range(steps[i]+1)), [Hbe_list[i]]*(steps[i]+1), '--', label=\"Helstrom_bound_noisy: {:.4f}\".format(Hbn_list[i]))\n",
    "\n",
    "plt.xlabel('Steps', fontsize=13)\n",
    "plt.ylabel(r'$p_{error}$', fontsize=15)\n",
    "plt.legend()\n",
    "plt.savefig('result1.png', bbox_inches='tight', transparent=True)\n",
    "plt.show()"
   ]
  },
  {
   "cell_type": "markdown",
   "metadata": {},
   "source": [
    "## Case 2\n",
    "$\\vec{a}_1 = (\\sqrt{2\\mathcal{P}-1}, 0, 0)$  \n",
    "$\\vec{a}_2 = (0, 0, \\sqrt{2\\mathcal{P}-1})$"
   ]
  },
  {
   "cell_type": "code",
   "execution_count": null,
   "metadata": {},
   "outputs": [],
   "source": [
    "n_qubit = 3\n",
    "wires = [0, 1, 2]\n",
    "n_outcome = 2\n",
    "devs = [qml.device('default.qubit', wires=n_qubit)] * n_outcome\n",
    "\n",
    "cost_list, Hbe_list, Hbn_list = [], [], []\n",
    "purities = [1, 0.85, 0.7, 0.55]\n",
    "\n",
    "\n",
    "steps = [130, 170, 250, 500]\n",
    "for i, p in enumerate(purities):\n",
    "    \n",
    "    bloch_vecs = [[np.sqrt(2*p-1),0,0], [0,0,np.sqrt(2*p-1)]]\n",
    "    if p == 1:\n",
    "        classifier =POVM_clf(2, wires[:2], bloch_vecs, devs[:2])\n",
    "        cost_list.append(classifier.run_opt(steps[i]))\n",
    "        Hbe_list.append(classifier.spectral_decomp())\n",
    "        Hbn_list.append(classifier.spectral_decomp())\n",
    "\n",
    "    else:\n",
    "        classifier = POVM_clf(2, wires, bloch_vecs, devs)\n",
    "        Hbe_list.append(classifier.spectral_decomp())\n",
    "        Hbn_list.append(classifier.spectral_decomp(types='noisy'))\n",
    "\n",
    "        cost_list.append(classifier.run_opt(steps[i]))"
   ]
  },
  {
   "cell_type": "code",
   "execution_count": 86,
   "metadata": {},
   "outputs": [
    {
     "data": {
      "image/png": "[encoded data removed]",
      "text/plain": [
       "<Figure size 576x432 with 1 Axes>"
      ]
     },
     "metadata": {
      "needs_background": "light"
     },
     "output_type": "display_data"
    }
   ],
   "source": [
    "plt.figure(figsize=(8,6))\n",
    "for i in range(len(cost_list)):\n",
    "    plt.plot(list(range(steps[i]+1)), cost_list[i], '.', label=\"POVM_clf opt, purity:{: .2f}\".format((purities[i])))\n",
    "    plt.plot(list(range(steps[i]+1)), [Hbe_list[i]]*(steps[i]+1), '--', label=\"Helstrom_bound: {:.4f}\".format(Hbe_list[i]))\n",
    "    #if i !=0:\n",
    "    #    plt.plot(list(range(steps[i]+1)), [Hbe_list[i]]*(steps[i]+1), '--', label=\"Helstrom_bound, \"+r\"$\\rho_{noisy}$\"+\": {:.4f}\".format(Hbn_list[i]))\n",
    "\n",
    "plt.xlabel('Steps', fontsize=13)\n",
    "plt.ylabel(r'$p_{error}$', fontsize=15)\n",
    "plt.legend()\n",
    "plt.savefig('result2.png', bbox_inches='tight', transparent=True)\n",
    "plt.show()"
   ]
  },
  {
   "cell_type": "markdown",
   "metadata": {},
   "source": [
    "## Case 3\n",
    "$|\\psi_0\\rangle = \\left(|0\\rangle + e^{2\\pi i /3}|1\\rangle\\right)/\\sqrt{2}$ ===> $\\vec{a}_0=\\sqrt{2\\mathcal{P}-1}(-1/2, \\sqrt{3}/2, 0)$<br>\n",
    "$|\\psi_1\\rangle = \\left(|0\\rangle+|1\\rangle\\right)/\\sqrt{2}$       ========> $\\vec{a}_1 = \\sqrt{2\\mathcal{P}-1}(1,0,0) $ <br>\n",
    "$|\\psi_2\\rangle = \\left(|0\\rangle + e^{-2\\pi i /3}|1\\rangle\\right)/\\sqrt{2}$ ===> $\\vec{a}_2 = \\sqrt{2\\mathcal{P}-1}(-1/2, -\\sqrt{3}/2, 0)$"
   ]
  },
  {
   "cell_type": "code",
   "execution_count": null,
   "metadata": {},
   "outputs": [],
   "source": [
    "n_qubit = 4\n",
    "wires = [0, 1, 2, 3]\n",
    "n_outcome = 3\n",
    "devs = [qml.device('default.qubit', wires=n_qubit)] * n_outcome\n",
    "\n",
    "cost_list= []\n",
    "purities = [1, 0.85, 0.7, 0.55]\n",
    "steps = [250, 300, 350, 400]\n",
    "\n",
    "state_vecs = [[1/np.sqrt(2), np.exp(1j*2*np.pi/3)/np.sqrt(2)], [1/np.sqrt(2), 1/np.sqrt(2)], [1/np.sqrt(2), np.exp(-1j*2*np.pi/3)/np.sqrt(2)]]\n",
    "bloch_vecs = [state_2_bloch(state_vecs[i]) for i in range(n)]\n",
    "bloch_vecs = [[np.sqrt(2*p-1) * bloch_vecs[n][i] for i in range(3)] for n in range(n)]\n",
    "for i, p in enumerate(purities):    \n",
    "\n",
    "    if p == 1:\n",
    "        classifier =POVM_clf(3, wires[:3], bloch_vecs, devs[:3])\n",
    "        cost_list.append(classifier.run_opt(steps[i]))\n",
    "\n",
    "    else:\n",
    "        classifier = POVM_clf(3, wires, bloch_vecs, devs)\n",
    "        cost_list.append(classifier.run_opt(steps[i]))"
   ]
  },
  {
   "cell_type": "code",
   "execution_count": 84,
   "metadata": {},
   "outputs": [
    {
     "data": {
      "image/png": "[encoded data removed]",
      "text/plain": [
       "<Figure size 576x432 with 1 Axes>"
      ]
     },
     "metadata": {
      "needs_background": "light"
     },
     "output_type": "display_data"
    }
   ],
   "source": [
    "plt.figure(figsize=(8,6))\n",
    "for i in range(len(cost_list)):\n",
    "    plt.plot(list(range(steps[i]+1)), cost_list[i], '.', label=\"POVM_clf opt, purity:{: .2f}\".format((purities[i])))\n",
    "\n",
    "plt.xlabel('Steps', fontsize=13)\n",
    "plt.ylabel(r'$p_{error}$', fontsize=15)\n",
    "plt.legend()\n",
    "plt.savefig('result3png', bbox_inches='tight', transparent=True)\n",
    "plt.show()"
   ]
  },
  {
   "cell_type": "markdown",
   "metadata": {},
   "source": [
    "그래프 조금 더 다듬기"
   ]
  },
  {
   "cell_type": "markdown",
   "metadata": {},
   "source": [
    "---\n",
    "---\n",
    "---\n",
    "# Test"
   ]
  },
  {
   "cell_type": "code",
   "execution_count": 1,
   "metadata": {},
   "outputs": [],
   "source": [
    "import pennylane as qml\n",
    "from pennylane import numpy as np\n",
    "import matplotlib.pyplot as plt \n",
    "\n",
    "from povm_clf import *"
   ]
  },
  {
   "cell_type": "code",
   "execution_count": 2,
   "metadata": {},
   "outputs": [],
   "source": [
    "n = 3\n",
    "dev = [qml.device('default.qubit', wires=n)] * n#, qml.device('default.qubit', wires=n), qml.device('default.qubit', wires=n)] \n",
    "wires = [0, 1, 2]\n",
    "\n",
    "state_vecs = [[1/np.sqrt(2), np.exp(1j*2*np.pi/3)/np.sqrt(2)], [1/np.sqrt(2), 1/np.sqrt(2)], \\\n",
    "                [1/np.sqrt(2), np.exp(-1j*2*np.pi/3)/np.sqrt(2)]]\n",
    "bloch_vecs = [state_2_bloch(state_vecs[i]) for i in range(n)] "
   ]
  },
  {
   "cell_type": "code",
   "execution_count": 3,
   "metadata": {},
   "outputs": [
    {
     "data": {
      "text/plain": [
       "tensor([ 5.47887353,  0.32579864,  6.90726241,  5.47042252,  5.2824976 ,\n",
       "         4.15110979,  2.57169058,  7.78198847,  3.76557169,  3.35305043,\n",
       "         7.80539794,  6.64939566,  1.69118147,  6.45381301,  2.31773971,\n",
       "         9.86881252, 10.73137002,  6.21076327, 10.63820537], requires_grad=True)"
      ]
     },
     "execution_count": 3,
     "metadata": {},
     "output_type": "execute_result"
    }
   ],
   "source": [
    "np.random.seed(2)\n",
    "params = 4 * np.pi * np.random.random([19])\n",
    "params"
   ]
  },
  {
   "cell_type": "code",
   "execution_count": 8,
   "metadata": {},
   "outputs": [
    {
     "name": "stdout",
     "output_type": "stream",
     "text": [
      "[8.18281620e-01 4.81482486e-35 1.22542914e-01 5.91754651e-02]\n",
      "[7.98603265e-01 2.04630057e-34 1.52876822e-01 4.85199128e-02]\n",
      "[8.03528796e-01 4.81952684e-35 1.60807782e-01 3.56634215e-02]\n"
     ]
    },
    {
     "data": {
      "text/plain": [
       "(0.6617490587001609, 0.4986002199858599)"
      ]
     },
     "execution_count": 8,
     "metadata": {},
     "output_type": "execute_result"
    }
   ],
   "source": [
    "params_opt = np.array([2.07716568, 7.85397763, 0.5236459 , 3.14159269, 1.23291917,\n",
    "        1.59793933, 7.49892272, 2.84015056, 1.0471506 , 1.59700472,\n",
    "        4.39604675, 6.28317501, 3.14158859, 8.04758825, 6.07043459,\n",
    "        6.34899187, 4.86183644, 9.97314239, 7.28854747])\n",
    "classifier = POVM_clf(n, wires, bloch_vecs, dev)\n",
    "classifier.cost_fn(params), classifier.cost_fn(params_opt)"
   ]
  },
  {
   "cell_type": "code",
   "execution_count": 9,
   "metadata": {},
   "outputs": [
    {
     "data": {
      "text/plain": [
       "tensor([ 5.47887353,  0.32579864,  6.90726241,  5.47042252,  5.2824976 ,\n",
       "         4.15110979,  2.57169058,  7.78198847,  3.76557169,  3.35305043,\n",
       "         7.80539794,  6.64939566,  1.69118147,  6.45381301,  2.31773971,\n",
       "         9.86881252, 10.73137002,  6.21076327, 10.63820537], requires_grad=True)"
      ]
     },
     "execution_count": 9,
     "metadata": {},
     "output_type": "execute_result"
    }
   ],
   "source": [
    "classifier.povm_params"
   ]
  },
  {
   "cell_type": "code",
   "execution_count": 6,
   "metadata": {},
   "outputs": [
    {
     "data": {
      "text/plain": [
       "array([[8.18281620e-01, 4.81482486e-35, 1.22542914e-01, 5.91754651e-02],\n",
       "       [7.98603265e-01, 2.04630057e-34, 1.52876822e-01, 4.85199128e-02],\n",
       "       [8.03528796e-01, 4.81952684e-35, 1.60807782e-01, 3.56634215e-02]])"
      ]
     },
     "execution_count": 6,
     "metadata": {},
     "output_type": "execute_result"
    }
   ],
   "source": [
    "qnodes = qml.QNodeCollection()\n",
    "for i in range(3):\n",
    "    povm_circ = SingleQubitPOVM(n=3, bloch_vec = bloch_vecs[i])\n",
    "    qnode = povm_circ(wires=wires, dev=dev[i])\n",
    "    qnodes.append(qnode)\n",
    "probs_povm = qnodes(params)\n",
    "probs_povm"
   ]
  },
  {
   "cell_type": "code",
   "execution_count": 8,
   "metadata": {},
   "outputs": [
    {
     "name": "stdout",
     "output_type": "stream",
     "text": [
      "0.818281620388223 0.15287682182133314 0.035663421536471875\n"
     ]
    }
   ],
   "source": [
    "print(probs_povm[0][0], probs_povm[1][2], probs_povm[2][3])"
   ]
  },
  {
   "cell_type": "markdown",
   "metadata": {},
   "source": [
    "---\n",
    "---\n",
    "---"
   ]
  }
 ],
 "metadata": {
  "interpreter": {
   "hash": "f3566aecee92b9119d5cab9d3e2af068b42db2260767c2b53e50be0379b5c2ee"
  },
  "kernelspec": {
   "display_name": "Python 3.8.12 64-bit ('quantcirc': conda)",
   "language": "python",
   "name": "python3"
  },
  "language_info": {
   "codemirror_mode": {
    "name": "ipython",
    "version": 3
   },
   "file_extension": ".py",
   "mimetype": "text/x-python",
   "name": "python",
   "nbconvert_exporter": "python",
   "pygments_lexer": "ipython3",
   "version": "3.8.12"
  },
  "orig_nbformat": 4
 },
 "nbformat": 4,
 "nbformat_minor": 2
}

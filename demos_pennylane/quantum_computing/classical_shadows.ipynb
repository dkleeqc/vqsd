{
 "cells": [
  {
   "cell_type": "markdown",
   "metadata": {},
   "source": [
    "# <center> Classical Shadows [[Link]](https://pennylane.ai/qml/demos/tutorial_classical_shadows.html) </center> "
   ]
  },
  {
   "cell_type": "markdown",
   "metadata": {},
   "source": [
    "Estimating properties of unknown quantum states is a key objective of quantum information science and technology. <br>\n",
    "e.g., one might want to check whether an apparatus prepares a particular target state, or verify that an unknown system is entangled.<br>\n",
    "\n",
    "In principle, any unknown quantum state can be fully characterized by **quantum state tomography**.<br>\n",
    "However, this procedure requires accurate expectation values for a set of observables whose **size grows exponentially** with the number of qubits. <br>\n",
    "A potential workaround for these scaling concerns is provided by the classical shadow approximation introduced in a recent paper by Huang et al.."
   ]
  },
  {
   "cell_type": "markdown",
   "metadata": {},
   "source": [
    "The approximation is an efficient protocol for constructing a *classical shadow* representation of an unknown quantum state. "
   ]
  },
  {
   "cell_type": "markdown",
   "metadata": {},
   "source": []
  }
 ],
 "metadata": {
  "language_info": {
   "name": "python"
  },
  "orig_nbformat": 4
 },
 "nbformat": 4,
 "nbformat_minor": 2
}

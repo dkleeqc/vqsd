{
 "cells": [
  {
   "cell_type": "markdown",
   "metadata": {},
   "source": [
    "# Noisy circuits [[Link]](https://pennylane.ai/qml/demos/tutorial_noisy_circuits.html)\n"
   ]
  },
  {
   "cell_type": "markdown",
   "metadata": {},
   "source": [
    "Noise can be separated into two categories.\n",
    "* **Coherent noise** is described by unitary operations that maintain the purity of the output quantum state. <br>\n",
    "A common source are systematic errors originating from imperfectly-calibrated devices that do not exactly apply the desired gates, e.g., applying a rotation by an angle $\\phi+\\epsilon$ instead of $\\phi$.\n",
    "* **Incoherent noise** is more problematic: it originates from a quantum computer becoming entangled with the environment, resulting in mixed states -- probability distributions over different pure states. <br>\n",
    "Incoherent noise thus leads to outputs that are always random, regardless of what basis we measure in."
   ]
  },
  {
   "cell_type": "markdown",
   "metadata": {},
   "source": [
    "The purpose of PennyLane's `default.mixed` device is to provide native support for mixed states and for simulating noisy computations. \n",
    "\n",
    "Let's use `default.mixed` to simulate a simple circuit for preparing the Bell state $|\\psi\\rangle =\\frac{1}{\\sqrt{2}}(|00\\rangle+|11\\rangle)$. <br>\n",
    "We ask the QNode to return the expectation value of $Z_0\\otimes Z_1$:"
   ]
  },
  {
   "cell_type": "code",
   "execution_count": 2,
   "metadata": {},
   "outputs": [],
   "source": [
    "import pennylane as qml\n",
    "from pennylane import numpy as np"
   ]
  },
  {
   "cell_type": "code",
   "execution_count": 9,
   "metadata": {},
   "outputs": [
    {
     "name": "stdout",
     "output_type": "stream",
     "text": [
      "Input state is  = \n",
      "[[1. 0. 0. 0.]\n",
      " [0. 0. 0. 0.]\n",
      " [0. 0. 0. 0.]\n",
      " [0. 0. 0. 0.]]\n"
     ]
    }
   ],
   "source": [
    "dev = qml.device('default.mixed', wires=2)\n",
    "print(f\"Input state is  = \\n{np.real(dev.state)}\")"
   ]
  },
  {
   "cell_type": "code",
   "execution_count": 10,
   "metadata": {},
   "outputs": [
    {
     "name": "stdout",
     "output_type": "stream",
     "text": [
      "QNode output = 1.0000\n"
     ]
    }
   ],
   "source": [
    "@qml.qnode(dev)\n",
    "def circuit():\n",
    "    qml.Hadamard(wires=0)\n",
    "    qml.CNOT(wires=[0, 1])\n",
    "    return qml.expval(qml.PauliZ(0) @ qml.PauliZ(1))\n",
    "\n",
    "\n",
    "print(f\"QNode output = {circuit():.4f}\")"
   ]
  },
  {
   "cell_type": "markdown",
   "metadata": {},
   "source": [
    "The device stores the output state as a density matrix. In this case, the density matrix is equal to $|\\psi\\rangle\\langle\\psi|$, where $|\\psi\\rangle=\\frac{1}{\\sqrt{2}}|00\\rangle+|11\\rangle$."
   ]
  },
  {
   "cell_type": "code",
   "execution_count": 11,
   "metadata": {},
   "outputs": [
    {
     "name": "stdout",
     "output_type": "stream",
     "text": [
      "Output state is = \n",
      "[[0.5 0.  0.  0.5]\n",
      " [0.  0.  0.  0. ]\n",
      " [0.  0.  0.  0. ]\n",
      " [0.5 0.  0.  0.5]]\n"
     ]
    }
   ],
   "source": [
    "print(f\"Output state is = \\n{np.real(dev.state)}\")"
   ]
  },
  {
   "cell_type": "markdown",
   "metadata": {},
   "source": [
    "Incoherent noise is modelled by quantum channels.\n",
    "\n",
    "Mathematically, a quantum channel is a linear, completely positve, and trace-preserving (CPTP) map. <br>\n",
    "A convenient strategy for representing quantum channnels is to empoly Kraus operators $\\{K_i\\}$ satisfying the condition $\\sum_iK_i^\\dagger K_i=I$. <br>\n",
    "For an initial state $\\rho$, the output state after the action of a channel $\\Phi$ is:\n",
    "$$\n",
    "\\Phi(\\rho) = \\sum_i K_i\\rho K_i^\\dagger.\n",
    "$$"
   ]
  },
  {
   "cell_type": "markdown",
   "metadata": {},
   "source": []
  }
 ],
 "metadata": {
  "interpreter": {
   "hash": "8613c02920a51202e77dee99993d866e60c75b9a4757d9c1c24f8bb29668ccad"
  },
  "kernelspec": {
   "display_name": "Python 3.7.4 64-bit ('base': conda)",
   "name": "python3"
  },
  "language_info": {
   "codemirror_mode": {
    "name": "ipython",
    "version": 3
   },
   "file_extension": ".py",
   "mimetype": "text/x-python",
   "name": "python",
   "nbconvert_exporter": "python",
   "pygments_lexer": "ipython3",
   "version": "3.7.4"
  },
  "orig_nbformat": 4
 },
 "nbformat": 4,
 "nbformat_minor": 2
}

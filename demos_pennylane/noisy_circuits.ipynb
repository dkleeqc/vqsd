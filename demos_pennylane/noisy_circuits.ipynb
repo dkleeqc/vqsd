{
 "cells": [
  {
   "cell_type": "markdown",
   "metadata": {},
   "source": [
    "# Noisy circuits [[Link]](https://pennylane.ai/qml/demos/tutorial_noisy_circuits.html)\n"
   ]
  },
  {
   "cell_type": "markdown",
   "metadata": {},
   "source": [
    "## Noisy operations\n",
    "---"
   ]
  },
  {
   "cell_type": "markdown",
   "metadata": {},
   "source": [
    "Noise can be separated into two categories.\n",
    "* **Coherent noise** is described by unitary operations that maintain the purity of the output quantum state. <br>\n",
    "A common source are systematic errors originating from imperfectly-calibrated devices that do not exactly apply the desired gates, e.g., applying a rotation by an angle $\\phi+\\epsilon$ instead of $\\phi$.\n",
    "* **Incoherent noise** is more problematic: it originates from a quantum computer becoming entangled with the environment, resulting in mixed states -- probability distributions over different pure states. <br>\n",
    "Incoherent noise thus leads to outputs that are always random, regardless of what basis we measure in."
   ]
  },
  {
   "cell_type": "markdown",
   "metadata": {},
   "source": [
    "The purpose of PennyLane's `default.mixed` device is to provide native support for mixed states and for simulating noisy computations. \n",
    "\n",
    "Let's use `default.mixed` to simulate a simple circuit for preparing the Bell state $|\\psi\\rangle =\\frac{1}{\\sqrt{2}}(|00\\rangle+|11\\rangle)$. <br>\n",
    "We ask the QNode to return the expectation value of $Z_0\\otimes Z_1$:"
   ]
  },
  {
   "cell_type": "code",
   "execution_count": 1,
   "metadata": {},
   "outputs": [],
   "source": [
    "import pennylane as qml\n",
    "from pennylane import numpy as np"
   ]
  },
  {
   "cell_type": "code",
   "execution_count": 2,
   "metadata": {},
   "outputs": [
    {
     "name": "stdout",
     "output_type": "stream",
     "text": [
      "Input state is  = \n",
      "[[1. 0. 0. 0.]\n",
      " [0. 0. 0. 0.]\n",
      " [0. 0. 0. 0.]\n",
      " [0. 0. 0. 0.]]\n"
     ]
    }
   ],
   "source": [
    "dev = qml.device('default.mixed', wires=2)\n",
    "print(f\"Input state is  = \\n{np.real(dev.state)}\")"
   ]
  },
  {
   "cell_type": "code",
   "execution_count": 7,
   "metadata": {},
   "outputs": [
    {
     "name": "stdout",
     "output_type": "stream",
     "text": [
      "QNode output = 1.0000\n"
     ]
    }
   ],
   "source": [
    "@qml.qnode(dev)\n",
    "def circuit():\n",
    "    qml.Hadamard(wires=0)\n",
    "    qml.CNOT(wires=[0, 1])\n",
    "    return qml.expval(qml.PauliZ(0) @ qml.PauliZ(1))\n",
    "\n",
    "\n",
    "print(f\"QNode output = {circuit():.4f}\")"
   ]
  },
  {
   "cell_type": "markdown",
   "metadata": {},
   "source": [
    "The device stores the output state as a density matrix. In this case, the density matrix is equal to $|\\psi\\rangle\\langle\\psi|$, where $|\\psi\\rangle=\\frac{1}{\\sqrt{2}}|00\\rangle+|11\\rangle$."
   ]
  },
  {
   "cell_type": "code",
   "execution_count": 8,
   "metadata": {},
   "outputs": [
    {
     "name": "stdout",
     "output_type": "stream",
     "text": [
      "Output state is = \n",
      "[[0.5 0.  0.  0.5]\n",
      " [0.  0.  0.  0. ]\n",
      " [0.  0.  0.  0. ]\n",
      " [0.5 0.  0.  0.5]]\n"
     ]
    }
   ],
   "source": [
    "print(f\"Output state is = \\n{np.real(dev.state)}\")"
   ]
  },
  {
   "cell_type": "markdown",
   "metadata": {},
   "source": [
    "Incoherent noise is modelled by quantum channels.\n",
    "\n",
    "Mathematically, a quantum channel is a linear, completely positve, and trace-preserving (CPTP) map. <br>\n",
    "A convenient strategy for representing quantum channnels is to empoly Kraus operators $\\{K_i\\}$ satisfying the condition $\\sum_iK_i^\\dagger K_i=I$. <br>\n",
    "For an initial state $\\rho$, the output state after the action of a channel $\\Phi$ is:\n",
    "$$\n",
    "\\Phi(\\rho) = \\sum_i K_i\\rho K_i^\\dagger.\n",
    "$$\n",
    "Unitary transformations are special cases of quantum channels, like pure states are special cases of mixed states: $U\\rho U^\\dagger$."
   ]
  },
  {
   "cell_type": "markdown",
   "metadata": {},
   "source": [
    "More generally, the action of a quantum channel == applying the Kraus operator $K_i$ with some associated probability. <br>\n",
    "More precisely, the channel applies the transformation $\\frac{1}{p_i}K_i\\rho K_i^\\dagger$ with probability $p_i=\\text{Tr}[K_i\\rho K_i^\\dagger]$. <br>\n",
    "Quantum channels therefore represent a probability distribution over different possible transformations on a quantum state."
   ]
  },
  {
   "cell_type": "markdown",
   "metadata": {},
   "source": [
    "For example, consider the bit flip channel.<br>\n",
    "It describes a transformation that flips the state of a qubit (X gate) with probability $p$ and leaves it unchanged with probability $1-p$. Its Kraus operators are\n",
    "$$\n",
    "K_0 = \\sqrt{1-p}\\begin{pmatrix}\n",
    "1 & 0 \\\\\n",
    "0 & 1\n",
    "\\end{pmatrix},\\\\\n",
    "K_1 = \\sqrt{p} \\begin{pmatrix}\n",
    "0 & 1 \\\\\n",
    "1 & 0\n",
    "\\end{pmatrix}.\n",
    "$$\n",
    "This channel can be implemented in PennyLane using the `qml.BitFlip` operation."
   ]
  },
  {
   "cell_type": "markdown",
   "metadata": {},
   "source": [
    "Let us see what happens when this type of noise acts on both qubits in the circuit.!"
   ]
  },
  {
   "cell_type": "code",
   "execution_count": 9,
   "metadata": {},
   "outputs": [],
   "source": [
    "@qml.qnode(dev)\n",
    "def bitflip_circuit(p):\n",
    "    # Making the density matrix of a Bell state\n",
    "    qml.Hadamard(wires=0)\n",
    "    qml.CNOT(wires=[0,1])\n",
    "    # Generating bit-flip noise on each qubit.\n",
    "    qml.BitFlip(p, wires=0)\n",
    "    qml.BitFlip(p, wires=1)\n",
    "    return qml.expval(qml.PauliZ(0) @ qml.PauliZ(1))"
   ]
  },
  {
   "cell_type": "code",
   "execution_count": 10,
   "metadata": {},
   "outputs": [
    {
     "name": "stdout",
     "output_type": "stream",
     "text": [
      "QNode output for bit flip probability 0.001 is 0.9960\n",
      "QNode output for bit flip probability 0.01 is 0.9604\n",
      "QNode output for bit flip probability 0.1 is 0.6400\n",
      "QNode output for bit flip probability 0.2 is 0.3600\n"
     ]
    }
   ],
   "source": [
    "ps = [0.001, 0.01, 0.1, 0.2]\n",
    "for p in ps:\n",
    "    print(f\"QNode output for bit flip probability {p} is {bitflip_circuit(p):.4f}\")"
   ]
  },
  {
   "cell_type": "markdown",
   "metadata": {},
   "source": [
    "We can use PennyLane to look under the hood and see the output state of the circuit for the largest noise parameter."
   ]
  },
  {
   "cell_type": "code",
   "execution_count": 11,
   "metadata": {},
   "outputs": [
    {
     "name": "stdout",
     "output_type": "stream",
     "text": [
      "Output state for bit flip probability 0.2 is \n",
      "[[0.34 0.   0.   0.34]\n",
      " [0.   0.16 0.16 0.  ]\n",
      " [0.   0.16 0.16 0.  ]\n",
      " [0.34 0.   0.   0.34]]\n"
     ]
    }
   ],
   "source": [
    "print(f\"Output state for bit flip probability {p} is \\n{np.real(dev.state)}\")"
   ]
  },
  {
   "cell_type": "markdown",
   "metadata": {},
   "source": [
    "---\n",
    "#### Mathematical description of bit-flip channel on a Bell state $|\\Psi^+\\rangle$"
   ]
  },
  {
   "cell_type": "markdown",
   "metadata": {},
   "source": [
    "$\\rho=|\\Psi^+\\rangle\\langle\\Psi^+|$ with $|\\Psi^+\\rangle = \\frac{1}{\\sqrt{2}}|00\\rangle+|11\\rangle$.\n",
    "$$\n",
    "\\Phi_1(\\rho) = \\sum_i (K_i\\otimes I)\\rho (K_i\\otimes I)^\\dagger\n",
    "$$\n",
    "$$\n",
    "\\Phi_2(\\Phi_1(\\rho)) = \\sum_j\\sum_i (I\\otimes K_j)(K_i\\otimes I)\\rho (K_i\\otimes I)^\\dagger(I\\otimes K_j)^\\dagger\n",
    "$$\n",
    "$$\n",
    "\\Phi_{12}(\\rho) = \\sum_{i,j} (K_i\\otimes K_j)\\rho (K_i\\otimes K_j)^\\dagger \\\\\n",
    "$$"
   ]
  },
  {
   "cell_type": "code",
   "execution_count": 16,
   "metadata": {},
   "outputs": [],
   "source": [
    "p = 0.2\n",
    "\n",
    "rho = np.array([[1/2,0,0,1/2],[0,0,0,0],[0,0,0,0],[1/2,0,0,1/2]])\n",
    "K_0 = np.sqrt(1-p)*np.array([[1,0],[0,1]])\n",
    "K_1 = np.sqrt(p)*np.array([[0,1],[1,0]])"
   ]
  },
  {
   "cell_type": "markdown",
   "metadata": {},
   "source": [
    "$$\n",
    "(K_0\\otimes K_0)\\rho (K_0\\otimes K_0)^\\dagger + (K_0\\otimes K_1)\\rho (K_0\\otimes K_1)^\\dagger + (K_1\\otimes K_0)\\rho (K_1\\otimes K_0)^\\dagger + (K_1\\otimes K_1)\\rho (K_1\\otimes K_1)^\\dagger\n",
    "$$"
   ]
  },
  {
   "cell_type": "code",
   "execution_count": 18,
   "metadata": {},
   "outputs": [
    {
     "data": {
      "text/plain": [
       "tensor([[0.34, 0.  , 0.  , 0.34],\n",
       "        [0.  , 0.16, 0.16, 0.  ],\n",
       "        [0.  , 0.16, 0.16, 0.  ],\n",
       "        [0.34, 0.  , 0.  , 0.34]], requires_grad=True)"
      ]
     },
     "execution_count": 18,
     "metadata": {},
     "output_type": "execute_result"
    }
   ],
   "source": [
    "np.dot(np.dot(np.kron(K_0,K_0), rho), np.kron(K_0,K_0).T) + np.dot(np.dot(np.kron(K_0,K_1), rho), np.kron(K_0,K_1).T) \\\n",
    "    + np.dot(np.dot(np.kron(K_1,K_0), rho), np.kron(K_1,K_0).T) + np.dot(np.dot(np.kron(K_1,K_1), rho), np.kron(K_1,K_1).T)"
   ]
  },
  {
   "cell_type": "markdown",
   "metadata": {},
   "source": [
    "---"
   ]
  },
  {
   "cell_type": "markdown",
   "metadata": {},
   "source": [
    "Besides the bit flip channel, PennyLane supports several other noisy channels: <br>\n",
    "`PhaseFlip`, `AmplitudeDamping`, `GeneralizedAmplitudeDamping`, `PhaseDamping`, and the `DepolarizingChannel`.<br>\n",
    "You can also build your own custom channel using the operation `QubitChannel` by specifying its Kraus operators, or even submit a pull request introducing a new channel."
   ]
  },
  {
   "cell_type": "markdown",
   "metadata": {},
   "source": [
    "Let us take a look at another example. <br>\n",
    "The depolarizing channel is a generalization of the bit flip and phase flip channels, where each of the three possible Pauli errors can be applied to a single qubit.  <br>\n",
    "Its Kraus operators are given by\n",
    "$$\n",
    "K_0 = \\\\\n",
    "K_1 = \\\\\n",
    "K_2 = \\\\\n",
    "K_3 = \\\\\n",
    "$$"
   ]
  },
  {
   "cell_type": "code",
   "execution_count": null,
   "metadata": {},
   "outputs": [],
   "source": []
  },
  {
   "cell_type": "code",
   "execution_count": null,
   "metadata": {},
   "outputs": [],
   "source": []
  },
  {
   "cell_type": "markdown",
   "metadata": {},
   "source": [
    "## Channel gradients\n",
    "---"
   ]
  },
  {
   "cell_type": "markdown",
   "metadata": {},
   "source": []
  }
 ],
 "metadata": {
  "interpreter": {
   "hash": "8613c02920a51202e77dee99993d866e60c75b9a4757d9c1c24f8bb29668ccad"
  },
  "kernelspec": {
   "display_name": "Python 3.7.4 64-bit ('base': conda)",
   "name": "python3"
  },
  "language_info": {
   "codemirror_mode": {
    "name": "ipython",
    "version": 3
   },
   "file_extension": ".py",
   "mimetype": "text/x-python",
   "name": "python",
   "nbconvert_exporter": "python",
   "pygments_lexer": "ipython3",
   "version": "3.7.4"
  },
  "orig_nbformat": 4
 },
 "nbformat": 4,
 "nbformat_minor": 2
}

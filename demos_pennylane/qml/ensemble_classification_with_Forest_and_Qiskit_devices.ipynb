{
 "cells": [
  {
   "cell_type": "markdown",
   "metadata": {},
   "source": [
    "# <center> Ensemble classification with Forest and Qiskit devices [Link](https://pennylane.ai/qml/demos/tutorial_ensemble_multi_qpu.html) </center>"
   ]
  },
  {
   "cell_type": "markdown",
   "metadata": {},
   "source": [
    "How two QPUs can be combined in parallel to help solve a machine learnign classifcation porblem.<br>\n",
    "QPU1 : `forest.qvm` <br>\n",
    "QPU2 : `qiskit.aer` <br>"
   ]
  },
  {
   "cell_type": "markdown",
   "metadata": {},
   "source": [
    "Each QPU makes an independent prediction, and an ensemble model is formed by choosing the prediction of the most confident QPU. <br>\n",
    "The iris dataset is used in this tutorial, consisting of three classes of iris flower.<br>\n",
    "<br>\n",
    "Using a pre-trained model and the PyTorch interface, we'll see that ensembling allows the QPUs to spcialize towards different classes."
   ]
  },
  {
   "cell_type": "code",
   "execution_count": 2,
   "metadata": {},
   "outputs": [],
   "source": [
    "from collections import Counter\n",
    "\n",
    "import matplotlib.pyplot as plt\n",
    "import numpy as np\n",
    "import pennylane as qml\n",
    "import sklearn.datasets\n",
    "import sklearn.decomposition\n",
    "import torch\n",
    "from matplotlib.lines import Line2D\n",
    "from matplotlib.patches import Patch"
   ]
  },
  {
   "cell_type": "markdown",
   "metadata": {},
   "source": [
    "## Load Data\n",
    "---"
   ]
  },
  {
   "cell_type": "markdown",
   "metadata": {},
   "source": [
    "The next step is to load the iris dataset."
   ]
  },
  {
   "cell_type": "code",
   "execution_count": 3,
   "metadata": {},
   "outputs": [],
   "source": [
    "n_features = 2\n",
    "n_classes = 3\n",
    "n_samples = 150\n",
    "\n",
    "data = sklearn.datasets.load_iris()\n",
    "x = data[\"data\"]\n",
    "y = data[\"target\"]"
   ]
  },
  {
   "cell_type": "markdown",
   "metadata": {},
   "source": [
    "We shuffle the data and then embed the four features into a two-dimensional space for ease of plotting later on. <br>\n",
    "The first two principal compoenents of the data are used."
   ]
  },
  {
   "cell_type": "code",
   "execution_count": 7,
   "metadata": {},
   "outputs": [
    {
     "name": "stderr",
     "output_type": "stream",
     "text": [
      "/var/folders/sk/_pw8yxgn2b7d1scl0rnlhkp80000gn/T/ipykernel_45942/4187641523.py:2: VisibleDeprecationWarning: Creating an ndarray from ragged nested sequences (which is a list-or-tuple of lists-or-tuples-or ndarrays with different lengths or shapes) is deprecated. If you meant to do this, you must specify 'dtype=object' when creating the ndarray.\n",
      "  x, y = zip(*np.random.permutation(list(zip(x, y))))\n"
     ]
    }
   ],
   "source": [
    "np.random.seed(1967)\n",
    "x, y = zip(*np.random.permutation(list(zip(x, y))))"
   ]
  },
  {
   "cell_type": "code",
   "execution_count": 8,
   "metadata": {},
   "outputs": [
    {
     "data": {
      "text/plain": [
       "5858098"
      ]
     },
     "execution_count": 8,
     "metadata": {},
     "output_type": "execute_result"
    }
   ],
   "source": [
    "202561+248490+2*750427+195806+1635937+562500+1511950"
   ]
  },
  {
   "cell_type": "markdown",
   "metadata": {},
   "source": []
  }
 ],
 "metadata": {
  "interpreter": {
   "hash": "f3566aecee92b9119d5cab9d3e2af068b42db2260767c2b53e50be0379b5c2ee"
  },
  "kernelspec": {
   "display_name": "Python 3.8.12 64-bit ('quantcirc': conda)",
   "name": "python3"
  },
  "language_info": {
   "codemirror_mode": {
    "name": "ipython",
    "version": 3
   },
   "file_extension": ".py",
   "mimetype": "text/x-python",
   "name": "python",
   "nbconvert_exporter": "python",
   "pygments_lexer": "ipython3",
   "version": "3.8.12"
  },
  "orig_nbformat": 4
 },
 "nbformat": 4,
 "nbformat_minor": 2
}

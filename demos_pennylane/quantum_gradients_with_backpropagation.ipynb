{
 "cells": [
  {
   "cell_type": "markdown",
   "metadata": {},
   "source": [
    "# Quantum gradients with backpropagation [[Link]](https://pennylane.ai/qml/demos/tutorial_backprop.html)"
   ]
  },
  {
   "cell_type": "markdown",
   "metadata": {},
   "source": [
    "In PennyLane, anyquantum device, whether a hardware device or a simulator, can be trained using the [parameter-shift rule](https://pennylane.ai/qml/glossary/parameter_shift.html) to compute quantum gradients.\n",
    "\n",
    "Indeed, the parameter-shift rule is ideally suited to hardware devices, as it does not require any knowledge about the internal workings of the device; \n",
    "it is sufficient to treat the device as a 'black box', and to query it with different input values in order to determine the gradient.\n",
    "\n",
    "However, in real, we do have access to the internal (classical) computations being performed. <br>\n",
    "This allows us to take advantage of other methods of computing the gradient, such as backpropagation, which may be advantageous in certain regimes. \n",
    "\n",
    "In this tutorial, we will compare and contrast the parameter-shift rule against backpropagation, using the PennyLane `default.qubit` device."
   ]
  },
  {
   "cell_type": "markdown",
   "metadata": {},
   "source": [
    "## The parameter-shift rule\n",
    "---"
   ]
  },
  {
   "cell_type": "markdown",
   "metadata": {},
   "source": [
    "The parameter-shift rule states that, given a variational quantum circuit $U(\\boldsymbol{\\theta})$ composed of parameterized Pauli rotations, and some measured observable $\\hat{B}$, <br>\n",
    "the derivative of the expectation value $\\langle\\hat{B}\\rangle(\\boldsymbol{\\theta}) = \\langle 0|U(\\boldsymbol{\\theta})^\\dagger\\hat{B}U(\\boldsymbol{\\theta})|0\\rangle$ w.r.t. the input circuit parameters $\\theta$ is given by\n",
    "$$\n",
    "\\nabla_{\\theta_i}\\langle\\hat{B}\\rangle(\\boldsymbol{\\theta}) \n",
    "= \\frac{1}{2}\\left[\\langle\\hat{B}\\rangle\\left(\\boldsymbol{\\theta}+\\frac{\\pi}{2}\\hat{\\mathbf{e}}_i\\right)-\\langle\\hat{B}\\rangle\\left(\\boldsymbol{\\theta}-\\frac{\\pi}{2}\\hat{\\mathbf{e}}_i\\right)\\right].\n",
    "$$\n",
    "Thus, the gradient of the expectation value can be calculated by evaluating the same variational quantum circuit, but with shifted parameter values (hence the name, parameter-shift rule!)."
   ]
  },
  {
   "cell_type": "markdown",
   "metadata": {},
   "source": [
    "Let us have a go implementing the parameter-shift ulre manually in PennyLane."
   ]
  },
  {
   "cell_type": "code",
   "execution_count": 1,
   "metadata": {},
   "outputs": [],
   "source": [
    "import pennylane as qml\n",
    "from pennylane import numpy as np"
   ]
  },
  {
   "cell_type": "code",
   "execution_count": 2,
   "metadata": {},
   "outputs": [],
   "source": [
    "# set the random seed\n",
    "np.random.seed(42)"
   ]
  },
  {
   "cell_type": "code",
   "execution_count": 3,
   "metadata": {},
   "outputs": [],
   "source": [
    "# create a device to execute the circuit on\n",
    "dev = qml.device(\"default.qubit\", wires=3)\n",
    "\n",
    "@qml.qnode(dev, diff_method=\"parameter-shift\")\n",
    "def circuit(params):\n",
    "    qml.RX(params[0], wires=0)\n",
    "    qml.RY(params[1], wires=1)\n",
    "    qml.RZ(params[2], wires=2)\n",
    "\n",
    "    qml.broadcast(qml.CNOT, wires=[0, 1, 2], pattern=\"ring\")\n",
    "\n",
    "    qml.RX(params[3], wires=0)\n",
    "    qml.RY(params[4], wires=1)\n",
    "    qml.RZ(params[5], wires=2)\n",
    "\n",
    "    qml.broadcast(qml.CNOT, wires=[0, 1, 2], pattern=\"ring\")\n",
    "    return qml.expval(qml.PauliY(0) @ qml.PauliZ(2))"
   ]
  },
  {
   "cell_type": "markdown",
   "metadata": {},
   "source": [
    "Let us test the variational circuit evaluation with some parameter input:"
   ]
  },
  {
   "cell_type": "code",
   "execution_count": 4,
   "metadata": {},
   "outputs": [
    {
     "name": "stdout",
     "output_type": "stream",
     "text": [
      "Parameters: [0.37454012 0.95071431 0.73199394 0.59865848 0.15601864 0.15599452]\n",
      "Expectation value: -0.11971365706871569\n"
     ]
    }
   ],
   "source": [
    "# initial parameters\n",
    "params = np.random.random([6])\n",
    "\n",
    "print(\"Parameters:\", params)\n",
    "print(\"Expectation value:\", circuit(params))"
   ]
  },
  {
   "cell_type": "markdown",
   "metadata": {},
   "source": [
    "Picture of the excuted quantum circuit:"
   ]
  },
  {
   "cell_type": "code",
   "execution_count": 5,
   "metadata": {},
   "outputs": [
    {
     "name": "stdout",
     "output_type": "stream",
     "text": [
      " 0: ──RX(0.375)──╭C─────────────────╭X──RX(0.599)──╭C──────╭X──╭┤ ⟨Y ⊗ Z⟩ \n",
      " 1: ──RY(0.951)──╰X──╭C──RY(0.156)──│──────────────╰X──╭C──│───│┤         \n",
      " 2: ──RZ(0.732)──────╰X─────────────╰C──RZ(0.156)──────╰X──╰C──╰┤ ⟨Y ⊗ Z⟩ \n",
      "\n"
     ]
    }
   ],
   "source": [
    "print(circuit.draw())"
   ]
  },
  {
   "cell_type": "markdown",
   "metadata": {},
   "source": [
    "Now that we have defined our variational circuit QNode, we can construct a function that computes the gradient of the $i$th parameter using the parameter-shift rule."
   ]
  },
  {
   "cell_type": "code",
   "execution_count": 8,
   "metadata": {},
   "outputs": [],
   "source": [
    "def parameter_shift_term(qnode, params, i): #ith parameter\n",
    "    shifted = params.copy()\n",
    "    shifted[i] += np.pi/2\n",
    "    forward = qnode(shifted)  # forward evaluation\n",
    "\n",
    "    shifted[i] -= np.pi\n",
    "    backward = qnode(shifted) # backward evaluation\n",
    "\n",
    "    return 0.5 * (forward - backward)"
   ]
  },
  {
   "cell_type": "code",
   "execution_count": 9,
   "metadata": {},
   "outputs": [
    {
     "name": "stdout",
     "output_type": "stream",
     "text": [
      "-0.06518877224958117\n"
     ]
    }
   ],
   "source": [
    "# gradient with respect to the first parameter\n",
    "print(parameter_shift_term(circuit, params, 0))"
   ]
  },
  {
   "cell_type": "markdown",
   "metadata": {},
   "source": [
    "In order to compute the gradient w.r.t. *all* parameters, we need to loop over the index `i`:"
   ]
  },
  {
   "cell_type": "code",
   "execution_count": 11,
   "metadata": {},
   "outputs": [
    {
     "name": "stdout",
     "output_type": "stream",
     "text": [
      "[-6.51887722e-02 -2.72891905e-02  0.00000000e+00 -9.33934621e-02\n",
      " -7.61067572e-01  8.32667268e-17]\n"
     ]
    }
   ],
   "source": [
    "def parameter_shift(qnode, params):\n",
    "    gradients = np.zeros([len(params)])\n",
    "\n",
    "    for i in range(len(params)):\n",
    "        gradients[i] = parameter_shift_term(qnode, params, i)\n",
    "\n",
    "    return gradients\n",
    "\n",
    "print(parameter_shift(circuit, params))"
   ]
  },
  {
   "cell_type": "markdown",
   "metadata": {},
   "source": [
    "We can compare this to PennyLane's *built-in* parameter-shift feature by using the `qml.grad` function. \n",
    "Remember, when we defined the QNode, we specified that we wanted it to be differentiable using the parameter-shift method (`diff_method=\"parameter-shift\"`)."
   ]
  },
  {
   "cell_type": "code",
   "execution_count": 12,
   "metadata": {},
   "outputs": [
    {
     "name": "stdout",
     "output_type": "stream",
     "text": [
      "[-6.51887722e-02 -2.72891905e-02  0.00000000e+00 -9.33934621e-02\n",
      " -7.61067572e-01  8.32667268e-17]\n"
     ]
    }
   ],
   "source": [
    "grad_function = qml.grad(circuit)\n",
    "print(grad_function(params))"
   ]
  },
  {
   "cell_type": "markdown",
   "metadata": {},
   "source": [
    "If you count the number of quantum evaluations, you will notice that <br>\n",
    "we had to evaluate the circuit `2*len(params)` number of times in order to compute the quantum gradient w.r.t. all parameters. \n",
    "\n",
    "While reasonably fast for a small number of parameters, <br>\n",
    "as the number of parameters in our quantum circuit grows, so does both\n",
    "1. the circuit depth (and thus the time taken to evaluate each expectation value or 'forward' pass)\n",
    "2. the number of parameter-shift evaluations required.\n",
    "\n",
    "Both of these factors increase the time taken to compute the gradient with respect to all parameters."
   ]
  },
  {
   "cell_type": "markdown",
   "metadata": {},
   "source": [
    "## Benchmarking\n",
    "---"
   ]
  },
  {
   "cell_type": "markdown",
   "metadata": {},
   "source": [
    "Consider an example with a significantly larger number of parameters. <br>\n",
    "We'll use the `StronglyEntanglingLayers` template to make a more complicated QNode."
   ]
  },
  {
   "cell_type": "code",
   "execution_count": 13,
   "metadata": {},
   "outputs": [],
   "source": [
    "dev = qml.device(\"default.qubit\", wires=4)\n",
    "\n",
    "@qml.qnode(dev, diff_method=\"parameter-shift\", mutable=False)\n",
    "def circuit(params):\n",
    "    qml.templates.StronglyEntanglingLayrs(params, wires=[0, 1, 2, 3])\n",
    "    return qml.expval(qml.PauliZ(0) @ qml.PauliZ(1) @ qml.PauliZ(2) @ qml.PauliZ(3))"
   ]
  },
  {
   "cell_type": "code",
   "execution_count": null,
   "metadata": {},
   "outputs": [],
   "source": []
  }
 ],
 "metadata": {
  "interpreter": {
   "hash": "8613c02920a51202e77dee99993d866e60c75b9a4757d9c1c24f8bb29668ccad"
  },
  "kernelspec": {
   "display_name": "Python 3.7.4 64-bit ('base': conda)",
   "name": "python3"
  },
  "language_info": {
   "codemirror_mode": {
    "name": "ipython",
    "version": 3
   },
   "file_extension": ".py",
   "mimetype": "text/x-python",
   "name": "python",
   "nbconvert_exporter": "python",
   "pygments_lexer": "ipython3",
   "version": "3.7.4"
  },
  "orig_nbformat": 4
 },
 "nbformat": 4,
 "nbformat_minor": 2
}

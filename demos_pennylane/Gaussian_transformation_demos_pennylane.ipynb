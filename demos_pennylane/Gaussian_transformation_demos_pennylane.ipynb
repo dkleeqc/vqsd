{
 "cells": [
  {
   "cell_type": "markdown",
   "metadata": {},
   "source": [
    "# Gaussian transformation [[Link]](https://pennylane.ai/qml/demos/tutorial_gaussian_transformation.html)"
   ]
  },
  {
   "cell_type": "markdown",
   "metadata": {},
   "source": [
    "This tutorial demonstrates the basic working principles of PennyLane for continuous-variable (CV) photonic devices. <br>\n",
    "For more details about photonic quantum computing, check the [Strawberry Fields docs](https://strawberryfields.readthedocs.io/en/latest/)."
   ]
  },
  {
   "cell_type": "markdown",
   "metadata": {},
   "source": [
    "## The quantum circuit\n",
    "---"
   ]
  },
  {
   "cell_type": "markdown",
   "metadata": {},
   "source": [
    "Here, we will consider a special subset of CV operations: the Gaussian transformations.\n",
    "<br>\n",
    "\n",
    "1. **We begin with one wire (qumode) in the vacuum state.** <br>\n",
    "Prepare $|0\\rangle$ for the initial state, which is the vacuum state in the wire according to a photonic CV system.\n",
    "2. **We displace the qumode.** <br>\n",
    "The displacement gate linearly shifts the state of the qumode in phase space.<br>\n",
    "The vacuum state is centered at the origin in phase space, while the displaced state will be centered at the point $\\alpha$.\n",
    "3. **We rotate the qumode.** <br>\n",
    "This is another linear transformation in phase space, albeit a rotation (by angle $\\phi$) instead of a displacement.\n",
    "4. **Finally, we measure the mean photon number $\\langle\\hat{n}\\rangle=\\langle\\hat{a}^\\dagger\\hat{a}\\rangle$.** <br>\n",
    "This quantity, which tells us the average amount of photons in the final state, is proportional to the energy of the photonic system."
   ]
  },
  {
   "cell_type": "markdown",
   "metadata": {},
   "source": [
    "**The aim :** to optimize the circuit parameters $(\\alpha, \\phi)$ s.t. the mean photon number = 1. <br>\n",
    "The rotation gate: a *passive transformation* that does not change the energy of the system. <br>\n",
    "The displacement gate: an *active transformation* that modifies the energy of the photonic system."
   ]
  },
  {
   "cell_type": "markdown",
   "metadata": {},
   "source": [
    "## Constructing the QNode\n",
    "---"
   ]
  },
  {
   "cell_type": "code",
   "execution_count": 1,
   "metadata": {},
   "outputs": [],
   "source": [
    "import pennylane as qml\n",
    "from pennylane import numpy as np"
   ]
  },
  {
   "cell_type": "markdown",
   "metadata": {},
   "source": [
    "Instensitate a device. <br>\n",
    "Since our circuit contains only Gaussian operations, we use the built-in `default.gaussian` device."
   ]
  },
  {
   "cell_type": "code",
   "execution_count": 2,
   "metadata": {},
   "outputs": [],
   "source": [
    "dev_gaussian = qml.device(\"default.gaussian\", wires=1)"
   ]
  },
  {
   "cell_type": "code",
   "execution_count": null,
   "metadata": {},
   "outputs": [],
   "source": []
  }
 ],
 "metadata": {
  "interpreter": {
   "hash": "8613c02920a51202e77dee99993d866e60c75b9a4757d9c1c24f8bb29668ccad"
  },
  "kernelspec": {
   "display_name": "Python 3.7.4 64-bit ('base': conda)",
   "name": "python3"
  },
  "language_info": {
   "codemirror_mode": {
    "name": "ipython",
    "version": 3
   },
   "file_extension": ".py",
   "mimetype": "text/x-python",
   "name": "python",
   "nbconvert_exporter": "python",
   "pygments_lexer": "ipython3",
   "version": "3.7.4"
  },
  "orig_nbformat": 4
 },
 "nbformat": 4,
 "nbformat_minor": 2
}

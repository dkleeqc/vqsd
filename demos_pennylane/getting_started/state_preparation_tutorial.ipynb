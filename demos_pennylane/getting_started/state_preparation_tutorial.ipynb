{
 "cells": [
  {
   "cell_type": "markdown",
   "metadata": {},
   "source": [
    "# <center> State preparation tutorial [[Link]](https://pennylane.readthedocs.io/en/user-docs-refactor/tutorials/pennylane_run_state_preparation.html#state-preparation) </center>"
   ]
  },
  {
   "cell_type": "markdown",
   "metadata": {},
   "source": [
    "Build and optimize a circuit to prepare arbitrary single-qubit states, including mixed states. <br>\n",
    "Along the way, we also show how to:\n",
    "\n",
    "1. Construct compact expressions for circuits compoed of many layers.\n",
    "2. Succinctly evaluate expectation values of many observables.\n",
    "3. Estimate expectation values from repeated measurements, as in real hardware."
   ]
  },
  {
   "cell_type": "markdown",
   "metadata": {},
   "source": [
    "Density matrix of a qubit can be uniquely described in terms of its three-dimensional Bloch vector $\\vec{a}=(a_x,a_y,a_z)$ as:\n",
    "$$\n",
    "\\hat{\\rho} = \\frac{1}{2}(1+a_x\\hat{\\sigma}_x + a_y\\hat{\\sigma}_y + a_z\\hat{\\sigma}_z),\n",
    "$$\n",
    "where $\\hat{\\sigma}_x$, $\\hat{\\sigma}_y$, $\\hat{\\sigma}_z$ are the Pauli matrices. <br>\n",
    "Any Bloch vector corresponds to a valid density matrix as long as $||\\vec{a}||\\le 1$."
   ]
  },
  {
   "cell_type": "markdown",
   "metadata": {},
   "source": [
    "The *purity* : $p=Tr(\\hat{\\rho}^2)$, which for a qubit is bounded as $1/2 \\le p \\le 1$. <br>\n",
    "$\\hat{\\rho}$ is pure if $p=1$ and maximally mixed if $p=1/2$."
   ]
  },
  {
   "cell_type": "markdown",
   "metadata": {},
   "source": [
    "In this example, we select the target state by choosing a random Bloch vector and renormalizing it to have a specified purity."
   ]
  },
  {
   "cell_type": "markdown",
   "metadata": {},
   "source": [
    "To start, we import PennyLane, NumPy, and PyTorch for the optimization:"
   ]
  },
  {
   "cell_type": "code",
   "execution_count": 2,
   "metadata": {},
   "outputs": [],
   "source": [
    "import pennylane as qml\n",
    "from pennylane import numpy as np"
   ]
  },
  {
   "cell_type": "markdown",
   "metadata": {},
   "source": [
    "Generate a three-dimensional random vector: $\\vec{v}=(v_1,v_2,v_3)$ <br>\n",
    "Purity: $p=0.66$"
   ]
  },
  {
   "cell_type": "code",
   "execution_count": 3,
   "metadata": {},
   "outputs": [],
   "source": [
    "# we generate a three-dimensional random vector by sampling\n",
    "# each entry from a standard normal distribution\n",
    "v = np.random.normal(0, 1, 3)\n",
    "\n",
    "# purity of the target state\n",
    "purity = 0.66"
   ]
  },
  {
   "cell_type": "markdown",
   "metadata": {},
   "source": [
    "Create a raondom Bloch vector with the specified purity: $\\sqrt{2p -1} \\times \\frac{\\vec{v}}{|\\vec{v}|}$"
   ]
  },
  {
   "cell_type": "code",
   "execution_count": 4,
   "metadata": {},
   "outputs": [],
   "source": [
    "# create a random Bloch vector with the specified purity\n",
    "bloch_v = np.sqrt(2 * purity - 1) * v / np.sqrt(np.sum(v ** 2))"
   ]
  },
  {
   "cell_type": "markdown",
   "metadata": {},
   "source": [
    "Pauli matrices"
   ]
  },
  {
   "cell_type": "code",
   "execution_count": 5,
   "metadata": {},
   "outputs": [],
   "source": [
    "# array of Pauli matrices (will be useful later)\n",
    "Paulis = np.zeros((3, 2, 2), dtype=complex)\n",
    "Paulis[0] = [[0, 1], [1, 0]]\n",
    "Paulis[1] = [[0, -1j], [1j, 0]]\n",
    "Paulis[2] = [[1, 0], [0, -1]]"
   ]
  },
  {
   "cell_type": "markdown",
   "metadata": {},
   "source": [
    "Unitary Oprators: pure states $\\longrightarrow$ pure states. <br>\n",
    "\n",
    "How to prepare mixed staes in quantum circuis? <br>\n",
    "1. Introduce ancillary qubits and peform a unitary transformatino on this larger system.\n",
    "2. By \"tracing out\"  the ancilla qubits, we can prepare mixed states in the target register. <br>\n",
    "\n",
    "In this example, we introduce two additional qubits, which suffices to prepare arbitrary states."
   ]
  },
  {
   "cell_type": "markdown",
   "metadata": {},
   "source": [
    "**The ansatz circuit** is composed of repeated layers, each of which consists of single-qubit rotations along the $x$, $y$, and $z$ axes, followed by three CNOT gates entangling all qubits. <br>\n",
    "Initial gate parameters are chosen at random from normal distribution. <br>\n",
    "Importantly, when declaring the layer function, we introduce an input parameter $j$, which allows us to later call each layer individually."
   ]
  },
  {
   "cell_type": "code",
   "execution_count": 6,
   "metadata": {},
   "outputs": [],
   "source": [
    "# number of qubits in the circuit\n",
    "n_qubits = 3\n",
    "# number of layers in the circuit\n",
    "n_layers = 2\n",
    "\n",
    "# randomly initialize parameters from a normal distribution\n",
    "params = np.random.normal(0, np.pi, (n_qubits, n_layers, 3))\n",
    "\n",
    "# a layer of the circuit ansatz\n",
    "def layer(params, j):\n",
    "    for i in range(n_qubits):\n",
    "        qml.RX(params[i, j, 0], wires=i)\n",
    "        qml.RY(params[i, j, 1], wires=i)\n",
    "        qml.RZ(params[i, j, 2], wires=i)\n",
    "\n",
    "    qml.CNOT(wires=[0, 1])\n",
    "    qml.CNOT(wires=[0, 2])\n",
    "    qml.CNOT(wires=[1, 2])"
   ]
  },
  {
   "cell_type": "markdown",
   "metadata": {},
   "source": [
    "---\n",
    "Select a plugin that is compatible with evaluating expectations through smapling: the `forest.qvm` plugin. <br>\n",
    "The syntax is slightly different than for other plugins, we need to also feed a `device` keyword specifying the number of qubits in the format `[number of qubits]q-pyqvm`.<br>\n",
    "The kyeworkd `shots` indicates the number of smaples used to estimate expectation values.\n"
   ]
  },
  {
   "cell_type": "code",
   "execution_count": 7,
   "metadata": {},
   "outputs": [],
   "source": [
    "#dev = qml.device(\"forest.qvm\", device=\"3q-pyqvm\", shots=1000) # <-- I think this doesn't work anymore.\n",
    "dev = qml.device(\"default.qubit\", wires=3)"
   ]
  },
  {
   "cell_type": "markdown",
   "metadata": {},
   "source": [
    "---"
   ]
  },
  {
   "cell_type": "markdown",
   "metadata": {},
   "source": [
    "When defining the qnode, we introduce as input a Hermitian operator $A$ that specifies the expectation value being evaluated. <br>\n",
    "This choice later allows us to easily evaluate several expectation values without having to define a new qnode each times."
   ]
  },
  {
   "cell_type": "code",
   "execution_count": 8,
   "metadata": {},
   "outputs": [],
   "source": [
    "@qml.qnode(dev)\n",
    "def circuit(params, A=None):\n",
    "\n",
    "    # repeatedly apply each layer in the circuit\n",
    "    for j in range(n_layers):\n",
    "        layer(params, j)\n",
    "\n",
    "    # returns the expectation of the input matrix A on the first qubit\n",
    "    return qml.expval(qml.Hermitian(A, wires=0))"
   ]
  },
  {
   "cell_type": "markdown",
   "metadata": {},
   "source": [
    "Our goal is to prepare a state **with the same Bloch vector** as the target state. Therefore, we define a simple cost function\n",
    "$$\n",
    "C = \\sum^{3}_{i=1} |a_i-v_i|,\n",
    "$$\n",
    "\n",
    "where $\\vec{a}=(a_1,a_2,a_3)$ is the target vector and $\\vec{v}=(v_1,v_2,v_3)$ is the vector of the state prepared by the circuit. <br>"
   ]
  },
  {
   "cell_type": "code",
   "execution_count": 9,
   "metadata": {},
   "outputs": [],
   "source": [
    "# cost function\n",
    "def cost_fn(params):\n",
    "    cost = 0\n",
    "    for k in range(3):\n",
    "        cost += np.abs(circuit(params, A=Paulis[k]) - bloch_v[k])\n",
    "\n",
    "    return cost"
   ]
  },
  {
   "cell_type": "markdown",
   "metadata": {},
   "source": [
    "Optimization is carried out using the Adam optimizer. <br>\n",
    "Finally, we compare the Bloch vectors of the target an output state."
   ]
  },
  {
   "cell_type": "code",
   "execution_count": 11,
   "metadata": {},
   "outputs": [
    {
     "name": "stdout",
     "output_type": "stream",
     "text": [
      "Cost after 0 steps is 0.0102\n",
      "Cost after 10 steps is 0.1630\n",
      "Cost after 20 steps is 0.0233\n",
      "Cost after 30 steps is 0.0073\n",
      "Cost after 40 steps is 0.0192\n",
      "Cost after 50 steps is 0.0143\n",
      "Cost after 60 steps is 0.0141\n",
      "Cost after 70 steps is 0.0093\n",
      "Cost after 80 steps is 0.0116\n",
      "Cost after 90 steps is 0.0025\n",
      "Cost after 100 steps is 0.0027\n",
      "Cost after 110 steps is 0.0036\n",
      "Cost after 120 steps is 0.0055\n",
      "Cost after 130 steps is 0.0043\n",
      "Cost after 140 steps is 0.0017\n",
      "Cost after 150 steps is 0.0087\n",
      "Cost after 160 steps is 0.0084\n",
      "Cost after 170 steps is 0.0009\n",
      "Cost after 180 steps is 0.0031\n",
      "Cost after 190 steps is 0.0048\n",
      "Cost after 200 steps is 0.0031\n"
     ]
    }
   ],
   "source": [
    "# set up the optimizer\n",
    "opt = qml.AdamOptimizer()\n",
    "\n",
    "# number of steps in the optimization routine\n",
    "steps = 200\n",
    "\n",
    "# the final stage of optimization isn't always the best, so we keep track of\n",
    "# the best parameters along the way\n",
    "best_cost = cost_fn(params)\n",
    "best_params = np.zeros((n_qubits, n_layers, 3))\n",
    "\n",
    "print(\"Cost after 0 steps is {:.4f}\".format(cost_fn(params)))\n",
    "\n",
    "# optimization begins\n",
    "for n in range(steps):\n",
    "    params = opt.step(cost_fn, params)\n",
    "    current_cost = cost_fn(params)\n",
    "\n",
    "    # keeps track of best parameters\n",
    "    if current_cost < best_cost:\n",
    "        best_params = params\n",
    "\n",
    "    # Keep track of progress every 10 steps\n",
    "    if n % 10 == 9 or n == steps - 1:\n",
    "        print(\"Cost after {} steps is {:.4f}\".format(n + 1, current_cost))"
   ]
  },
  {
   "cell_type": "code",
   "execution_count": 12,
   "metadata": {},
   "outputs": [
    {
     "name": "stdout",
     "output_type": "stream",
     "text": [
      "Target Bloch vector =  [ 0.03574474  0.26410515 -0.49896972]\n",
      "Output Bloch vector =  [ 0.03586431  0.26126027 -0.49879198]\n"
     ]
    }
   ],
   "source": [
    "# calculate the Bloch vector of the output state\n",
    "output_bloch_v = np.zeros(3)\n",
    "for l in range(3):\n",
    "    output_bloch_v[l] = circuit(best_params, A=Paulis[l])\n",
    "\n",
    "# print results\n",
    "print(\"Target Bloch vector = \", bloch_v)\n",
    "print(\"Output Bloch vector = \", output_bloch_v)"
   ]
  },
  {
   "cell_type": "markdown",
   "metadata": {},
   "source": [
    "---\n",
    "### Note"
   ]
  },
  {
   "cell_type": "markdown",
   "metadata": {},
   "source": [
    "A pure state $|\\psi\\rangle = \\cos(\\theta/2)|0\\rangle + e^{i\\phi}\\sin(\\theta/2)|1\\rangle$, where $0\\le\\theta\\le\\pi$  and $0\\le\\phi\\le 2\\pi$.\n"
   ]
  },
  {
   "cell_type": "markdown",
   "metadata": {},
   "source": [
    "Block vector $\\vec{a}=(\\sin \\theta \\cos \\phi, \\sin \\theta \\sin \\phi, \\cos \\theta)$."
   ]
  }
 ],
 "metadata": {
  "interpreter": {
   "hash": "f3566aecee92b9119d5cab9d3e2af068b42db2260767c2b53e50be0379b5c2ee"
  },
  "kernelspec": {
   "display_name": "Python 3.8.12 64-bit ('quantcirc': conda)",
   "language": "python",
   "name": "python3"
  },
  "language_info": {
   "codemirror_mode": {
    "name": "ipython",
    "version": 3
   },
   "file_extension": ".py",
   "mimetype": "text/x-python",
   "name": "python",
   "nbconvert_exporter": "python",
   "pygments_lexer": "ipython3",
   "version": "3.8.12"
  },
  "orig_nbformat": 4
 },
 "nbformat": 4,
 "nbformat_minor": 2
}

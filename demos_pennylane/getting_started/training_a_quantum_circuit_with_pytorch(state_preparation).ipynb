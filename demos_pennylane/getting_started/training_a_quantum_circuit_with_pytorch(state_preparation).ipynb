{
 "cells": [
  {
   "cell_type": "markdown",
   "metadata": {},
   "source": [
    "# <center> Training a quantum circuit with PyTorch [[Link]](https://pennylane.ai/qml/demos/tutorial_state_preparation.html) (or State preparation tutorial) </center>"
   ]
  },
  {
   "cell_type": "markdown",
   "metadata": {},
   "source": [
    "Build and optimize a circuit to prepare arbitrary single-qubit states, including mixed states. <br>\n",
    "Along the way, we also show how to:\n",
    "\n",
    "1. Construct compact expressions for circuits compoed of many layers.\n",
    "2. Succinctly evaluate expectation values of many observables.\n",
    "3. Estimate expectation values from repeated measurements, as in real hardware."
   ]
  },
  {
   "cell_type": "markdown",
   "metadata": {},
   "source": [
    "Density matrix of a qubit can be uniquely described in terms of its three-dimensional Bloch vector $\\vec{a}=(a_x,a_y,a_z)$ as:\n",
    "$$\n",
    "\\hat{\\rho} = \\frac{1}{2}(1+a_x\\hat{\\sigma}_x + a_y\\hat{\\sigma}_y + a_z\\hat{\\sigma}_z),\n",
    "$$\n",
    "where $\\hat{\\sigma}_x$, $\\hat{\\sigma}_y$, $\\hat{\\sigma}_z$ are the Pauli matrices. <br>\n",
    "Any Bloch vector corresponds to a valid density matrix as long as $||\\vec{a}||\\le 1$."
   ]
  },
  {
   "cell_type": "markdown",
   "metadata": {},
   "source": [
    "The *purity* : $p=Tr(\\hat{\\rho}^2)$, which for a qubit is bounded as $1/2 \\le p \\le 1$. <br>\n",
    "$\\hat{\\rho}$ is pure if $p=1$ and maximally mixed if $p=1/2$."
   ]
  },
  {
   "cell_type": "markdown",
   "metadata": {},
   "source": [
    "In this example, we select the target state by choosing a random Bloch vector and renormalizing it to have a specified purity."
   ]
  },
  {
   "cell_type": "markdown",
   "metadata": {},
   "source": [
    "To start, we import PennyLane, NumPy, and PyTorch for the optimization:"
   ]
  },
  {
   "cell_type": "code",
   "execution_count": 1,
   "metadata": {},
   "outputs": [],
   "source": [
    "import pennylane as qml\n",
    "import numpy as np\n",
    "import torch\n",
    "from torch.autograd import Variable\n",
    "\n",
    "np.random.seed(42)\n",
    "dev = qml.device(\"default.qubit\", wires=3)"
   ]
  },
  {
   "cell_type": "code",
   "execution_count": 2,
   "metadata": {},
   "outputs": [],
   "source": [
    "# we generate a three-dimensional random vector by sampling\n",
    "# each entry from a standard normal distribution\n",
    "v = np.random.normal(0, 1, 3)\n",
    "\n",
    "# purity of the target state\n",
    "purity = 0.66\n",
    "\n",
    "# create a random Bloch vector with the specified purity\n",
    "bloch_v = Variable(\n",
    "    torch.tensor(np.sqrt(2 * purity - 1) * v / np.sqrt(np.sum(v ** 2))),\n",
    "    requires_grad=False\n",
    ")\n",
    "\n",
    "# array of Pauli matrices (will be useful later)\n",
    "Paulis = Variable(torch.zeros([3, 2, 2], dtype=torch.complex128), requires_grad=False)\n",
    "Paulis[0] = torch.tensor([[0, 1], [1, 0]])\n",
    "Paulis[1] = torch.tensor([[0, -1j], [1j, 0]])\n",
    "Paulis[2] = torch.tensor([[1, 0], [0, -1]])"
   ]
  },
  {
   "cell_type": "markdown",
   "metadata": {},
   "source": [
    "Construct Layer"
   ]
  },
  {
   "cell_type": "code",
   "execution_count": 3,
   "metadata": {},
   "outputs": [],
   "source": [
    "# number of qubits in the circuit\n",
    "nr_qubits = 3\n",
    "# number of layers in the circuit\n",
    "nr_layers = 2\n",
    "\n",
    "# randomly initialize parameters from a normal distribution\n",
    "params = np.random.normal(0, np.pi, (nr_qubits, nr_layers, 3))\n",
    "params = Variable(torch.tensor(params), requires_grad=True)\n",
    "\n",
    "# a layer of the circuit ansatz\n",
    "def layer(params, j):\n",
    "    for i in range(nr_qubits):\n",
    "        qml.RX(params[i, j, 0], wires=i)\n",
    "        qml.RY(params[i, j, 1], wires=i)\n",
    "        qml.RZ(params[i, j, 2], wires=i)\n",
    "\n",
    "    qml.CNOT(wires=[0, 1])\n",
    "    qml.CNOT(wires=[0, 2])\n",
    "    qml.CNOT(wires=[1, 2])"
   ]
  },
  {
   "cell_type": "markdown",
   "metadata": {},
   "source": [
    "Expval circuit: $\\langle\\hat{A}\\rangle$."
   ]
  },
  {
   "cell_type": "code",
   "execution_count": 4,
   "metadata": {},
   "outputs": [],
   "source": [
    "@qml.qnode(dev, interface=\"torch\")\n",
    "def circuit(params, A):\n",
    "\n",
    "    # repeatedly apply each layer in the circuit\n",
    "    for j in range(nr_layers):\n",
    "        layer(params, j)\n",
    "\n",
    "    # returns the expectation of the input matrix A on the first qubit\n",
    "    return qml.expval(qml.Hermitian(A, wires=0))"
   ]
  },
  {
   "cell_type": "markdown",
   "metadata": {},
   "source": [
    "Cost function for targeting a Bloch vector: $C=\\sum_{i=1}^3|a_i-v_i|$"
   ]
  },
  {
   "cell_type": "code",
   "execution_count": 5,
   "metadata": {},
   "outputs": [],
   "source": [
    "# cost function\n",
    "def cost_fn(params):\n",
    "    cost = 0\n",
    "    for k in range(3):\n",
    "        cost += torch.abs(circuit(params, Paulis[k]) - bloch_v[k])\n",
    "\n",
    "    return cost"
   ]
  },
  {
   "cell_type": "markdown",
   "metadata": {},
   "source": [
    "Optimizing circuit"
   ]
  },
  {
   "cell_type": "code",
   "execution_count": 6,
   "metadata": {},
   "outputs": [
    {
     "name": "stdout",
     "output_type": "stream",
     "text": [
      "Cost after 0 steps is 1.0179\n"
     ]
    },
    {
     "name": "stderr",
     "output_type": "stream",
     "text": [
      "/Users/Mac_dk/anaconda3/envs/quantcirc/lib/python3.8/site-packages/torch/autograd/__init__.py:154: UserWarning: Casting complex values to real discards the imaginary part (Triggered internally at  /Users/distiller/project/conda/conda-bld/pytorch_1634272482218/work/aten/src/ATen/native/Copy.cpp:244.)\n",
      "  Variable._execution_engine.run_backward(\n"
     ]
    },
    {
     "name": "stdout",
     "output_type": "stream",
     "text": [
      "Cost after 10 steps is 0.1467\n",
      "Cost after 20 steps is 0.0768\n",
      "Cost after 30 steps is 0.0813\n",
      "Cost after 40 steps is 0.0807\n",
      "Cost after 50 steps is 0.0940\n",
      "Cost after 60 steps is 0.0614\n",
      "Cost after 70 steps is 0.0932\n",
      "Cost after 80 steps is 0.0455\n",
      "Cost after 90 steps is 0.0752\n",
      "Cost after 100 steps is 0.0301\n",
      "Cost after 110 steps is 0.0363\n",
      "Cost after 120 steps is 0.1332\n",
      "Cost after 130 steps is 0.0687\n",
      "Cost after 140 steps is 0.0505\n",
      "Cost after 150 steps is 0.0800\n",
      "Cost after 160 steps is 0.0644\n",
      "Cost after 170 steps is 0.0813\n",
      "Cost after 180 steps is 0.0592\n",
      "Cost after 190 steps is 0.0502\n",
      "Cost after 200 steps is 0.0573\n"
     ]
    }
   ],
   "source": [
    "# set up the optimizer\n",
    "opt = torch.optim.Adam([params], lr=0.1)\n",
    "\n",
    "# number of steps in the optimization routine\n",
    "steps = 200\n",
    "\n",
    "# the final stage of optimization isn't always the best, so we keep track of\n",
    "# the best parameters along the way\n",
    "best_cost = cost_fn(params)\n",
    "best_params = np.zeros((nr_qubits, nr_layers, 3))\n",
    "\n",
    "print(\"Cost after 0 steps is {:.4f}\".format(cost_fn(params)))\n",
    "\n",
    "# optimization begins\n",
    "for n in range(steps):\n",
    "    opt.zero_grad()\n",
    "    loss = cost_fn(params)\n",
    "    loss.backward()\n",
    "    opt.step()\n",
    "\n",
    "    # keeps track of best parameters\n",
    "    if loss < best_cost:\n",
    "        best_cost = loss\n",
    "        best_params = params\n",
    "\n",
    "    # Keep track of progress every 10 steps\n",
    "    if n % 10 == 9 or n == steps - 1:\n",
    "        print(\"Cost after {} steps is {:.4f}\".format(n + 1, loss))"
   ]
  },
  {
   "cell_type": "markdown",
   "metadata": {},
   "source": [
    "Results: Target Bloch vec v.s. Output Bloch vec"
   ]
  },
  {
   "cell_type": "code",
   "execution_count": 14,
   "metadata": {},
   "outputs": [
    {
     "name": "stdout",
     "output_type": "stream",
     "text": [
      "Target Bloch vector =  [ 0.33941241 -0.09447812  0.44257553]\n",
      "Output Bloch vector =  [ 0.33257077 -0.08554896  0.44914308]\n"
     ]
    }
   ],
   "source": [
    "# calculate the Bloch vector of the output state\n",
    "output_bloch_v = np.zeros(3)\n",
    "for l in range(3):\n",
    "    output_bloch_v[l] = circuit(best_params, Paulis[l])\n",
    "\n",
    "# print results\n",
    "print(\"Target Bloch vector = \", bloch_v.numpy())\n",
    "print(\"Output Bloch vector = \", output_bloch_v)"
   ]
  }
 ],
 "metadata": {
  "interpreter": {
   "hash": "8613c02920a51202e77dee99993d866e60c75b9a4757d9c1c24f8bb29668ccad"
  },
  "kernelspec": {
   "display_name": "Python 3.7.4 64-bit ('base': conda)",
   "name": "python3"
  },
  "language_info": {
   "codemirror_mode": {
    "name": "ipython",
    "version": 3
   },
   "file_extension": ".py",
   "mimetype": "text/x-python",
   "name": "python",
   "nbconvert_exporter": "python",
   "pygments_lexer": "ipython3",
   "version": "3.8.12"
  },
  "orig_nbformat": 4
 },
 "nbformat": 4,
 "nbformat_minor": 2
}

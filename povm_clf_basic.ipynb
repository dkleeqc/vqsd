{
 "cells": [
  {
   "cell_type": "markdown",
   "metadata": {},
   "source": [
    "# <center> POVM as a quantum version of the classifier </center>"
   ]
  },
  {
   "cell_type": "code",
   "execution_count": 1,
   "metadata": {},
   "outputs": [],
   "source": [
    "import pennylane as qml\n",
    "from pennylane import numpy as np\n",
    "\n",
    "from sympy import * \n",
    "from sympy.physics.quantum.circuitplot import CircuitPlot,labeller,Mz,CreateOneQubitGate\n",
    "from sympy.physics.quantum.gate import *\n",
    "from sympy.physics.quantum.qasm import Qasm\n",
    "\n",
    "from matplotlib import rc\n",
    "#rc('text',usetex=True)"
   ]
  },
  {
   "cell_type": "code",
   "execution_count": 2,
   "metadata": {},
   "outputs": [],
   "source": [
    "dev = qml.device('default.qubit', wires=2)\n",
    "#dev = qml.device('qiskit.aer', wires=2)\n",
    "#dev = qml.device('qiskit.ibmq', wires=2, shots=8192, ibmqx_token=\"e942e97ce86ca8c3609a4053fe6762ec3db17c41895b2d85d6a3560a1156501d57db36753f99138ecb32dca58a97ae5b38005ad39855dd92ab0e86cef852c1a2\")"
   ]
  },
  {
   "cell_type": "markdown",
   "metadata": {},
   "source": [
    "---\n",
    "## Two-element POVM Module."
   ]
  },
  {
   "cell_type": "code",
   "execution_count": 3,
   "metadata": {},
   "outputs": [
    {
     "data": {
      "text/plain": [
       "<sympy.physics.quantum.circuitplot.CircuitPlot at 0x7fe8e8ba6d30>"
      ]
     },
     "execution_count": 3,
     "metadata": {},
     "output_type": "execute_result"
    },
    {
     "data": {
      "image/png": "[encoded data removed]",
      "text/plain": [
       "<Figure size 576x144 with 1 Axes>"
      ]
     },
     "metadata": {},
     "output_type": "display_data"
    }
   ],
   "source": [
    "Ry1 = CreateOneQubitGate('Ry1', r'R_y(\\theta_1)')\n",
    "Ry2 = CreateOneQubitGate('Ry2', r'R_y(\\theta_2)')\n",
    "V1 = CreateOneQubitGate('V1', r'V_1')\n",
    "V2 = CreateOneQubitGate('V2', r'V_2')\n",
    "\n",
    "CircuitPlot(CGate(0,V2(1))*X(0)*CGate(0,V1(1))*X(0)*CGate(1,Ry2(0))*X(1)*CGate(1,Ry1(0))*X(1),2)"
   ]
  },
  {
   "cell_type": "code",
   "execution_count": 4,
   "metadata": {},
   "outputs": [],
   "source": [
    "def two_element_povm(params, wire0, wire1):\n",
    "    #params \n",
    "\n",
    "    # Controlled-RY gate controlled by first qubit in |0> state\n",
    "    qml.PauliX(wires=wire0)\n",
    "    qml.CRY(params[0], wires=[wire0,wire1])\n",
    "    qml.PauliX(wires=wire0)\n",
    "    \n",
    "    # Controlled-RY gate controlled by first qubit in |1> state\n",
    "    qml.CRY(params[1], wires=[wire0,wire1])\n",
    "    \n",
    "    # Controlled-Rotation gate (arbitrary single-qubit unitary operator) controlled by 2nd qubit in |0> state\n",
    "    qml.PauliX(wires=wire1)\n",
    "    qml.CRot(params[2], params[3], params[4], wires=[wire1,wire0])\n",
    "    qml.PauliX(wires=wire1)\n",
    "\n",
    "    # # Controlled-Rotation gate (arbitrary single-qubit unitary operator) controlled by 2nd qubit in |1> state\n",
    "    qml.CRot(params[5], params[6], params[7], wires=[wire1,wire0])"
   ]
  },
  {
   "cell_type": "markdown",
   "metadata": {},
   "source": [
    "#### Test and Drawing `two_element_povm` module"
   ]
  },
  {
   "cell_type": "code",
   "execution_count": 5,
   "metadata": {},
   "outputs": [
    {
     "name": "stdout",
     "output_type": "stream",
     "text": [
      "Drawing a two-element POVM circuit : \n",
      " 0: ──X──╭C──────────X──╭C─────────────╭Rot(0.765, 0.207, 0.659)─────╭Rot(0.102, 0.933, 0.484)──╭┤ ⟨I ⊗ Z⟩ \n",
      " 1: ─────╰RY(0.147)─────╰RY(0.441)──X──╰C─────────────────────────X──╰C─────────────────────────╰┤ ⟨I ⊗ Z⟩ \n",
      "\n"
     ]
    }
   ],
   "source": [
    "@qml.qnode(dev)\n",
    "def povm_circuit(params):\n",
    "    two_element_povm(params, 0, 1)\n",
    "    return qml.expval(qml.Identity(0) @ qml.PauliZ(1))\n",
    "\n",
    "# initial parameters\n",
    "params = np.random.random([8])\n",
    "povm_circuit(params)\n",
    "\n",
    "print(\"Drawing a two-element POVM circuit : \")\n",
    "print(povm_circuit.draw())"
   ]
  },
  {
   "cell_type": "markdown",
   "metadata": {},
   "source": [
    "---\n",
    "## Preparing two arbitrary pure states"
   ]
  },
  {
   "cell_type": "markdown",
   "metadata": {},
   "source": [
    "A pure state: $|\\psi\\rangle = \\cos(\\theta/2)|0\\rangle + e^{i\\phi}\\sin(\\theta/2)|1\\rangle$, where $0\\le\\theta\\le\\pi$  and $0\\le\\phi\\le 2\\pi$."
   ]
  },
  {
   "cell_type": "markdown",
   "metadata": {},
   "source": [
    "$ U = R_z(\\beta)R_y(\\gamma)R_z(\\delta) = \\begin{bmatrix} e^{-i(\\delta+\\beta)/2}\\cos(\\gamma/2) & -e^{i(\\delta-\\beta)/2}\\sin(\\gamma/2) \\\\ e^{-i(\\delta-\\beta)/2}\\sin(\\gamma/2) & e^{i(\\delta+\\beta)/2}\\cos(\\gamma/2) \\end{bmatrix} $"
   ]
  },
  {
   "cell_type": "code",
   "execution_count": 6,
   "metadata": {},
   "outputs": [],
   "source": [
    "def state_preparation(statevector, wire0):\n",
    "    theta = 2 * np.arccos(statevector[0])\n",
    "    phi = np.angle(statevector[1]/np.sin(theta/2)) if not np.isclose(np.sin(theta/2), 0) else 0\n",
    "    #print(theta, phi)\n",
    "\n",
    "    qml.Rot(phi, theta, (-1)*phi, wires=wire0)"
   ]
  },
  {
   "cell_type": "markdown",
   "metadata": {},
   "source": [
    "#### Test and Drawing `state_preparation` module"
   ]
  },
  {
   "cell_type": "code",
   "execution_count": 7,
   "metadata": {},
   "outputs": [
    {
     "name": "stdout",
     "output_type": "stream",
     "text": [
      "[1.+0.j 0.+0.j 0.+0.j 0.+0.j]\n",
      " 0: ──Rot(0, 0, 0)──┤ State \n",
      "\n"
     ]
    }
   ],
   "source": [
    "@qml.qnode(dev)\n",
    "def test_initstate(test_vec):    \n",
    "    state_preparation(test_vec, wire0=0)\n",
    "    return qml.state()\n",
    "\n",
    "test_vec = [1, 0]\n",
    "print(test_initstate(test_vec))\n",
    "\n",
    "print(test_initstate.draw())"
   ]
  },
  {
   "cell_type": "markdown",
   "metadata": {},
   "source": [
    "---\n",
    "## Minimum Error Discrimination"
   ]
  },
  {
   "cell_type": "markdown",
   "metadata": {},
   "source": [
    "Preparation: $\\{q_i,\\hat{\\rho}_i\\}^{N}_{i=1}$ $\\longleftarrow$ $\\hat{\\rho} = \\sum_i q_i\\hat{\\rho}_i$. <br>\n",
    "\n",
    "POVMs: $\\{E_k\\}_{k=1}^{L}$ with $\\sum_{k=1}^{L} E_k = I$."
   ]
  },
  {
   "cell_type": "markdown",
   "metadata": {},
   "source": [
    "Q. Why \"$N=L$\" is optimal?"
   ]
  },
  {
   "cell_type": "markdown",
   "metadata": {},
   "source": [
    "In general, for a state $\\hat{\\rho}_i$ generated in preparation, a detection event on $\\hat{E}_k$ happens with probability $ p(k|i) = tr [\\hat{E}_k\\hat{\\rho_i}] $."
   ]
  },
  {
   "cell_type": "markdown",
   "metadata": {},
   "source": [
    "$$\n",
    "p_{success} = \\sum_i q_i p(i|i)\n",
    "$$\n",
    "$$\n",
    "p_{guess} = \\max_{E} \\sum_i q_i p(i|i)\n",
    "$$\n",
    "$$\n",
    "p_{error} = 1 - p_{guess}\n",
    "$$"
   ]
  },
  {
   "cell_type": "markdown",
   "metadata": {},
   "source": [
    "For two-element POVMs $\\{\\hat{E}_0, \\hat{E}_1\\}$ on two different state prepared as $\\{(q_0,\\hat{\\rho}_0), (q_1,\\hat{\\rho}_1)\\}$, \n",
    "$$\n",
    "p_{error} = 1 - p_{guess} = 1-\\max_{\\vec{\\theta}}\\left(q_0\\text{Tr}[\\hat{E}_0\\hat{\\rho}_0] + q_1\\text{Tr}[\\hat{E}_1\\hat{\\rho}_1] \\right)\n",
    "$$"
   ]
  },
  {
   "cell_type": "markdown",
   "metadata": {},
   "source": [
    "---\n",
    "## Classification of two different states by using POVM"
   ]
  },
  {
   "cell_type": "markdown",
   "metadata": {},
   "source": [
    "$|\\Psi^0_i\\rangle := |\\psi_0\\rangle|0\\rangle$ \n",
    "$\\longrightarrow$ POVM $\\longrightarrow$ \n",
    "$|\\Psi^0_f\\rangle := \\left(\\hat{K}_0|\\psi_0\\rangle\\right)|0\\rangle + \\left(\\hat{K}_1|\\psi_0\\rangle\\right)|1\\rangle$"
   ]
  },
  {
   "cell_type": "markdown",
   "metadata": {},
   "source": [
    "$$\n",
    "\\text{Tr}[\\hat{\\rho}_0\\hat{E}_0] = \\langle\\psi_0|\\hat{K}^\\dagger_0\\hat{K}_0|\\psi_0\\rangle \\langle 0 | 0 \\rangle = \\langle\\psi_0|\\langle 0|\\hat{K}^\\dagger_0\\hat{K}_0|\\psi_0\\rangle|0\\rangle\\\\\n",
    "=\\frac{1}{2}\\left(\\langle\\psi_0|\\langle 0|\\hat{K}^\\dagger_0\\hat{K}_0|\\psi_0\\rangle|0\\rangle + \\langle\\psi_0|\\langle 1|\\hat{K}^\\dagger_1\\hat{K}_1|\\psi_0\\rangle|1\\rangle\\right)\\\\\n",
    "+\\frac{1}{2}\\left(\\langle\\psi_0|\\langle 0|\\hat{K}^\\dagger_0\\hat{K}_0|\\psi_0\\rangle|0\\rangle - \\langle\\psi_0|\\langle 1|\\hat{K}^\\dagger_1\\hat{K}_1|\\psi_0\\rangle|1\\rangle\\right) \\\\ \n",
    "\\frac{1}{2} \\left(1 + \\langle\\Psi_f|I\\otimes Z|\\Psi_f\\rangle\\right)\n",
    "$$\n",
    "Similarly, $\\text{Tr}[\\hat{\\rho}_0\\hat{E}_1] = \\frac{1}{2}\\left(1 - \\langle\\Psi_f|I\\otimes Z|\\Psi_f\\rangle\\right)$."
   ]
  },
  {
   "cell_type": "markdown",
   "metadata": {},
   "source": [
    "From the minimum error discrimination, find **the optimal POVMs** for discriminating two different states:\n",
    "$$\n",
    "p_{error} = 1- (-1)\\min_{\\vec{\\theta}}\\left(-q_o\\text{Tr}[\\hat{E}_0\\hat{\\rho}_0] - q_1\\text{Tr}[\\hat{E}_1\\hat{\\rho}_1]\\right)\\\\\n",
    "=\\min_{\\vec{\\theta}}\\left[\\frac{1}{2} - \\frac{q_0}{2}\\langle\\Psi^0_f|I\\otimes Z|\\Psi^0_f\\rangle + \\frac{q_1}{2}\\langle\\Psi^1_f|I\\otimes Z|\\Psi^1_f\\rangle\\right]\n",
    "$$"
   ]
  },
  {
   "cell_type": "markdown",
   "metadata": {},
   "source": [
    "### Cost function : $C(\\vec{\\theta}) = \\frac{1}{2}\\left(1 - q_0\\langle\\Psi^0_f|I\\otimes Z|\\Psi^0_f\\rangle + q_1\\langle\\Psi^1_f|I\\otimes Z|\\Psi^1_f\\rangle\\right)$"
   ]
  },
  {
   "cell_type": "code",
   "execution_count": 8,
   "metadata": {},
   "outputs": [
    {
     "data": {
      "text/plain": [
       "<sympy.physics.quantum.circuitplot.CircuitPlot at 0x7fe8ee2ec970>"
      ]
     },
     "execution_count": 8,
     "metadata": {},
     "output_type": "execute_result"
    },
    {
     "data": {
      "image/png": "[encoded data removed]",
      "text/plain": [
       "<Figure size 720x144 with 1 Axes>"
      ]
     },
     "metadata": {},
     "output_type": "display_data"
    }
   ],
   "source": [
    "U = CreateOneQubitGate('U')\n",
    "Ry1 = CreateOneQubitGate('Ry1', r'R_y(\\theta_1)')\n",
    "Ry2 = CreateOneQubitGate('Ry2', r'R_y(\\theta_2)')\n",
    "V1 = CreateOneQubitGate('V1', r'V_1')\n",
    "V2 = CreateOneQubitGate('V2', r'V_2')\n",
    "\n",
    "CircuitPlot(Mz(0)*CGate(0,V2(1))*X(0)*CGate(0,V1(1))*X(0)*CGate(1,Ry2(0))*X(1)*CGate(1,Ry1(0))*X(1)*U(1), 2, labels=['0','\\psi'])"
   ]
  },
  {
   "cell_type": "markdown",
   "metadata": {},
   "source": [
    "$ \\langle\\Psi_f|I\\otimes Z|\\Psi_f\\rangle $"
   ]
  },
  {
   "cell_type": "code",
   "execution_count": 9,
   "metadata": {},
   "outputs": [],
   "source": [
    "@qml.qnode(dev)\n",
    "def circuit_povm_expvalIZ(init_state, params):\n",
    "    state_preparation(init_state, wire0=0)\n",
    "\n",
    "    # arbitrary rotation\n",
    "    qml.Rot(params[0], params[1], params[2], wires=0)\n",
    "\n",
    "    # two-element POVM\n",
    "    two_element_povm(params[3:], 0, 1)\n",
    "\n",
    "    return qml.expval(qml.Identity(0) @ qml.PauliZ(1))"
   ]
  },
  {
   "cell_type": "code",
   "execution_count": 10,
   "metadata": {},
   "outputs": [
    {
     "data": {
      "text/plain": [
       "tensor([7.79542253, 8.89677686, 6.05455665, 0.25281436, 7.41261689,\n",
       "        4.19160379, 7.84321005, 2.99057206, 2.63314671, 1.04066613,\n",
       "        0.35112895], requires_grad=True)"
      ]
     },
     "execution_count": 10,
     "metadata": {},
     "output_type": "execute_result"
    }
   ],
   "source": [
    "params = 4 * np.pi * np.random.random([11])\n",
    "params"
   ]
  },
  {
   "cell_type": "code",
   "execution_count": 11,
   "metadata": {},
   "outputs": [
    {
     "data": {
      "text/plain": [
       "tensor(0.46401425, requires_grad=True)"
      ]
     },
     "execution_count": 11,
     "metadata": {},
     "output_type": "execute_result"
    }
   ],
   "source": [
    "circuit_povm_expvalIZ(init_state=[1,0], params=params)"
   ]
  },
  {
   "cell_type": "code",
   "execution_count": 41,
   "metadata": {},
   "outputs": [],
   "source": [
    "def cost(x):\n",
    "    psi0 = [1, 0]\n",
    "    psi1 = [1/np.sqrt(2), (-1)/np.sqrt(2)]\n",
    "    K0psi0 = circuit_povm_expvalIZ(psi0, x)\n",
    "    K1psi1 = circuit_povm_expvalIZ(psi1, x)\n",
    "    return (1/2) * (1 - (1/2)*K0psi0 + (1/2)*K1psi1)"
   ]
  },
  {
   "cell_type": "markdown",
   "metadata": {},
   "source": [
    "### Optimization of POVM: solving $\\min_{\\vec{\\theta}}C(\\vec{\\theta})$"
   ]
  },
  {
   "cell_type": "code",
   "execution_count": 43,
   "metadata": {},
   "outputs": [
    {
     "name": "stdout",
     "output_type": "stream",
     "text": [
      "cost(init_params) = 0.652883916256179\n",
      "Cost after step     5:  0.5938230\n",
      "Cost after step    10:  0.5457921\n",
      "Cost after step    15:  0.5074378\n",
      "Cost after step    20:  0.4717514\n",
      "Cost after step    25:  0.4307519\n",
      "Cost after step    30:  0.3789782\n",
      "Cost after step    35:  0.3180960\n",
      "Cost after step    40:  0.2586086\n",
      "Cost after step    45:  0.2119580\n",
      "Cost after step    50:  0.1816660\n",
      "Cost after step    55:  0.1644183\n",
      "Cost after step    60:  0.1553506\n",
      "Cost after step    65:  0.1507898\n",
      "Cost after step    70:  0.1485485\n",
      "Cost after step    75:  0.1474598\n",
      "Cost after step    80:  0.1469341\n",
      "Cost after step    85:  0.1466809\n",
      "Cost after step    90:  0.1465592\n",
      "Cost after step    95:  0.1465007\n",
      "Cost after step   100:  0.1464726\n",
      "Cost after step   105:  0.1464591\n",
      "Cost after step   110:  0.1464526\n",
      "Cost after step   115:  0.1464495\n",
      "Cost after step   120:  0.1464480\n",
      "Optimized rotation angles: [12.56515074  2.356198    0.05088934  3.14199409 12.56262968  1.02152461\n",
      "  8.40963872  9.51901992  2.46702336  4.92107612  9.92932313]\n"
     ]
    }
   ],
   "source": [
    "# initialise the optimizer\n",
    "opt = qml.GradientDescentOptimizer(stepsize=0.4)\n",
    "\n",
    "# set the number of steps\n",
    "steps = 120\n",
    "\n",
    "# set the initial parameter values\n",
    "params = 4 * np.pi * np.random.random([11])\n",
    "print(\"cost(init_params) =\", cost(params))\n",
    "\n",
    "for i in range(steps):\n",
    "    # update the circuit parameters\n",
    "    params = opt.step(cost, params)\n",
    "\n",
    "    if (i+1) % 5 == 0:\n",
    "        print(\"Cost after step {:5d}: {: .7f}\".format(i + 1, cost(params)))\n",
    "\n",
    "print(\"Optimized rotation angles: {}\".format(params))"
   ]
  },
  {
   "cell_type": "code",
   "execution_count": 40,
   "metadata": {},
   "outputs": [
    {
     "name": "stdout",
     "output_type": "stream",
     "text": [
      "Drawing a circuit of povm_expvalIZ : \n",
      " 0: ──Rot(0, 3.14, -0)──Rot(5.33, 9.42, 5.28)──X──╭C─────────X──╭C────────────╭Rot(11.6, 8.4, 0.616)─────╭Rot(10.3, 10.1, 10.5)──╭┤ ⟨I ⊗ Z⟩ \n",
      " 1: ──────────────────────────────────────────────╰RY(9.42)─────╰RY(6.28)──X──╰C──────────────────────X──╰C──────────────────────╰┤ ⟨I ⊗ Z⟩ \n",
      "\n"
     ]
    }
   ],
   "source": [
    "print(\"Drawing a circuit of povm_expvalIZ : \")\n",
    "print(circuit_povm_expvalIZ.draw())"
   ]
  },
  {
   "cell_type": "markdown",
   "metadata": {},
   "source": [
    "---\n",
    "## Calculating Kraus Operators $\\{K_i\\}$ and POVMs $\\{\\hat{E}_i\\}$."
   ]
  },
  {
   "cell_type": "markdown",
   "metadata": {},
   "source": [
    "### Arbitrary rotation of the single qubit\n",
    "### $$ U = R_z(\\beta)R_y(\\gamma)R_z(\\delta) = \\begin{bmatrix} e^{-i(\\delta+\\beta)/2}\\cos(\\gamma/2) & -e^{i(\\delta-\\beta)/2}\\sin(\\gamma/2) \\\\ e^{-i(\\delta-\\beta)/2}\\sin(\\gamma/2) & e^{i(\\delta+\\beta)/2}\\cos(\\gamma/2) \\end{bmatrix}$$\n",
    "\n",
    "### Y-Rotation of the single qubit\n",
    "### $$ R_y(\\phi) = e^{-i\\phi\\sigma_y/2} = \\begin{bmatrix} \\cos\\phi/2 & -\\sin\\phi/2 \\\\ \\sin\\phi/2 & \\cos\\phi/2 \\end{bmatrix} $$"
   ]
  },
  {
   "cell_type": "code",
   "execution_count": 44,
   "metadata": {},
   "outputs": [],
   "source": [
    "def unitaries_in_povm(params):\n",
    "    U = qml.Rot(params[0], params[1], params[2], wires=2).matrix\n",
    "    Ry0 = qml.RY(params[3], wires=2).matrix\n",
    "    Ry1 = qml.RY(params[4], wires=2).matrix\n",
    "    V0 = qml.Rot(params[5], params[6], params[7], wires=2).matrix\n",
    "    V1 = qml.Rot(params[8], params[9], params[10], wires=2).matrix\n",
    "\n",
    "    return U, Ry0, Ry1, V0, V1\n",
    "\n",
    "U, Ry0, Ry1, V0, V1 = unitaries_in_povm(params)"
   ]
  },
  {
   "cell_type": "markdown",
   "metadata": {},
   "source": [
    "$$\n",
    "\\hat{K}_0 = V_0D_0U \\\\\n",
    "\\hat{K}_1 = V_1D_1U \n",
    "$$"
   ]
  },
  {
   "cell_type": "code",
   "execution_count": 45,
   "metadata": {},
   "outputs": [],
   "source": [
    "def kraus_op(params):\n",
    "    U, _, _, V0, V1 = unitaries_in_povm(params)\n",
    "    D0 = np.diag([np.cos(params[3]/2), np.cos(params[4]/2)])\n",
    "    D1 = np.diag([np.sin(params[3]/2), np.sin(params[4]/2)])\n",
    "    K0 = np.dot(np.dot(V0, D0), U)\n",
    "    K1 = np.dot(np.dot(V1, D1), U)\n",
    "\n",
    "    return K0, K1"
   ]
  },
  {
   "cell_type": "code",
   "execution_count": 46,
   "metadata": {},
   "outputs": [
    {
     "name": "stdout",
     "output_type": "stream",
     "text": [
      "K0 = [[-0.37974791+0.71254552j -0.15699402+0.29524811j]\n",
      " [-0.24760192+0.37458691j -0.10228091+0.15545076j]]\n",
      "K1 = [[-0.29769065-0.0172993j   0.71614317+0.04253463j]\n",
      " [-0.20219185-0.12902643j  0.49230685+0.31067482j]]\n"
     ]
    }
   ],
   "source": [
    "K0, K1 = kraus_op(params)\n",
    "\n",
    "print(\"K0 =\", K0)\n",
    "print(\"K1 =\", K1)"
   ]
  },
  {
   "cell_type": "markdown",
   "metadata": {},
   "source": [
    "$ \\hat{K}^\\dagger_0\\hat{K}_0 + \\hat{K}^\\dagger_1\\hat{K}_1 = I$"
   ]
  },
  {
   "cell_type": "code",
   "execution_count": 47,
   "metadata": {},
   "outputs": [
    {
     "name": "stdout",
     "output_type": "stream",
     "text": [
      "E0 = [[0.85355165+0.j         0.35355064-0.00043129j]\n",
      " [0.35355064+0.00043129j 0.14644489+0.j        ]]\n",
      "E1 = [[ 0.14644835+0.j         -0.35355064+0.00043129j]\n",
      " [-0.35355064-0.00043129j  0.85355511+0.j        ]]\n",
      "E0 + E1 = [[1.00000000e+00+0.00000000e+00j 5.55111512e-17-5.55111512e-17j]\n",
      " [5.55111512e-17+5.55111512e-17j 1.00000000e+00+0.00000000e+00j]]\n"
     ]
    }
   ],
   "source": [
    "E0 = np.dot(K0.conj().T, K0) \n",
    "E1 = np.dot(K1.conj().T, K1)\n",
    "print(\"E0 =\", E0)\n",
    "print(\"E1 =\", E1)\n",
    "print(\"E0 + E1 =\", E0 + E1)"
   ]
  },
  {
   "cell_type": "markdown",
   "metadata": {},
   "source": [
    "$ \\langle \\psi_0 |\\hat{K}^\\dagger_0\\hat{K}_0|\\psi_0\\rangle$"
   ]
  },
  {
   "cell_type": "code",
   "execution_count": 48,
   "metadata": {},
   "outputs": [
    {
     "data": {
      "text/plain": [
       "(0.8535516507418781+0j)"
      ]
     },
     "execution_count": 48,
     "metadata": {},
     "output_type": "execute_result"
    }
   ],
   "source": [
    "res = np.dot(K0, np.array([1,0]))\n",
    "np.dot(res.conj(),res)"
   ]
  },
  {
   "cell_type": "markdown",
   "metadata": {},
   "source": [
    "$ \\langle \\psi_1 |\\hat{K}^\\dagger_1\\hat{K}_1|\\psi_1\\rangle$"
   ]
  },
  {
   "cell_type": "code",
   "execution_count": 49,
   "metadata": {},
   "outputs": [
    {
     "data": {
      "text/plain": [
       "(0.8535523649729821+0j)"
      ]
     },
     "execution_count": 49,
     "metadata": {},
     "output_type": "execute_result"
    }
   ],
   "source": [
    "res = np.dot(K1, np.array([1/np.sqrt(2),-1/np.sqrt(2)]))\n",
    "np.dot(res.conj(),res)"
   ]
  },
  {
   "cell_type": "markdown",
   "metadata": {},
   "source": [
    "---\n",
    "## Analytical approach"
   ]
  },
  {
   "cell_type": "markdown",
   "metadata": {},
   "source": [
    "Note <br>\n",
    "$\\text{Tr}[\\hat{\\rho}_0\\hat{E}_0] + \\text{Tr}[\\hat{\\rho}_1\\hat{E}_1]$ <br>\n",
    "$=\\text{Tr}[q_1\\hat{\\rho}_1 + \\hat{E}_0(q_0\\hat{\\rho}_0-q_1\\hat{\\rho}_1)]$ <br>\n",
    "$=\\text{Tr}[q_0\\hat{\\rho}_0 - \\hat{E}_0(q_0\\hat{\\rho}_0-q_1\\hat{\\rho}_1)]$ <br>\n",
    "$=\\frac{1}{2} + \\frac{1}{2}\\text{Tr}[(\\hat{E}_0-\\hat{E}_1)\\Lambda] $,\n",
    "where $\\Lambda := q_0\\hat{\\rho}_0-q_1\\hat{\\rho}_1$."
   ]
  },
  {
   "cell_type": "markdown",
   "metadata": {},
   "source": [
    "$$\n",
    "\\min_E C(\\vec{\\theta}) = \\min_E \\left(1 - \\text{Tr}[\\hat{\\rho}_0\\hat{E}_0] - \\text{Tr}[\\hat{\\rho}_1\\hat{E}_1]\\right) \\\\\n",
    "= \\min_E\\left(1 - \\frac{1}{2} - \\frac{1}{2}\\text{Tr}[(\\hat{E}_0-\\hat{E}_1)\\Lambda]\\right)\\\\\n",
    "= \\frac{1}{2} - \\frac{1}{2}\\max_{E} \\text{Tr}[(\\hat{E}_0-\\hat{E}_1)\\Lambda] = \\frac{1}{2} - \\frac{1}{2}\\text{Tr}|\\Lambda|\n",
    "$$"
   ]
  },
  {
   "cell_type": "markdown",
   "metadata": {},
   "source": [
    "***Spectral Decomposition***: $\\Lambda = \\lambda_+|\\lambda_+\\rangle\\langle\\lambda_+| + \\lambda_-|\\lambda_-\\rangle\\langle\\lambda_-|$ <br>\n",
    "<br>\n",
    "$\\hat{E}_0-\\hat{E}_1 = |\\lambda_+\\rangle\\langle\\lambda_+| - |\\lambda_-\\rangle\\langle\\lambda_-|$ gives rise to the maximum."
   ]
  },
  {
   "cell_type": "code",
   "execution_count": 50,
   "metadata": {},
   "outputs": [],
   "source": [
    "def spectral_decomp(q1, q2, rho1, rho2):\n",
    "    w, v = np.linalg.eig(q1*rho1 - q2*rho2)\n",
    "\n",
    "    return w, v"
   ]
  },
  {
   "cell_type": "code",
   "execution_count": 51,
   "metadata": {},
   "outputs": [],
   "source": [
    "rho1, rho2 = np.array([[1, 0], [0, 0]]), np.array([[1/2, -1/2], [-1/2, 1/2]])\n",
    "\n",
    "q1, q2 = 1/2, 1/2\n",
    "#rho1 = np.array([[1/2, 1/2], [1/2, 1/2]])\n",
    "#rho2 = np.array([[0, 0], [0, 1]])\n",
    "\n",
    "w, v = spectral_decomp(q1, q2, rho1, rho2)"
   ]
  },
  {
   "cell_type": "code",
   "execution_count": 52,
   "metadata": {},
   "outputs": [
    {
     "name": "stdout",
     "output_type": "stream",
     "text": [
      "min of cost function:  0.14644660940672627\n",
      "E0 = [[0.85355339 0.35355339]\n",
      " [0.35355339 0.14644661]]\n",
      "E1 = [[ 0.14644661 -0.35355339]\n",
      " [-0.35355339  0.85355339]]\n"
     ]
    }
   ],
   "source": [
    "print(\"min of cost function: \", (1 - np.sum(np.abs(w)))/2)\n",
    "print(\"E0 =\", np.tensordot(v[:,0],v[:,0], axes=0))\n",
    "print(\"E1 =\", np.tensordot(v[:,1],v[:,1], axes=0))"
   ]
  },
  {
   "cell_type": "markdown",
   "metadata": {},
   "source": [
    "---\n",
    "## To Do"
   ]
  },
  {
   "cell_type": "markdown",
   "metadata": {},
   "source": [
    "Write and Read further about optimization...\n",
    "1. First of all!!!, [Measurement optimization](https://pennylane.ai/qml/demos/tutorial_measurement_optimize.html) <br>\n",
    "[Plugins and Hybrid computation](https://pennylane.ai/qml/demos/tutorial_plugins_hybrid.html) <br>\n",
    "[Ensemble classification with Forest and Qiskit devices](https://pennylane.ai/qml/demos/tutorial_ensemble_multi_qpu.html) <br>\n",
    "[Forum: Measurements and output state probabilities in a single circuit](https://discuss.pennylane.ai/t/measurements-and-output-state-probabilities-in-a-single-circuit/1089/7) <br>\n",
    "<br>\n",
    "2. [Quantum gradients](https://pennylane.ai/qml/glossary/quantum_gradient.html) <br>\n",
    "[Quantum Differentiable Programming](https://pennylane.ai/qml/glossary/quantum_differentiable_programming.html) <br>\n",
    "[Gradients and training](https://pennylane.readthedocs.io/en/stable/introduction/interfaces.html) <br>\n",
    "<br>\n",
    "3. [Noisy circuits](https://pennylane.ai/qml/demos/tutorial_noisy_circuits.html), [Ref] Johannes Jakob Meyer, Johannes Borregaard, and Jens Eisert, “A variational toolbox for quantum multi-parameter estimation.” [arXiv:2006.06303 (2020)](https://arxiv.org/abs/2006.06303). <br>\n",
    "[Optimizing noisy circuits with Cirq](https://pennylane.ai/qml/demos/tutorial_noisy_circuit_optimization.html) <br>\n",
    "* [How to simulate noise with PennyLane](https://pennylane.ai/blog/2021/05/how-to-simulate-noise-with-pennylane/) <br>\n",
    "<br>\n",
    "4. Quantum Volume in [pennylane](https://pennylane.ai/qml/demos/quantum_volume.html) or in [qiskit](https://qiskit.org/documentation/tutorials/noise/5_quantum_volume.html)<br>\n",
    "\n"
   ]
  },
  {
   "cell_type": "markdown",
   "metadata": {},
   "source": [
    "Analytic Analysis <br>\n",
    "1. Helstrom measurement (Helstrom bound)\n",
    "2. [Wiki POVM, an example: unambiguous quantum state discrimination](https://en.wikipedia.org/wiki/POVM)"
   ]
  },
  {
   "cell_type": "markdown",
   "metadata": {},
   "source": [
    "---"
   ]
  },
  {
   "cell_type": "markdown",
   "metadata": {},
   "source": [
    "Probability로 사용하기"
   ]
  },
  {
   "cell_type": "code",
   "execution_count": 111,
   "metadata": {},
   "outputs": [],
   "source": [
    "dev = qml.device(\"default.qubit\", wires=2, shots=8000)\n",
    "\n",
    "@qml.qnode(dev)\n",
    "def circuit():\n",
    "    qml.Hadamard(wires=0)\n",
    "    return qml.probs(wires=[0])"
   ]
  },
  {
   "cell_type": "code",
   "execution_count": 113,
   "metadata": {},
   "outputs": [
    {
     "data": {
      "text/plain": [
       "tensor([0.49125, 0.50875], requires_grad=False)"
      ]
     },
     "execution_count": 113,
     "metadata": {},
     "output_type": "execute_result"
    }
   ],
   "source": [
    "circuit()"
   ]
  },
  {
   "cell_type": "code",
   "execution_count": null,
   "metadata": {},
   "outputs": [],
   "source": []
  }
 ],
 "metadata": {
  "interpreter": {
   "hash": "f3566aecee92b9119d5cab9d3e2af068b42db2260767c2b53e50be0379b5c2ee"
  },
  "kernelspec": {
   "display_name": "Python 3.8.12 64-bit ('quantcirc': conda)",
   "name": "python3"
  },
  "language_info": {
   "codemirror_mode": {
    "name": "ipython",
    "version": 3
   },
   "file_extension": ".py",
   "mimetype": "text/x-python",
   "name": "python",
   "nbconvert_exporter": "python",
   "pygments_lexer": "ipython3",
   "version": "3.8.12"
  }
 },
 "nbformat": 4,
 "nbformat_minor": 2
}

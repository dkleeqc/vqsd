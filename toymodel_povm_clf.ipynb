{
 "cells": [
  {
   "cell_type": "markdown",
   "metadata": {},
   "source": [
    "# <center> Two-element POVM as a quantum version of the classifier </center>"
   ]
  },
  {
   "cell_type": "code",
   "execution_count": 1,
   "metadata": {},
   "outputs": [],
   "source": [
    "import pennylane as qml\n",
    "from pennylane import numpy as np\n",
    "\n",
    "from sympy import * \n",
    "from sympy.physics.quantum.circuitplot import CircuitPlot,labeller,Mz,CreateOneQubitGate\n",
    "from sympy.physics.quantum.gate import *\n",
    "from sympy.physics.quantum.qasm import Qasm\n",
    "\n",
    "from matplotlib import rc\n",
    "#rc('text',usetex=True)"
   ]
  },
  {
   "cell_type": "code",
   "execution_count": 2,
   "metadata": {},
   "outputs": [],
   "source": [
    "dev = qml.device('default.qubit', wires=2)\n",
    "#dev = qml.device('qiskit.aer', wires=2)\n",
    "#dev = qml.device('qiskit.ibmq', wires=2, shots=8192, ibmqx_token=\"e942e97ce86ca8c3609a4053fe6762ec3db17c41895b2d85d6a3560a1156501d57db36753f99138ecb32dca58a97ae5b38005ad39855dd92ab0e86cef852c1a2\")"
   ]
  },
  {
   "cell_type": "markdown",
   "metadata": {},
   "source": [
    "---\n",
    "## Preparing arbitrary pure states in the quantum circuit"
   ]
  },
  {
   "cell_type": "markdown",
   "metadata": {},
   "source": [
    "A pure state: $|\\psi\\rangle = \\cos(\\theta/2)|0\\rangle + e^{i\\phi}\\sin(\\theta/2)|1\\rangle$, where $0\\le\\theta\\le\\pi$  and $0\\le\\phi\\le 2\\pi$."
   ]
  },
  {
   "cell_type": "markdown",
   "metadata": {},
   "source": [
    "$ U = R_z(\\beta)R_y(\\gamma)R_z(\\delta) = \\begin{bmatrix} e^{-i(\\delta+\\beta)/2}\\cos(\\gamma/2) & -e^{i(\\delta-\\beta)/2}\\sin(\\gamma/2) \\\\ e^{-i(\\delta-\\beta)/2}\\sin(\\gamma/2) & e^{i(\\delta+\\beta)/2}\\cos(\\gamma/2) \\end{bmatrix} $"
   ]
  },
  {
   "cell_type": "markdown",
   "metadata": {},
   "source": [
    "Block vector $\\vec{a}=(\\sin \\theta \\cos \\phi, \\sin \\theta \\sin \\phi, \\cos \\theta)$."
   ]
  },
  {
   "cell_type": "code",
   "execution_count": 3,
   "metadata": {},
   "outputs": [],
   "source": [
    "#@qml.qnode(dev)\n",
    "def state_preparation(statevector, wire):\n",
    "    # input: state_vec\n",
    "    if statevector[0] < 0:\n",
    "        raise ValueError(\"The amplitude in state |0> doesn't have to be nonnegative.\")\n",
    "    theta = 2 * np.arccos(statevector[0])\n",
    "    \n",
    "    phi = np.angle(statevector[1]/np.sin(theta/2)) if not np.isclose(np.sin(theta/2), 0) else 0\n",
    "    # input: bloch_vec\n",
    "\n",
    "    qml.Rot(phi, theta, (-1)*phi, wires=wire)\n",
    "    #return qml.state()"
   ]
  },
  {
   "cell_type": "markdown",
   "metadata": {},
   "source": [
    "#### Test and Drawing `state_preparation` module"
   ]
  },
  {
   "cell_type": "code",
   "execution_count": 4,
   "metadata": {},
   "outputs": [
    {
     "name": "stdout",
     "output_type": "stream",
     "text": [
      "[ 0.70710678+0.00000000e+00j  0.        +0.00000000e+00j\n",
      " -0.70710678-8.65956056e-17j  0.        +0.00000000e+00j]\n",
      " 0: ──Rot(3.14, 1.57, -3.14)──┤ State \n",
      "\n"
     ]
    }
   ],
   "source": [
    "@qml.qnode(dev)\n",
    "def test_initstate(test_vec):    \n",
    "    state_preparation(test_vec, wire=0)\n",
    "    return qml.state()\n",
    "\n",
    "test_vec = [1/np.sqrt(2), -1/np.sqrt(2)]\n",
    "print(test_initstate(test_vec))\n",
    "\n",
    "print(test_initstate.draw())"
   ]
  },
  {
   "cell_type": "markdown",
   "metadata": {},
   "source": [
    "---\n",
    "## Two-element POVM Module."
   ]
  },
  {
   "cell_type": "code",
   "execution_count": 5,
   "metadata": {},
   "outputs": [
    {
     "data": {
      "text/plain": [
       "<sympy.physics.quantum.circuitplot.CircuitPlot at 0x7ff0662e64f0>"
      ]
     },
     "execution_count": 5,
     "metadata": {},
     "output_type": "execute_result"
    },
    {
     "data": {
      "image/png": "[encoded data removed]",
      "text/plain": [
       "<Figure size 576x144 with 1 Axes>"
      ]
     },
     "metadata": {},
     "output_type": "display_data"
    }
   ],
   "source": [
    "Ry1 = CreateOneQubitGate('Ry1', r'R_y(\\theta_1)')\n",
    "Ry2 = CreateOneQubitGate('Ry2', r'R_y(\\theta_2)')\n",
    "V1 = CreateOneQubitGate('V1', r'V_1')\n",
    "V2 = CreateOneQubitGate('V2', r'V_2')\n",
    "\n",
    "CircuitPlot(CGate(0,V2(1))*X(0)*CGate(0,V1(1))*X(0)*CGate(1,Ry2(0))*X(1)*CGate(1,Ry1(0))*X(1),2)"
   ]
  },
  {
   "cell_type": "code",
   "execution_count": 6,
   "metadata": {},
   "outputs": [],
   "source": [
    "def two_element_povm(params, wires):\n",
    "    #params \n",
    "\n",
    "    # Controlled-RY gate controlled by first qubit in |0> state\n",
    "    qml.PauliX(wires=wires[0])\n",
    "    qml.CRY(params[0], wires=[wires[0],wires[1]])\n",
    "    qml.PauliX(wires=wires[0])\n",
    "    \n",
    "    # Controlled-RY gate controlled by first qubit in |1> state\n",
    "    qml.CRY(params[1], wires=[wires[0],wires[1]])\n",
    "    \n",
    "    # Controlled-Rotation gate (arbitrary single-qubit unitary operator) controlled by 2nd qubit in |0> state\n",
    "    qml.PauliX(wires=wires[1])\n",
    "    qml.CRot(params[2], params[3], params[4], wires=[wires[1],wires[0]])\n",
    "    qml.PauliX(wires=wires[1])\n",
    "\n",
    "    # # Controlled-Rotation gate (arbitrary single-qubit unitary operator) controlled by 2nd qubit in |1> state\n",
    "    qml.CRot(params[5], params[6], params[7], wires=[wires[1],wires[0]])"
   ]
  },
  {
   "cell_type": "markdown",
   "metadata": {},
   "source": [
    "#### Test and Drawing `two_element_povm` module"
   ]
  },
  {
   "cell_type": "code",
   "execution_count": 7,
   "metadata": {},
   "outputs": [
    {
     "name": "stdout",
     "output_type": "stream",
     "text": [
      "Drawing a two-element POVM circuit : \n",
      " 0: ──X──╭C──────────X──╭C─────────────╭Rot(0.955, 0.248, 0.38)─────╭Rot(0.324, 0.112, 0.168)──╭┤ ⟨I ⊗ Z⟩ \n",
      " 1: ─────╰RY(0.337)─────╰RY(0.235)──X──╰C────────────────────────X──╰C─────────────────────────╰┤ ⟨I ⊗ Z⟩ \n",
      "\n"
     ]
    }
   ],
   "source": [
    "@qml.qnode(qml.device('default.qubit', wires=2))\n",
    "def povm_circuit(params):\n",
    "    two_element_povm(params, wires=[0, 1])\n",
    "    return qml.expval(qml.Identity(0) @ qml.PauliZ(1))\n",
    "\n",
    "# initial parameters\n",
    "params = np.random.random([8])\n",
    "povm_circuit(params)\n",
    "\n",
    "print(\"Drawing a two-element POVM circuit : \")\n",
    "print(povm_circuit.draw())"
   ]
  },
  {
   "cell_type": "markdown",
   "metadata": {},
   "source": [
    "---\n",
    "## Minimum Error Discrimination"
   ]
  },
  {
   "cell_type": "markdown",
   "metadata": {},
   "source": [
    "Preparation: $\\{q_i,\\hat{\\rho}_i\\}^{n}_{i=1}$ $\\longleftarrow$ $\\hat{\\rho} = \\sum_i q_i\\hat{\\rho}_i$. <br>\n",
    "\n",
    "POVMs: $\\{E_k\\}_{k=0}^{l-1}$ with $\\sum_{k=0}^{l-1} E_k = I$."
   ]
  },
  {
   "cell_type": "markdown",
   "metadata": {},
   "source": [
    "In general, for a state $\\hat{\\rho}_i$ generated in preparation, a detection event on $\\hat{E}_k$ happens with probability $ p_{k|i} = \\text{Tr} [\\hat{E}_k\\hat{\\rho_i}] $."
   ]
  },
  {
   "cell_type": "markdown",
   "metadata": {},
   "source": [
    "$$\n",
    "p_{error} = 1 - p_{guess} = 1-\\max_{\\{E_i\\}}\\left( \\sum_{i=0}^{l-1} q_ip_{i|i} \\right)\n",
    "$$"
   ]
  },
  {
   "cell_type": "markdown",
   "metadata": {},
   "source": [
    "---\n",
    "## Optimal POVM for State Discrimination"
   ]
  },
  {
   "cell_type": "markdown",
   "metadata": {},
   "source": [
    "#### Probability: $p(k)=\\text{Tr}[(I\\otimes |k\\rangle\\langle k|)\\cdot (|\\psi_i\\rangle\\langle\\psi_i|)]= \\langle \\psi_k|\\hat{K}^\\dagger_k\\hat{K}_k|\\psi_k\\rangle = \\text{Tr}[\\hat{E}_k\\hat{\\rho}_k]$"
   ]
  },
  {
   "cell_type": "code",
   "execution_count": 8,
   "metadata": {},
   "outputs": [],
   "source": [
    "@qml.qnode(dev)\n",
    "def circuit_povm_probs(init_state, params):\n",
    "    state_preparation(init_state, wire=0)\n",
    "\n",
    "    # arbitrary rotation\n",
    "    qml.Rot(params[0], params[1], params[2], wires=0)\n",
    "\n",
    "    # two-element POVM\n",
    "    two_element_povm(params[3:], wires=[0, 1])\n",
    "\n",
    "    #qml.CNOT(wires=[2,1])\n",
    "\n",
    "    return qml.probs(wires=[1])"
   ]
  },
  {
   "cell_type": "code",
   "execution_count": 10,
   "metadata": {},
   "outputs": [
    {
     "data": {
      "text/plain": [
       "tensor([0.66539634, 0.33460366], requires_grad=True)"
      ]
     },
     "execution_count": 10,
     "metadata": {},
     "output_type": "execute_result"
    }
   ],
   "source": [
    "params = 4 * np.pi * np.random.random([19])\n",
    "circuit_povm_probs([1,0] , params)"
   ]
  },
  {
   "cell_type": "markdown",
   "metadata": {},
   "source": [
    "#### Cost function: $C(\\vec{\\theta}) = 1 - \\text{Tr}[\\hat{E}_0\\hat{\\rho}_0] - \\text{Tr}[\\hat{E}_1\\hat{\\rho}_1]$"
   ]
  },
  {
   "cell_type": "code",
   "execution_count": 39,
   "metadata": {},
   "outputs": [],
   "source": [
    "def cost(x):\n",
    "    #psi0 = [1, 0]\n",
    "    psi0 = [1/np.sqrt(2), 1j/np.sqrt(2)]\n",
    "    #psi1 = [1/np.sqrt(2), -1j/np.sqrt(2)]\n",
    "    psi1 = [np.sqrt(3)/2,-1j/2]\n",
    "\n",
    "    prob0 = circuit_povm_probs(psi0, x)[0]\n",
    "    prob1 = circuit_povm_probs(psi1, x)[1]\n",
    "\n",
    "    q0 = 1/2\n",
    "    q1 = 1/2\n",
    "\n",
    "    res = 1 - (q0 * prob0 + q1 * prob1)\n",
    "    return res\n"
   ]
  },
  {
   "cell_type": "code",
   "execution_count": 40,
   "metadata": {},
   "outputs": [
    {
     "name": "stdout",
     "output_type": "stream",
     "text": [
      "cost(init_params) = 0.5008252404490936\n",
      "Cost after step     5:  0.4247828\n",
      "Cost after step    10:  0.2952042\n",
      "Cost after step    15:  0.1458477\n",
      "Cost after step    20:  0.0628499\n",
      "Cost after step    25:  0.0327667\n",
      "Cost after step    30:  0.0225819\n",
      "Cost after step    35:  0.0190251\n",
      "Cost after step    40:  0.0177546\n",
      "Cost after step    45:  0.0172966\n",
      "Cost after step    50:  0.0171310\n",
      "Cost after step    55:  0.0170711\n",
      "Cost after step    60:  0.0170494\n",
      "Cost after step    65:  0.0170415\n",
      "Cost after step    70:  0.0170387\n",
      "Cost after step    75:  0.0170377\n",
      "Cost after step    80:  0.0170373\n",
      "Cost after step    85:  0.0170372\n",
      "Cost after step    90:  0.0170371\n",
      "Cost after step    95:  0.0170371\n",
      "Cost after step   100:  0.0170371\n",
      "Cost after step   105:  0.0170371\n",
      "Cost after step   110:  0.0170371\n",
      "Cost after step   115:  0.0170371\n",
      "Cost after step   120:  0.0170371\n",
      "Optimized rotation angles: [ 4.71238898 11.25737368  9.49321424  3.14161155  6.2831726  10.99620734\n",
      "  7.33017394 10.91780961  0.79706633  6.35017318  3.40843292]\n"
     ]
    }
   ],
   "source": [
    "# initialise the optimizer\n",
    "opt = qml.GradientDescentOptimizer(stepsize=0.4)\n",
    "\n",
    "# set the number of steps\n",
    "steps = 120\n",
    "\n",
    "# set the initial parameter values\n",
    "params = 4 * np.pi * np.random.random([11])\n",
    "print(\"cost(init_params) =\", cost(params))\n",
    "\n",
    "for i in range(steps):\n",
    "    # update the circuit parameters\n",
    "    params = opt.step(cost, params)\n",
    "\n",
    "    if (i+1) % 5 == 0:\n",
    "        print(\"Cost after step {:5d}: {: .7f}\".format(i + 1, cost(params)))\n",
    "\n",
    "print(\"Optimized rotation angles: {}\".format(params))"
   ]
  },
  {
   "cell_type": "markdown",
   "metadata": {},
   "source": [
    "---\n",
    "## Calculating Kraus Operators $\\{K_i\\}$ and POVMs $\\{\\hat{E}_i\\}$."
   ]
  },
  {
   "cell_type": "markdown",
   "metadata": {},
   "source": [
    "### Arbitrary rotation of the single qubit\n",
    "### $$ U = R_z(\\beta)R_y(\\gamma)R_z(\\delta) = \\begin{bmatrix} e^{-i(\\delta+\\beta)/2}\\cos(\\gamma/2) & -e^{i(\\delta-\\beta)/2}\\sin(\\gamma/2) \\\\ e^{-i(\\delta-\\beta)/2}\\sin(\\gamma/2) & e^{i(\\delta+\\beta)/2}\\cos(\\gamma/2) \\end{bmatrix}$$\n",
    "\n",
    "### Y-Rotation of the single qubit\n",
    "### $$ R_y(\\phi) = e^{-i\\phi\\sigma_y/2} = \\begin{bmatrix} \\cos\\phi/2 & -\\sin\\phi/2 \\\\ \\sin\\phi/2 & \\cos\\phi/2 \\end{bmatrix} $$"
   ]
  },
  {
   "cell_type": "code",
   "execution_count": 41,
   "metadata": {},
   "outputs": [],
   "source": [
    "def unitaries_in_povm(params):\n",
    "    U = qml.Rot(params[0], params[1], params[2], wires=2).matrix\n",
    "    Ry0 = qml.RY(params[3], wires=2).matrix\n",
    "    Ry1 = qml.RY(params[4], wires=2).matrix\n",
    "    V0 = qml.Rot(params[5], params[6], params[7], wires=2).matrix\n",
    "    V1 = qml.Rot(params[8], params[9], params[10], wires=2).matrix\n",
    "\n",
    "    return U, Ry0, Ry1, V0, V1\n",
    "\n",
    "U, Ry0, Ry1, V0, V1 = unitaries_in_povm(params)"
   ]
  },
  {
   "cell_type": "markdown",
   "metadata": {},
   "source": [
    "$$\n",
    "\\hat{K}_0 = V_0D_0U \\\\\n",
    "\\hat{K}_1 = V_1D_1U \n",
    "$$"
   ]
  },
  {
   "cell_type": "code",
   "execution_count": 42,
   "metadata": {},
   "outputs": [],
   "source": [
    "def kraus_op(params):\n",
    "    U, _, _, V0, V1 = unitaries_in_povm(params)\n",
    "    D0 = np.diag([np.cos(params[3]/2), np.cos(params[4]/2)])\n",
    "    D1 = np.diag([np.sin(params[3]/2), np.sin(params[4]/2)])\n",
    "    K0 = np.dot(np.dot(V0, D0), U)\n",
    "    K1 = np.dot(np.dot(V1, D1), U)\n",
    "\n",
    "    return K0, K1"
   ]
  },
  {
   "cell_type": "code",
   "execution_count": 43,
   "metadata": {},
   "outputs": [
    {
     "name": "stdout",
     "output_type": "stream",
     "text": [
      "K0 = [[-0.23039094+0.19883118j -0.25911229-0.30026078j]\n",
      " [-0.37442608-0.37118966j  0.48373791-0.48796664j]]\n",
      "K1 = [[ 0.77393077+0.17243757j  0.13231624-0.59385809j]\n",
      " [-0.02349126-0.01241486j -0.00951845+0.01802374j]]\n"
     ]
    }
   ],
   "source": [
    "K0, K1 = kraus_op(params)\n",
    "\n",
    "print(\"K0 =\", K0)\n",
    "print(\"K1 =\", K1)"
   ]
  },
  {
   "cell_type": "markdown",
   "metadata": {},
   "source": [
    "$ \\hat{K}^\\dagger_0\\hat{K}_0 + \\hat{K}^\\dagger_1\\hat{K}_1 = I$"
   ]
  },
  {
   "cell_type": "code",
   "execution_count": 44,
   "metadata": {},
   "outputs": [
    {
     "name": "stdout",
     "output_type": "stream",
     "text": [
      "E0 = [[3.70590478e-01+0.j         6.43129439e-11+0.48296291j]\n",
      " [6.43129439e-11-0.48296291j 6.29409523e-01+0.j        ]]\n",
      "E1 = [[ 6.29409522e-01+0.j         -6.43129439e-11-0.48296291j]\n",
      " [-6.43129439e-11+0.48296291j  3.70590477e-01+0.j        ]]\n",
      "E0 + E1 = [[1.+0.j 0.+0.j]\n",
      " [0.+0.j 1.+0.j]]\n"
     ]
    }
   ],
   "source": [
    "E0 = np.dot(K0.conj().T, K0) \n",
    "E1 = np.dot(K1.conj().T, K1)\n",
    "print(\"E0 =\", E0)\n",
    "print(\"E1 =\", E1)\n",
    "print(\"E0 + E1 =\", E0 + E1)"
   ]
  },
  {
   "cell_type": "markdown",
   "metadata": {},
   "source": [
    "$ \\langle \\psi_0 |\\hat{K}^\\dagger_0\\hat{K}_0|\\psi_0\\rangle$"
   ]
  },
  {
   "cell_type": "code",
   "execution_count": 49,
   "metadata": {},
   "outputs": [
    {
     "data": {
      "text/plain": [
       "(0.9829629130688277+0j)"
      ]
     },
     "execution_count": 49,
     "metadata": {},
     "output_type": "execute_result"
    }
   ],
   "source": [
    "res = np.dot(K1, np.array([1/np.sqrt(2), 1j/np.sqrt(2)]))\n",
    "np.dot(res.conj(),res)"
   ]
  },
  {
   "cell_type": "markdown",
   "metadata": {},
   "source": [
    "$ \\langle \\psi_1 |\\hat{K}^\\dagger_1\\hat{K}_1|\\psi_1\\rangle$"
   ]
  },
  {
   "cell_type": "code",
   "execution_count": 50,
   "metadata": {},
   "outputs": [
    {
     "data": {
      "text/plain": [
       "(0.8535533906028707+0j)"
      ]
     },
     "execution_count": 50,
     "metadata": {},
     "output_type": "execute_result"
    }
   ],
   "source": [
    "#res = np.dot(K1, np.array([1/np.sqrt(2),-1j/np.sqrt(2)]))\n",
    "res = np.dot(K0, np.array([np.sqrt(3)/2,-1j/2]))\n",
    "np.dot(res.conj(),res)"
   ]
  },
  {
   "cell_type": "markdown",
   "metadata": {},
   "source": [
    "---\n",
    "## Helstrom Bound"
   ]
  },
  {
   "cell_type": "markdown",
   "metadata": {},
   "source": [
    "Note <br>\n",
    "$q_0\\text{Tr}[\\hat{\\rho}_0\\hat{E}_0] + q_1\\text{Tr}[\\hat{\\rho}_1\\hat{E}_1]$ <br>\n",
    "$=\\text{Tr}[q_1\\hat{\\rho}_1 + \\hat{E}_0(q_0\\hat{\\rho}_0-q_1\\hat{\\rho}_1)]$ <br>\n",
    "$=\\text{Tr}[q_0\\hat{\\rho}_0 - \\hat{E}_1(q_0\\hat{\\rho}_0-q_1\\hat{\\rho}_1)]$ <br>\n",
    "$=\\frac{1}{2} + \\frac{1}{2}\\text{Tr}[(\\hat{E}_0-\\hat{E}_1)\\Lambda] $,\n",
    "where $\\Lambda := q_0\\hat{\\rho}_0-q_1\\hat{\\rho}_1$."
   ]
  },
  {
   "cell_type": "markdown",
   "metadata": {},
   "source": [
    "$$\n",
    "\\min_E C(\\vec{\\theta}) = \\min_E \\left(1 - \\text{Tr}[q_0\\hat{\\rho}_0\\hat{E}_0] - \\text{Tr}[q_1\\hat{\\rho}_1\\hat{E}_1]\\right) \\\\\n",
    "= \\min_E\\left(1 - \\frac{1}{2} - \\frac{1}{2}\\text{Tr}[(\\hat{E}_0-\\hat{E}_1)\\Lambda]\\right)\\\\\n",
    "= \\frac{1}{2} - \\frac{1}{2}\\max_{E} \\text{Tr}[(\\hat{E}_0-\\hat{E}_1)\\Lambda] = \\frac{1}{2} - \\frac{1}{2}\\text{Tr}|\\Lambda|\n",
    "$$"
   ]
  },
  {
   "cell_type": "markdown",
   "metadata": {},
   "source": [
    "***Spectral Decomposition***: $\\Lambda = \\lambda_+|\\lambda_+\\rangle\\langle\\lambda_+| + \\lambda_-|\\lambda_-\\rangle\\langle\\lambda_-|$ <br>\n",
    "<br>\n",
    "$\\hat{E}_0-\\hat{E}_1 = |\\lambda_+\\rangle\\langle\\lambda_+| - |\\lambda_-\\rangle\\langle\\lambda_-|$ gives rise to the maximum."
   ]
  },
  {
   "cell_type": "code",
   "execution_count": 32,
   "metadata": {},
   "outputs": [],
   "source": [
    "def spectral_decomp(q1, q2, rho1, rho2):\n",
    "    w, v = np.linalg.eig(q1*rho1 - q2*rho2)\n",
    "\n",
    "    return w, v"
   ]
  },
  {
   "cell_type": "code",
   "execution_count": 33,
   "metadata": {},
   "outputs": [],
   "source": [
    "rho1, rho2 = np.array([[1, 0], [0, 0]]), np.array([[1/2, -1/2], [-1/2, 1/2]])\n",
    "\n",
    "q1, q2 = 1/2, 1/2\n",
    "#rho1 = np.array([[1/2, 1/2], [1/2, 1/2]])\n",
    "#rho2 = np.array([[0, 0], [0, 1]])\n",
    "\n",
    "w, v = spectral_decomp(q1, q2, rho1, rho2)"
   ]
  },
  {
   "cell_type": "code",
   "execution_count": 34,
   "metadata": {},
   "outputs": [
    {
     "name": "stdout",
     "output_type": "stream",
     "text": [
      "min of cost function:  0.14644660940672627\n",
      "E0 = [[0.85355339 0.35355339]\n",
      " [0.35355339 0.14644661]]\n",
      "E1 = [[ 0.14644661 -0.35355339]\n",
      " [-0.35355339  0.85355339]]\n"
     ]
    }
   ],
   "source": [
    "print(\"min of cost function: \", (1 - np.sum(np.abs(w)))/2)\n",
    "print(\"E0 =\", np.tensordot(v[:,0],v[:,0], axes=0))\n",
    "print(\"E1 =\", np.tensordot(v[:,1],v[:,1], axes=0))"
   ]
  },
  {
   "cell_type": "markdown",
   "metadata": {},
   "source": [
    "---\n",
    "## PGM"
   ]
  },
  {
   "cell_type": "markdown",
   "metadata": {},
   "source": [
    "---\n",
    "## povm_clf.py test"
   ]
  },
  {
   "cell_type": "code",
   "execution_count": 56,
   "metadata": {},
   "outputs": [],
   "source": [
    "from povm_clf import *\n",
    "import pennylane as qml\n",
    "import matplotlib.pyplot as plt "
   ]
  },
  {
   "cell_type": "code",
   "execution_count": 60,
   "metadata": {},
   "outputs": [],
   "source": [
    "devs = [qml.device('default.qubit', wires=2), qml.device('default.qubit', wires=2)]\n",
    "wires = [0, 1]\n",
    "init_states = [[1/np.sqrt(2), 1j/np.sqrt(2)], [np.sqrt(3)/2,-1j/2]]\n",
    "bloch_vecs = [state_2_bloch(init_states[i]) for i in range(2)]\n",
    "a_priori_probs = [1/2, 1/2]"
   ]
  },
  {
   "cell_type": "code",
   "execution_count": 66,
   "metadata": {},
   "outputs": [
    {
     "name": "stdout",
     "output_type": "stream",
     "text": [
      "Cost(init_params)    :  0.5064867\n",
      "Cost after step    20:  0.4441581\n",
      "Cost after step    40:  0.2400020\n",
      "Cost after step    60:  0.0196314\n",
      "Cost after step    80:  0.0170778\n",
      "Cost after step   100:  0.0170378\n"
     ]
    }
   ],
   "source": [
    "classifier = POVM_clf(2, wires, devs, a_priori_probs, bloch_vecs)\n",
    "cost_list = classifier.run_opt(steps=100)"
   ]
  },
  {
   "cell_type": "code",
   "execution_count": 65,
   "metadata": {},
   "outputs": [
    {
     "data": {
      "image/png": "[encoded data removed]",
      "text/plain": [
       "<Figure size 432x288 with 1 Axes>"
      ]
     },
     "metadata": {
      "needs_background": "light"
     },
     "output_type": "display_data"
    }
   ],
   "source": [
    "plt.plot(list(range(101)), cost_list, 'o')\n",
    "plt.show()"
   ]
  },
  {
   "cell_type": "code",
   "execution_count": 68,
   "metadata": {},
   "outputs": [
    {
     "name": "stdout",
     "output_type": "stream",
     "text": [
      "Minimum-Error Discrimination\n",
      "performed optimal POVM: 0.9182567680721054\n",
      "performed PGM: 0.0170370868554659\n"
     ]
    },
    {
     "data": {
      "text/html": [
       "<div>\n",
       "<style scoped>\n",
       "    .dataframe tbody tr th:only-of-type {\n",
       "        vertical-align: middle;\n",
       "    }\n",
       "\n",
       "    .dataframe tbody tr th {\n",
       "        vertical-align: top;\n",
       "    }\n",
       "\n",
       "    .dataframe thead th {\n",
       "        text-align: right;\n",
       "    }\n",
       "</style>\n",
       "<table border=\"1\" class=\"dataframe\">\n",
       "  <thead>\n",
       "    <tr style=\"text-align: right;\">\n",
       "      <th></th>\n",
       "      <th>rho_i</th>\n",
       "      <th></th>\n",
       "      <th>E_i</th>\n",
       "      <th></th>\n",
       "      <th>Tr[rho_i.E_i]</th>\n",
       "      <th>PGM_i</th>\n",
       "      <th></th>\n",
       "      <th>Tr[rho_i.PGM_i]</th>\n",
       "    </tr>\n",
       "  </thead>\n",
       "  <tbody>\n",
       "    <tr>\n",
       "      <th>i=0</th>\n",
       "      <td>0.5000+0.0000j</td>\n",
       "      <td>0.0000-0.5000j</td>\n",
       "      <td>0.3706+0.0000j</td>\n",
       "      <td>0.0000+0.4830j</td>\n",
       "      <td></td>\n",
       "      <td>0.3706+0.0000j</td>\n",
       "      <td>0.0000-0.4830j</td>\n",
       "      <td></td>\n",
       "    </tr>\n",
       "    <tr>\n",
       "      <th></th>\n",
       "      <td>0.0000+0.5000j</td>\n",
       "      <td>0.5000+0.0000j</td>\n",
       "      <td>0.0000-0.4830j</td>\n",
       "      <td>0.6294+0.0000j</td>\n",
       "      <td>0.0170</td>\n",
       "      <td>0.0000+0.4830j</td>\n",
       "      <td>0.6294+0.0000j</td>\n",
       "      <td>0.9830</td>\n",
       "    </tr>\n",
       "    <tr>\n",
       "      <th>i=1</th>\n",
       "      <td>0.7500+0.0000j</td>\n",
       "      <td>0.0000+0.4330j</td>\n",
       "      <td>0.6294+0.0000j</td>\n",
       "      <td>-0.0000-0.4830j</td>\n",
       "      <td></td>\n",
       "      <td>0.6294-0.0000j</td>\n",
       "      <td>-0.0000+0.4830j</td>\n",
       "      <td></td>\n",
       "    </tr>\n",
       "    <tr>\n",
       "      <th></th>\n",
       "      <td>0.0000-0.4330j</td>\n",
       "      <td>0.2500+0.0000j</td>\n",
       "      <td>-0.0000+0.4830j</td>\n",
       "      <td>0.3706+0.0000j</td>\n",
       "      <td>0.1464</td>\n",
       "      <td>-0.0000-0.4830j</td>\n",
       "      <td>0.3706-0.0000j</td>\n",
       "      <td>0.9830</td>\n",
       "    </tr>\n",
       "  </tbody>\n",
       "</table>\n",
       "</div>"
      ],
      "text/plain": [
       "             rho_i                            E_i                  \\\n",
       "i=0 0.5000+0.0000j 0.0000-0.5000j  0.3706+0.0000j  0.0000+0.4830j   \n",
       "    0.0000+0.5000j 0.5000+0.0000j  0.0000-0.4830j  0.6294+0.0000j   \n",
       "i=1 0.7500+0.0000j 0.0000+0.4330j  0.6294+0.0000j -0.0000-0.4830j   \n",
       "    0.0000-0.4330j 0.2500+0.0000j -0.0000+0.4830j  0.3706+0.0000j   \n",
       "\n",
       "    Tr[rho_i.E_i]           PGM_i                 Tr[rho_i.PGM_i]  \n",
       "i=0                0.3706+0.0000j  0.0000-0.4830j                  \n",
       "           0.0170  0.0000+0.4830j  0.6294+0.0000j          0.9830  \n",
       "i=1                0.6294-0.0000j -0.0000+0.4830j                  \n",
       "           0.1464 -0.0000-0.4830j  0.3706-0.0000j          0.9830  "
      ]
     },
     "execution_count": 68,
     "metadata": {},
     "output_type": "execute_result"
    }
   ],
   "source": [
    "rho = classifier.density_matrices\n",
    "K = classifier.kraus_op()\n",
    "E = classifier.povm()\n",
    "med_povm = 1 - (1/2)*np.sum([np.real(np.trace(np.dot(rho[i],E[i]))) for i in range(2)], axis=0)\n",
    "pgm, med_pgm = classifier.pgm()\n",
    "print(\"Minimum-Error Discrimination\")\n",
    "print(\"performed optimal POVM:\", med_povm)\n",
    "print(\"performed PGM:\", med_pgm)\n",
    "\n",
    "classifier.res_table()"
   ]
  },
  {
   "cell_type": "markdown",
   "metadata": {},
   "source": [
    "---\n",
    "## To Do"
   ]
  },
  {
   "cell_type": "markdown",
   "metadata": {},
   "source": [
    "Write and Read further about optimization...\n",
    "1. First of all!!!, [Measurement optimization](https://pennylane.ai/qml/demos/tutorial_measurement_optimize.html) <br>\n",
    "[Plugins and Hybrid computation](https://pennylane.ai/qml/demos/tutorial_plugins_hybrid.html) <br>\n",
    "[Ensemble classification with Forest and Qiskit devices](https://pennylane.ai/qml/demos/tutorial_ensemble_multi_qpu.html) <br>\n",
    "[Forum: Measurements and output state probabilities in a single circuit](https://discuss.pennylane.ai/t/measurements-and-output-state-probabilities-in-a-single-circuit/1089/7) <br>\n",
    "<br>\n",
    "2. [Quantum gradients](https://pennylane.ai/qml/glossary/quantum_gradient.html) <br>\n",
    "[Quantum Differentiable Programming](https://pennylane.ai/qml/glossary/quantum_differentiable_programming.html) <br>\n",
    "[Gradients and training](https://pennylane.readthedocs.io/en/stable/introduction/interfaces.html) <br>\n",
    "<br>\n",
    "3. [Noisy circuits](https://pennylane.ai/qml/demos/tutorial_noisy_circuits.html), [Ref] Johannes Jakob Meyer, Johannes Borregaard, and Jens Eisert, “A variational toolbox for quantum multi-parameter estimation.” [arXiv:2006.06303 (2020)](https://arxiv.org/abs/2006.06303). <br>\n",
    "[Optimizing noisy circuits with Cirq](https://pennylane.ai/qml/demos/tutorial_noisy_circuit_optimization.html) <br>\n",
    "* [How to simulate noise with PennyLane](https://pennylane.ai/blog/2021/05/how-to-simulate-noise-with-pennylane/) <br>\n",
    "<br>\n",
    "4. Quantum Volume in [pennylane](https://pennylane.ai/qml/demos/quantum_volume.html) or in [qiskit](https://qiskit.org/documentation/tutorials/noise/5_quantum_volume.html)<br>\n",
    "\n"
   ]
  },
  {
   "cell_type": "markdown",
   "metadata": {},
   "source": [
    "Analytic Analysis <br>\n",
    "1. Helstrom measurement (Helstrom bound)\n",
    "2. [Wiki POVM, an example: unambiguous quantum state discrimination](https://en.wikipedia.org/wiki/POVM)"
   ]
  },
  {
   "cell_type": "markdown",
   "metadata": {},
   "source": [
    "---"
   ]
  }
 ],
 "metadata": {
  "interpreter": {
   "hash": "f3566aecee92b9119d5cab9d3e2af068b42db2260767c2b53e50be0379b5c2ee"
  },
  "kernelspec": {
   "display_name": "Python 3.8.12 64-bit ('quantcirc': conda)",
   "name": "python3"
  },
  "language_info": {
   "codemirror_mode": {
    "name": "ipython",
    "version": 3
   },
   "file_extension": ".py",
   "mimetype": "text/x-python",
   "name": "python",
   "nbconvert_exporter": "python",
   "pygments_lexer": "ipython3",
   "version": "3.8.12"
  }
 },
 "nbformat": 4,
 "nbformat_minor": 2
}

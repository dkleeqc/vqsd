{
 "cells": [
  {
   "cell_type": "markdown",
   "metadata": {},
   "source": [
    "# <center> Semi-Definite Program for POVM classification </center>"
   ]
  },
  {
   "cell_type": "markdown",
   "metadata": {},
   "source": [
    "## 1. Codes"
   ]
  },
  {
   "cell_type": "code",
   "execution_count": 1,
   "metadata": {},
   "outputs": [],
   "source": [
    "import cvxpy as cp    ## To install cvxpy, https://www.cvxpy.org/install/index.html\n",
    "import numpy as np\n",
    "\n",
    "from scipy.linalg import sqrtm"
   ]
  },
  {
   "cell_type": "code",
   "execution_count": 46,
   "metadata": {},
   "outputs": [],
   "source": [
    "class POVM_Clf_SDP():\n",
    "    def __init__(self, dim_povm=2, num_povms=2, problem_type='Primal'):\n",
    "        self.problem = problem_type\n",
    "        self.dim = dim_povm\n",
    "        self.num = num_povms\n",
    "\n",
    "\n",
    "    def Primal(self):\n",
    "        # Create num dim x dim matrix variables\n",
    "        E = [cp.Variable((self.dim, self.dim), hermitian=True) for x in range(self.num)]\n",
    "\n",
    "        # Create constraints\n",
    "        ## Equality Constraints\n",
    "        sum_all_E = 0\n",
    "        for i in range(self.num):\n",
    "            sum_all_E += E[i]\n",
    "        constraints = [sum_all_E == np.eye(self.dim)]\n",
    "        ## Inequality Constraints\n",
    "        constraints += [\n",
    "            E[i] >> 0 for i in range(self.num)\n",
    "        ]\n",
    "\n",
    "        # Form an objective function.\n",
    "        obj = 0\n",
    "        for i in range(self.num):\n",
    "            obj += cp.real(cp.trace(E[i] @ self.q_rho[i]))\n",
    "\n",
    "        prob = cp.Problem(cp.Maximize(obj), constraints)\n",
    "        prob.solve()\n",
    "\n",
    "        print(\"Opt is Done. \\nStatus:\", prob.status)\n",
    "        E_opt = [E[i].value for i in range(self.num)]\n",
    "        med_value = 1 - prob.value\n",
    "\n",
    "        return med_value, E_opt\n",
    "\n",
    "    def Dual(self):\n",
    "\n",
    "        K = cp.Variable((self.dim,self.dim), hermitian=True)\n",
    "        constraints = [K - self.q_rho[i] >> 0 for i in range(self.num)]\n",
    "        prob = cp.Problem(cp.Minimize(cp.real(cp.trace(K))), constraints)\n",
    "        prob.solve()\n",
    "\n",
    "        print(\"Opt is Done. \\nStatus:\", prob.status)\n",
    "        K_opt = K.value\n",
    "        med_value = 1 - prob.value\n",
    "\n",
    "        return med_value, K_opt\n",
    "\n",
    "    def __call__(self, init_states, a_priori_probs):\n",
    "        \n",
    "        if self.num != len(init_states):\n",
    "            raise ValueError(\"The number of POVMS != The number of quantum states\")\n",
    "\n",
    "        elif self.dim != len(init_states[0]):\n",
    "            raise ValueError(\"The dimension of POVM != The dimension of quantum state\")\n",
    "\n",
    "        \n",
    "\n",
    "        self.init_rhos = [np.outer(init_states[i], init_states[i]) for i in range(self.num)]\n",
    "        self.q_rho = [a_priori_probs[i] * self.init_rhos[i] for i in range(self.num)]\n",
    "\n",
    "        return self.Primal() if self.problem == 'Primal' else self.Dual()\n",
    "        \n"
   ]
  },
  {
   "cell_type": "markdown",
   "metadata": {},
   "source": [
    "## 2. Examples"
   ]
  },
  {
   "cell_type": "code",
   "execution_count": 1,
   "metadata": {},
   "outputs": [],
   "source": [
    "import numpy as np\n",
    "from povm_clf import POVM_Clf_SDP"
   ]
  },
  {
   "cell_type": "markdown",
   "metadata": {},
   "source": [
    "### i) \n",
    "$\\{|0\\rangle, |1\\rangle, |+\\rangle \\}$"
   ]
  },
  {
   "cell_type": "code",
   "execution_count": 12,
   "metadata": {},
   "outputs": [],
   "source": [
    "q_list = [1/3] * 3\n",
    "states = [[1,0], [0,1], [1/np.sqrt(2), 1/np.sqrt(2)]]\n",
    "\n",
    "Primal_povm_clf = POVM_Clf_SDP(2, 3, 'Primal')\n",
    "Dual_povm_clf = POVM_Clf_SDP(2, 3, 'Dual')"
   ]
  },
  {
   "cell_type": "code",
   "execution_count": 13,
   "metadata": {},
   "outputs": [
    {
     "name": "stdout",
     "output_type": "stream",
     "text": [
      "WARN: A->p (column pointers) not strictly increasing, column 9 empty\n",
      "WARN: A->p (column pointers) not strictly increasing, column 12 empty\n",
      "WARN: A->p (column pointers) not strictly increasing, column 13 empty\n",
      "WARN: A->p (column pointers) not strictly increasing, column 16 empty\n",
      "WARN: A->p (column pointers) not strictly increasing, column 17 empty\n",
      "WARN: A->p (column pointers) not strictly increasing, column 20 empty\n",
      "Opt is Done. \n",
      "Status: optimal\n"
     ]
    },
    {
     "data": {
      "text/plain": [
       "(0.33333335771481254,\n",
       " [array([[9.99999967e-01+0.j, 4.20319375e-09+0.j],\n",
       "         [4.20319375e-09+0.j, 3.12216178e-08+0.j]]),\n",
       "  array([[3.12216167e-08+0.j, 4.20319375e-09+0.j],\n",
       "         [4.20319375e-09+0.j, 9.99999967e-01+0.j]]),\n",
       "  array([[ 2.01313528e-09+0.j, -8.45401373e-09+0.j],\n",
       "         [-8.45401373e-09+0.j,  2.01313493e-09+0.j]])])"
      ]
     },
     "execution_count": 13,
     "metadata": {},
     "output_type": "execute_result"
    }
   ],
   "source": [
    "Primal_povm_clf(states, q_list)"
   ]
  },
  {
   "cell_type": "code",
   "execution_count": 14,
   "metadata": {},
   "outputs": [
    {
     "name": "stdout",
     "output_type": "stream",
     "text": [
      "WARN: A->p (column pointers) not strictly increasing, column 3 empty\n",
      "WARN: A->p (column pointers) not strictly increasing, column 6 empty\n",
      "Opt is Done. \n",
      "Status: optimal\n"
     ]
    },
    {
     "data": {
      "text/plain": [
       "(0.33333565089559447,\n",
       " array([[3.33332175e-01+0.j, 3.72752713e-06+0.j],\n",
       "        [3.72752713e-06+0.j, 3.33332175e-01+0.j]]))"
      ]
     },
     "execution_count": 14,
     "metadata": {},
     "output_type": "execute_result"
    }
   ],
   "source": [
    "Dual_povm_clf(states, q_list)"
   ]
  },
  {
   "cell_type": "markdown",
   "metadata": {},
   "source": [
    "### ii) \n",
    "$\\{|0\\rangle,|+\\rangle\\}$"
   ]
  },
  {
   "cell_type": "code",
   "execution_count": 21,
   "metadata": {},
   "outputs": [],
   "source": [
    "q_list = [1/2] * 2\n",
    "states = [[1,0], [1/np.sqrt(2),1/np.sqrt(2)]]\n",
    "\n",
    "Primal_povm_clf = POVM_Clf_SDP(2, 2, 'Primal')\n",
    "Dual_povm_clf = POVM_Clf_SDP(2, 2, 'Dual')"
   ]
  },
  {
   "cell_type": "code",
   "execution_count": 22,
   "metadata": {},
   "outputs": [
    {
     "name": "stdout",
     "output_type": "stream",
     "text": [
      "WARN: A->p (column pointers) not strictly increasing, column 6 empty\n",
      "WARN: A->p (column pointers) not strictly increasing, column 9 empty\n",
      "WARN: A->p (column pointers) not strictly increasing, column 10 empty\n",
      "WARN: A->p (column pointers) not strictly increasing, column 13 empty\n",
      "Opt is Done. \n",
      "Status: optimal\n"
     ]
    },
    {
     "data": {
      "text/plain": [
       "(0.14644540518881366,\n",
       " [array([[ 0.85355459+0.j, -0.35355459+0.j],\n",
       "         [-0.35355459+0.j,  0.14644541+0.j]]),\n",
       "  array([[0.14644541+0.j, 0.35355459+0.j],\n",
       "         [0.35355459+0.j, 0.8535546 +0.j]])])"
      ]
     },
     "execution_count": 22,
     "metadata": {},
     "output_type": "execute_result"
    }
   ],
   "source": [
    "Primal_povm_clf(states, q_list)"
   ]
  },
  {
   "cell_type": "code",
   "execution_count": 23,
   "metadata": {},
   "outputs": [
    {
     "name": "stdout",
     "output_type": "stream",
     "text": [
      "WARN: A->p (column pointers) not strictly increasing, column 3 empty\n",
      "WARN: A->p (column pointers) not strictly increasing, column 6 empty\n",
      "Opt is Done. \n",
      "Status: optimal\n"
     ]
    },
    {
     "data": {
      "text/plain": [
       "(0.14644675787549621,\n",
       " array([[0.55177654+0.j, 0.12500008+0.j],\n",
       "        [0.12500008+0.j, 0.3017767 +0.j]]))"
      ]
     },
     "execution_count": 23,
     "metadata": {},
     "output_type": "execute_result"
    }
   ],
   "source": [
    "Dual_povm_clf(states, q_list)"
   ]
  },
  {
   "cell_type": "markdown",
   "metadata": {},
   "source": [
    "### ii)' \n",
    "$\\{|0\\rangle,|+i\\rangle\\}$"
   ]
  },
  {
   "cell_type": "code",
   "execution_count": 2,
   "metadata": {},
   "outputs": [],
   "source": [
    "q_list = [1/2] * 2\n",
    "states = [[1,0], [1/np.sqrt(2),1j/np.sqrt(2)]]\n",
    "\n",
    "Primal_povm_clf = POVM_Clf_SDP(2, 2, 'Primal')\n",
    "Dual_povm_clf = POVM_Clf_SDP(2, 2, 'Dual')"
   ]
  },
  {
   "cell_type": "code",
   "execution_count": 3,
   "metadata": {},
   "outputs": [
    {
     "name": "stdout",
     "output_type": "stream",
     "text": [
      "WARN: A->p (column pointers) not strictly increasing, column 6 empty\n",
      "WARN: A->p (column pointers) not strictly increasing, column 9 empty\n",
      "WARN: A->p (column pointers) not strictly increasing, column 10 empty\n",
      "WARN: A->p (column pointers) not strictly increasing, column 13 empty\n",
      "Opt is Done. \n",
      "Status: optimal\n"
     ]
    },
    {
     "data": {
      "text/plain": [
       "(0.14644531701461339,\n",
       " [array([[8.53554682e-01+0.j        , 7.78596098e-17+0.35355468j],\n",
       "         [7.78596098e-17-0.35355468j, 1.46445322e-01+0.j        ]]),\n",
       "  array([[ 1.46445324e-01+0.j        , -7.83894222e-17-0.35355468j],\n",
       "         [-7.83894222e-17+0.35355468j,  8.53554684e-01+0.j        ]])])"
      ]
     },
     "execution_count": 3,
     "metadata": {},
     "output_type": "execute_result"
    }
   ],
   "source": [
    "Primal_povm_clf(states, q_list)"
   ]
  },
  {
   "cell_type": "code",
   "execution_count": 4,
   "metadata": {},
   "outputs": [
    {
     "name": "stdout",
     "output_type": "stream",
     "text": [
      "WARN: A->p (column pointers) not strictly increasing, column 3 empty\n",
      "WARN: A->p (column pointers) not strictly increasing, column 6 empty\n",
      "Opt is Done. \n",
      "Status: optimal\n"
     ]
    },
    {
     "data": {
      "text/plain": [
       "(0.14644677966789488,\n",
       " array([[ 5.51776307e-01+0.j       , -8.77001689e-18-0.1250003j],\n",
       "        [-8.77001689e-18+0.1250003j,  3.01776913e-01+0.j       ]]))"
      ]
     },
     "execution_count": 4,
     "metadata": {},
     "output_type": "execute_result"
    }
   ],
   "source": [
    "Dual_povm_clf(states, q_list)"
   ]
  },
  {
   "cell_type": "markdown",
   "metadata": {},
   "source": [
    "### iii) \n",
    "$\\{(|0\\rangle+|1\\rangle)/\\sqrt{2},\\}$"
   ]
  },
  {
   "cell_type": "code",
   "execution_count": 2,
   "metadata": {},
   "outputs": [],
   "source": [
    "q_list = [1/3] * 3\n",
    "states = [[1/np.sqrt(2), np.exp(1j*2*np.pi/3)/np.sqrt(2)], [1/np.sqrt(2), 1/np.sqrt(2)], [1/np.sqrt(2), np.exp(-1j*2*np.pi/3)/np.sqrt(2)]]\n",
    "\n",
    "Primal_povm_clf = POVM_Clf_SDP(2, 3, 'Primal')\n",
    "Dual_povm_clf = POVM_Clf_SDP(2, 3, 'Dual')"
   ]
  },
  {
   "cell_type": "code",
   "execution_count": 3,
   "metadata": {},
   "outputs": [
    {
     "name": "stdout",
     "output_type": "stream",
     "text": [
      "Opt is Done. \n",
      "Status: optimal\n"
     ]
    },
    {
     "data": {
      "text/plain": [
       "(0.33333235460073685,\n",
       " [array([[ 0.33333333+0.j        , -0.16666716-0.28867598j],\n",
       "         [-0.16666716+0.28867598j,  0.33333333+0.j        ]]),\n",
       "  array([[0.33333333+0.00000000e+00j, 0.33333431-1.01176007e-16j],\n",
       "         [0.33333431+1.01176007e-16j, 0.33333333+0.00000000e+00j]]),\n",
       "  array([[ 0.33333333+0.j        , -0.16666716+0.28867598j],\n",
       "         [-0.16666716-0.28867598j,  0.33333333+0.j        ]])])"
      ]
     },
     "execution_count": 3,
     "metadata": {},
     "output_type": "execute_result"
    }
   ],
   "source": [
    "Primal_povm_clf(states, q_list)"
   ]
  },
  {
   "cell_type": "code",
   "execution_count": 4,
   "metadata": {},
   "outputs": [
    {
     "name": "stdout",
     "output_type": "stream",
     "text": [
      "Opt is Done. \n",
      "Status: optimal\n"
     ]
    },
    {
     "data": {
      "text/plain": [
       "(0.3333333135926595,\n",
       " array([[ 3.33333343e-01+0.00000000e+00j, -1.48335316e-16-8.17623199e-16j],\n",
       "        [-1.48335316e-16+8.17623199e-16j,  3.33333343e-01+0.00000000e+00j]]))"
      ]
     },
     "execution_count": 4,
     "metadata": {},
     "output_type": "execute_result"
    }
   ],
   "source": [
    "Dual_povm_clf(states, q_list)"
   ]
  },
  {
   "cell_type": "markdown",
   "metadata": {},
   "source": [
    "### iv)\n",
    "$\\{|00\\rangle, |0+\\rangle, |+0\\rangle, |++\\rangle \\}$"
   ]
  },
  {
   "cell_type": "code",
   "execution_count": 9,
   "metadata": {},
   "outputs": [],
   "source": [
    "states = [[1,0,0,0], [1/np.sqrt(2),0,1/np.sqrt(2),0], [1/np.sqrt(2),1/np.sqrt(2),0,0],[1/2,1/2,1/2,1/2]]\n",
    "q_list = [1/len(states)] * len(states)\n",
    "\n",
    "Primal_povm_clf = POVM_Clf_SDP(4, 4, 'Primal')\n",
    "Dual_povm_clf = POVM_Clf_SDP(4, 4, 'Dual')"
   ]
  },
  {
   "cell_type": "code",
   "execution_count": 10,
   "metadata": {},
   "outputs": [
    {
     "name": "stdout",
     "output_type": "stream",
     "text": [
      "WARN: A->p (column pointers) not strictly increasing, column 40 empty\n",
      "WARN: A->p (column pointers) not strictly increasing, column 45 empty\n",
      "WARN: A->p (column pointers) not strictly increasing, column 50 empty\n",
      "WARN: A->p (column pointers) not strictly increasing, column 55 empty\n",
      "WARN: A->p (column pointers) not strictly increasing, column 56 empty\n",
      "WARN: A->p (column pointers) not strictly increasing, column 61 empty\n",
      "WARN: A->p (column pointers) not strictly increasing, column 66 empty\n",
      "WARN: A->p (column pointers) not strictly increasing, column 71 empty\n",
      "WARN: A->p (column pointers) not strictly increasing, column 72 empty\n",
      "WARN: A->p (column pointers) not strictly increasing, column 77 empty\n",
      "WARN: A->p (column pointers) not strictly increasing, column 82 empty\n",
      "WARN: A->p (column pointers) not strictly increasing, column 87 empty\n",
      "WARN: A->p (column pointers) not strictly increasing, column 88 empty\n",
      "WARN: A->p (column pointers) not strictly increasing, column 93 empty\n",
      "WARN: A->p (column pointers) not strictly increasing, column 98 empty\n",
      "WARN: A->p (column pointers) not strictly increasing, column 103 empty\n",
      "Opt is Done. \n",
      "Status: optimal\n"
     ]
    },
    {
     "data": {
      "text/plain": [
       "(0.2714502647128738,\n",
       " [array([[ 0.72854973+0.j, -0.30177432+0.j, -0.30177432+0.j,\n",
       "           0.12499887+0.j],\n",
       "         [-0.30177432+0.j,  0.12500089+0.j,  0.12499895+0.j,\n",
       "          -0.05177631+0.j],\n",
       "         [-0.30177432+0.j,  0.12499895+0.j,  0.12500089+0.j,\n",
       "          -0.05177631+0.j],\n",
       "         [ 0.12499887+0.j, -0.05177631+0.j, -0.05177631+0.j,\n",
       "           0.02144847+0.j]]),\n",
       "  array([[ 0.12500099+0.j, -0.05177641+0.j,  0.30177442+0.j,\n",
       "          -0.12499897+0.j],\n",
       "         [-0.05177641+0.j,  0.02144837+0.j, -0.12499905+0.j,\n",
       "           0.05177621+0.j],\n",
       "         [ 0.30177442+0.j, -0.12499905+0.j,  0.72854964+0.j,\n",
       "          -0.30177423+0.j],\n",
       "         [-0.12499897+0.j,  0.05177621+0.j, -0.30177423+0.j,\n",
       "           0.12500099+0.j]]),\n",
       "  array([[ 0.12500099+0.j,  0.30177442+0.j, -0.05177641+0.j,\n",
       "          -0.12499897+0.j],\n",
       "         [ 0.30177442+0.j,  0.72854964+0.j, -0.12499905+0.j,\n",
       "          -0.30177423+0.j],\n",
       "         [-0.05177641+0.j, -0.12499905+0.j,  0.02144837+0.j,\n",
       "           0.05177621+0.j],\n",
       "         [-0.12499897+0.j, -0.30177423+0.j,  0.05177621+0.j,\n",
       "           0.12500099+0.j]]),\n",
       "  array([[0.02144828+0.j, 0.05177631+0.j, 0.05177631+0.j, 0.12499906+0.j],\n",
       "         [0.05177631+0.j, 0.12500109+0.j, 0.12499914+0.j, 0.30177433+0.j],\n",
       "         [0.05177631+0.j, 0.12499914+0.j, 0.12500109+0.j, 0.30177433+0.j],\n",
       "         [0.12499906+0.j, 0.30177433+0.j, 0.30177433+0.j, 0.72854955+0.j]])])"
      ]
     },
     "execution_count": 10,
     "metadata": {},
     "output_type": "execute_result"
    }
   ],
   "source": [
    "Primal_povm_clf(states, q_list)"
   ]
  },
  {
   "cell_type": "code",
   "execution_count": 11,
   "metadata": {},
   "outputs": [
    {
     "name": "stdout",
     "output_type": "stream",
     "text": [
      "WARN: A->p (column pointers) not strictly increasing, column 10 empty\n",
      "WARN: A->p (column pointers) not strictly increasing, column 15 empty\n",
      "WARN: A->p (column pointers) not strictly increasing, column 20 empty\n",
      "WARN: A->p (column pointers) not strictly increasing, column 25 empty\n",
      "Opt is Done. \n",
      "Status: optimal\n"
     ]
    },
    {
     "data": {
      "text/plain": [
       "(0.27143939486234003,\n",
       " array([[0.30445934+0.j, 0.06897205+0.j, 0.06897205+0.j, 0.0156249 +0.j],\n",
       "        [0.06897205+0.j, 0.16651517+0.j, 0.01562491+0.j, 0.03772215+0.j],\n",
       "        [0.06897205+0.j, 0.01562491+0.j, 0.16651517+0.j, 0.03772215+0.j],\n",
       "        [0.0156249 +0.j, 0.03772215+0.j, 0.03772215+0.j, 0.09107093+0.j]]))"
      ]
     },
     "execution_count": 11,
     "metadata": {},
     "output_type": "execute_result"
    }
   ],
   "source": [
    "Dual_povm_clf(states, q_list)"
   ]
  },
  {
   "cell_type": "markdown",
   "metadata": {},
   "source": [
    "### v)\n",
    "$\\{|00\\rangle+|11\\rangle, |00\\rangle-|11\\rangle, |01\\rangle+|10\\rangle, |01\\rangle-|10\\rangle \\}$"
   ]
  },
  {
   "cell_type": "code",
   "execution_count": 12,
   "metadata": {},
   "outputs": [],
   "source": [
    "states = [[1/np.sqrt(2),0,0,1/np.sqrt(2)], [1/np.sqrt(2),0,0,-1/np.sqrt(2)], [0,1/np.sqrt(2),1/np.sqrt(2),0], [0,1/np.sqrt(2),-1/np.sqrt(2),0]]\n",
    "q_list = [1/len(states)] * len(states)\n",
    "\n",
    "Primal_povm_clf = POVM_Clf_SDP(4, 4, 'Primal')\n",
    "Dual_povm_clf = POVM_Clf_SDP(4, 4, 'Dual')"
   ]
  },
  {
   "cell_type": "code",
   "execution_count": 13,
   "metadata": {},
   "outputs": [
    {
     "name": "stdout",
     "output_type": "stream",
     "text": [
      "WARN: A->p (column pointers) not strictly increasing, column 40 empty\n",
      "WARN: A->p (column pointers) not strictly increasing, column 45 empty\n",
      "WARN: A->p (column pointers) not strictly increasing, column 50 empty\n",
      "WARN: A->p (column pointers) not strictly increasing, column 55 empty\n",
      "WARN: A->p (column pointers) not strictly increasing, column 56 empty\n",
      "WARN: A->p (column pointers) not strictly increasing, column 61 empty\n",
      "WARN: A->p (column pointers) not strictly increasing, column 66 empty\n",
      "WARN: A->p (column pointers) not strictly increasing, column 71 empty\n",
      "WARN: A->p (column pointers) not strictly increasing, column 72 empty\n",
      "WARN: A->p (column pointers) not strictly increasing, column 77 empty\n",
      "WARN: A->p (column pointers) not strictly increasing, column 82 empty\n",
      "WARN: A->p (column pointers) not strictly increasing, column 87 empty\n",
      "WARN: A->p (column pointers) not strictly increasing, column 88 empty\n",
      "WARN: A->p (column pointers) not strictly increasing, column 93 empty\n",
      "WARN: A->p (column pointers) not strictly increasing, column 98 empty\n",
      "WARN: A->p (column pointers) not strictly increasing, column 103 empty\n",
      "Opt is Done. \n",
      "Status: optimal\n"
     ]
    },
    {
     "data": {
      "text/plain": [
       "(-4.66527661635574e-06,\n",
       " [array([[ 5.00001556e-01+0.j, -1.11076643e-16+0.j,  7.28368844e-18+0.j,\n",
       "           5.00003109e-01+0.j],\n",
       "         [-1.11076643e-16+0.j, -1.55323986e-06+0.j, -1.27319474e-16+0.j,\n",
       "          -7.62671749e-17+0.j],\n",
       "         [ 7.28368844e-18+0.j, -1.27319474e-16+0.j, -1.55323986e-06+0.j,\n",
       "          -3.79206088e-18+0.j],\n",
       "         [ 5.00003109e-01+0.j, -7.62671749e-17+0.j, -3.79206088e-18+0.j,\n",
       "           5.00001556e-01+0.j]]),\n",
       "  array([[ 5.00001556e-01+0.j,  9.16093206e-17+0.j, -8.37054227e-18+0.j,\n",
       "          -5.00003109e-01+0.j],\n",
       "         [ 9.16093206e-17+0.j, -1.55323986e-06+0.j, -1.27319474e-16+0.j,\n",
       "          -2.20440503e-17+0.j],\n",
       "         [-8.37054227e-18+0.j, -1.27319474e-16+0.j, -1.55323987e-06+0.j,\n",
       "          -3.27044501e-18+0.j],\n",
       "         [-5.00003109e-01+0.j, -2.20440503e-17+0.j, -3.27044501e-18+0.j,\n",
       "           5.00001556e-01+0.j]]),\n",
       "  array([[-1.55323986e-06+0.j,  1.05403593e-17+0.j, -7.12016063e-18+0.j,\n",
       "           1.34876379e-16+0.j],\n",
       "         [ 1.05403593e-17+0.j,  5.00001556e-01+0.j,  5.00003109e-01+0.j,\n",
       "           6.39990033e-17+0.j],\n",
       "         [-7.12016063e-18+0.j,  5.00003109e-01+0.j,  5.00001556e-01+0.j,\n",
       "           4.53265598e-19+0.j],\n",
       "         [ 1.34876379e-16+0.j,  6.39990033e-17+0.j,  4.53265598e-19+0.j,\n",
       "          -1.55323986e-06+0.j]]),\n",
       "  array([[-1.55323986e-06+0.j,  8.88762916e-18+0.j,  8.20765280e-18+0.j,\n",
       "           1.34876379e-16+0.j],\n",
       "         [ 8.88762916e-18+0.j,  5.00001556e-01+0.j, -5.00003109e-01+0.j,\n",
       "           3.41940604e-17+0.j],\n",
       "         [ 8.20765280e-18+0.j, -5.00003109e-01+0.j,  5.00001556e-01+0.j,\n",
       "           6.63494073e-18+0.j],\n",
       "         [ 1.34876379e-16+0.j,  3.41940604e-17+0.j,  6.63494073e-18+0.j,\n",
       "          -1.55323986e-06+0.j]])])"
      ]
     },
     "execution_count": 13,
     "metadata": {},
     "output_type": "execute_result"
    }
   ],
   "source": [
    "Primal_povm_clf(states, q_list)"
   ]
  },
  {
   "cell_type": "code",
   "execution_count": 14,
   "metadata": {},
   "outputs": [
    {
     "name": "stdout",
     "output_type": "stream",
     "text": [
      "WARN: A->p (column pointers) not strictly increasing, column 10 empty\n",
      "WARN: A->p (column pointers) not strictly increasing, column 15 empty\n",
      "WARN: A->p (column pointers) not strictly increasing, column 20 empty\n",
      "WARN: A->p (column pointers) not strictly increasing, column 25 empty\n",
      "Opt is Done. \n",
      "Status: optimal\n"
     ]
    },
    {
     "data": {
      "text/plain": [
       "(4.478725195045108e-06,\n",
       " array([[ 2.49998880e-01+0.j,  2.48115733e-16+0.j,  1.06557146e-16+0.j,\n",
       "         -5.92755312e-16+0.j],\n",
       "        [ 2.48115733e-16+0.j,  2.49998880e-01+0.j, -6.65103565e-16+0.j,\n",
       "         -8.09537819e-16+0.j],\n",
       "        [ 1.06557146e-16+0.j, -6.65103565e-16+0.j,  2.49998880e-01+0.j,\n",
       "          2.76576339e-16+0.j],\n",
       "        [-5.92755312e-16+0.j, -8.09537819e-16+0.j,  2.76576339e-16+0.j,\n",
       "          2.49998880e-01+0.j]]))"
      ]
     },
     "execution_count": 14,
     "metadata": {},
     "output_type": "execute_result"
    }
   ],
   "source": [
    "Dual_povm_clf(states, q_list)"
   ]
  },
  {
   "cell_type": "markdown",
   "metadata": {},
   "source": [
    "### vi)\n",
    "$\\{|00\\rangle+|11\\rangle, |01\\rangle+|10\\rangle, |00\\rangle, |++\\rangle \\}$"
   ]
  },
  {
   "cell_type": "code",
   "execution_count": 13,
   "metadata": {},
   "outputs": [],
   "source": [
    "states = [[1/np.sqrt(2),0,0,1/np.sqrt(2)], [0,1/np.sqrt(2),1/np.sqrt(2),0], [1,0,0,0], [1/2,1/2,1/2,1/2]]\n",
    "q_list = [1/len(states)] * len(states)\n",
    "\n",
    "Primal_povm_clf = POVM_Clf_SDP(4, 4, 'Primal')\n",
    "Dual_povm_clf = POVM_Clf_SDP(4, 4, 'Dual')"
   ]
  },
  {
   "cell_type": "code",
   "execution_count": 14,
   "metadata": {},
   "outputs": [
    {
     "name": "stdout",
     "output_type": "stream",
     "text": [
      "WARN: A->p (column pointers) not strictly increasing, column 40 empty\n",
      "WARN: A->p (column pointers) not strictly increasing, column 45 empty\n",
      "WARN: A->p (column pointers) not strictly increasing, column 50 empty\n",
      "WARN: A->p (column pointers) not strictly increasing, column 55 empty\n",
      "WARN: A->p (column pointers) not strictly increasing, column 56 empty\n",
      "WARN: A->p (column pointers) not strictly increasing, column 61 empty\n",
      "WARN: A->p (column pointers) not strictly increasing, column 66 empty\n",
      "WARN: A->p (column pointers) not strictly increasing, column 71 empty\n",
      "WARN: A->p (column pointers) not strictly increasing, column 72 empty\n",
      "WARN: A->p (column pointers) not strictly increasing, column 77 empty\n",
      "WARN: A->p (column pointers) not strictly increasing, column 82 empty\n",
      "WARN: A->p (column pointers) not strictly increasing, column 87 empty\n",
      "WARN: A->p (column pointers) not strictly increasing, column 88 empty\n",
      "WARN: A->p (column pointers) not strictly increasing, column 93 empty\n",
      "WARN: A->p (column pointers) not strictly increasing, column 98 empty\n",
      "WARN: A->p (column pointers) not strictly increasing, column 103 empty\n",
      "Opt is Done. \n",
      "Status: optimal\n"
     ]
    }
   ],
   "source": [
    "med_val, E_opt = Primal_povm_clf(states, q_list)"
   ]
  },
  {
   "cell_type": "code",
   "execution_count": 15,
   "metadata": {},
   "outputs": [
    {
     "name": "stdout",
     "output_type": "stream",
     "text": [
      "WARN: A->p (column pointers) not strictly increasing, column 10 empty\n",
      "WARN: A->p (column pointers) not strictly increasing, column 15 empty\n",
      "WARN: A->p (column pointers) not strictly increasing, column 20 empty\n",
      "WARN: A->p (column pointers) not strictly increasing, column 25 empty\n",
      "Opt is Done. \n",
      "Status: optimal\n"
     ]
    },
    {
     "data": {
      "text/plain": [
       "(0.3232354240828901,\n",
       " array([[2.75887733e-01+0.j, 9.43428758e-06+0.j, 9.43428758e-06+0.j,\n",
       "         6.24974130e-02+0.j],\n",
       "        [9.43428758e-06+0.j, 1.24997153e-01+0.j, 1.24997039e-01+0.j,\n",
       "         1.14830793e-05+0.j],\n",
       "        [9.43428758e-06+0.j, 1.24997039e-01+0.j, 1.24997153e-01+0.j,\n",
       "         1.14830793e-05+0.j],\n",
       "        [6.24974130e-02+0.j, 1.14830793e-05+0.j, 1.14830793e-05+0.j,\n",
       "         1.50882538e-01+0.j]]))"
      ]
     },
     "execution_count": 15,
     "metadata": {},
     "output_type": "execute_result"
    }
   ],
   "source": [
    "Dual_povm_clf(states, q_list)"
   ]
  },
  {
   "cell_type": "code",
   "execution_count": null,
   "metadata": {},
   "outputs": [],
   "source": []
  },
  {
   "cell_type": "markdown",
   "metadata": {},
   "source": []
  }
 ],
 "metadata": {
  "interpreter": {
   "hash": "a591381579ab00205ce6e83ec5435f2258960c76c60d65fb3b7119045e85cbf7"
  },
  "kernelspec": {
   "display_name": "Python 3.10.2 ('nisq')",
   "language": "python",
   "name": "python3"
  },
  "language_info": {
   "codemirror_mode": {
    "name": "ipython",
    "version": 3
   },
   "file_extension": ".py",
   "mimetype": "text/x-python",
   "name": "python",
   "nbconvert_exporter": "python",
   "pygments_lexer": "ipython3",
   "version": "3.9.10"
  },
  "orig_nbformat": 4
 },
 "nbformat": 4,
 "nbformat_minor": 2
}

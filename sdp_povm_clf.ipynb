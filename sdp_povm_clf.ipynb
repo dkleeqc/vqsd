{
 "cells": [
  {
   "cell_type": "code",
   "execution_count": null,
   "metadata": {},
   "outputs": [],
   "source": [
    "import cvxpy as cp    ## To install cvxpy, https://www.cvxpy.org/install/index.html\n",
    "import numpy as np\n",
    "\n",
    "from scipy.linalg import sqrtm"
   ]
  },
  {
   "cell_type": "markdown",
   "id": "2b520186",
   "metadata": {},
   "source": [
    "# <center> Toy Model </center>"
   ]
  },
  {
   "cell_type": "markdown",
   "id": "e61e7133",
   "metadata": {},
   "source": [
    "## 1. State Preparation"
   ]
  },
  {
   "cell_type": "markdown",
   "id": "83c38934",
   "metadata": {},
   "source": [
    "$$\n",
    "q_0 = 1/3, |\\psi_0\\rangle = |0\\rangle\\\\\n",
    "q_1 = 1/3, |\\psi_1\\rangle = |1\\rangle\\\\\n",
    "q_2 = 1/3, |\\psi_2\\rangle = |+\\rangle\n",
    "$$"
   ]
  },
  {
   "cell_type": "code",
   "execution_count": null,
   "id": "54dda778",
   "metadata": {},
   "outputs": [],
   "source": [
    "q_list = [1/3] * 3\n",
    "rho_0 = np.array([[1,0],[0,0]])\n",
    "rho_1 = np.array([[0,0],[0,1]])\n",
    "rho_2 = np.array([[1/2,1/2],[1/2,1/2]])\n",
    "rho_list = [rho_0, rho_1,rho_2]"
   ]
  },
  {
   "cell_type": "markdown",
   "id": "ce2b11a6",
   "metadata": {},
   "source": [
    "## 2. Semi-Definite Programming for MED"
   ]
  },
  {
   "cell_type": "markdown",
   "id": "8ccdbfa8",
   "metadata": {},
   "source": [
    "### Primal Problem"
   ]
  },
  {
   "cell_type": "markdown",
   "id": "9311cbb8",
   "metadata": {},
   "source": [
    "$$\n",
    "\\max \\sum_{i=0}^{l-1}q_i\\text{Tr}[E_i\\rho_i]\\\\\n",
    "\\text{Subject to } E_i \\ge 0, \\forall i=1,\\cdots, l \\\\\n",
    "\\sum^{l-1}_{i=0}E_i=I\n",
    "$$"
   ]
  },
  {
   "cell_type": "code",
   "execution_count": null,
   "id": "5ea2eb30",
   "metadata": {},
   "outputs": [
    {
     "name": "stdout",
     "output_type": "stream",
     "text": [
      "WARN: A->p (column pointers) not strictly increasing, column 9 empty\n",
      "WARN: A->p (column pointers) not strictly increasing, column 12 empty\n",
      "WARN: A->p (column pointers) not strictly increasing, column 13 empty\n",
      "WARN: A->p (column pointers) not strictly increasing, column 16 empty\n",
      "WARN: A->p (column pointers) not strictly increasing, column 17 empty\n",
      "WARN: A->p (column pointers) not strictly increasing, column 20 empty\n",
      "status: optimal\n",
      "optimal value 0.3333333577148129\n",
      "A solution E is\n",
      "E_0 = [[9.99999967e-01+0.j 4.20319352e-09+0.j]\n",
      " [4.20319352e-09+0.j 3.12216186e-08+0.j]]\n",
      "E_1 = [[3.12216184e-08+0.j 4.20319352e-09+0.j]\n",
      " [4.20319352e-09+0.j 9.99999967e-01+0.j]]\n",
      "E_2 = [[ 2.01313412e-09+0.j -8.45401309e-09+0.j]\n",
      " [-8.45401309e-09+0.j  2.01313472e-09+0.j]]\n"
     ]
    }
   ],
   "source": [
    "# Create l 2x2 matrix variables\n",
    "E = [cp.Variable((2,2), hermitian=True) for x in range(3)]\n",
    "\n",
    "# Create constraints\n",
    "#constraints = [E[0] + E[1] + E[2] == np.eye(2)]\n",
    "\n",
    "sum_all_E = 0\n",
    "for i in range(3):\n",
    "    sum_all_E += E[i]\n",
    "\"\"\"sum_all_E = E[0]\n",
    "for i in range(1, 3):\n",
    "    sum_all_E += E[i]\"\"\"\n",
    "constraints = [sum_all_E == np.eye(2)]\n",
    "\n",
    "constraints += [\n",
    "    E[i] >> 0 for i in range(3)\n",
    "]\n",
    "\n",
    "# Form objective.\n",
    "q_rho = [q_list[i] * rho_list[i] for i in range(3)]\n",
    "obj = 1 - cp.real(cp.trace(E[0] @ q_rho[0]) + cp.trace(E[1] @ q_rho[1]) + cp.trace(E[2] @ q_rho[2]))\n",
    "\n",
    "prob = cp.Problem(cp.Minimize(obj), constraints)\n",
    "prob.solve()\n",
    "\n",
    "print(\"status:\", prob.status)\n",
    "print(\"optimal value\", prob.value)\n",
    "print(\"A solution E is\")\n",
    "for i in range(3):\n",
    "    print(\"E_\"+str(i)+\" =\", E[i].value)\n"
   ]
  },
  {
   "cell_type": "markdown",
   "id": "c299709b",
   "metadata": {},
   "source": [
    "### Dual Problem"
   ]
  },
  {
   "cell_type": "markdown",
   "id": "9311cbb8",
   "metadata": {},
   "source": [
    "$$\n",
    "\\min_{K} \\text{Tr}[K]\\\\\n",
    "\\text{Subject to } K - q_i\\rho_i \\ge 0, \\forall i=1,\\cdots, l\n",
    "$$"
   ]
  },
  {
   "cell_type": "code",
   "execution_count": null,
   "id": "f7ac89d8",
   "metadata": {},
   "outputs": [
    {
     "name": "stdout",
     "output_type": "stream",
     "text": [
      "WARN: A->p (column pointers) not strictly increasing, column 3 empty\n",
      "WARN: A->p (column pointers) not strictly increasing, column 6 empty\n",
      "status: optimal\n",
      "optimal value 0.6666643491044055\n",
      "A solution K is\n",
      "[[3.33332175e-01+0.j 3.72752713e-06+0.j]\n",
      " [3.72752713e-06+0.j 3.33332175e-01+0.j]]\n"
     ]
    }
   ],
   "source": [
    "K = cp.Variable((2,2), hermitian=True)\n",
    "constraints = [K - q_rho[i] >> 0 for i in range(3)]\n",
    "prob = cp.Problem(cp.Minimize(cp.real(cp.trace(K))), constraints)\n",
    "prob.solve()\n",
    "print(\"status:\", prob.status)\n",
    "print(\"optimal value\", prob.value)\n",
    "print(\"A solution K is\")\n",
    "print(K.value)"
   ]
  },
  {
   "cell_type": "markdown",
   "id": "fd332da0",
   "metadata": {},
   "source": [
    "## 3. Pretty Good Measurement"
   ]
  },
  {
   "cell_type": "markdown",
   "id": "fbf9bf0e",
   "metadata": {},
   "source": [
    "$$\n",
    "\\Pi_i = q_i \\rho^{-1/2} \\rho_i \\rho^{-1/2} \\text{, where } \\rho = \\sum_i q_i\\rho_i\n",
    "$$"
   ]
  },
  {
   "cell_type": "markdown",
   "id": "4f6b4e9e",
   "metadata": {},
   "source": [
    "In this example, $\\rho = \\frac{1}{3}\\left(|0\\rangle\\langle 0| + |1\\rangle\\langle 1| + |+\\rangle\\langle +| \\right)$. By the spectral decomposition,\n",
    "$$\n",
    "\\rho = \\begin{pmatrix}\n",
    "\\frac{1}{\\sqrt{2}} & \\frac{1}{\\sqrt{2}} \\\\ \n",
    "\\frac{1}{\\sqrt{2}} & -\\frac{1}{\\sqrt{2}}\n",
    "\\end{pmatrix}\n",
    "\\begin{pmatrix}\n",
    "\\frac{2}{3} & 0 \\\\ \n",
    "0 & \\frac{1}{3}\n",
    "\\end{pmatrix}\n",
    "\\begin{pmatrix}\n",
    "\\frac{1}{\\sqrt{2}} & \\frac{1}{\\sqrt{2}} \\\\ \n",
    "\\frac{1}{\\sqrt{2}} & -\\frac{1}{\\sqrt{2}}\n",
    "\\end{pmatrix}\n",
    "$$"
   ]
  },
  {
   "cell_type": "code",
   "execution_count": null,
   "id": "6de02093",
   "metadata": {},
   "outputs": [
    {
     "data": {
      "text/plain": [
       "array([[0.5       , 0.16666667],\n",
       "       [0.16666667, 0.5       ]])"
      ]
     },
     "metadata": {},
     "output_type": "display_data"
    }
   ],
   "source": [
    "rho_cvsum = np.array([[1/2,1/6],[1/6,1/2]])\n",
    "rho_cvsum"
   ]
  },
  {
   "cell_type": "markdown",
   "id": "40bbfd15",
   "metadata": {},
   "source": [
    "$$\n",
    "\\rho^{1/2} = \\begin{pmatrix}\n",
    "\\frac{1}{\\sqrt{2}} & \\frac{1}{\\sqrt{2}} \\\\ \n",
    "\\frac{1}{\\sqrt{2}} & -\\frac{1}{\\sqrt{2}}\n",
    "\\end{pmatrix}\n",
    "\\begin{pmatrix}\n",
    "\\sqrt{\\frac{2}{3}} & 0 \\\\ \n",
    "0 & \\sqrt{\\frac{1}{3}}\n",
    "\\end{pmatrix}\n",
    "\\begin{pmatrix}\n",
    "\\frac{1}{\\sqrt{2}} & \\frac{1}{\\sqrt{2}} \\\\ \n",
    "\\frac{1}{\\sqrt{2}} & -\\frac{1}{\\sqrt{2}}\n",
    "\\end{pmatrix}\n",
    "=\n",
    "\\frac{1}{2\\sqrt{3}}\n",
    "\\begin{pmatrix}\n",
    "\\sqrt{2} + 1 & \\sqrt{2} - 1 \\\\ \n",
    "\\sqrt{2} - 1 & \\sqrt{2} + 1\n",
    "\\end{pmatrix}\n",
    "$$"
   ]
  },
  {
   "cell_type": "code",
   "execution_count": null,
   "id": "a43d4c51",
   "metadata": {},
   "outputs": [
    {
     "data": {
      "text/plain": [
       "array([[0.69692343, 0.11957316],\n",
       "       [0.11957316, 0.69692343]])"
      ]
     },
     "metadata": {},
     "output_type": "display_data"
    }
   ],
   "source": [
    "sqrt_rho = sqrtm(rho_cvsum)\n",
    "sqrt_rho"
   ]
  },
  {
   "cell_type": "markdown",
   "id": "fc02a91e",
   "metadata": {},
   "source": [
    "$$\n",
    "\\rho^{-1/2} = \\frac{1}{\\det \\rho^{1/2}}\n",
    "\\frac{1}{2\\sqrt{3}}\n",
    "\\begin{pmatrix}\n",
    "\\sqrt{2} + 1 & 1 - \\sqrt{2}  \\\\ \n",
    "1 - \\sqrt{2} & \\sqrt{2} + 1\n",
    "\\end{pmatrix}\n",
    "$$"
   ]
  },
  {
   "cell_type": "code",
   "execution_count": null,
   "id": "249f7c3f",
   "metadata": {},
   "outputs": [
    {
     "data": {
      "text/plain": [
       "array([[ 1.47839784, -0.25365297],\n",
       "       [-0.25365297,  1.47839784]])"
      ]
     },
     "metadata": {},
     "output_type": "display_data"
    }
   ],
   "source": [
    "inv_sqrt_rho = np.linalg.inv(sqrt_rho)\n",
    "inv_sqrt_rho"
   ]
  },
  {
   "cell_type": "markdown",
   "id": "642e50c4",
   "metadata": {},
   "source": [
    "$$\n",
    "\\Pi_i = q_i \\rho^{-1/2} \\rho_i \\rho^{-1/2}\n",
    "$$"
   ]
  },
  {
   "cell_type": "code",
   "execution_count": null,
   "id": "0b5913a4",
   "metadata": {},
   "outputs": [],
   "source": [
    "def pgm(q_list, rho_list):\n",
    "    l = len(q_list)\n",
    "    rho_cvsum = np.sum([q_list[i] * rho_list[i] for i in range(l)], axis=0)\n",
    "\n",
    "    sqrt_rho = sqrtm(rho_cvsum)\n",
    "    inv_sqrt_rho = np.linalg.inv(sqrt_rho)\n",
    "\n",
    "    pgm_list = [q_list[i] * np.dot(np.dot(inv_sqrt_rho, rho_list[i]), inv_sqrt_rho) for i in range(l)]\n",
    "    return pgm_list"
   ]
  },
  {
   "cell_type": "code",
   "execution_count": null,
   "id": "ab37e6b6",
   "metadata": {},
   "outputs": [
    {
     "data": {
      "text/plain": [
       "[array([[ 0.72855339, -0.125     ],\n",
       "        [-0.125     ,  0.02144661]]),\n",
       " array([[ 0.02144661, -0.125     ],\n",
       "        [-0.125     ,  0.72855339]]),\n",
       " array([[0.25, 0.25],\n",
       "        [0.25, 0.25]])]"
      ]
     },
     "metadata": {},
     "output_type": "display_data"
    }
   ],
   "source": [
    "pgm_list = pgm(q_list, rho_list)\n",
    "pgm_list"
   ]
  },
  {
   "cell_type": "markdown",
   "id": "7fad19de",
   "metadata": {},
   "source": [
    "$$\n",
    "p_{i|i} = \\text{Tr}[\\Pi_i\\rho_i]\n",
    "$$"
   ]
  },
  {
   "cell_type": "code",
   "execution_count": null,
   "id": "8571ffd4",
   "metadata": {},
   "outputs": [
    {
     "data": {
      "text/plain": [
       "[0.7285533905932741, 0.7285533905932741, 0.5000000000000002]"
      ]
     },
     "metadata": {},
     "output_type": "display_data"
    }
   ],
   "source": [
    "prob_list = [np.trace(np.dot(pgm_list[i], rho_list[i])) for i in range(3)]\n",
    "prob_list"
   ]
  },
  {
   "cell_type": "markdown",
   "id": "8e2f1068",
   "metadata": {},
   "source": [
    "$$\n",
    "p_{error} = 1 - \\sum_i q_ip_{i|i}\n",
    "$$"
   ]
  },
  {
   "cell_type": "code",
   "execution_count": null,
   "id": "23a727cf",
   "metadata": {},
   "outputs": [
    {
     "data": {
      "text/plain": [
       "0.34763107293781725"
      ]
     },
     "metadata": {},
     "output_type": "display_data"
    }
   ],
   "source": [
    "error_prob = 1 - np.sum([q_list[i] * prob_list[i] for i in range(3)])\n",
    "error_prob"
   ]
  },
  {
   "cell_type": "markdown",
   "metadata": {},
   "source": [
    "# <center> Semi-Definite Program for POVM classification </center>"
   ]
  },
  {
   "cell_type": "markdown",
   "metadata": {},
   "source": [
    "## 1. Codes"
   ]
  },
  {
   "cell_type": "code",
   "execution_count": 46,
   "metadata": {},
   "outputs": [],
   "source": [
    "class POVM_Clf_SDP():\n",
    "    def __init__(self, dim_povm=2, num_povms=2, problem_type='Primal'):\n",
    "        self.problem = problem_type\n",
    "        self.dim = dim_povm\n",
    "        self.num = num_povms\n",
    "\n",
    "\n",
    "    def Primal(self):\n",
    "        # Create num dim x dim matrix variables\n",
    "        E = [cp.Variable((self.dim, self.dim), hermitian=True) for x in range(self.num)]\n",
    "\n",
    "        # Create constraints\n",
    "        ## Equality Constraints\n",
    "        sum_all_E = 0\n",
    "        for i in range(self.num):\n",
    "            sum_all_E += E[i]\n",
    "        constraints = [sum_all_E == np.eye(self.dim)]\n",
    "        ## Inequality Constraints\n",
    "        constraints += [\n",
    "            E[i] >> 0 for i in range(self.num)\n",
    "        ]\n",
    "\n",
    "        # Form an objective function.\n",
    "        obj = 0\n",
    "        for i in range(self.num):\n",
    "            obj += cp.real(cp.trace(E[i] @ self.q_rho[i]))\n",
    "\n",
    "        prob = cp.Problem(cp.Maximize(obj), constraints)\n",
    "        prob.solve()\n",
    "\n",
    "        print(\"Opt is Done. \\nStatus:\", prob.status)\n",
    "        E_opt = [E[i].value for i in range(self.num)]\n",
    "        med_value = 1 - prob.value\n",
    "\n",
    "        return med_value, E_opt\n",
    "\n",
    "    def Dual(self):\n",
    "\n",
    "        K = cp.Variable((self.dim,self.dim), hermitian=True)\n",
    "        constraints = [K - self.q_rho[i] >> 0 for i in range(self.num)]\n",
    "        prob = cp.Problem(cp.Minimize(cp.real(cp.trace(K))), constraints)\n",
    "        prob.solve()\n",
    "\n",
    "        print(\"Opt is Done. \\nStatus:\", prob.status)\n",
    "        K_opt = K.value\n",
    "        med_value = 1 - prob.value\n",
    "\n",
    "        return med_value, K_opt\n",
    "\n",
    "    def __call__(self, init_states, a_priori_probs):\n",
    "        \n",
    "        if self.num != len(init_states):\n",
    "            raise ValueError(\"The number of POVMS != The number of quantum states\")\n",
    "\n",
    "        elif self.dim != len(init_states[0]):\n",
    "            raise ValueError(\"The dimension of POVM != The dimension of quantum state\")\n",
    "\n",
    "        \n",
    "\n",
    "        self.init_rhos = [np.outer(init_states[i], init_states[i]) for i in range(self.num)]\n",
    "        self.q_rho = [a_priori_probs[i] * self.init_rhos[i] for i in range(self.num)]\n",
    "\n",
    "        return self.Primal() if self.problem == 'Primal' else self.Dual()\n",
    "        \n"
   ]
  },
  {
   "cell_type": "markdown",
   "metadata": {},
   "source": [
    "## 2. Examples"
   ]
  },
  {
   "cell_type": "code",
   "execution_count": 1,
   "metadata": {},
   "outputs": [],
   "source": [
    "import numpy as np\n",
    "from povm_clf import POVM_Clf_SDP"
   ]
  },
  {
   "cell_type": "markdown",
   "metadata": {},
   "source": [
    "### i) \n",
    "$\\{|0\\rangle, |1\\rangle, |+\\rangle \\}$"
   ]
  },
  {
   "cell_type": "code",
   "execution_count": 12,
   "metadata": {},
   "outputs": [],
   "source": [
    "q_list = [1/3] * 3\n",
    "states = [[1,0], [0,1], [1/np.sqrt(2), 1/np.sqrt(2)]]\n",
    "\n",
    "Primal_povm_clf = POVM_Clf_SDP(2, 3, 'Primal')\n",
    "Dual_povm_clf = POVM_Clf_SDP(2, 3, 'Dual')"
   ]
  },
  {
   "cell_type": "code",
   "execution_count": 13,
   "metadata": {},
   "outputs": [
    {
     "name": "stdout",
     "output_type": "stream",
     "text": [
      "WARN: A->p (column pointers) not strictly increasing, column 9 empty\n",
      "WARN: A->p (column pointers) not strictly increasing, column 12 empty\n",
      "WARN: A->p (column pointers) not strictly increasing, column 13 empty\n",
      "WARN: A->p (column pointers) not strictly increasing, column 16 empty\n",
      "WARN: A->p (column pointers) not strictly increasing, column 17 empty\n",
      "WARN: A->p (column pointers) not strictly increasing, column 20 empty\n",
      "Opt is Done. \n",
      "Status: optimal\n"
     ]
    },
    {
     "data": {
      "text/plain": [
       "(0.33333335771481254,\n",
       " [array([[9.99999967e-01+0.j, 4.20319375e-09+0.j],\n",
       "         [4.20319375e-09+0.j, 3.12216178e-08+0.j]]),\n",
       "  array([[3.12216167e-08+0.j, 4.20319375e-09+0.j],\n",
       "         [4.20319375e-09+0.j, 9.99999967e-01+0.j]]),\n",
       "  array([[ 2.01313528e-09+0.j, -8.45401373e-09+0.j],\n",
       "         [-8.45401373e-09+0.j,  2.01313493e-09+0.j]])])"
      ]
     },
     "execution_count": 13,
     "metadata": {},
     "output_type": "execute_result"
    }
   ],
   "source": [
    "Primal_povm_clf(states, q_list)"
   ]
  },
  {
   "cell_type": "code",
   "execution_count": 14,
   "metadata": {},
   "outputs": [
    {
     "name": "stdout",
     "output_type": "stream",
     "text": [
      "WARN: A->p (column pointers) not strictly increasing, column 3 empty\n",
      "WARN: A->p (column pointers) not strictly increasing, column 6 empty\n",
      "Opt is Done. \n",
      "Status: optimal\n"
     ]
    },
    {
     "data": {
      "text/plain": [
       "(0.33333565089559447,\n",
       " array([[3.33332175e-01+0.j, 3.72752713e-06+0.j],\n",
       "        [3.72752713e-06+0.j, 3.33332175e-01+0.j]]))"
      ]
     },
     "execution_count": 14,
     "metadata": {},
     "output_type": "execute_result"
    }
   ],
   "source": [
    "Dual_povm_clf(states, q_list)"
   ]
  },
  {
   "cell_type": "markdown",
   "metadata": {},
   "source": [
    "### ii) \n",
    "$\\{|0\\rangle,|+\\rangle\\}$"
   ]
  },
  {
   "cell_type": "code",
   "execution_count": 21,
   "metadata": {},
   "outputs": [],
   "source": [
    "q_list = [1/2] * 2\n",
    "states = [[1,0], [1/np.sqrt(2),1/np.sqrt(2)]]\n",
    "\n",
    "Primal_povm_clf = POVM_Clf_SDP(2, 2, 'Primal')\n",
    "Dual_povm_clf = POVM_Clf_SDP(2, 2, 'Dual')"
   ]
  },
  {
   "cell_type": "code",
   "execution_count": 22,
   "metadata": {},
   "outputs": [
    {
     "name": "stdout",
     "output_type": "stream",
     "text": [
      "WARN: A->p (column pointers) not strictly increasing, column 6 empty\n",
      "WARN: A->p (column pointers) not strictly increasing, column 9 empty\n",
      "WARN: A->p (column pointers) not strictly increasing, column 10 empty\n",
      "WARN: A->p (column pointers) not strictly increasing, column 13 empty\n",
      "Opt is Done. \n",
      "Status: optimal\n"
     ]
    },
    {
     "data": {
      "text/plain": [
       "(0.14644540518881366,\n",
       " [array([[ 0.85355459+0.j, -0.35355459+0.j],\n",
       "         [-0.35355459+0.j,  0.14644541+0.j]]),\n",
       "  array([[0.14644541+0.j, 0.35355459+0.j],\n",
       "         [0.35355459+0.j, 0.8535546 +0.j]])])"
      ]
     },
     "execution_count": 22,
     "metadata": {},
     "output_type": "execute_result"
    }
   ],
   "source": [
    "Primal_povm_clf(states, q_list)"
   ]
  },
  {
   "cell_type": "code",
   "execution_count": 23,
   "metadata": {},
   "outputs": [
    {
     "name": "stdout",
     "output_type": "stream",
     "text": [
      "WARN: A->p (column pointers) not strictly increasing, column 3 empty\n",
      "WARN: A->p (column pointers) not strictly increasing, column 6 empty\n",
      "Opt is Done. \n",
      "Status: optimal\n"
     ]
    },
    {
     "data": {
      "text/plain": [
       "(0.14644675787549621,\n",
       " array([[0.55177654+0.j, 0.12500008+0.j],\n",
       "        [0.12500008+0.j, 0.3017767 +0.j]]))"
      ]
     },
     "execution_count": 23,
     "metadata": {},
     "output_type": "execute_result"
    }
   ],
   "source": [
    "Dual_povm_clf(states, q_list)"
   ]
  },
  {
   "cell_type": "markdown",
   "metadata": {},
   "source": [
    "### ii)' \n",
    "$\\{|0\\rangle,|+i\\rangle\\}$"
   ]
  },
  {
   "cell_type": "code",
   "execution_count": 2,
   "metadata": {},
   "outputs": [],
   "source": [
    "q_list = [1/2] * 2\n",
    "states = [[1,0], [1/np.sqrt(2),1j/np.sqrt(2)]]\n",
    "\n",
    "Primal_povm_clf = POVM_Clf_SDP(2, 2, 'Primal')\n",
    "Dual_povm_clf = POVM_Clf_SDP(2, 2, 'Dual')"
   ]
  },
  {
   "cell_type": "code",
   "execution_count": 3,
   "metadata": {},
   "outputs": [
    {
     "name": "stdout",
     "output_type": "stream",
     "text": [
      "WARN: A->p (column pointers) not strictly increasing, column 6 empty\n",
      "WARN: A->p (column pointers) not strictly increasing, column 9 empty\n",
      "WARN: A->p (column pointers) not strictly increasing, column 10 empty\n",
      "WARN: A->p (column pointers) not strictly increasing, column 13 empty\n",
      "Opt is Done. \n",
      "Status: optimal\n"
     ]
    },
    {
     "data": {
      "text/plain": [
       "(0.14644531701461339,\n",
       " [array([[8.53554682e-01+0.j        , 7.78596098e-17+0.35355468j],\n",
       "         [7.78596098e-17-0.35355468j, 1.46445322e-01+0.j        ]]),\n",
       "  array([[ 1.46445324e-01+0.j        , -7.83894222e-17-0.35355468j],\n",
       "         [-7.83894222e-17+0.35355468j,  8.53554684e-01+0.j        ]])])"
      ]
     },
     "execution_count": 3,
     "metadata": {},
     "output_type": "execute_result"
    }
   ],
   "source": [
    "Primal_povm_clf(states, q_list)"
   ]
  },
  {
   "cell_type": "code",
   "execution_count": 4,
   "metadata": {},
   "outputs": [
    {
     "name": "stdout",
     "output_type": "stream",
     "text": [
      "WARN: A->p (column pointers) not strictly increasing, column 3 empty\n",
      "WARN: A->p (column pointers) not strictly increasing, column 6 empty\n",
      "Opt is Done. \n",
      "Status: optimal\n"
     ]
    },
    {
     "data": {
      "text/plain": [
       "(0.14644677966789488,\n",
       " array([[ 5.51776307e-01+0.j       , -8.77001689e-18-0.1250003j],\n",
       "        [-8.77001689e-18+0.1250003j,  3.01776913e-01+0.j       ]]))"
      ]
     },
     "execution_count": 4,
     "metadata": {},
     "output_type": "execute_result"
    }
   ],
   "source": [
    "Dual_povm_clf(states, q_list)"
   ]
  },
  {
   "cell_type": "markdown",
   "metadata": {},
   "source": [
    "### iii) \n",
    "$\\{(|0\\rangle+|1\\rangle)/\\sqrt{2},\\}$"
   ]
  },
  {
   "cell_type": "code",
   "execution_count": 2,
   "metadata": {},
   "outputs": [],
   "source": [
    "q_list = [1/3] * 3\n",
    "states = [[1/np.sqrt(2), np.exp(1j*2*np.pi/3)/np.sqrt(2)], [1/np.sqrt(2), 1/np.sqrt(2)], [1/np.sqrt(2), np.exp(-1j*2*np.pi/3)/np.sqrt(2)]]\n",
    "\n",
    "Primal_povm_clf = POVM_Clf_SDP(2, 3, 'Primal')\n",
    "Dual_povm_clf = POVM_Clf_SDP(2, 3, 'Dual')"
   ]
  },
  {
   "cell_type": "code",
   "execution_count": 3,
   "metadata": {},
   "outputs": [
    {
     "name": "stdout",
     "output_type": "stream",
     "text": [
      "Opt is Done. \n",
      "Status: optimal\n"
     ]
    },
    {
     "data": {
      "text/plain": [
       "(0.33333235460073685,\n",
       " [array([[ 0.33333333+0.j        , -0.16666716-0.28867598j],\n",
       "         [-0.16666716+0.28867598j,  0.33333333+0.j        ]]),\n",
       "  array([[0.33333333+0.00000000e+00j, 0.33333431-1.01176007e-16j],\n",
       "         [0.33333431+1.01176007e-16j, 0.33333333+0.00000000e+00j]]),\n",
       "  array([[ 0.33333333+0.j        , -0.16666716+0.28867598j],\n",
       "         [-0.16666716-0.28867598j,  0.33333333+0.j        ]])])"
      ]
     },
     "execution_count": 3,
     "metadata": {},
     "output_type": "execute_result"
    }
   ],
   "source": [
    "Primal_povm_clf(states, q_list)"
   ]
  },
  {
   "cell_type": "code",
   "execution_count": 4,
   "metadata": {},
   "outputs": [
    {
     "name": "stdout",
     "output_type": "stream",
     "text": [
      "Opt is Done. \n",
      "Status: optimal\n"
     ]
    },
    {
     "data": {
      "text/plain": [
       "(0.3333333135926595,\n",
       " array([[ 3.33333343e-01+0.00000000e+00j, -1.48335316e-16-8.17623199e-16j],\n",
       "        [-1.48335316e-16+8.17623199e-16j,  3.33333343e-01+0.00000000e+00j]]))"
      ]
     },
     "execution_count": 4,
     "metadata": {},
     "output_type": "execute_result"
    }
   ],
   "source": [
    "Dual_povm_clf(states, q_list)"
   ]
  },
  {
   "cell_type": "markdown",
   "metadata": {},
   "source": [
    "### iv)\n",
    "$\\{|00\\rangle, |0+\\rangle, |+0\\rangle, |++\\rangle \\}$"
   ]
  },
  {
   "cell_type": "code",
   "execution_count": 9,
   "metadata": {},
   "outputs": [],
   "source": [
    "states = [[1,0,0,0], [1/np.sqrt(2),0,1/np.sqrt(2),0], [1/np.sqrt(2),1/np.sqrt(2),0,0],[1/2,1/2,1/2,1/2]]\n",
    "q_list = [1/len(states)] * len(states)\n",
    "\n",
    "Primal_povm_clf = POVM_Clf_SDP(4, 4, 'Primal')\n",
    "Dual_povm_clf = POVM_Clf_SDP(4, 4, 'Dual')"
   ]
  },
  {
   "cell_type": "code",
   "execution_count": 10,
   "metadata": {},
   "outputs": [
    {
     "name": "stdout",
     "output_type": "stream",
     "text": [
      "WARN: A->p (column pointers) not strictly increasing, column 40 empty\n",
      "WARN: A->p (column pointers) not strictly increasing, column 45 empty\n",
      "WARN: A->p (column pointers) not strictly increasing, column 50 empty\n",
      "WARN: A->p (column pointers) not strictly increasing, column 55 empty\n",
      "WARN: A->p (column pointers) not strictly increasing, column 56 empty\n",
      "WARN: A->p (column pointers) not strictly increasing, column 61 empty\n",
      "WARN: A->p (column pointers) not strictly increasing, column 66 empty\n",
      "WARN: A->p (column pointers) not strictly increasing, column 71 empty\n",
      "WARN: A->p (column pointers) not strictly increasing, column 72 empty\n",
      "WARN: A->p (column pointers) not strictly increasing, column 77 empty\n",
      "WARN: A->p (column pointers) not strictly increasing, column 82 empty\n",
      "WARN: A->p (column pointers) not strictly increasing, column 87 empty\n",
      "WARN: A->p (column pointers) not strictly increasing, column 88 empty\n",
      "WARN: A->p (column pointers) not strictly increasing, column 93 empty\n",
      "WARN: A->p (column pointers) not strictly increasing, column 98 empty\n",
      "WARN: A->p (column pointers) not strictly increasing, column 103 empty\n",
      "Opt is Done. \n",
      "Status: optimal\n"
     ]
    },
    {
     "data": {
      "text/plain": [
       "(0.2714502647128738,\n",
       " [array([[ 0.72854973+0.j, -0.30177432+0.j, -0.30177432+0.j,\n",
       "           0.12499887+0.j],\n",
       "         [-0.30177432+0.j,  0.12500089+0.j,  0.12499895+0.j,\n",
       "          -0.05177631+0.j],\n",
       "         [-0.30177432+0.j,  0.12499895+0.j,  0.12500089+0.j,\n",
       "          -0.05177631+0.j],\n",
       "         [ 0.12499887+0.j, -0.05177631+0.j, -0.05177631+0.j,\n",
       "           0.02144847+0.j]]),\n",
       "  array([[ 0.12500099+0.j, -0.05177641+0.j,  0.30177442+0.j,\n",
       "          -0.12499897+0.j],\n",
       "         [-0.05177641+0.j,  0.02144837+0.j, -0.12499905+0.j,\n",
       "           0.05177621+0.j],\n",
       "         [ 0.30177442+0.j, -0.12499905+0.j,  0.72854964+0.j,\n",
       "          -0.30177423+0.j],\n",
       "         [-0.12499897+0.j,  0.05177621+0.j, -0.30177423+0.j,\n",
       "           0.12500099+0.j]]),\n",
       "  array([[ 0.12500099+0.j,  0.30177442+0.j, -0.05177641+0.j,\n",
       "          -0.12499897+0.j],\n",
       "         [ 0.30177442+0.j,  0.72854964+0.j, -0.12499905+0.j,\n",
       "          -0.30177423+0.j],\n",
       "         [-0.05177641+0.j, -0.12499905+0.j,  0.02144837+0.j,\n",
       "           0.05177621+0.j],\n",
       "         [-0.12499897+0.j, -0.30177423+0.j,  0.05177621+0.j,\n",
       "           0.12500099+0.j]]),\n",
       "  array([[0.02144828+0.j, 0.05177631+0.j, 0.05177631+0.j, 0.12499906+0.j],\n",
       "         [0.05177631+0.j, 0.12500109+0.j, 0.12499914+0.j, 0.30177433+0.j],\n",
       "         [0.05177631+0.j, 0.12499914+0.j, 0.12500109+0.j, 0.30177433+0.j],\n",
       "         [0.12499906+0.j, 0.30177433+0.j, 0.30177433+0.j, 0.72854955+0.j]])])"
      ]
     },
     "execution_count": 10,
     "metadata": {},
     "output_type": "execute_result"
    }
   ],
   "source": [
    "Primal_povm_clf(states, q_list)"
   ]
  },
  {
   "cell_type": "code",
   "execution_count": 11,
   "metadata": {},
   "outputs": [
    {
     "name": "stdout",
     "output_type": "stream",
     "text": [
      "WARN: A->p (column pointers) not strictly increasing, column 10 empty\n",
      "WARN: A->p (column pointers) not strictly increasing, column 15 empty\n",
      "WARN: A->p (column pointers) not strictly increasing, column 20 empty\n",
      "WARN: A->p (column pointers) not strictly increasing, column 25 empty\n",
      "Opt is Done. \n",
      "Status: optimal\n"
     ]
    },
    {
     "data": {
      "text/plain": [
       "(0.27143939486234003,\n",
       " array([[0.30445934+0.j, 0.06897205+0.j, 0.06897205+0.j, 0.0156249 +0.j],\n",
       "        [0.06897205+0.j, 0.16651517+0.j, 0.01562491+0.j, 0.03772215+0.j],\n",
       "        [0.06897205+0.j, 0.01562491+0.j, 0.16651517+0.j, 0.03772215+0.j],\n",
       "        [0.0156249 +0.j, 0.03772215+0.j, 0.03772215+0.j, 0.09107093+0.j]]))"
      ]
     },
     "execution_count": 11,
     "metadata": {},
     "output_type": "execute_result"
    }
   ],
   "source": [
    "Dual_povm_clf(states, q_list)"
   ]
  },
  {
   "cell_type": "markdown",
   "metadata": {},
   "source": [
    "### v)\n",
    "$\\{|00\\rangle+|11\\rangle, |00\\rangle-|11\\rangle, |01\\rangle+|10\\rangle, |01\\rangle-|10\\rangle \\}$"
   ]
  },
  {
   "cell_type": "code",
   "execution_count": 12,
   "metadata": {},
   "outputs": [],
   "source": [
    "states = [[1/np.sqrt(2),0,0,1/np.sqrt(2)], [1/np.sqrt(2),0,0,-1/np.sqrt(2)], [0,1/np.sqrt(2),1/np.sqrt(2),0], [0,1/np.sqrt(2),-1/np.sqrt(2),0]]\n",
    "q_list = [1/len(states)] * len(states)\n",
    "\n",
    "Primal_povm_clf = POVM_Clf_SDP(4, 4, 'Primal')\n",
    "Dual_povm_clf = POVM_Clf_SDP(4, 4, 'Dual')"
   ]
  },
  {
   "cell_type": "code",
   "execution_count": 13,
   "metadata": {},
   "outputs": [
    {
     "name": "stdout",
     "output_type": "stream",
     "text": [
      "WARN: A->p (column pointers) not strictly increasing, column 40 empty\n",
      "WARN: A->p (column pointers) not strictly increasing, column 45 empty\n",
      "WARN: A->p (column pointers) not strictly increasing, column 50 empty\n",
      "WARN: A->p (column pointers) not strictly increasing, column 55 empty\n",
      "WARN: A->p (column pointers) not strictly increasing, column 56 empty\n",
      "WARN: A->p (column pointers) not strictly increasing, column 61 empty\n",
      "WARN: A->p (column pointers) not strictly increasing, column 66 empty\n",
      "WARN: A->p (column pointers) not strictly increasing, column 71 empty\n",
      "WARN: A->p (column pointers) not strictly increasing, column 72 empty\n",
      "WARN: A->p (column pointers) not strictly increasing, column 77 empty\n",
      "WARN: A->p (column pointers) not strictly increasing, column 82 empty\n",
      "WARN: A->p (column pointers) not strictly increasing, column 87 empty\n",
      "WARN: A->p (column pointers) not strictly increasing, column 88 empty\n",
      "WARN: A->p (column pointers) not strictly increasing, column 93 empty\n",
      "WARN: A->p (column pointers) not strictly increasing, column 98 empty\n",
      "WARN: A->p (column pointers) not strictly increasing, column 103 empty\n",
      "Opt is Done. \n",
      "Status: optimal\n"
     ]
    },
    {
     "data": {
      "text/plain": [
       "(-4.66527661635574e-06,\n",
       " [array([[ 5.00001556e-01+0.j, -1.11076643e-16+0.j,  7.28368844e-18+0.j,\n",
       "           5.00003109e-01+0.j],\n",
       "         [-1.11076643e-16+0.j, -1.55323986e-06+0.j, -1.27319474e-16+0.j,\n",
       "          -7.62671749e-17+0.j],\n",
       "         [ 7.28368844e-18+0.j, -1.27319474e-16+0.j, -1.55323986e-06+0.j,\n",
       "          -3.79206088e-18+0.j],\n",
       "         [ 5.00003109e-01+0.j, -7.62671749e-17+0.j, -3.79206088e-18+0.j,\n",
       "           5.00001556e-01+0.j]]),\n",
       "  array([[ 5.00001556e-01+0.j,  9.16093206e-17+0.j, -8.37054227e-18+0.j,\n",
       "          -5.00003109e-01+0.j],\n",
       "         [ 9.16093206e-17+0.j, -1.55323986e-06+0.j, -1.27319474e-16+0.j,\n",
       "          -2.20440503e-17+0.j],\n",
       "         [-8.37054227e-18+0.j, -1.27319474e-16+0.j, -1.55323987e-06+0.j,\n",
       "          -3.27044501e-18+0.j],\n",
       "         [-5.00003109e-01+0.j, -2.20440503e-17+0.j, -3.27044501e-18+0.j,\n",
       "           5.00001556e-01+0.j]]),\n",
       "  array([[-1.55323986e-06+0.j,  1.05403593e-17+0.j, -7.12016063e-18+0.j,\n",
       "           1.34876379e-16+0.j],\n",
       "         [ 1.05403593e-17+0.j,  5.00001556e-01+0.j,  5.00003109e-01+0.j,\n",
       "           6.39990033e-17+0.j],\n",
       "         [-7.12016063e-18+0.j,  5.00003109e-01+0.j,  5.00001556e-01+0.j,\n",
       "           4.53265598e-19+0.j],\n",
       "         [ 1.34876379e-16+0.j,  6.39990033e-17+0.j,  4.53265598e-19+0.j,\n",
       "          -1.55323986e-06+0.j]]),\n",
       "  array([[-1.55323986e-06+0.j,  8.88762916e-18+0.j,  8.20765280e-18+0.j,\n",
       "           1.34876379e-16+0.j],\n",
       "         [ 8.88762916e-18+0.j,  5.00001556e-01+0.j, -5.00003109e-01+0.j,\n",
       "           3.41940604e-17+0.j],\n",
       "         [ 8.20765280e-18+0.j, -5.00003109e-01+0.j,  5.00001556e-01+0.j,\n",
       "           6.63494073e-18+0.j],\n",
       "         [ 1.34876379e-16+0.j,  3.41940604e-17+0.j,  6.63494073e-18+0.j,\n",
       "          -1.55323986e-06+0.j]])])"
      ]
     },
     "execution_count": 13,
     "metadata": {},
     "output_type": "execute_result"
    }
   ],
   "source": [
    "Primal_povm_clf(states, q_list)"
   ]
  },
  {
   "cell_type": "code",
   "execution_count": 14,
   "metadata": {},
   "outputs": [
    {
     "name": "stdout",
     "output_type": "stream",
     "text": [
      "WARN: A->p (column pointers) not strictly increasing, column 10 empty\n",
      "WARN: A->p (column pointers) not strictly increasing, column 15 empty\n",
      "WARN: A->p (column pointers) not strictly increasing, column 20 empty\n",
      "WARN: A->p (column pointers) not strictly increasing, column 25 empty\n",
      "Opt is Done. \n",
      "Status: optimal\n"
     ]
    },
    {
     "data": {
      "text/plain": [
       "(4.478725195045108e-06,\n",
       " array([[ 2.49998880e-01+0.j,  2.48115733e-16+0.j,  1.06557146e-16+0.j,\n",
       "         -5.92755312e-16+0.j],\n",
       "        [ 2.48115733e-16+0.j,  2.49998880e-01+0.j, -6.65103565e-16+0.j,\n",
       "         -8.09537819e-16+0.j],\n",
       "        [ 1.06557146e-16+0.j, -6.65103565e-16+0.j,  2.49998880e-01+0.j,\n",
       "          2.76576339e-16+0.j],\n",
       "        [-5.92755312e-16+0.j, -8.09537819e-16+0.j,  2.76576339e-16+0.j,\n",
       "          2.49998880e-01+0.j]]))"
      ]
     },
     "execution_count": 14,
     "metadata": {},
     "output_type": "execute_result"
    }
   ],
   "source": [
    "Dual_povm_clf(states, q_list)"
   ]
  },
  {
   "cell_type": "markdown",
   "metadata": {},
   "source": [
    "### vi)\n",
    "$\\{|00\\rangle+|11\\rangle, |01\\rangle+|10\\rangle, |00\\rangle, |++\\rangle \\}$"
   ]
  },
  {
   "cell_type": "code",
   "execution_count": 13,
   "metadata": {},
   "outputs": [],
   "source": [
    "states = [[1/np.sqrt(2),0,0,1/np.sqrt(2)], [0,1/np.sqrt(2),1/np.sqrt(2),0], [1,0,0,0], [1/2,1/2,1/2,1/2]]\n",
    "q_list = [1/len(states)] * len(states)\n",
    "\n",
    "Primal_povm_clf = POVM_Clf_SDP(4, 4, 'Primal')\n",
    "Dual_povm_clf = POVM_Clf_SDP(4, 4, 'Dual')"
   ]
  },
  {
   "cell_type": "code",
   "execution_count": 14,
   "metadata": {},
   "outputs": [
    {
     "name": "stdout",
     "output_type": "stream",
     "text": [
      "WARN: A->p (column pointers) not strictly increasing, column 40 empty\n",
      "WARN: A->p (column pointers) not strictly increasing, column 45 empty\n",
      "WARN: A->p (column pointers) not strictly increasing, column 50 empty\n",
      "WARN: A->p (column pointers) not strictly increasing, column 55 empty\n",
      "WARN: A->p (column pointers) not strictly increasing, column 56 empty\n",
      "WARN: A->p (column pointers) not strictly increasing, column 61 empty\n",
      "WARN: A->p (column pointers) not strictly increasing, column 66 empty\n",
      "WARN: A->p (column pointers) not strictly increasing, column 71 empty\n",
      "WARN: A->p (column pointers) not strictly increasing, column 72 empty\n",
      "WARN: A->p (column pointers) not strictly increasing, column 77 empty\n",
      "WARN: A->p (column pointers) not strictly increasing, column 82 empty\n",
      "WARN: A->p (column pointers) not strictly increasing, column 87 empty\n",
      "WARN: A->p (column pointers) not strictly increasing, column 88 empty\n",
      "WARN: A->p (column pointers) not strictly increasing, column 93 empty\n",
      "WARN: A->p (column pointers) not strictly increasing, column 98 empty\n",
      "WARN: A->p (column pointers) not strictly increasing, column 103 empty\n",
      "Opt is Done. \n",
      "Status: optimal\n"
     ]
    }
   ],
   "source": [
    "med_val, E_opt = Primal_povm_clf(states, q_list)"
   ]
  },
  {
   "cell_type": "code",
   "execution_count": 15,
   "metadata": {},
   "outputs": [
    {
     "name": "stdout",
     "output_type": "stream",
     "text": [
      "WARN: A->p (column pointers) not strictly increasing, column 10 empty\n",
      "WARN: A->p (column pointers) not strictly increasing, column 15 empty\n",
      "WARN: A->p (column pointers) not strictly increasing, column 20 empty\n",
      "WARN: A->p (column pointers) not strictly increasing, column 25 empty\n",
      "Opt is Done. \n",
      "Status: optimal\n"
     ]
    },
    {
     "data": {
      "text/plain": [
       "(0.3232354240828901,\n",
       " array([[2.75887733e-01+0.j, 9.43428758e-06+0.j, 9.43428758e-06+0.j,\n",
       "         6.24974130e-02+0.j],\n",
       "        [9.43428758e-06+0.j, 1.24997153e-01+0.j, 1.24997039e-01+0.j,\n",
       "         1.14830793e-05+0.j],\n",
       "        [9.43428758e-06+0.j, 1.24997039e-01+0.j, 1.24997153e-01+0.j,\n",
       "         1.14830793e-05+0.j],\n",
       "        [6.24974130e-02+0.j, 1.14830793e-05+0.j, 1.14830793e-05+0.j,\n",
       "         1.50882538e-01+0.j]]))"
      ]
     },
     "execution_count": 15,
     "metadata": {},
     "output_type": "execute_result"
    }
   ],
   "source": [
    "Dual_povm_clf(states, q_list)"
   ]
  },
  {
   "cell_type": "code",
   "execution_count": null,
   "metadata": {},
   "outputs": [],
   "source": []
  },
  {
   "cell_type": "markdown",
   "metadata": {},
   "source": []
  }
 ],
 "metadata": {
  "interpreter": {
   "hash": "a591381579ab00205ce6e83ec5435f2258960c76c60d65fb3b7119045e85cbf7"
  },
  "kernelspec": {
   "display_name": "Python 3.10.2 ('nisq')",
   "language": "python",
   "name": "python3"
  },
  "language_info": {
   "codemirror_mode": {
    "name": "ipython",
    "version": 3
   },
   "file_extension": ".py",
   "mimetype": "text/x-python",
   "name": "python",
   "nbconvert_exporter": "python",
   "pygments_lexer": "ipython3",
   "version": "3.9.10"
  },
  "orig_nbformat": 4
 },
 "nbformat": 4,
 "nbformat_minor": 2
}

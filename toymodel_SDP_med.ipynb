{
 "cells": [
  {
   "cell_type": "code",
   "execution_count": 1,
   "id": "248fcb3d",
   "metadata": {},
   "outputs": [],
   "source": [
    "import cvxpy as cp    ## To install cvxpy, https://www.cvxpy.org/install/index.html\n",
    "import numpy as np\n",
    "\n",
    "from scipy.linalg import sqrtm"
   ]
  },
  {
   "cell_type": "markdown",
   "id": "e61e7133",
   "metadata": {},
   "source": [
    "## 1. State Preparation"
   ]
  },
  {
   "cell_type": "markdown",
   "id": "83c38934",
   "metadata": {},
   "source": [
    "$$\n",
    "q_0 = 1/3, |\\psi_0\\rangle = |0\\rangle\\\\\n",
    "q_1 = 1/3, |\\psi_1\\rangle = |1\\rangle\\\\\n",
    "q_2 = 1/3, |\\psi_2\\rangle = |+\\rangle\n",
    "$$"
   ]
  },
  {
   "cell_type": "code",
   "execution_count": 2,
   "id": "54dda778",
   "metadata": {},
   "outputs": [],
   "source": [
    "q_list = [1/3] * 3\n",
    "rho_0 = np.array([[1,0],[0,0]])\n",
    "rho_1 = np.array([[0,0],[0,1]])\n",
    "rho_2 = np.array([[1/2,1/2],[1/2,1/2]])\n",
    "rho_list = [rho_0, rho_1,rho_2]"
   ]
  },
  {
   "cell_type": "markdown",
   "id": "ce2b11a6",
   "metadata": {},
   "source": [
    "## 2. Semi-Definite Programming for MED"
   ]
  },
  {
   "cell_type": "markdown",
   "id": "8ccdbfa8",
   "metadata": {},
   "source": [
    "### Primal Problem"
   ]
  },
  {
   "cell_type": "markdown",
   "id": "9311cbb8",
   "metadata": {},
   "source": [
    "$$\n",
    "\\max \\sum_{i=0}^{l-1}q_i\\text{Tr}[E_i\\rho_i]\\\\\n",
    "\\text{Subject to } E_i \\ge 0, \\forall i=1,\\cdots, l \\\\\n",
    "\\sum^{l-1}_{i=0}E_i=I\n",
    "$$"
   ]
  },
  {
   "cell_type": "code",
   "execution_count": 10,
   "id": "5ea2eb30",
   "metadata": {},
   "outputs": [
    {
     "name": "stdout",
     "output_type": "stream",
     "text": [
      "WARN: A->p (column pointers) not strictly increasing, column 9 empty\n",
      "WARN: A->p (column pointers) not strictly increasing, column 12 empty\n",
      "WARN: A->p (column pointers) not strictly increasing, column 13 empty\n",
      "WARN: A->p (column pointers) not strictly increasing, column 16 empty\n",
      "WARN: A->p (column pointers) not strictly increasing, column 17 empty\n",
      "WARN: A->p (column pointers) not strictly increasing, column 20 empty\n",
      "status: optimal\n",
      "optimal value 0.666666642285187\n",
      "A solution E is\n",
      "E_0 = [[9.99999967e-01+0.j 4.20319381e-09+0.j]\n",
      " [4.20319381e-09+0.j 3.12216184e-08+0.j]]\n",
      "E_1 = [[3.12216155e-08+0.j 4.20319381e-09+0.j]\n",
      " [4.20319381e-09+0.j 9.99999967e-01+0.j]]\n",
      "E_2 = [[ 2.01313661e-09+0.j -8.45401352e-09+0.j]\n",
      " [-8.45401352e-09+0.j  2.01313383e-09+0.j]]\n"
     ]
    }
   ],
   "source": [
    "# Create l 2x2 matrix variables\n",
    "E = [cp.Variable((2,2), hermitian=True) for x in range(3)]\n",
    "\n",
    "# Create constraints\n",
    "constraints = [E[0] + E[1] + E[2] == np.eye(2)]\n",
    "constraints += [\n",
    "    E[i] >> 0 for i in range(3)\n",
    "]\n",
    "\n",
    "# Form objective.\n",
    "q_rho = [q_list[i] * rho_list[i] for i in range(3)]\n",
    "obj = cp.real(cp.trace(E[0] @ q_rho[0]) + cp.trace(E[1] @ q_rho[1]) + cp.trace(E[2] @ q_rho[2]))\n",
    "\n",
    "prob = cp.Problem(cp.Maximize(obj), constraints)\n",
    "prob.solve()\n",
    "\n",
    "print(\"status:\", prob.status)\n",
    "print(\"optimal value\", prob.value)\n",
    "print(\"A solution E is\")\n",
    "for i in range(3):\n",
    "    print(\"E_\"+str(i)+\" =\", E[i].value)\n"
   ]
  },
  {
   "cell_type": "markdown",
   "id": "c299709b",
   "metadata": {},
   "source": [
    "### Dual Problem"
   ]
  },
  {
   "cell_type": "markdown",
   "id": "9311cbb8",
   "metadata": {},
   "source": [
    "$$\n",
    "\\min_{K} \\text{Tr}[K]\\\\\n",
    "\\text{Subject to } K - q_i\\rho_i \\ge 0, \\forall i=1,\\cdots, l\n",
    "$$"
   ]
  },
  {
   "cell_type": "code",
   "execution_count": 5,
   "id": "f7ac89d8",
   "metadata": {},
   "outputs": [
    {
     "name": "stdout",
     "output_type": "stream",
     "text": [
      "WARN: A->p (column pointers) not strictly increasing, column 3 empty\n",
      "WARN: A->p (column pointers) not strictly increasing, column 6 empty\n",
      "status: optimal\n",
      "optimal value 0.6666643166227835\n",
      "A solution K is\n",
      "[[3.33332158e-01+0.j 3.77977106e-06+0.j]\n",
      " [3.77977106e-06+0.j 3.33332158e-01+0.j]]\n"
     ]
    }
   ],
   "source": [
    "K = cp.Variable((2,2), hermitian=True)\n",
    "constraints = [K - q_rho[i] >> 0 for i in range(3)]\n",
    "prob = cp.Problem(cp.Minimize(cp.real(cp.trace(K))), constraints)\n",
    "prob.solve()\n",
    "print(\"status:\", prob.status)\n",
    "print(\"optimal value\", prob.value)\n",
    "print(\"A solution K is\")\n",
    "print(K.value)"
   ]
  },
  {
   "cell_type": "markdown",
   "id": "fd332da0",
   "metadata": {},
   "source": [
    "## 3. Pretty Good Measurement"
   ]
  },
  {
   "cell_type": "markdown",
   "id": "fbf9bf0e",
   "metadata": {},
   "source": [
    "$$\n",
    "\\Pi_i = q_i \\rho^{-1/2} \\rho_i \\rho^{-1/2} \\text{, where } \\rho = \\sum_i q_i\\rho_i\n",
    "$$"
   ]
  },
  {
   "cell_type": "markdown",
   "id": "4f6b4e9e",
   "metadata": {},
   "source": [
    "In this example, $\\rho = \\frac{1}{3}\\left(|0\\rangle\\langle 0| + |1\\rangle\\langle 1| + |+\\rangle\\langle +| \\right)$. By the spectral decomposition,\n",
    "$$\n",
    "\\rho = \\begin{pmatrix}\n",
    "\\frac{1}{\\sqrt{2}} & \\frac{1}{\\sqrt{2}} \\\\ \n",
    "\\frac{1}{\\sqrt{2}} & -\\frac{1}{\\sqrt{2}}\n",
    "\\end{pmatrix}\n",
    "\\begin{pmatrix}\n",
    "\\frac{2}{3} & 0 \\\\ \n",
    "0 & \\frac{1}{3}\n",
    "\\end{pmatrix}\n",
    "\\begin{pmatrix}\n",
    "\\frac{1}{\\sqrt{2}} & \\frac{1}{\\sqrt{2}} \\\\ \n",
    "\\frac{1}{\\sqrt{2}} & -\\frac{1}{\\sqrt{2}}\n",
    "\\end{pmatrix}\n",
    "$$"
   ]
  },
  {
   "cell_type": "code",
   "execution_count": 18,
   "id": "6de02093",
   "metadata": {},
   "outputs": [
    {
     "data": {
      "text/plain": [
       "array([[0.5       , 0.16666667],\n",
       "       [0.16666667, 0.5       ]])"
      ]
     },
     "execution_count": 18,
     "metadata": {},
     "output_type": "execute_result"
    }
   ],
   "source": [
    "rho_cvsum = np.array([[1/2,1/6],[1/6,1/2]])\n",
    "rho_cvsum"
   ]
  },
  {
   "cell_type": "markdown",
   "id": "40bbfd15",
   "metadata": {},
   "source": [
    "$$\n",
    "\\rho^{1/2} = \\begin{pmatrix}\n",
    "\\frac{1}{\\sqrt{2}} & \\frac{1}{\\sqrt{2}} \\\\ \n",
    "\\frac{1}{\\sqrt{2}} & -\\frac{1}{\\sqrt{2}}\n",
    "\\end{pmatrix}\n",
    "\\begin{pmatrix}\n",
    "\\sqrt{\\frac{2}{3}} & 0 \\\\ \n",
    "0 & \\sqrt{\\frac{1}{3}}\n",
    "\\end{pmatrix}\n",
    "\\begin{pmatrix}\n",
    "\\frac{1}{\\sqrt{2}} & \\frac{1}{\\sqrt{2}} \\\\ \n",
    "\\frac{1}{\\sqrt{2}} & -\\frac{1}{\\sqrt{2}}\n",
    "\\end{pmatrix}\n",
    "=\n",
    "\\frac{1}{2\\sqrt{3}}\n",
    "\\begin{pmatrix}\n",
    "\\sqrt{2} + 1 & \\sqrt{2} - 1 \\\\ \n",
    "\\sqrt{2} - 1 & \\sqrt{2} + 1\n",
    "\\end{pmatrix}\n",
    "$$"
   ]
  },
  {
   "cell_type": "code",
   "execution_count": 24,
   "id": "a43d4c51",
   "metadata": {},
   "outputs": [
    {
     "data": {
      "text/plain": [
       "array([[0.69692343, 0.11957316],\n",
       "       [0.11957316, 0.69692343]])"
      ]
     },
     "execution_count": 24,
     "metadata": {},
     "output_type": "execute_result"
    }
   ],
   "source": [
    "sqrt_rho = sqrtm(rho_cvsum)\n",
    "sqrt_rho"
   ]
  },
  {
   "cell_type": "markdown",
   "id": "fc02a91e",
   "metadata": {},
   "source": [
    "$$\n",
    "\\rho^{-1/2} = \\frac{1}{\\det \\rho^{1/2}}\n",
    "\\frac{1}{2\\sqrt{3}}\n",
    "\\begin{pmatrix}\n",
    "\\sqrt{2} + 1 & 1 - \\sqrt{2}  \\\\ \n",
    "1 - \\sqrt{2} & \\sqrt{2} + 1\n",
    "\\end{pmatrix}\n",
    "$$"
   ]
  },
  {
   "cell_type": "code",
   "execution_count": 25,
   "id": "249f7c3f",
   "metadata": {},
   "outputs": [
    {
     "data": {
      "text/plain": [
       "array([[ 1.47839784, -0.25365297],\n",
       "       [-0.25365297,  1.47839784]])"
      ]
     },
     "execution_count": 25,
     "metadata": {},
     "output_type": "execute_result"
    }
   ],
   "source": [
    "inv_sqrt_rho = np.linalg.inv(sqrt_rho)\n",
    "inv_sqrt_rho"
   ]
  },
  {
   "cell_type": "markdown",
   "id": "642e50c4",
   "metadata": {},
   "source": [
    "$$\n",
    "\\Pi_i = q_i \\rho^{-1/2} \\rho_i \\rho^{-1/2}\n",
    "$$"
   ]
  },
  {
   "cell_type": "code",
   "execution_count": 33,
   "id": "0b5913a4",
   "metadata": {},
   "outputs": [],
   "source": [
    "def pgm(q_list, rho_list):\n",
    "    l = len(q_list)\n",
    "    rho_cvsum = np.sum([q_list[i] * rho_list[i] for i in range(l)], axis=0)\n",
    "\n",
    "    sqrt_rho = sqrtm(rho_cvsum)\n",
    "    inv_sqrt_rho = np.linalg.inv(sqrt_rho)\n",
    "\n",
    "    pgm_list = [q_list[i] * np.dot(np.dot(inv_sqrt_rho, rho_list[i]), inv_sqrt_rho) for i in range(l)]\n",
    "    return pgm_list"
   ]
  },
  {
   "cell_type": "code",
   "execution_count": 42,
   "id": "ab37e6b6",
   "metadata": {},
   "outputs": [
    {
     "data": {
      "text/plain": [
       "[array([[ 0.72855339, -0.125     ],\n",
       "        [-0.125     ,  0.02144661]]),\n",
       " array([[ 0.02144661, -0.125     ],\n",
       "        [-0.125     ,  0.72855339]]),\n",
       " array([[0.25, 0.25],\n",
       "        [0.25, 0.25]])]"
      ]
     },
     "execution_count": 42,
     "metadata": {},
     "output_type": "execute_result"
    }
   ],
   "source": [
    "pgm_list = pgm(q_list, rho_list)\n",
    "pgm_list"
   ]
  },
  {
   "cell_type": "markdown",
   "id": "7fad19de",
   "metadata": {},
   "source": [
    "$$\n",
    "p_{i|i} = \\text{Tr}[\\Pi_i\\rho_i]\n",
    "$$"
   ]
  },
  {
   "cell_type": "code",
   "execution_count": 51,
   "id": "8571ffd4",
   "metadata": {},
   "outputs": [
    {
     "data": {
      "text/plain": [
       "[0.7285533905932741, 0.7285533905932741, 0.5000000000000002]"
      ]
     },
     "execution_count": 51,
     "metadata": {},
     "output_type": "execute_result"
    }
   ],
   "source": [
    "prob_list = [np.trace(np.dot(pgm_list[i], rho_list[i])) for i in range(3)]\n",
    "prob_list"
   ]
  },
  {
   "cell_type": "markdown",
   "id": "8e2f1068",
   "metadata": {},
   "source": [
    "$$\n",
    "p_{error} = 1 - \\sum_i q_ip_{i|i}\n",
    "$$"
   ]
  },
  {
   "cell_type": "code",
   "execution_count": 50,
   "id": "23a727cf",
   "metadata": {},
   "outputs": [
    {
     "data": {
      "text/plain": [
       "0.34763107293781725"
      ]
     },
     "execution_count": 50,
     "metadata": {},
     "output_type": "execute_result"
    }
   ],
   "source": [
    "error_prob = 1 - np.sum([q_list[i] * prob_list[i] for i in range(3)])\n",
    "error_prob"
   ]
  }
 ],
 "metadata": {
  "kernelspec": {
   "display_name": "Python 3 (ipykernel)",
   "language": "python",
   "name": "python3"
  },
  "language_info": {
   "codemirror_mode": {
    "name": "ipython",
    "version": 3
   },
   "file_extension": ".py",
   "mimetype": "text/x-python",
   "name": "python",
   "nbconvert_exporter": "python",
   "pygments_lexer": "ipython3",
   "version": "3.8.12"
  }
 },
 "nbformat": 4,
 "nbformat_minor": 5
}

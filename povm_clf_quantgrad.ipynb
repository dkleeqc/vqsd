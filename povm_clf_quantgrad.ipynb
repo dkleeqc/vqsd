{
 "cells": [
  {
   "cell_type": "markdown",
   "metadata": {},
   "source": [
    "# <center> POVM as a quantum version of the classifier </center>"
   ]
  },
  {
   "cell_type": "code",
   "execution_count": 1,
   "metadata": {},
   "outputs": [],
   "source": [
    "import pennylane as qml\n",
    "from pennylane import numpy as np"
   ]
  },
  {
   "cell_type": "code",
   "execution_count": 2,
   "metadata": {},
   "outputs": [],
   "source": [
    "#dev = qml.device('default.qubit', wires=2)"
   ]
  },
  {
   "cell_type": "code",
   "execution_count": 3,
   "metadata": {},
   "outputs": [],
   "source": [
    "#dev = qml.device('qiskit.aer', wires=2)\n",
    "dev = qml.device('qiskit.ibmq', wires=2, shots=8192, ibmqx_token=\"e942e97ce86ca8c3609a4053fe6762ec3db17c41895b2d85d6a3560a1156501d57db36753f99138ecb32dca58a97ae5b38005ad39855dd92ab0e86cef852c1a2\")"
   ]
  },
  {
   "cell_type": "markdown",
   "metadata": {},
   "source": [
    "## A module of the two-element povm."
   ]
  },
  {
   "cell_type": "code",
   "execution_count": 4,
   "metadata": {},
   "outputs": [],
   "source": [
    "def two_element_povm(params, wire0, wire1):\n",
    "    #params \n",
    "\n",
    "    # Controlled-RY gate controlled by first qubit in |0> state\n",
    "    qml.PauliX(wires=wire0)\n",
    "    qml.CRY(params[0], wires=[wire0,wire1])\n",
    "    qml.PauliX(wires=wire0)\n",
    "    \n",
    "    # Controlled-RY gate controlled by first qubit in |1> state\n",
    "    qml.CRY(params[1], wires=[wire0,wire1])\n",
    "\n",
    "    # Controlled-Rotation gate (arbitrary single-qubit unitary operator) controlled by 2nd qubit in |0> state\n",
    "    qml.PauliX(wires=wire1)\n",
    "    qml.CRot(params[2], params[3], params[4], wires=[wire1,wire0])\n",
    "    qml.PauliX(wires=wire1)\n",
    "\n",
    "    # # Controlled-Rotation gate (arbitrary single-qubit unitary operator) controlled by 2nd qubit in |1> state\n",
    "    qml.CRot(params[5], params[6], params[7], wires=[wire1,wire0])"
   ]
  },
  {
   "cell_type": "markdown",
   "metadata": {},
   "source": [
    "Drawing `two_element_povm` module"
   ]
  },
  {
   "cell_type": "code",
   "execution_count": 4,
   "metadata": {},
   "outputs": [
    {
     "name": "stdout",
     "output_type": "stream",
     "text": [
      "Drawing a two-element POVM circuit : \n",
      " 0: ──X──╭C──────────X──╭C──────────RZ(-0.0555)──╭X──RZ(-0.119)──RY(-0.255)──╭X──RY(0.255)──RZ(0.174)──RZ(-0.0588)──╭X──RZ(-0.327)──RY(-0.213)──╭X──RY(0.213)──RZ(0.386)──╭┤ ⟨I ⊗ Z⟩ \n",
      " 1: ─────╰RY(0.122)─────╰RY(0.992)──X────────────╰C──────────────────────────╰C──X──────────────────────────────────╰C──────────────────────────╰C────────────────────────╰┤ ⟨I ⊗ Z⟩ \n",
      "\n"
     ]
    }
   ],
   "source": [
    "@qml.qnode(dev)\n",
    "def povm_circuit(params):\n",
    "    two_element_povm(params, 0, 1)\n",
    "    return qml.expval(qml.Identity(0) @ qml.PauliZ(1))\n",
    "\n",
    "# initial parameters\n",
    "params = np.random.random([8])\n",
    "povm_circuit(params)\n",
    "\n",
    "print(\"Drawing a two-element POVM circuit : \")\n",
    "print(povm_circuit.draw())"
   ]
  },
  {
   "cell_type": "markdown",
   "metadata": {},
   "source": [
    "---"
   ]
  },
  {
   "cell_type": "markdown",
   "metadata": {},
   "source": [
    "## Preparing two arbitrary pure states"
   ]
  },
  {
   "cell_type": "code",
   "execution_count": 5,
   "metadata": {},
   "outputs": [],
   "source": [
    "def state_preparation(params):\n",
    "    return"
   ]
  },
  {
   "cell_type": "markdown",
   "metadata": {},
   "source": [
    "---"
   ]
  },
  {
   "cell_type": "markdown",
   "metadata": {},
   "source": [
    "## Minimum Error Discrimination"
   ]
  },
  {
   "cell_type": "markdown",
   "metadata": {},
   "source": [
    "Preparation: $\\{q_i,\\hat{\\rho}_i\\}^{N}_{i=1}$ $\\longleftarrow$ $\\hat{\\rho} = \\sum_i q_i\\hat{\\rho}_i$. <br>\n",
    "\n",
    "POVMs: $\\{E_k\\}_{k=1}^{L}$ with $\\sum_{k=1}^{L} E_k = I$."
   ]
  },
  {
   "cell_type": "markdown",
   "metadata": {},
   "source": [
    "Q. Why \"$N=L$\" is optimal?"
   ]
  },
  {
   "cell_type": "markdown",
   "metadata": {},
   "source": [
    "In general, for a state $\\hat{\\rho}_i$ generated in preparation, a detection event on $\\hat{E}_k$ happens with probability $ p(k|i) = tr [\\hat{E}_k\\hat{\\rho_i}] $."
   ]
  },
  {
   "cell_type": "markdown",
   "metadata": {},
   "source": [
    "$$\n",
    "p_{success} = \\sum_i q_i p(i|i)\n",
    "$$\n",
    "$$\n",
    "p_{guess} = \\max_{E} \\sum_i q_i p(i|i)\n",
    "$$\n",
    "$$\n",
    "p_{error} = 1 - p_{guess}\n",
    "$$"
   ]
  },
  {
   "cell_type": "markdown",
   "metadata": {},
   "source": [
    "For two-element POVMs $\\{\\hat{E}_0, \\hat{E}_1\\}$ on two different state prepared as $\\{(q_0,\\hat{\\rho}_0), (q_1,\\hat{\\rho}_1)\\}$, \n",
    "$$\n",
    "p_{error} = 1 - p_{guess} = 1-\\max_{\\vec{\\theta}}\\left(q_0\\text{Tr}[\\hat{E}_0\\hat{\\rho}_0] + q_1\\text{Tr}[\\hat{E}_1\\hat{\\rho}_1] \\right)\n",
    "$$"
   ]
  },
  {
   "cell_type": "markdown",
   "metadata": {},
   "source": [
    "---"
   ]
  },
  {
   "cell_type": "markdown",
   "metadata": {},
   "source": [
    "## Classification of two different states by using POVM"
   ]
  },
  {
   "cell_type": "markdown",
   "metadata": {},
   "source": [
    "$|\\Psi^0_i\\rangle := |\\psi_0\\rangle|0\\rangle$ \n",
    "$\\longrightarrow$ POVM $\\longrightarrow$ \n",
    "$|\\Psi^0_f\\rangle := \\left(\\hat{K}_0|\\psi_0\\rangle\\right)|0\\rangle + \\left(\\hat{K}_1|\\psi_0\\rangle\\right)|1\\rangle$"
   ]
  },
  {
   "cell_type": "markdown",
   "metadata": {},
   "source": [
    "$$\n",
    "\\text{Tr}[\\hat{\\rho}_0\\hat{E}_0] = \\langle\\psi_0|\\hat{K}^\\dagger_0\\hat{K}_0|\\psi_0\\rangle \\langle 0 | 0 \\rangle = \\langle\\psi_0|\\langle 0|\\hat{K}^\\dagger_0\\hat{K}_0|\\psi_0\\rangle|0\\rangle\\\\\n",
    "=\\frac{1}{2}\\left(\\langle\\psi_0|\\langle 0|\\hat{K}^\\dagger_0\\hat{K}_0|\\psi_0\\rangle|0\\rangle + \\langle\\psi_0|\\langle 1|\\hat{K}^\\dagger_1\\hat{K}_1|\\psi_0\\rangle|1\\rangle\\right)\\\\\n",
    "+\\frac{1}{2}\\left(\\langle\\psi_0|\\langle 0|\\hat{K}^\\dagger_0\\hat{K}_0|\\psi_0\\rangle|0\\rangle - \\langle\\psi_0|\\langle 1|\\hat{K}^\\dagger_1\\hat{K}_1|\\psi_0\\rangle|1\\rangle\\right) \\\\ \n",
    "\\frac{1}{2} \\left(1 + \\langle\\Psi_f|I\\otimes Z|\\Psi_f\\rangle\\right)\n",
    "$$\n",
    "Similarly, $\\text{Tr}[\\hat{\\rho}_0\\hat{E}_1] = \\frac{1}{2}\\left(1 - \\langle\\Psi_f|I\\otimes Z|\\Psi_f\\rangle\\right)$."
   ]
  },
  {
   "cell_type": "markdown",
   "metadata": {},
   "source": [
    "Find **the optimal POVMs** for discriminating two different states:\n",
    "$$\n",
    "p_{error} = 1- (-1)\\min_{\\vec{\\theta}}\\left(-q_o\\text{Tr}[\\hat{E}_0\\hat{\\rho}_0] - q_1\\text{Tr}[\\hat{E}_1\\hat{\\rho}_1]\\right)\\\\\n",
    "=\\min_{\\vec{\\theta}}\\left[\\frac{1}{2} - \\frac{q_0}{2}\\langle\\Psi^0_f|I\\otimes Z|\\Psi^0_f\\rangle + \\frac{q_1}{2}\\langle\\Psi^1_f|I\\otimes Z|\\Psi^1_f\\rangle\\right]\n",
    "$$"
   ]
  },
  {
   "cell_type": "markdown",
   "metadata": {},
   "source": [
    "$ \\langle\\Psi^0_f|I\\otimes Z|\\Psi^0_f\\rangle $"
   ]
  },
  {
   "cell_type": "code",
   "execution_count": 6,
   "metadata": {},
   "outputs": [],
   "source": [
    "@qml.qnode(dev, diff_method=\"parameter-shift\")\n",
    "def circuit_povm_expvalIZpsi0(params):\n",
    "    # Initial state: |0>\n",
    "    qml.Hadamard(wires=0) # |+>\n",
    "\n",
    "    # arbitrary rotation\n",
    "    qml.Rot(params[0], params[1], params[2], wires=0)\n",
    "\n",
    "    # two-element POVM\n",
    "    two_element_povm(params[3:], 0, 1)\n",
    "\n",
    "    return qml.expval(qml.Identity(0) @ qml.PauliZ(1)) "
   ]
  },
  {
   "cell_type": "markdown",
   "metadata": {},
   "source": [
    "$ \\langle\\Psi^1_f|I\\otimes Z|\\Psi^1_f\\rangle $"
   ]
  },
  {
   "cell_type": "code",
   "execution_count": 7,
   "metadata": {},
   "outputs": [],
   "source": [
    "@qml.qnode(dev, diff_method=\"parameter-shift\")\n",
    "def circuit_povm_expvalIZpsi1(params):\n",
    "    # Initial state: X|0> = |1>\n",
    "    qml.PauliX(wires=0)\n",
    "    qml.Hadamard(wires=0) # |->\n",
    "\n",
    "    # arbitrary rotation\n",
    "    qml.Rot(params[0], params[1], params[2], wires=0)\n",
    "\n",
    "    # two-element POVM\n",
    "    two_element_povm(params[3:], 0, 1)\n",
    "\n",
    "    return qml.expval(qml.Identity(0) @ qml.PauliZ(1))"
   ]
  },
  {
   "cell_type": "markdown",
   "metadata": {},
   "source": [
    "Cost function : $C(\\vec{\\theta}) = \\frac{1}{2}\\left(1 - q_0\\langle\\Psi^0_f|I\\otimes Z|\\Psi^0_f\\rangle + q_1\\langle\\Psi^1_f|I\\otimes Z|\\Psi^1_f\\rangle\\right)$"
   ]
  },
  {
   "cell_type": "code",
   "execution_count": 8,
   "metadata": {},
   "outputs": [],
   "source": [
    "def cost(x):\n",
    "    K0psi0 = circuit_povm_expvalIZpsi0(x)\n",
    "    K1psi1 = circuit_povm_expvalIZpsi1(x)\n",
    "    return (1/2) * (1 - (1/2)*K0psi0 + (1/2)*K1psi1)\n"
   ]
  },
  {
   "cell_type": "markdown",
   "metadata": {},
   "source": [
    "### Optimization of POVM: solving $\\min_{\\vec{\\theta}}C(\\vec{\\theta})$"
   ]
  },
  {
   "cell_type": "code",
   "execution_count": 9,
   "metadata": {},
   "outputs": [],
   "source": [
    "grad_function = qml.grad(cost)"
   ]
  },
  {
   "cell_type": "code",
   "execution_count": 11,
   "metadata": {},
   "outputs": [
    {
     "name": "stdout",
     "output_type": "stream",
     "text": [
      "[ 0.07406616 -0.00134277  0.00094604 -0.17501461  0.00992295  0.00021362\n",
      " -0.00138855  0.00198364 -0.00018311 -0.00036621  0.00161743]\n"
     ]
    }
   ],
   "source": [
    "params = 2 * np.pi * np.random.random([11])\n",
    "print(grad_function(params))"
   ]
  },
  {
   "cell_type": "code",
   "execution_count": 11,
   "metadata": {},
   "outputs": [
    {
     "name": "stdout",
     "output_type": "stream",
     "text": [
      "Drawing a circuit of povm_expvalIZ_psi0 : \n",
      " 0: ──H──Rot(3.14, 1.57, 2.79)──X──╭C─────────X──╭C────────────╭Rot(1.4, 2.91, 1.88)─────╭Rot(0.674, 3.61, 0.156)──╭┤ ⟨I ⊗ Z⟩ \n",
      " 1: ───────────────────────────────╰RY(6.28)─────╰RY(3.14)──X──╰C─────────────────────X──╰C────────────────────────╰┤ ⟨I ⊗ Z⟩ \n",
      "\n",
      "Drawing a circuit of povm_expvalIZ_psi1 : \n",
      " 0: ──X──H──Rot(3.14, 1.57, 2.79)──X──╭C─────────X──╭C────────────╭Rot(1.4, 2.91, 1.88)─────╭Rot(0.674, 3.61, 0.156)──╭┤ ⟨I ⊗ Z⟩ \n",
      " 1: ──────────────────────────────────╰RY(6.28)─────╰RY(3.14)──X──╰C─────────────────────X──╰C────────────────────────╰┤ ⟨I ⊗ Z⟩ \n",
      "\n"
     ]
    }
   ],
   "source": [
    "print(\"Drawing a circuit of povm_expvalIZ_psi0 : \")\n",
    "print(circuit_povm_expvalIZpsi0.draw())\n",
    "print(\"Drawing a circuit of povm_expvalIZ_psi1 : \")\n",
    "print(circuit_povm_expvalIZpsi1.draw())"
   ]
  },
  {
   "cell_type": "markdown",
   "metadata": {},
   "source": [
    "## Calculating Kraus Operators or POVMs"
   ]
  },
  {
   "cell_type": "markdown",
   "metadata": {},
   "source": [
    "### Arbitrary rotation of the single qubit\n",
    "### $$ U = R_z(\\beta)R_y(\\gamma)R_z(\\delta) = \\begin{bmatrix} e^{-i(\\delta+\\beta)/2}\\cos(\\gamma/2) & -e^{i(\\delta-\\beta)/2}\\sin(\\gamma/2) \\\\ e^{-i(\\delta-\\beta)/2}\\sin(\\gamma/2) & e^{i(\\delta+\\beta)/2}\\cos(\\gamma/2) \\end{bmatrix}$$\n",
    "\n",
    "### Y-Rotation of the single qubit\n",
    "### $$ R_y(\\phi) = e^{-i\\phi\\sigma_y/2} = \\begin{bmatrix} \\cos\\phi/2 & -\\sin\\phi/2 \\\\ \\sin\\phi/2 & \\cos\\phi/2 \\end{bmatrix} $$"
   ]
  },
  {
   "cell_type": "code",
   "execution_count": 12,
   "metadata": {},
   "outputs": [],
   "source": [
    "def unitaries_in_povm(params):\n",
    "    U = qml.Rot(params[0], params[1], params[2], wires=2).matrix\n",
    "    Ry0 = qml.RY(params[3], wires=2).matrix\n",
    "    Ry1 = qml.RY(params[4], wires=2).matrix\n",
    "    V0 = qml.Rot(params[5], params[6], params[7], wires=2).matrix\n",
    "    V1 = qml.Rot(params[8], params[9], params[10], wires=2).matrix\n",
    "\n",
    "    return U, Ry0, Ry1, V0, V1\n",
    "\n",
    "U, Ry0, Ry1, V0, V1 = unitaries_in_povm(params)"
   ]
  },
  {
   "cell_type": "markdown",
   "metadata": {},
   "source": [
    "$$\n",
    "\\hat{K}_0 = V_0D_0U \\\\\n",
    "\\hat{K}_1 = V_1D_1U \n",
    "$$"
   ]
  },
  {
   "cell_type": "code",
   "execution_count": 13,
   "metadata": {},
   "outputs": [],
   "source": [
    "def kraus_op(params):\n",
    "    U, _, _, V0, V1 = unitaries_in_povm(params)\n",
    "    D0 = np.diag([np.cos(params[3]/2), np.cos(params[4]/2)])\n",
    "    D1 = np.diag([np.sin(params[3]/2), np.sin(params[4]/2)])\n",
    "    K0 = np.dot(np.dot(V0, D0), U)\n",
    "    K1 = np.dot(np.dot(V1, D1), U)\n",
    "\n",
    "    return K0, K1\n",
    "\n",
    "K0, K1 = kraus_op(params)"
   ]
  },
  {
   "cell_type": "code",
   "execution_count": 35,
   "metadata": {},
   "outputs": [
    {
     "name": "stdout",
     "output_type": "stream",
     "text": [
      "K0 = [[0.00856563-0.0820617j  0.00856972-0.08206349j]\n",
      " [0.64334034+0.28161269j 0.64334029+0.28161217j]]\n",
      "K1 = [[-0.68536188-0.05876237j  0.68536251+0.05876222j]\n",
      " [-0.15901747-0.03923677j  0.15901473+0.039237j  ]]\n"
     ]
    }
   ],
   "source": [
    "print(\"K0 =\", K0)\n",
    "print(\"K1 =\", K1)"
   ]
  },
  {
   "cell_type": "markdown",
   "metadata": {},
   "source": [
    "$ \\hat{K}^\\dagger_1\\hat{K}_0 + \\hat{K}^\\dagger_2\\hat{K}_1 = I$"
   ]
  },
  {
   "cell_type": "code",
   "execution_count": 14,
   "metadata": {},
   "outputs": [
    {
     "data": {
      "text/plain": [
       "tensor([[1.+0.00000000e+00j, 0.-1.38777878e-17j],\n",
       "        [0.+1.38777878e-17j, 1.+0.00000000e+00j]], requires_grad=True)"
      ]
     },
     "execution_count": 14,
     "metadata": {},
     "output_type": "execute_result"
    }
   ],
   "source": [
    "np.dot(K0.conj().T, K0) + np.dot(K1.conj().T, K1)"
   ]
  },
  {
   "cell_type": "markdown",
   "metadata": {},
   "source": [
    "$ \\langle \\psi_0 |\\hat{K}^\\dagger_0\\hat{K}_0|\\psi_0\\rangle$"
   ]
  },
  {
   "cell_type": "code",
   "execution_count": 15,
   "metadata": {},
   "outputs": [
    {
     "data": {
      "text/plain": [
       "(0.9999999999959829+0j)"
      ]
     },
     "execution_count": 15,
     "metadata": {},
     "output_type": "execute_result"
    }
   ],
   "source": [
    "res = np.dot(K0, np.array([1/np.sqrt(2),1/np.sqrt(2)]))\n",
    "np.dot(res.conj(),res)"
   ]
  },
  {
   "cell_type": "markdown",
   "metadata": {},
   "source": [
    "$ \\langle \\psi_1 |\\hat{K}^\\dagger_1\\hat{K}_1|\\psi_1\\rangle$"
   ]
  },
  {
   "cell_type": "code",
   "execution_count": 16,
   "metadata": {},
   "outputs": [
    {
     "data": {
      "text/plain": [
       "(0.9999999999898925+0j)"
      ]
     },
     "execution_count": 16,
     "metadata": {},
     "output_type": "execute_result"
    }
   ],
   "source": [
    "res = np.dot(K1, np.array([1/np.sqrt(2),-1/np.sqrt(2)]))\n",
    "np.dot(res.conj(),res)"
   ]
  }
 ],
 "metadata": {
  "interpreter": {
   "hash": "f3566aecee92b9119d5cab9d3e2af068b42db2260767c2b53e50be0379b5c2ee"
  },
  "kernelspec": {
   "display_name": "Python 3.8.12 64-bit ('quantcirc': conda)",
   "name": "python3"
  },
  "language_info": {
   "codemirror_mode": {
    "name": "ipython",
    "version": 3
   },
   "file_extension": ".py",
   "mimetype": "text/x-python",
   "name": "python",
   "nbconvert_exporter": "python",
   "pygments_lexer": "ipython3",
   "version": "3.8.12"
  },
  "orig_nbformat": 4
 },
 "nbformat": 4,
 "nbformat_minor": 2
}
